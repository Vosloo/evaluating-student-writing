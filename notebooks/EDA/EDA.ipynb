{
 "cells": [
  {
   "cell_type": "code",
   "execution_count": 1,
   "metadata": {},
   "outputs": [],
   "source": [
    "import sys\n",
    "from pathlib import Path\n"
   ]
  },
  {
   "cell_type": "code",
   "execution_count": 2,
   "metadata": {},
   "outputs": [],
   "source": [
    "module_path = Path.cwd().parent.parent\n",
    "if module_path not in sys.path:\n",
    "    sys.path.append(str(module_path))\n"
   ]
  },
  {
   "cell_type": "code",
   "execution_count": 3,
   "metadata": {},
   "outputs": [
    {
     "name": "stderr",
     "output_type": "stream",
     "text": [
      "/tmp/ipykernel_3666/1181581837.py:9: MatplotlibDeprecationWarning: The seaborn styles shipped by Matplotlib are deprecated since 3.6, as they no longer correspond to the styles shipped by seaborn. However, they will remain available as 'seaborn-v0_8-<style>'. Alternatively, directly use the seaborn API instead.\n",
      "  plt.style.use(\"seaborn\")\n"
     ]
    }
   ],
   "source": [
    "import pickle\n",
    "from collections import Counter, defaultdict\n",
    "\n",
    "import matplotlib.pyplot as plt\n",
    "import pandas as pd\n",
    "import seaborn as sns\n",
    "\n",
    "sns.set_style(\"darkgrid\")\n",
    "plt.style.use(\"seaborn\")\n"
   ]
  },
  {
   "cell_type": "code",
   "execution_count": 5,
   "metadata": {},
   "outputs": [],
   "source": [
    "from src.loader import TextLoader\n",
    "from src.visualizer import Visualizer\n",
    "from src.model import DatasetType\n"
   ]
  },
  {
   "cell_type": "code",
   "execution_count": 6,
   "metadata": {},
   "outputs": [],
   "source": [
    "text_loader = TextLoader()\n",
    "visualizer = Visualizer()"
   ]
  },
  {
   "cell_type": "markdown",
   "metadata": {},
   "source": [
    "<center> <h2> Discourse overview"
   ]
  },
  {
   "cell_type": "code",
   "execution_count": 7,
   "metadata": {},
   "outputs": [],
   "source": [
    "DATA_DIR = Path.cwd() / \"data\"\n",
    "DISCOURSE_POSITIONS = DATA_DIR / \"discourse_positions.pkl\"\n"
   ]
  },
  {
   "cell_type": "code",
   "execution_count": 8,
   "metadata": {},
   "outputs": [],
   "source": [
    "if not DISCOURSE_POSITIONS.exists():\n",
    "    discourse_positions = []\n",
    "    for text_id in text_loader:\n",
    "        text = text_loader.load_text_with_id(text_id)\n",
    "        for discourse in text.discourses:\n",
    "            discourse_positions.append(\n",
    "                [\n",
    "                    discourse.type.value,\n",
    "                    discourse.ind_start / len(text) * 100,\n",
    "                    discourse.ind_end / len(text) * 100,\n",
    "                ]\n",
    "            )\n",
    "\n",
    "    pickle.dump(discourse_positions, open(DISCOURSE_POSITIONS, \"wb\"))\n"
   ]
  },
  {
   "cell_type": "code",
   "execution_count": 9,
   "metadata": {},
   "outputs": [],
   "source": [
    "discourse_positions: list[list[str, float, float]] = pickle.load(open(DISCOURSE_POSITIONS, \"rb\"))\n"
   ]
  },
  {
   "cell_type": "code",
   "execution_count": 10,
   "metadata": {},
   "outputs": [],
   "source": [
    "discourse_type = text_loader.df[\"discourse_type\"].value_counts()\n",
    "types, count = discourse_type.index, discourse_type.values\n"
   ]
  },
  {
   "cell_type": "code",
   "execution_count": 13,
   "metadata": {},
   "outputs": [
    {
     "data": {
      "text/plain": [
       "Claim                   50197\n",
       "Evidence                45691\n",
       "Position                15415\n",
       "Concluding Statement    13503\n",
       "Lead                     9303\n",
       "Counterclaim             5813\n",
       "Rebuttal                 4334\n",
       "Name: discourse_type, dtype: int64"
      ]
     },
     "execution_count": 13,
     "metadata": {},
     "output_type": "execute_result"
    }
   ],
   "source": [
    "discourse_type"
   ]
  },
  {
   "cell_type": "code",
   "execution_count": 14,
   "metadata": {},
   "outputs": [
    {
     "data": {
      "text/plain": [
       "144256"
      ]
     },
     "execution_count": 14,
     "metadata": {},
     "output_type": "execute_result"
    }
   ],
   "source": [
    "discourse_type.sum()"
   ]
  },
  {
   "cell_type": "code",
   "execution_count": 10,
   "metadata": {},
   "outputs": [
    {
     "data": {
      "image/png": "[encoded data removed]",
      "text/plain": [
       "<Figure size 1200x600 with 1 Axes>"
      ]
     },
     "metadata": {},
     "output_type": "display_data"
    }
   ],
   "source": [
    "# Histogram of discourse types\n",
    "plt.figure(figsize=(12, 6))\n",
    "plt.barh(types, count, edgecolor=\"black\", linewidth=1, color=\"#2791bc\")\n",
    "plt.title(\"Discourse types\")\n",
    "plt.xlabel(\"Count\")\n",
    "plt.ylabel(\"Type\")\n",
    "plt.show()\n"
   ]
  },
  {
   "cell_type": "code",
   "execution_count": 11,
   "metadata": {},
   "outputs": [
    {
     "data": {
      "text/html": [
       "<div>\n",
       "<style scoped>\n",
       "    .dataframe tbody tr th:only-of-type {\n",
       "        vertical-align: middle;\n",
       "    }\n",
       "\n",
       "    .dataframe tbody tr th {\n",
       "        vertical-align: top;\n",
       "    }\n",
       "\n",
       "    .dataframe thead th {\n",
       "        text-align: right;\n",
       "    }\n",
       "</style>\n",
       "<table border=\"1\" class=\"dataframe\">\n",
       "  <thead>\n",
       "    <tr style=\"text-align: right;\">\n",
       "      <th></th>\n",
       "      <th>type</th>\n",
       "      <th>start</th>\n",
       "      <th>end</th>\n",
       "    </tr>\n",
       "  </thead>\n",
       "  <tbody>\n",
       "    <tr>\n",
       "      <th>0</th>\n",
       "      <td>Lead</td>\n",
       "      <td>0.394089</td>\n",
       "      <td>11.280788</td>\n",
       "    </tr>\n",
       "    <tr>\n",
       "      <th>1</th>\n",
       "      <td>Position</td>\n",
       "      <td>11.330049</td>\n",
       "      <td>15.369458</td>\n",
       "    </tr>\n",
       "    <tr>\n",
       "      <th>2</th>\n",
       "      <td>Evidence</td>\n",
       "      <td>15.418719</td>\n",
       "      <td>19.753695</td>\n",
       "    </tr>\n",
       "    <tr>\n",
       "      <th>3</th>\n",
       "      <td>Evidence</td>\n",
       "      <td>19.802956</td>\n",
       "      <td>37.339901</td>\n",
       "    </tr>\n",
       "    <tr>\n",
       "      <th>4</th>\n",
       "      <td>Claim</td>\n",
       "      <td>37.389163</td>\n",
       "      <td>43.645320</td>\n",
       "    </tr>\n",
       "    <tr>\n",
       "      <th>...</th>\n",
       "      <td>...</td>\n",
       "      <td>...</td>\n",
       "      <td>...</td>\n",
       "    </tr>\n",
       "    <tr>\n",
       "      <th>144288</th>\n",
       "      <td>Evidence</td>\n",
       "      <td>38.006125</td>\n",
       "      <td>54.491324</td>\n",
       "    </tr>\n",
       "    <tr>\n",
       "      <th>144289</th>\n",
       "      <td>Evidence</td>\n",
       "      <td>54.797550</td>\n",
       "      <td>76.709765</td>\n",
       "    </tr>\n",
       "    <tr>\n",
       "      <th>144290</th>\n",
       "      <td>Position</td>\n",
       "      <td>76.726778</td>\n",
       "      <td>77.747533</td>\n",
       "    </tr>\n",
       "    <tr>\n",
       "      <th>144291</th>\n",
       "      <td>Evidence</td>\n",
       "      <td>77.747533</td>\n",
       "      <td>83.735965</td>\n",
       "    </tr>\n",
       "    <tr>\n",
       "      <th>144292</th>\n",
       "      <td>Concluding Statement</td>\n",
       "      <td>83.957128</td>\n",
       "      <td>99.098333</td>\n",
       "    </tr>\n",
       "  </tbody>\n",
       "</table>\n",
       "<p>144293 rows × 3 columns</p>\n",
       "</div>"
      ],
      "text/plain": [
       "                        type      start        end\n",
       "0                       Lead   0.394089  11.280788\n",
       "1                   Position  11.330049  15.369458\n",
       "2                   Evidence  15.418719  19.753695\n",
       "3                   Evidence  19.802956  37.339901\n",
       "4                      Claim  37.389163  43.645320\n",
       "...                      ...        ...        ...\n",
       "144288              Evidence  38.006125  54.491324\n",
       "144289              Evidence  54.797550  76.709765\n",
       "144290              Position  76.726778  77.747533\n",
       "144291              Evidence  77.747533  83.735965\n",
       "144292  Concluding Statement  83.957128  99.098333\n",
       "\n",
       "[144293 rows x 3 columns]"
      ]
     },
     "execution_count": 11,
     "metadata": {},
     "output_type": "execute_result"
    }
   ],
   "source": [
    "df = pd.DataFrame(discourse_positions, columns=[\"type\", \"start\", \"end\"])\n",
    "df\n"
   ]
  },
  {
   "cell_type": "code",
   "execution_count": 12,
   "metadata": {},
   "outputs": [
    {
     "data": {
      "text/html": [
       "<div>\n",
       "<style scoped>\n",
       "    .dataframe tbody tr th:only-of-type {\n",
       "        vertical-align: middle;\n",
       "    }\n",
       "\n",
       "    .dataframe tbody tr th {\n",
       "        vertical-align: top;\n",
       "    }\n",
       "\n",
       "    .dataframe thead th {\n",
       "        text-align: right;\n",
       "    }\n",
       "</style>\n",
       "<table border=\"1\" class=\"dataframe\">\n",
       "  <thead>\n",
       "    <tr style=\"text-align: right;\">\n",
       "      <th></th>\n",
       "      <th>type</th>\n",
       "      <th>position</th>\n",
       "      <th>text_perc</th>\n",
       "    </tr>\n",
       "  </thead>\n",
       "  <tbody>\n",
       "    <tr>\n",
       "      <th>0</th>\n",
       "      <td>Lead</td>\n",
       "      <td>start</td>\n",
       "      <td>0.394089</td>\n",
       "    </tr>\n",
       "    <tr>\n",
       "      <th>1</th>\n",
       "      <td>Position</td>\n",
       "      <td>start</td>\n",
       "      <td>11.330049</td>\n",
       "    </tr>\n",
       "    <tr>\n",
       "      <th>2</th>\n",
       "      <td>Evidence</td>\n",
       "      <td>start</td>\n",
       "      <td>15.418719</td>\n",
       "    </tr>\n",
       "    <tr>\n",
       "      <th>3</th>\n",
       "      <td>Evidence</td>\n",
       "      <td>start</td>\n",
       "      <td>19.802956</td>\n",
       "    </tr>\n",
       "    <tr>\n",
       "      <th>4</th>\n",
       "      <td>Claim</td>\n",
       "      <td>start</td>\n",
       "      <td>37.389163</td>\n",
       "    </tr>\n",
       "    <tr>\n",
       "      <th>...</th>\n",
       "      <td>...</td>\n",
       "      <td>...</td>\n",
       "      <td>...</td>\n",
       "    </tr>\n",
       "    <tr>\n",
       "      <th>288581</th>\n",
       "      <td>Evidence</td>\n",
       "      <td>end</td>\n",
       "      <td>54.491324</td>\n",
       "    </tr>\n",
       "    <tr>\n",
       "      <th>288582</th>\n",
       "      <td>Evidence</td>\n",
       "      <td>end</td>\n",
       "      <td>76.709765</td>\n",
       "    </tr>\n",
       "    <tr>\n",
       "      <th>288583</th>\n",
       "      <td>Position</td>\n",
       "      <td>end</td>\n",
       "      <td>77.747533</td>\n",
       "    </tr>\n",
       "    <tr>\n",
       "      <th>288584</th>\n",
       "      <td>Evidence</td>\n",
       "      <td>end</td>\n",
       "      <td>83.735965</td>\n",
       "    </tr>\n",
       "    <tr>\n",
       "      <th>288585</th>\n",
       "      <td>Concluding Statement</td>\n",
       "      <td>end</td>\n",
       "      <td>99.098333</td>\n",
       "    </tr>\n",
       "  </tbody>\n",
       "</table>\n",
       "<p>288586 rows × 3 columns</p>\n",
       "</div>"
      ],
      "text/plain": [
       "                        type position  text_perc\n",
       "0                       Lead    start   0.394089\n",
       "1                   Position    start  11.330049\n",
       "2                   Evidence    start  15.418719\n",
       "3                   Evidence    start  19.802956\n",
       "4                      Claim    start  37.389163\n",
       "...                      ...      ...        ...\n",
       "288581              Evidence      end  54.491324\n",
       "288582              Evidence      end  76.709765\n",
       "288583              Position      end  77.747533\n",
       "288584              Evidence      end  83.735965\n",
       "288585  Concluding Statement      end  99.098333\n",
       "\n",
       "[288586 rows x 3 columns]"
      ]
     },
     "execution_count": 12,
     "metadata": {},
     "output_type": "execute_result"
    }
   ],
   "source": [
    "dd = pd.melt(\n",
    "    df, id_vars=[\"type\"], value_vars=[\"start\", \"end\"], var_name=\"position\", value_name=\"text_perc\"\n",
    ")\n",
    "dd\n"
   ]
  },
  {
   "cell_type": "code",
   "execution_count": 13,
   "metadata": {},
   "outputs": [
    {
     "data": {
      "image/png": "[encoded data removed]",
      "text/plain": [
       "<Figure size 1400x600 with 1 Axes>"
      ]
     },
     "metadata": {},
     "output_type": "display_data"
    }
   ],
   "source": [
    "plt.figure(figsize=(14, 6))\n",
    "sns.boxplot(\n",
    "    x=\"text_perc\", y=\"type\", hue=\"position\", data=dd, width=0.6, fliersize=3, palette=\"flare\"\n",
    ").set(title=\"Discourse type relative position\", xlabel=\"Position in text (%)\", ylabel=\"Discourse type\")\n",
    "plt.legend(bbox_to_anchor=(1, 0.5), loc=\"upper left\", borderaxespad=0)\n",
    "plt.show()\n"
   ]
  },
  {
   "cell_type": "code",
   "execution_count": 14,
   "metadata": {},
   "outputs": [],
   "source": [
    "# Check if any discourse starts in the middle of another discourse\n",
    "def is_discourse_overlap() -> bool:\n",
    "    return False  # For now so that the cell is not evaluated every time\n",
    "    for text_id in text_loader:\n",
    "        text = text_loader.load_text_with_id(text_id)\n",
    "        for discourse in text.discourses:\n",
    "            for other_discourse in text.discourses:\n",
    "                if discourse == other_discourse:\n",
    "                    continue\n",
    "\n",
    "                if (\n",
    "                    discourse.ind_start > other_discourse.ind_start\n",
    "                    and discourse.ind_start < other_discourse.ind_end\n",
    "                ):\n",
    "                    print(\n",
    "                        f\"Discourse {discourse.type.value} starts in the middle of discourse {other_discourse.type.value} in text {text_id}\"\n",
    "                    )\n",
    "                    return True\n",
    "\n",
    "    return False\n"
   ]
  },
  {
   "cell_type": "code",
   "execution_count": 15,
   "metadata": {},
   "outputs": [
    {
     "name": "stdout",
     "output_type": "stream",
     "text": [
      "Discourse overlap: False\n"
     ]
    }
   ],
   "source": [
    "print(f\"Discourse overlap: {is_discourse_overlap()}\")\n"
   ]
  },
  {
   "cell_type": "markdown",
   "metadata": {},
   "source": [
    "<center> <h2> Outliers"
   ]
  },
  {
   "cell_type": "code",
   "execution_count": 16,
   "metadata": {},
   "outputs": [
    {
     "name": "stdout",
     "output_type": "stream",
     "text": [
      "15594 / 15594\n"
     ]
    }
   ],
   "source": [
    "all_stats = {}\n",
    "for text_id in text_loader:\n",
    "    text = text_loader.load_text_with_id(text_id)\n",
    "    all_stats[text] = round(text.gap_len / len(text) * 100, 4)\n",
    "\n",
    "all_stats = {k: v for k, v in sorted(all_stats.items(), key=lambda item: item[1], reverse=True)}\n"
   ]
  },
  {
   "cell_type": "code",
   "execution_count": 17,
   "metadata": {},
   "outputs": [
    {
     "name": "stdout",
     "output_type": "stream",
     "text": [
      "C278EDC82048: 91.9401% out of 8015\n",
      "129497C3E0FC: 91.5679% out of 3629\n",
      "F5EE08CB44B9: 90.8196% out of 3148\n",
      "9B23715DFB32: 89.8428% out of 18322\n",
      "F45B396E0A01: 88.9246% out of 1869\n",
      "\n",
      "Documents with unclassified text percentage >= 20%:\n",
      "898 out of 15594 (5.76%)\n"
     ]
    }
   ],
   "source": [
    "counter = 0\n",
    "threshold = 20\n",
    "for ind, (text, ratio) in enumerate(all_stats.items()):\n",
    "    if ratio < threshold:\n",
    "        break\n",
    "    counter += 1\n",
    "    if ind < 5:\n",
    "        print(f\"{text.id}: {ratio:.4f}% out of {len(text)}\")\n",
    "\n",
    "print(f\"\\nDocuments with unclassified text percentage >= {threshold}%:\")\n",
    "print(f\"{counter} out of {len(text_loader)} ({counter / len(text_loader) * 100:.2f}%)\")\n"
   ]
  },
  {
   "cell_type": "code",
   "execution_count": 18,
   "metadata": {},
   "outputs": [],
   "source": [
    "outlier = text_loader.load_text_with_id(\"C278EDC82048\")\n"
   ]
  },
  {
   "cell_type": "code",
   "execution_count": 19,
   "metadata": {},
   "outputs": [
    {
     "data": {
      "text/plain": [
       "[(126, 135), (160, 164), (225, 226), (243, 249), (277, 278), (667, 8015)]"
      ]
     },
     "execution_count": 19,
     "metadata": {},
     "output_type": "execute_result"
    }
   ],
   "source": [
    "outlier.non_classified_parts"
   ]
  },
  {
   "cell_type": "code",
   "execution_count": 20,
   "metadata": {},
   "outputs": [
    {
     "name": "stdout",
     "output_type": "stream",
     "text": [
      "Text id: C278EDC82048; Length: 8015; Discourses: 8\n",
      "Gap length: 7369\n"
     ]
    }
   ],
   "source": [
    "print(outlier.info)\n",
    "print(f\"Gap length: {outlier.gap_len}\")"
   ]
  },
  {
   "cell_type": "code",
   "execution_count": 21,
   "metadata": {},
   "outputs": [
    {
     "data": {
      "text/html": [
       "<span class=\"tex2jax_ignore\"><div class=\"entities\" style=\"line-height: 2.5; direction: ltr\">\n",
       "<mark class=\"entity\" style=\"background: #ba5656; padding: 0.45em 0.6em; margin: 0 0.25em; line-height: 1; border-radius: 0.35em;\">\n",
       "    I thought it might be boring and a lot of work on board herding animals but its alot more to it than that. \n",
       "    <span style=\"font-size: 0.8em; font-weight: bold; line-height: 1; border-radius: 0.35em; vertical-align: middle; margin-left: 0.5rem\">Lead</span>\n",
       "</mark>\n",
       "\n",
       "<mark class=\"entity\" style=\"background: #c27ba0; padding: 0.45em 0.6em; margin: 0 0.25em; line-height: 1; border-radius: 0.35em;\">\n",
       "    Its a wonderful job\n",
       "    <span style=\"font-size: 0.8em; font-weight: bold; line-height: 1; border-radius: 0.35em; vertical-align: middle; margin-left: 0.5rem\">Position</span>\n",
       "</mark>\n",
       "\n",
       "<mark class=\"entity\" style=\"background: #969696; padding: 0.45em 0.6em; margin: 0 0.25em; line-height: 1; border-radius: 0.35em;\">\n",
       "     becuase \n",
       "    <span style=\"font-size: 0.8em; font-weight: bold; line-height: 1; border-radius: 0.35em; vertical-align: middle; margin-left: 0.5rem\">Non-classified</span>\n",
       "</mark>\n",
       "\n",
       "<mark class=\"entity\" style=\"background: #92c57d; padding: 0.45em 0.6em; margin: 0 0.25em; line-height: 1; border-radius: 0.35em;\">\n",
       "    you do not only get paid \n",
       "    <span style=\"font-size: 0.8em; font-weight: bold; line-height: 1; border-radius: 0.35em; vertical-align: middle; margin-left: 0.5rem\">Claim</span>\n",
       "</mark>\n",
       "\n",
       "<mark class=\"entity\" style=\"background: #969696; padding: 0.45em 0.6em; margin: 0 0.25em; line-height: 1; border-radius: 0.35em;\">\n",
       "    but \n",
       "    <span style=\"font-size: 0.8em; font-weight: bold; line-height: 1; border-radius: 0.35em; vertical-align: middle; margin-left: 0.5rem\">Non-classified</span>\n",
       "</mark>\n",
       "\n",
       "<mark class=\"entity\" style=\"background: #92c57d; padding: 0.45em 0.6em; margin: 0 0.25em; line-height: 1; border-radius: 0.35em;\">\n",
       "    you get to go sight seeing, see places you never been before,\n",
       "    <span style=\"font-size: 0.8em; font-weight: bold; line-height: 1; border-radius: 0.35em; vertical-align: middle; margin-left: 0.5rem\">Claim</span>\n",
       "</mark>\n",
       "\n",
       "<mark class=\"entity\" style=\"background: #969696; padding: 0.45em 0.6em; margin: 0 0.25em; line-height: 1; border-radius: 0.35em;\">\n",
       "     \n",
       "    <span style=\"font-size: 0.8em; font-weight: bold; line-height: 1; border-radius: 0.35em; vertical-align: middle; margin-left: 0.5rem\">Non-classified</span>\n",
       "</mark>\n",
       "\n",
       "<mark class=\"entity\" style=\"background: #92c57d; padding: 0.45em 0.6em; margin: 0 0.25em; line-height: 1; border-radius: 0.35em;\">\n",
       "    work with animals\n",
       "    <span style=\"font-size: 0.8em; font-weight: bold; line-height: 1; border-radius: 0.35em; vertical-align: middle; margin-left: 0.5rem\">Claim</span>\n",
       "</mark>\n",
       "\n",
       "<mark class=\"entity\" style=\"background: #969696; padding: 0.45em 0.6em; margin: 0 0.25em; line-height: 1; border-radius: 0.35em;\">\n",
       "    , and \n",
       "    <span style=\"font-size: 0.8em; font-weight: bold; line-height: 1; border-radius: 0.35em; vertical-align: middle; margin-left: 0.5rem\">Non-classified</span>\n",
       "</mark>\n",
       "\n",
       "<mark class=\"entity\" style=\"background: #92c57d; padding: 0.45em 0.6em; margin: 0 0.25em; line-height: 1; border-radius: 0.35em;\">\n",
       "    lets not forget help people.\n",
       "    <span style=\"font-size: 0.8em; font-weight: bold; line-height: 1; border-radius: 0.35em; vertical-align: middle; margin-left: 0.5rem\">Claim</span>\n",
       "</mark>\n",
       "\n",
       "<mark class=\"entity\" style=\"background: #969696; padding: 0.45em 0.6em; margin: 0 0.25em; line-height: 1; border-radius: 0.35em;\">\n",
       "     \n",
       "    <span style=\"font-size: 0.8em; font-weight: bold; line-height: 1; border-radius: 0.35em; vertical-align: middle; margin-left: 0.5rem\">Non-classified</span>\n",
       "</mark>\n",
       "\n",
       "<mark class=\"entity\" style=\"background: #8cd8d2; padding: 0.45em 0.6em; margin: 0 0.25em; line-height: 1; border-radius: 0.35em;\">\n",
       "    This job changed my life within a second of being on board i use to work at a boring old bank and grocery store now I know I made the right chose choosing to work here I knew I wouldnt have a chance like this again so I took it with out a doubt. \n",
       "    <span style=\"font-size: 0.8em; font-weight: bold; line-height: 1; border-radius: 0.35em; vertical-align: middle; margin-left: 0.5rem\">Evidence</span>\n",
       "</mark>\n",
       "\n",
       "<mark class=\"entity\" style=\"background: #8cd8d2; padding: 0.45em 0.6em; margin: 0 0.25em; line-height: 1; border-radius: 0.35em;\">\n",
       "    Mayby you might want to travel the world and see new amazing places and see ancient palaces ike Geece and at the same time help people in need.\n",
       "    <span style=\"font-size: 0.8em; font-weight: bold; line-height: 1; border-radius: 0.35em; vertical-align: middle; margin-left: 0.5rem\">Evidence</span>\n",
       "</mark>\n",
       "\n",
       "<mark class=\"entity\" style=\"background: #969696; padding: 0.45em 0.6em; margin: 0 0.25em; line-height: 1; border-radius: 0.35em;\">\n",
       "     I thought it might be boring and a lot of work on board herding animals but its alot more to it than that. Its a wonderful job becuase you do not only get paid but you get to go sight seeing, see places you never been before, work with animals, and lets not forget help people. This job changed my life within a second of being on board i use to work at a boring old bank and grocery store now I know I made the right chose choosing to work here I knew I wouldnt have a chance like this again so I took it with out a doubt. Mayby you might want to travel the world and see new amazing places and see ancient palaces ike Geece and at the same time help people in need. I thought it might be boring and a lot of work on board herding animals but its alot more to it than that. Its a wonderful job becuase you do not only get paid but you get to go sight seeing, see places you never been before, work with animals, and lets not forget help people. This job changed my life within a second of being on board i use to work at a boring old bank and grocery store now I know I made the right chose choosing to work here I knew I wouldnt have a chance like this again so I took it with out a doubt. Mayby you might want to travel the world and see new amazing places and see ancient palaces ike Geece and at the same time help people in need. I thought it might be boring and a lot of work on board herding animals but its alot more to it than that. Its a wonderful job becuase you do not only get paid but you get to go sight seeing, see places you never been before, work with animals, and lets not forget help people. This job changed my life within a second of being on board i use to work at a boring old bank and grocery store now I know I made the right chose choosing to work here I knew I wouldnt have a chance like this again so I took it with out a doubt. Mayby you might want to travel the world and see new amazing places and see ancient palaces ike Geece and at the same time help people in need. I thought it might be boring and a lot of work on board herding animals but its alot more to it than that. Its a wonderful job becuase you do not only get paid but you get to go sight seeing, see places you never been before, work with animals, and lets not forget help people. This job changed my life within a second of being on board i use to work at a boring old bank and grocery store now I know I made the right chose choosing to work here I knew I wouldnt have a chance like this again so I took it with out a doubt. Mayby you might want to travel the world and see new amazing places and see ancient palaces ike Geece and at the same time help people in need. I thought it might be boring and a lot of work on board herding animals but its alot more to it than that. Its a wonderful job becuase you do not only get paid but you get to go sight seeing, see places you never been before, work with animals, and lets not forget help people. This job changed my life within a second of being on board i use to work at a boring old bank and grocery store now I know I made the right chose choosing to work here I knew I wouldnt have a chance like this again so I took it with out a doubt. Mayby you might want to travel the world and see new amazing places and see ancient palaces ike Geece and at the same time help people in need. I thought it might be boring and a lot of work on board herding animals but its alot more to it than that. Its a wonderful job becuase you do not only get paid but you get to go sight seeing, see places you never been before, work with animals, and lets not forget help people. This job changed my life within a second of being on board i use to work at a boring old bank and grocery store now I know I made the right chose choosing to work here I knew I wouldnt have a chance like this again so I took it with out a doubt. Mayby you might want to travel the world and see new amazing places and see ancient palaces ike Geece and at the same time help people in need. I thought it might be boring and a lot of work on board herding animals but its alot more to it than that. Its a wonderful job becuase you do not only get paid but you get to go sight seeing, see places you never been before, work with animals, and lets not forget help people. This job changed my life within a second of being on board i use to work at a boring old bank and grocery store now I know I made the right chose choosing to work here I knew I wouldnt have a chance like this again so I took it with out a doubt. Mayby you might want to travel the world and see new amazing places and see ancient palaces ike Geece and at the same time help people in need. I thought it might be boring and a lot of work on board herding animals but its alot more to it than that. Its a wonderful job becuase you do not only get paid but you get to go sight seeing, see places you never been before, work with animals, and lets not forget help people. This job changed my life within a second of being on board i use to work at a boring old bank and grocery store now I know I made the right chose choosing to work here I knew I wouldnt have a chance like this again so I took it with out a doubt. Mayby you might want to travel the world and see new amazing places and see ancient palaces ike Geece and at the same time help people in need. I thought it might be boring and a lot of work on board herding animals but its alot more to it than that. Its a wonderful job becuase you do not only get paid but you get to go sight seeing, see places you never been before, work with animals, and lets not forget help people. This job changed my life within a second of being on board i use to work at a boring old bank and grocery store now I know I made the right chose choosing to work here I knew I wouldnt have a chance like this again so I took it with out a doubt. Mayby you might want to travel the world and see new amazing places and see ancient palaces ike Geece and at the same time help people in need. I thought it might be boring and a lot of work on board herding animals but its alot more to it than that. Its a wonderful job becuase you do not only get paid but you get to go sight seeing, see places you never been before, work with animals, and lets not forget help people. This job changed my life within a second of being on board i use to work at a boring old bank and grocery store now I know I made the right chose choosing to work here I knew I wouldnt have a chance like this again so I took it with out a doubt. Mayby you might want to travel the world and see new amazing places and see ancient palaces ike Geece and at the same time help people in need. I thought it might be boring and a lot of work on board herding animals but its alot more to it than that. Its a wonderful job becuase you do not only get paid but you get to go sight seeing, see places you never been before, work with animals, and lets not forget help people. This job changed my life within a second of being on board i use to work at a boring old bank and grocery store now I know I made the right chose choosing to work here I knew I wouldnt have a chance like this again so I took it with out a doubt. Mayby you might want to travel the world and see new amazing places and see ancient palaces ike Geece and at the same time help people in need.\n",
       "    <span style=\"font-size: 0.8em; font-weight: bold; line-height: 1; border-radius: 0.35em; vertical-align: middle; margin-left: 0.5rem\">Non-classified</span>\n",
       "</mark>\n",
       "</div></span>"
      ],
      "text/plain": [
       "<IPython.core.display.HTML object>"
      ]
     },
     "metadata": {},
     "output_type": "display_data"
    }
   ],
   "source": [
    "visualizer.visualize_text(outlier)"
   ]
  },
  {
   "cell_type": "code",
   "execution_count": null,
   "metadata": {},
   "outputs": [],
   "source": []
  }
 ],
 "metadata": {
  "kernelspec": {
   "display_name": "nlp",
   "language": "python",
   "name": "python3"
  },
  "language_info": {
   "codemirror_mode": {
    "name": "ipython",
    "version": 3
   },
   "file_extension": ".py",
   "mimetype": "text/x-python",
   "name": "python",
   "nbconvert_exporter": "python",
   "pygments_lexer": "ipython3",
   "version": "3.9.15 | packaged by conda-forge | (main, Nov 22 2022, 15:55:03) \n[GCC 10.4.0]"
  },
  "orig_nbformat": 4,
  "vscode": {
   "interpreter": {
    "hash": "572f6aa65a5e6c51562016b4e29a85b0309fe64d207fe345880514900c6994ab"
   }
  }
 },
 "nbformat": 4,
 "nbformat_minor": 2
}
