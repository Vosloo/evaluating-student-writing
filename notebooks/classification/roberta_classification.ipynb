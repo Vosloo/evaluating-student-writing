{
 "cells": [
  {
   "cell_type": "code",
   "execution_count": 1,
   "metadata": {},
   "outputs": [
    {
     "name": "stderr",
     "output_type": "stream",
     "text": [
      "c:\\Users\\Jurek\\anaconda3\\envs\\nlp\\lib\\site-packages\\tqdm\\auto.py:22: TqdmWarning: IProgress not found. Please update jupyter and ipywidgets. See https://ipywidgets.readthedocs.io/en/stable/user_install.html\n",
      "  from .autonotebook import tqdm as notebook_tqdm\n"
     ]
    }
   ],
   "source": [
    "import numpy as np\n",
    "import pandas as pd\n",
    "import sys\n",
    "import pickle\n",
    "sys.path.append(\"../../\")\n",
    "import spacy\n",
    "from src.loader import TextLoader\n",
    "from src.purifier import Purifier\n",
    "from tqdm import tqdm\n",
    "from pathlib import Path\n",
    "import torch\n",
    "from torch import nn\n",
    "from transformers import RobertaTokenizer\n",
    "from transformers import RobertaModel\n",
    "import wandb"
   ]
  },
  {
   "cell_type": "code",
   "execution_count": 2,
   "metadata": {},
   "outputs": [],
   "source": [
    "#wandb.init(project=\"discourse-classification\", entity=\"evaluating-student-writing\", name=\"Roberta_classification_short_1\")"
   ]
  },
  {
   "cell_type": "code",
   "execution_count": 2,
   "metadata": {},
   "outputs": [],
   "source": [
    "def count_label(df, labels):\n",
    "    label_count_dict = {}\n",
    "    labeled_df_dict = {}\n",
    "    for label in labels:\n",
    "        label_df = df[df['discourse_type']==label]\n",
    "        label_count_dict[label] = len(label_df)\n",
    "        labeled_df_dict[label] = label_df\n",
    "    return label_count_dict, labeled_df_dict\n",
    "\n",
    "def oversampling(df, labels, amount_for_class = 1000):\n",
    "    new_df = pd.DataFrame()\n",
    "    label_count, labeled_df_dict = count_label(df, labels)\n",
    "    print(label_count)\n",
    "    for label, count in label_count.items():\n",
    "        print(label)\n",
    "        lb_df = labeled_df_dict[label]\n",
    "        if count < amount_for_class:\n",
    "            while len(lb_df) < amount_for_class:\n",
    "                row = labeled_df_dict[label].sample()\n",
    "                lb_df = pd.concat([lb_df, row])\n",
    "                #lb_df.loc[len(new_df)] = [row.values[0][0], row.values[0][1]]\n",
    "        new_df = pd.concat([new_df, lb_df])\n",
    "    new_df = new_df.sample(frac=1).reset_index(drop=True)\n",
    "    return new_df\n",
    "\n",
    "def undersampling(df, labels, amount_for_class = 1000):\n",
    "    new_df = pd.DataFrame()\n",
    "    label_count, labeled_df_dict = count_label(df, labels)\n",
    "    for label, count in label_count.items():\n",
    "        lb_df = pd.DataFrame()\n",
    "        if count < amount_for_class:\n",
    "            lb_df = labeled_df_dict[label]\n",
    "            new_df = pd.concat([new_df, lb_df])\n",
    "        else:\n",
    "            while len(lb_df) < amount_for_class:\n",
    "                row = labeled_df_dict[label].sample()\n",
    "                lb_df = pd.concat([lb_df, row])\n",
    "            new_df = pd.concat([new_df, lb_df])\n",
    "    return new_df"
   ]
  },
  {
   "cell_type": "code",
   "execution_count": 3,
   "metadata": {},
   "outputs": [],
   "source": [
    "module_path = Path.cwd().parent.parent\n",
    "if module_path not in sys.path:\n",
    "    sys.path.insert(0, str(module_path))"
   ]
  },
  {
   "cell_type": "code",
   "execution_count": 12,
   "metadata": {},
   "outputs": [
    {
     "data": {
      "text/html": [
       "<div>\n",
       "<style scoped>\n",
       "    .dataframe tbody tr th:only-of-type {\n",
       "        vertical-align: middle;\n",
       "    }\n",
       "\n",
       "    .dataframe tbody tr th {\n",
       "        vertical-align: top;\n",
       "    }\n",
       "\n",
       "    .dataframe thead th {\n",
       "        text-align: right;\n",
       "    }\n",
       "</style>\n",
       "<table border=\"1\" class=\"dataframe\">\n",
       "  <thead>\n",
       "    <tr style=\"text-align: right;\">\n",
       "      <th></th>\n",
       "      <th>discourse_text</th>\n",
       "      <th>discourse_type</th>\n",
       "    </tr>\n",
       "  </thead>\n",
       "  <tbody>\n",
       "    <tr>\n",
       "      <th>0</th>\n",
       "      <td>Modern humans today are always on their phone....</td>\n",
       "      <td>Lead</td>\n",
       "    </tr>\n",
       "    <tr>\n",
       "      <th>1</th>\n",
       "      <td>They are some really bad consequences when stu...</td>\n",
       "      <td>Position</td>\n",
       "    </tr>\n",
       "    <tr>\n",
       "      <th>2</th>\n",
       "      <td>Some certain areas in the United States ban ph...</td>\n",
       "      <td>Evidence</td>\n",
       "    </tr>\n",
       "    <tr>\n",
       "      <th>3</th>\n",
       "      <td>When people have phones they know about certai...</td>\n",
       "      <td>Evidence</td>\n",
       "    </tr>\n",
       "    <tr>\n",
       "      <th>4</th>\n",
       "      <td>Driving is one of the way how to get around. P...</td>\n",
       "      <td>Claim</td>\n",
       "    </tr>\n",
       "  </tbody>\n",
       "</table>\n",
       "</div>"
      ],
      "text/plain": [
       "                                      discourse_text discourse_type\n",
       "0  Modern humans today are always on their phone....           Lead\n",
       "1  They are some really bad consequences when stu...       Position\n",
       "2  Some certain areas in the United States ban ph...       Evidence\n",
       "3  When people have phones they know about certai...       Evidence\n",
       "4  Driving is one of the way how to get around. P...          Claim"
      ]
     },
     "execution_count": 12,
     "metadata": {},
     "output_type": "execute_result"
    }
   ],
   "source": [
    "path = Path(module_path / \"data\" / \"train_v1_no_predictionstring.xz\")\n",
    "data = pd.read_csv(path, compression=\"xz\")\n",
    "data = data[[\"discourse_text\", \"discourse_type\"]]\n",
    "data.head()"
   ]
  },
  {
   "cell_type": "code",
   "execution_count": 13,
   "metadata": {},
   "outputs": [
    {
     "data": {
      "text/plain": [
       "({'Lead': 9303,\n",
       "  'Position': 15415,\n",
       "  'Evidence': 45691,\n",
       "  'Claim': 50197,\n",
       "  'Concluding Statement': 13503,\n",
       "  'Counterclaim': 5813,\n",
       "  'Rebuttal': 4334},\n",
       " {'Lead':                                            discourse_text discourse_type\n",
       "  0       Modern humans today are always on their phone....           Lead\n",
       "  14      The ability to stay connected to people we kno...           Lead\n",
       "  21      People are debating whether if drivers should ...           Lead\n",
       "  33      Over half of drivers in today's society have t...           Lead\n",
       "  42      Being on your device and driving could be an o...           Lead\n",
       "  ...                                                   ...            ...\n",
       "  144203  Do you ever want more opinions and options whe...           Lead\n",
       "  144215  Has anyone ever gave you advice Was the advice...           Lead\n",
       "  144224  Imagine seeking advice from multiple people an...           Lead\n",
       "  144233  There has been at least one point in everyone'...           Lead\n",
       "  144247  In ancient times and also still today in some ...           Lead\n",
       "  \n",
       "  [9303 rows x 2 columns],\n",
       "  'Position':                                            discourse_text discourse_type\n",
       "  1       They are some really bad consequences when stu...       Position\n",
       "  10      Drivers should not be able to use phones while...       Position\n",
       "  15      However this device is taken to areas that it ...       Position\n",
       "  22      I also think that you shouldn't use your phone...       Position\n",
       "  34      I strongly feel that texting and driving is da...       Position\n",
       "  ...                                                   ...            ...\n",
       "  144204  It is good to go to multiple sources for opinions       Position\n",
       "  144216  Seeking multiple opinions can help someone mak...       Position\n",
       "  144225  Seeking multiple opinions can help someone mak...       Position\n",
       "  144234  Because of this sometimes asking just one pers...       Position\n",
       "  144253  it is better to seek multiple opinions instead...       Position\n",
       "  \n",
       "  [15415 rows x 2 columns],\n",
       "  'Evidence':                                            discourse_text discourse_type\n",
       "  2       Some certain areas in the United States ban ph...       Evidence\n",
       "  3       When people have phones they know about certai...       Evidence\n",
       "  5       That's why there's a thing that's called no te...       Evidence\n",
       "  6       Sometimes on the news there is either an accid...       Evidence\n",
       "  8       If you go through a problem and you can't find...       Evidence\n",
       "  ...                                                   ...            ...\n",
       "  144243  An example of this is when you ask Generic Nam...       Evidence\n",
       "  144250  if the President thinks that this is the best ...       Evidence\n",
       "  144251  if I'm not sure what college I want to attend ...       Evidence\n",
       "  144252  seeking multiple opinions before making a hard...       Evidence\n",
       "  144254  The impact of asking people to help you make a...       Evidence\n",
       "  \n",
       "  [45691 rows x 2 columns],\n",
       "  'Claim':                                            discourse_text discourse_type\n",
       "  4       Driving is one of the way how to get around. P...          Claim\n",
       "  7       Phones are fine to use and it's also the best ...          Claim\n",
       "  11      Drivers who used their phone while operating a...          Claim\n",
       "  16      Within a vehicle capable of traveling upwards ...          Claim\n",
       "  23                because it can cause vehicle collisions          Claim\n",
       "  ...                                                   ...            ...\n",
       "  144239  The more similar iterations people give you th...          Claim\n",
       "  144241  The best thing to do in a situation like that ...          Claim\n",
       "  144242  misdeeds are when the advice giver is purposel...          Claim\n",
       "  144248  seeking multiple opinions can help you feel be...          Claim\n",
       "  144249  getting multiple opinions will increase the pr...          Claim\n",
       "  \n",
       "  [50197 rows x 2 columns],\n",
       "  'Concluding Statement':                                            discourse_text  \\\n",
       "  9       The news always updated when people do somethi...   \n",
       "  13      In conclusion drivers should not able to work ...   \n",
       "  20      The creation of telecommunication devices was ...   \n",
       "  32      In conclusion people shouldn't use cellphones ...   \n",
       "  41      Over all texting and driving is dangerous has ...   \n",
       "  ...                                                   ...   \n",
       "  144214  Seeking out multiple people for good advice is...   \n",
       "  144223  By gathering different opinions it will help p...   \n",
       "  144232  In conclusion asking advice can help someone m...   \n",
       "  144246  The odds are in your favor and the on the off ...   \n",
       "  144255  there are many other reasons one might want to...   \n",
       "  \n",
       "                discourse_type  \n",
       "  9       Concluding Statement  \n",
       "  13      Concluding Statement  \n",
       "  20      Concluding Statement  \n",
       "  32      Concluding Statement  \n",
       "  41      Concluding Statement  \n",
       "  ...                      ...  \n",
       "  144214  Concluding Statement  \n",
       "  144223  Concluding Statement  \n",
       "  144232  Concluding Statement  \n",
       "  144246  Concluding Statement  \n",
       "  144255  Concluding Statement  \n",
       "  \n",
       "  [13503 rows x 2 columns],\n",
       "  'Counterclaim':                                            discourse_text discourse_type\n",
       "  18      Conversely people may believe that laws in pre...   Counterclaim\n",
       "  96      While it is dangerous to be interacting with y...   Counterclaim\n",
       "  118     Many people may say that teens are the ones dr...   Counterclaim\n",
       "  241     Some people will argue that the usage of any p...   Counterclaim\n",
       "  299      Even if your rates don't go up after an accident   Counterclaim\n",
       "  ...                                                   ...            ...\n",
       "  144113  Okay when you talk to one person then it could...   Counterclaim\n",
       "  144130  Asking one person you trust for advice is some...   Counterclaim\n",
       "  144138  The good thing about asking one person is you ...   Counterclaim\n",
       "  144200    Some people will disagree with my three reasons   Counterclaim\n",
       "  144244  Now I know what you probably saying But what i...   Counterclaim\n",
       "  \n",
       "  [5813 rows x 2 columns],\n",
       "  'Rebuttal':                                            discourse_text discourse_type\n",
       "  19      The problem becomes apparent that this is a se...       Rebuttal\n",
       "  119     In reality everyone from every age is irrespon...       Rebuttal\n",
       "  242     While that is true it is highly unlikely and i...       Rebuttal\n",
       "  300            you could lose your good drivers discount.       Rebuttal\n",
       "  322     However talking or texting on cell phones whil...       Rebuttal\n",
       "  ...                                                   ...            ...\n",
       "  144114  But its a better idea to ask two because now t...       Rebuttal\n",
       "  144131  But there is also a problem when asking only o...       Rebuttal\n",
       "  144140  If you also ask one people and it gets to an a...       Rebuttal\n",
       "  144201  but I don't like to listen to the people who d...       Rebuttal\n",
       "  144245  what are the odds that seven of your close fri...       Rebuttal\n",
       "  \n",
       "  [4334 rows x 2 columns]})"
      ]
     },
     "execution_count": 13,
     "metadata": {},
     "output_type": "execute_result"
    }
   ],
   "source": [
    "count_label(data, ['Lead', 'Position', 'Evidence', 'Claim', 'Concluding Statement', 'Counterclaim', 'Rebuttal'])"
   ]
  },
  {
   "cell_type": "code",
   "execution_count": 14,
   "metadata": {},
   "outputs": [],
   "source": [
    "data = undersampling(data, ['Lead', 'Position', 'Evidence', 'Claim', 'Concluding Statement', 'Counterclaim', 'Rebuttal'], 15000)"
   ]
  },
  {
   "cell_type": "code",
   "execution_count": 15,
   "metadata": {},
   "outputs": [],
   "source": [
    "labels = {'Lead':0,\n",
    "          'Position':1,\n",
    "          'Evidence':2,\n",
    "          'Claim':3,\n",
    "          'Concluding Statement':4,\n",
    "          'Counterclaim':5, \n",
    "          'Rebuttal':6\n",
    "}"
   ]
  },
  {
   "cell_type": "code",
   "execution_count": 16,
   "metadata": {},
   "outputs": [],
   "source": [
    "tokenizer = RobertaTokenizer.from_pretrained('roberta-base')"
   ]
  },
  {
   "cell_type": "code",
   "execution_count": 17,
   "metadata": {},
   "outputs": [],
   "source": [
    "class Dataset(torch.utils.data.Dataset):\n",
    "\n",
    "    def __init__(self, df):\n",
    "\n",
    "        self.labels = [labels[label] for label in df['discourse_type']]\n",
    "        self.texts = [tokenizer(text, \n",
    "                               padding='max_length', max_length = 512, truncation=True,\n",
    "                                return_tensors=\"pt\") for text in df['discourse_text']]\n",
    "\n",
    "    def classes(self):\n",
    "        return self.labels\n",
    "\n",
    "    def __len__(self):\n",
    "        return len(self.labels)\n",
    "\n",
    "    def get_batch_labels(self, idx):\n",
    "        # Fetch a batch of labels\n",
    "        return np.array(self.labels[idx])\n",
    "\n",
    "    def get_batch_texts(self, idx):\n",
    "        # Fetch a batch of inputs\n",
    "        return self.texts[idx]\n",
    "\n",
    "    def __getitem__(self, idx):\n",
    "\n",
    "        batch_texts = self.get_batch_texts(idx)\n",
    "        batch_y = self.get_batch_labels(idx)\n",
    "\n",
    "        return batch_texts, batch_y"
   ]
  },
  {
   "cell_type": "code",
   "execution_count": 18,
   "metadata": {},
   "outputs": [],
   "source": [
    "from sklearn.model_selection import train_test_split\n",
    "np.random.seed(2137)\n",
    "df_train, df_test = train_test_split(data, test_size=0.08)\n",
    "df_val, df_test = train_test_split(df_test, test_size=0.25)"
   ]
  },
  {
   "cell_type": "code",
   "execution_count": 19,
   "metadata": {},
   "outputs": [
    {
     "name": "stdout",
     "output_type": "stream",
     "text": [
      "71716 4677 1560\n"
     ]
    }
   ],
   "source": [
    "print(len(df_train),len(df_val), len(df_test))"
   ]
  },
  {
   "cell_type": "code",
   "execution_count": 11,
   "metadata": {},
   "outputs": [],
   "source": [
    "#df_train = undersampling(df_train, ['Lead', 'Position', 'Evidence', 'Claim', 'Concluding Statement', 'Counterclaim', 'Rebuttal'], 15000)"
   ]
  },
  {
   "cell_type": "code",
   "execution_count": 20,
   "metadata": {},
   "outputs": [
    {
     "data": {
      "text/plain": [
       "({'Lead': 8557,\n",
       "  'Position': 13735,\n",
       "  'Evidence': 13794,\n",
       "  'Claim': 13873,\n",
       "  'Concluding Statement': 12422,\n",
       "  'Counterclaim': 5331,\n",
       "  'Rebuttal': 4004},\n",
       " {'Lead':                                            discourse_text discourse_type\n",
       "  55583   In the article Unmasking the Face on Mars NASA...           Lead\n",
       "  85644   Driverless cars are not science fiction and th...           Lead\n",
       "  15484   Every year students look forward to going on s...           Lead\n",
       "  30459   Many schools have all sorts of extracurricular...           Lead\n",
       "  120506  Most students across the world usually receive...           Lead\n",
       "  ...                                                   ...            ...\n",
       "  133052  Palms sweating someone starts pacing the room ...           Lead\n",
       "  23782   Schools claim that they are preparing their st...           Lead\n",
       "  123205  Schooling has been around for thousands of yea...           Lead\n",
       "  46774   Technology may be a problem for other occasion...           Lead\n",
       "  108908  Cell Phones. who doesn't have one I mean cell ...           Lead\n",
       "  \n",
       "  [8557 rows x 2 columns],\n",
       "  'Position':                                            discourse_text discourse_type\n",
       "  134790  You would be a lot more confident in the car t...       Position\n",
       "  3414    It is a safety hazard for using phones while d...       Position\n",
       "  6927      There are many advantages of limiting car usage       Position\n",
       "  92848   I am in favor of changing to election by popul...       Position\n",
       "  26189   I think that you should join the Seagoing Cowb...       Position\n",
       "  ...                                                   ...            ...\n",
       "  8924    Experts are also thinking that if they encoura...       Position\n",
       "  98274   Senator i argue that the state shouald change ...       Position\n",
       "  139025  Here are some reason why you should always ask...       Position\n",
       "  49352   No i think having technology to read a emotion...       Position\n",
       "  57614   It has been scientifically proven that the Fac...       Position\n",
       "  \n",
       "  [13735 rows x 2 columns],\n",
       "  'Evidence':                                            discourse_text discourse_type\n",
       "  117927  By doing so they can either procrastinate or s...       Evidence\n",
       "  14047   Some people are very well capable of purchasin...       Evidence\n",
       "  80686   Most driving laws focus on keeping drivers pas...       Evidence\n",
       "  87039   Modernizing cars started in the 1980's automak...       Evidence\n",
       "  7389    Pollution will always be a big problem on Eart...       Evidence\n",
       "  ...                                                   ...            ...\n",
       "  41712   Scientists take a big role they are the ones t...       Evidence\n",
       "  113399  If students were to work from home they would ...       Evidence\n",
       "  7918    Parks and biking paths have emerged in this em...       Evidence\n",
       "  54451   Doctors and surgeons need to know as much as t...       Evidence\n",
       "  142598  Lots of eventers createed a lot things based o...       Evidence\n",
       "  \n",
       "  [13794 rows x 2 columns],\n",
       "  'Claim':                                            discourse_text discourse_type\n",
       "  51604   This technoloy can help the teachers understan...          Claim\n",
       "  101711  Voting is not fair to the people because they ...          Claim\n",
       "  142363  if everyone you're talking to is saying to do ...          Claim\n",
       "  139672               everyone may have different opinions          Claim\n",
       "  111452  Students also tend to rush things just because...          Claim\n",
       "  ...                                                   ...            ...\n",
       "  26971   in the boat you would travel to alot of countr...          Claim\n",
       "  76647   I do not think humans will have very much cont...          Claim\n",
       "  52696   A computer can know how to change what you are...          Claim\n",
       "  883     Texting and driving are the number one reason ...          Claim\n",
       "  128848  First friends form school is the reason that s...          Claim\n",
       "  \n",
       "  [13873 rows x 2 columns],\n",
       "  'Concluding Statement':                                            discourse_text  \\\n",
       "  42349   In conclusion the author does a poor job at ex...   \n",
       "  89764   Does the popular vote matter Why do we still v...   \n",
       "  79452   We will not increase our minds in the sense of...   \n",
       "  137908  So this is my opinion about getting advice fro...   \n",
       "  31844   Students may not like being forced to do thing...   \n",
       "  ...                                                   ...   \n",
       "  107888  Even though it doesn't seem likely that cell p...   \n",
       "  79786   Driverless cars are not a thing of the future ...   \n",
       "  131028  Seeking other people's advice can be helpful. ...   \n",
       "  46363   In conclusion I am for the value of using this...   \n",
       "  84529   Having a car to drive itself it's not worth ge...   \n",
       "  \n",
       "                discourse_type  \n",
       "  42349   Concluding Statement  \n",
       "  89764   Concluding Statement  \n",
       "  79452   Concluding Statement  \n",
       "  137908  Concluding Statement  \n",
       "  31844   Concluding Statement  \n",
       "  ...                      ...  \n",
       "  107888  Concluding Statement  \n",
       "  79786   Concluding Statement  \n",
       "  131028  Concluding Statement  \n",
       "  46363   Concluding Statement  \n",
       "  84529   Concluding Statement  \n",
       "  \n",
       "  [12422 rows x 2 columns],\n",
       "  'Counterclaim':                                            discourse_text discourse_type\n",
       "  59901   But still people say that NASA warped this pic...   Counterclaim\n",
       "  66980   I do know that community service is great for ...   Counterclaim\n",
       "  61186   There have been many claims of extraterestrial...   Counterclaim\n",
       "  117252  Some people may say that students won't benefi...   Counterclaim\n",
       "  64084               Others might disagree with my opinion   Counterclaim\n",
       "  ...                                                   ...            ...\n",
       "  93792   There are some up sides to keeping the elctora...   Counterclaim\n",
       "  84910   To begin with some positive aspects to driving...   Counterclaim\n",
       "  84804   The car may come in handy because they have se...   Counterclaim\n",
       "  61346   However the phot was taken during a cloudy tim...   Counterclaim\n",
       "  103717  However people say that the electoral college ...   Counterclaim\n",
       "  \n",
       "  [5331 rows x 2 columns],\n",
       "  'Rebuttal':                                            discourse_text discourse_type\n",
       "  66347   And then all you have to do from there is just...       Rebuttal\n",
       "  8726    David Goldberg an offical of transportation fo...       Rebuttal\n",
       "  72561   But it also has a chance to have a bad effect ...       Rebuttal\n",
       "  55178   It may look that way in the past but only beca...       Rebuttal\n",
       "  127810  Some people need distract and also need social...       Rebuttal\n",
       "  ...                                                   ...            ...\n",
       "  82318   if you don't trust it you will have control of...       Rebuttal\n",
       "  59549              but they are not real and they didn't.       Rebuttal\n",
       "  73821   i think that if a student is on a team it will...       Rebuttal\n",
       "  93198   but provides no evidence to support the claim ...       Rebuttal\n",
       "  126951  This is based in fallacy however because those...       Rebuttal\n",
       "  \n",
       "  [4004 rows x 2 columns]})"
      ]
     },
     "execution_count": 20,
     "metadata": {},
     "output_type": "execute_result"
    }
   ],
   "source": [
    "count_label(df_train, ['Lead', 'Position', 'Evidence', 'Claim', 'Concluding Statement', 'Counterclaim', 'Rebuttal'])"
   ]
  },
  {
   "cell_type": "code",
   "execution_count": 14,
   "metadata": {},
   "outputs": [],
   "source": [
    "#df_test = undersampling(df_test, ['Lead', 'Position', 'Evidence', 'Claim', 'Concluding Statement', 'Counterclaim', 'Rebuttal'], 200)"
   ]
  },
  {
   "cell_type": "code",
   "execution_count": 21,
   "metadata": {},
   "outputs": [
    {
     "data": {
      "text/plain": [
       "({'Lead': 173,\n",
       "  'Position': 330,\n",
       "  'Evidence': 289,\n",
       "  'Claim': 268,\n",
       "  'Concluding Statement': 303,\n",
       "  'Counterclaim': 113,\n",
       "  'Rebuttal': 84},\n",
       " {'Lead':                                            discourse_text discourse_type\n",
       "  18014   Work assigned over the summer is very much dre...           Lead\n",
       "  115045  Every school situation is different when it co...           Lead\n",
       "  79921   People say that technology is forever chaging ...           Lead\n",
       "  135927                   Why talk to more than one person           Lead\n",
       "  19869   Summer projects designed by teachers can boost...           Lead\n",
       "  ...                                                   ...            ...\n",
       "  67162   I just heard of your plan to make community se...           Lead\n",
       "  128725  The schools offer is option that the students ...           Lead\n",
       "  59967   Imagine you are a scientist at NASA sicussing ...           Lead\n",
       "  132736  Have you struggled and asked someone to help P...           Lead\n",
       "  108598  Ring Ring Ring. Who's cell phone is that ringi...           Lead\n",
       "  \n",
       "  [173 rows x 2 columns],\n",
       "  'Position':                                            discourse_text discourse_type\n",
       "  141828  Seeking multiple opinions can help you make a ...       Position\n",
       "  6335    but honestly i don't think anyone should opera...       Position\n",
       "  96907   The Electoral College is despised yet it is th...       Position\n",
       "  25640   I Luke think you should participate in the Sea...       Position\n",
       "  108140  In school kids are there to learn so why shoul...       Position\n",
       "  ...                                                   ...            ...\n",
       "  99839   However this is a new century and many people ...       Position\n",
       "  49782   This technology is very valuable for the class...       Position\n",
       "  45159   In The Challenge of Exploring Venus the author...       Position\n",
       "  59081   There is pure evidence that what you're seeing...       Position\n",
       "  51368   While i feel like this could help with a few t...       Position\n",
       "  \n",
       "  [330 rows x 2 columns],\n",
       "  'Evidence':                                            discourse_text discourse_type\n",
       "  12377   for example in the source 3 car free day is sp...       Evidence\n",
       "  97813   People may think when they go out to vote for ...       Evidence\n",
       "  39197   Venus is sometimes called the Evening Star. It...       Evidence\n",
       "  33129   sports can also teach you on how to be a great...       Evidence\n",
       "  35635   Most extracurricular activities require kids t...       Evidence\n",
       "  ...                                                   ...            ...\n",
       "  135094  Multiple or different choices. Sometimes it's ...       Evidence\n",
       "  127720  People plan things all the time. A lot of the ...       Evidence\n",
       "  137049  When you talk to someone they can relate to yo...       Evidence\n",
       "  135814  If somebody's statement is false then you have...       Evidence\n",
       "  14646   For years people have been driving and while m...       Evidence\n",
       "  \n",
       "  [289 rows x 2 columns],\n",
       "  'Claim':                                            discourse_text discourse_type\n",
       "  12352   in the last article it shows that even a power...          Claim\n",
       "  37234                             you can meet new people          Claim\n",
       "  120699                   won't have as many distractions.          Claim\n",
       "  24696   If the teacher had redesigned the project to m...          Claim\n",
       "  16260   When a student gets to design his or her own p...          Claim\n",
       "  ...                                                   ...            ...\n",
       "  98960   The Elctoral college is unfair outdated and ir...          Claim\n",
       "  121852  some students may feel that they can never get...          Claim\n",
       "  60933   Also when the seccond photo was taken it was a...          Claim\n",
       "  34153   some kids dont like to do extra things like pl...          Claim\n",
       "  47592   I know that teachers in my classrooms can very...          Claim\n",
       "  \n",
       "  [268 rows x 2 columns],\n",
       "  'Concluding Statement':                                            discourse_text  \\\n",
       "  69673   Please consider talking this policy over with ...   \n",
       "  29858   So come on down and join us the Seagoing Cowbo...   \n",
       "  65806   That's why every student should help in the co...   \n",
       "  45616   And also I do as well think it is worth the tr...   \n",
       "  21294   Given the fact that teachers are knowledgeable...   \n",
       "  ...                                                   ...   \n",
       "  30609   I think students need to be pushed by schools ...   \n",
       "  32794   overall what is the harm of students being a p...   \n",
       "  11912   the advantages of limiting car usage is an inc...   \n",
       "  15146   There are many other reasons that students sho...   \n",
       "  136746     I feel like getting advice van really help you   \n",
       "  \n",
       "                discourse_type  \n",
       "  69673   Concluding Statement  \n",
       "  29858   Concluding Statement  \n",
       "  65806   Concluding Statement  \n",
       "  45616   Concluding Statement  \n",
       "  21294   Concluding Statement  \n",
       "  ...                      ...  \n",
       "  30609   Concluding Statement  \n",
       "  32794   Concluding Statement  \n",
       "  11912   Concluding Statement  \n",
       "  15146   Concluding Statement  \n",
       "  136746  Concluding Statement  \n",
       "  \n",
       "  [303 rows x 2 columns],\n",
       "  'Counterclaim':                                            discourse_text discourse_type\n",
       "  113916  Some might argue that with the introduction of...   Counterclaim\n",
       "  52461   In the artical its says Perhaps Dr. Huangs's e...   Counterclaim\n",
       "  105267  Phones are a major distraction at school and i...   Counterclaim\n",
       "  122945  Although some view online classes as a source ...   Counterclaim\n",
       "  121475  Some people may argue that online classes are ...   Counterclaim\n",
       "  ...                                                   ...            ...\n",
       "  27464                             It might be a long trip   Counterclaim\n",
       "  4262    Despite the fact that laws have been passed to...   Counterclaim\n",
       "  97107   Through Electoral College it is much easier to...   Counterclaim\n",
       "  60323   but again how can you take that for literal truth   Counterclaim\n",
       "  109334  Sure using your phone outside of school to con...   Counterclaim\n",
       "  \n",
       "  [113 rows x 2 columns],\n",
       "  'Rebuttal':                                            discourse_text discourse_type\n",
       "  1558    and that's where advanced technology takes place.       Rebuttal\n",
       "  127309  Although online students may receive more soci...       Rebuttal\n",
       "  116894  I believe students will get the right balance ...       Rebuttal\n",
       "  64792   but I can assure you that community service is...       Rebuttal\n",
       "  137693  but if you limit how many people you ask and a...       Rebuttal\n",
       "  ...                                                   ...            ...\n",
       "  110912  but they can be turned on because what if ther...       Rebuttal\n",
       "  4171    On the other hand there are disadvantages of u...       Rebuttal\n",
       "  58960   But there is one problem there is no oxygen up...       Rebuttal\n",
       "  103010  they do not always vote for who they are suppo...       Rebuttal\n",
       "  63788   but the ones who do are not just helping socie...       Rebuttal\n",
       "  \n",
       "  [84 rows x 2 columns]})"
      ]
     },
     "execution_count": 21,
     "metadata": {},
     "output_type": "execute_result"
    }
   ],
   "source": [
    "count_label(df_test, ['Lead', 'Position', 'Evidence', 'Claim', 'Concluding Statement', 'Counterclaim', 'Rebuttal'])"
   ]
  },
  {
   "cell_type": "code",
   "execution_count": 22,
   "metadata": {},
   "outputs": [
    {
     "name": "stdout",
     "output_type": "stream",
     "text": [
      "71716 4677 1560\n"
     ]
    }
   ],
   "source": [
    "print(len(df_train),len(df_val), len(df_test))"
   ]
  },
  {
   "cell_type": "code",
   "execution_count": 23,
   "metadata": {},
   "outputs": [],
   "source": [
    "class RobertaClassifier(nn.Module):\n",
    "\n",
    "    def __init__(self, dropout=0.4):\n",
    "\n",
    "        super(RobertaClassifier, self).__init__()\n",
    "\n",
    "        self.bert = RobertaModel.from_pretrained('roberta-base')\n",
    "        self.dropout1 = nn.Dropout(dropout)\n",
    "        self.linear1 = nn.Linear(768, 256)\n",
    "        self.dropout2 = nn.Dropout(dropout)\n",
    "        self.linear2 = nn.Linear(256, 64)\n",
    "        self.dropout3 = nn.Dropout(dropout)\n",
    "        self.linear3 = nn.Linear(64, 7)\n",
    "        self.relu = nn.ReLU()\n",
    "\n",
    "    def forward(self, input_id, mask):\n",
    "\n",
    "        _, pooled_output = self.bert(input_ids= input_id, attention_mask=mask, return_dict=False)\n",
    "        dropout1_output = self.dropout1(pooled_output)\n",
    "        linear1_output = self.linear1(dropout1_output)\n",
    "        dropout2_output = self.dropout2(linear1_output)\n",
    "        linear2_output = self.linear2(dropout2_output)\n",
    "        dropout3_output = self.dropout3(linear2_output)\n",
    "        linear3_output = self.linear3(dropout3_output)\n",
    "        final_layer = self.relu(linear3_output)\n",
    "\n",
    "        return final_layer"
   ]
  },
  {
   "cell_type": "code",
   "execution_count": 14,
   "metadata": {},
   "outputs": [],
   "source": [
    "class RobertaClassifierShort(nn.Module):\n",
    "\n",
    "    def __init__(self, dropout=0.4):\n",
    "\n",
    "        super(RobertaClassifierShort, self).__init__()\n",
    "\n",
    "        self.bert = RobertaModel.from_pretrained('roberta-base')\n",
    "        self.dropout = nn.Dropout(dropout)\n",
    "        self.linear = nn.Linear(768, 7)\n",
    "        self.relu = nn.ReLU()\n",
    "\n",
    "    def forward(self, input_id, mask):\n",
    "\n",
    "        _, pooled_output = self.bert(input_ids= input_id, attention_mask=mask,return_dict=False)\n",
    "        dropout_output = self.dropout(pooled_output)\n",
    "        linear_output = self.linear(dropout_output)\n",
    "        final_layer = self.relu(linear_output)\n",
    "\n",
    "        return final_layer"
   ]
  },
  {
   "cell_type": "code",
   "execution_count": 24,
   "metadata": {},
   "outputs": [],
   "source": [
    "from torch.optim import Adam\n",
    "from tqdm import tqdm\n",
    "\n",
    "def train(model, train_data, val_data, learning_rate, epochs):\n",
    "\n",
    "    train, val = Dataset(train_data), Dataset(val_data)\n",
    "\n",
    "    train_dataloader = torch.utils.data.DataLoader(train, batch_size=8, shuffle=True)\n",
    "    val_dataloader = torch.utils.data.DataLoader(val, batch_size=8)\n",
    "\n",
    "    use_cuda = torch.cuda.is_available()\n",
    "    print(use_cuda)\n",
    "    device = torch.device(\"cuda\" if use_cuda else \"cpu\")\n",
    "\n",
    "    criterion = nn.CrossEntropyLoss()\n",
    "\n",
    "    if use_cuda:\n",
    "        model = model.cuda()\n",
    "        criterion = criterion.cuda()\n",
    "\n",
    "    \n",
    "    optimizer = Adam(model.parameters(), lr= learning_rate)\n",
    "    \n",
    "\n",
    "    for epoch_num in range(epochs):\n",
    "\n",
    "            total_acc_train = 0\n",
    "            total_loss_train = 0\n",
    "\n",
    "            for train_input, train_label in tqdm(train_dataloader):\n",
    "\n",
    "                train_label = train_label.to(device)\n",
    "                mask = train_input['attention_mask'].to(device)\n",
    "                input_id = train_input['input_ids'].squeeze(1).to(device)\n",
    "\n",
    "                output = model(input_id, mask)\n",
    "                \n",
    "                batch_loss = criterion(output, train_label.long())\n",
    "                total_loss_train += batch_loss.item()\n",
    "                \n",
    "                acc = (output.argmax(dim=1) == train_label).sum().item()\n",
    "                total_acc_train += acc\n",
    "\n",
    "                model.zero_grad()\n",
    "                batch_loss.backward()\n",
    "                optimizer.step()\n",
    "            \n",
    "            total_acc_val = 0\n",
    "            total_loss_val = 0\n",
    "\n",
    "            with torch.no_grad():\n",
    "\n",
    "                for val_input, val_label in val_dataloader:\n",
    "\n",
    "                    val_label = val_label.to(device)\n",
    "                    mask = val_input['attention_mask'].to(device)\n",
    "                    input_id = val_input['input_ids'].squeeze(1).to(device)\n",
    "\n",
    "                    output = model(input_id, mask)\n",
    "\n",
    "                    batch_loss = criterion(output, val_label.long())\n",
    "                    total_loss_val += batch_loss.item()\n",
    "                    \n",
    "                    acc = (output.argmax(dim=1) == val_label).sum().item()\n",
    "                    total_acc_val += acc\n",
    "            \n",
    "            print(\n",
    "                f'Epochs: {epoch_num + 1} | Train Loss: {total_loss_train / len(train_data): .3f} \\\n",
    "                | Train Accuracy: {total_acc_train / len(train_data): .3f} \\\n",
    "                | Val Loss: {total_loss_val / len(val_data): .3f} \\\n",
    "                | Val Accuracy: {total_acc_val / len(val_data): .3f}')\n"
   ]
  },
  {
   "cell_type": "code",
   "execution_count": 25,
   "metadata": {},
   "outputs": [
    {
     "name": "stderr",
     "output_type": "stream",
     "text": [
      "Some weights of the model checkpoint at roberta-base were not used when initializing RobertaModel: ['lm_head.layer_norm.weight', 'lm_head.decoder.weight', 'lm_head.bias', 'lm_head.dense.weight', 'lm_head.dense.bias', 'lm_head.layer_norm.bias']\n",
      "- This IS expected if you are initializing RobertaModel from the checkpoint of a model trained on another task or with another architecture (e.g. initializing a BertForSequenceClassification model from a BertForPreTraining model).\n",
      "- This IS NOT expected if you are initializing RobertaModel from the checkpoint of a model that you expect to be exactly identical (initializing a BertForSequenceClassification model from a BertForSequenceClassification model).\n"
     ]
    },
    {
     "name": "stdout",
     "output_type": "stream",
     "text": [
      "True\n"
     ]
    },
    {
     "name": "stderr",
     "output_type": "stream",
     "text": [
      "100%|██████████| 8965/8965 [40:35<00:00,  3.68it/s]\n"
     ]
    },
    {
     "name": "stdout",
     "output_type": "stream",
     "text": [
      "Epochs: 1 | Train Loss:  0.113                 | Train Accuracy:  0.710                 | Val Loss:  0.096                 | Val Accuracy:  0.761\n"
     ]
    },
    {
     "name": "stderr",
     "output_type": "stream",
     "text": [
      "100%|██████████| 8965/8965 [34:18<00:00,  4.36it/s]\n"
     ]
    },
    {
     "name": "stdout",
     "output_type": "stream",
     "text": [
      "Epochs: 2 | Train Loss:  0.074                 | Train Accuracy:  0.819                 | Val Loss:  0.093                 | Val Accuracy:  0.773\n"
     ]
    },
    {
     "name": "stderr",
     "output_type": "stream",
     "text": [
      "100%|██████████| 8965/8965 [32:16<00:00,  4.63it/s]\n"
     ]
    },
    {
     "name": "stdout",
     "output_type": "stream",
     "text": [
      "Epochs: 3 | Train Loss:  0.047                 | Train Accuracy:  0.891                 | Val Loss:  0.092                 | Val Accuracy:  0.787\n"
     ]
    },
    {
     "name": "stderr",
     "output_type": "stream",
     "text": [
      "100%|██████████| 8965/8965 [32:45<00:00,  4.56it/s]\n"
     ]
    },
    {
     "name": "stdout",
     "output_type": "stream",
     "text": [
      "Epochs: 4 | Train Loss:  0.029                 | Train Accuracy:  0.936                 | Val Loss:  0.099                 | Val Accuracy:  0.792\n"
     ]
    },
    {
     "name": "stderr",
     "output_type": "stream",
     "text": [
      "100%|██████████| 8965/8965 [33:51<00:00,  4.41it/s]\n"
     ]
    },
    {
     "name": "stdout",
     "output_type": "stream",
     "text": [
      "Epochs: 5 | Train Loss:  0.021                 | Train Accuracy:  0.956                 | Val Loss:  0.116                 | Val Accuracy:  0.781\n"
     ]
    }
   ],
   "source": [
    "                  \n",
    "EPOCHS = 5\n",
    "model = RobertaClassifier()\n",
    "LR = 1e-5\n",
    "#wandb.watch(model, log='all', log_freq=100)\n",
    "train(model, df_train, df_val, LR, EPOCHS)"
   ]
  },
  {
   "cell_type": "code",
   "execution_count": 13,
   "metadata": {},
   "outputs": [],
   "source": [
    "#the_model = torch.load(\"roberta_classifier_model_first\")"
   ]
  },
  {
   "cell_type": "code",
   "execution_count": 14,
   "metadata": {},
   "outputs": [],
   "source": [
    "# import time\n",
    "# torch.save(model.state_dict(), f\"roberta_classifier_short_model_5_epochs_2_state_dict\")"
   ]
  },
  {
   "cell_type": "code",
   "execution_count": 26,
   "metadata": {},
   "outputs": [],
   "source": [
    "\n",
    "torch.save(model, f\"roberta_classifier_short_model_5_epochs_1_undersampling\")"
   ]
  },
  {
   "cell_type": "code",
   "execution_count": 27,
   "metadata": {},
   "outputs": [
    {
     "name": "stdout",
     "output_type": "stream",
     "text": [
      "Test Accuracy:  0.788\n"
     ]
    }
   ],
   "source": [
    "wyniki = []\n",
    "y_t = []\n",
    "\n",
    "def evaluate(model, test_data):\n",
    "\n",
    "    test = Dataset(test_data)\n",
    "\n",
    "    test_dataloader = torch.utils.data.DataLoader(test, batch_size=2)\n",
    "\n",
    "    use_cuda = torch.cuda.is_available()\n",
    "    device = torch.device(\"cuda\" if use_cuda else \"cpu\")\n",
    "\n",
    "    if use_cuda:\n",
    "\n",
    "        model = model.cuda()\n",
    "\n",
    "    total_acc_test = 0\n",
    "    with torch.no_grad():\n",
    "\n",
    "        for test_input, test_label in test_dataloader:\n",
    "\n",
    "              test_label = test_label.to(device)\n",
    "              mask = test_input['attention_mask'].to(device)\n",
    "              input_id = test_input['input_ids'].squeeze(1).to(device)\n",
    "\n",
    "              output = model(input_id, mask)\n",
    "\n",
    "              wyniki.append(output.argmax(dim=1))\n",
    "              y_t.append(test_label)\n",
    "\n",
    "              acc = (output.argmax(dim=1) == test_label).sum().item()\n",
    "              total_acc_test += acc\n",
    "    \n",
    "    print(f'Test Accuracy: {total_acc_test / len(test_data): .3f}')\n",
    "    \n",
    "evaluate(model, df_test)"
   ]
  },
  {
   "cell_type": "code",
   "execution_count": 28,
   "metadata": {},
   "outputs": [],
   "source": [
    "y_pred = []\n",
    "for t in wyniki:\n",
    "    for b in t:\n",
    "        y_pred.append(int(b))\n",
    "y_true = []\n",
    "for t in y_t:\n",
    "    for b in t:\n",
    "        y_true.append(int(b))"
   ]
  },
  {
   "cell_type": "code",
   "execution_count": 29,
   "metadata": {},
   "outputs": [],
   "source": [
    "from sklearn.metrics import f1_score, matthews_corrcoef, confusion_matrix, ConfusionMatrixDisplay\n",
    "import matplotlib.pyplot as plt"
   ]
  },
  {
   "cell_type": "code",
   "execution_count": 30,
   "metadata": {},
   "outputs": [
    {
     "name": "stdout",
     "output_type": "stream",
     "text": [
      "weighted 0.787980865126366\n",
      "micro 0.7884615384615384\n",
      "macro 0.7715983840733361\n",
      "matthews_corrcoef 0.7458229221962597\n"
     ]
    },
    {
     "data": {
      "image/png": "[encoded data removed]",
      "text/plain": [
       "<Figure size 1440x864 with 2 Axes>"
      ]
     },
     "metadata": {
      "needs_background": "light"
     },
     "output_type": "display_data"
    }
   ],
   "source": [
    "print('weighted', f1_score(y_true, y_pred, average='weighted'))\n",
    "print('micro', f1_score(y_true, y_pred, average='micro'))\n",
    "print('macro', f1_score(y_true, y_pred, average='macro'))\n",
    "print('matthews_corrcoef', matthews_corrcoef(y_true, y_pred))\n",
    "\n",
    "fig = ConfusionMatrixDisplay.from_predictions(y_true, y_pred, \n",
    "                                               labels=[0,1,2,3,4,5,6], \n",
    "                                               display_labels = ['Lead', 'Position', 'Evidence', 'Claim', 'Concluding Statement','Counterclaim', 'Rebuttal'],\n",
    "                                               cmap=plt.cm.Blues,\n",
    "                                               )\n",
    "fig = fig.ax_.get_figure() \n",
    "fig.set_figwidth(20)\n",
    "fig.set_figheight(12)"
   ]
  }
 ],
 "metadata": {
  "kernelspec": {
   "display_name": "Python 3.9.13 ('nlp')",
   "language": "python",
   "name": "python3"
  },
  "language_info": {
   "codemirror_mode": {
    "name": "ipython",
    "version": 3
   },
   "file_extension": ".py",
   "mimetype": "text/x-python",
   "name": "python",
   "nbconvert_exporter": "python",
   "pygments_lexer": "ipython3",
   "version": "3.9.13"
  },
  "orig_nbformat": 4,
  "vscode": {
   "interpreter": {
    "hash": "f16bd32f816dc4beb702c0f7768fcd68b994a130f2aec88184ef3612c995104c"
   }
  }
 },
 "nbformat": 4,
 "nbformat_minor": 2
}
