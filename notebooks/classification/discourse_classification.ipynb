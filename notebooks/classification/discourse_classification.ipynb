{
 "cells": [
  {
   "cell_type": "code",
   "execution_count": 1,
   "metadata": {},
   "outputs": [
    {
     "name": "stderr",
     "output_type": "stream",
     "text": [
      "c:\\Users\\Jurek\\anaconda3\\envs\\nlp\\lib\\site-packages\\tqdm\\auto.py:22: TqdmWarning: IProgress not found. Please update jupyter and ipywidgets. See https://ipywidgets.readthedocs.io/en/stable/user_install.html\n",
      "  from .autonotebook import tqdm as notebook_tqdm\n",
      "c:\\Users\\Jurek\\anaconda3\\envs\\nlp\\lib\\site-packages\\xgboost\\compat.py:36: FutureWarning: pandas.Int64Index is deprecated and will be removed from pandas in a future version. Use pandas.Index with the appropriate dtype instead.\n",
      "  from pandas import MultiIndex, Int64Index\n"
     ]
    }
   ],
   "source": [
    "import numpy as np\n",
    "import pandas as pd\n",
    "import sys\n",
    "import pickle\n",
    "sys.path.append(\"../../\")\n",
    "sys.path.append(\"../\")\n",
    "import spacy\n",
    "from src.loader import TextLoader\n",
    "from src.purifier import Purifier\n",
    "from tqdm import tqdm\n",
    "from pathlib import Path\n",
    "import torch\n",
    "\n",
    "from sklearn.model_selection import train_test_split, KFold\n",
    "from sklearn.pipeline import Pipeline\n",
    "from sklearn.preprocessing import LabelEncoder\n",
    "from xgboost import XGBClassifier\n",
    "from sklearn.metrics import accuracy_score\n"
   ]
  },
  {
   "cell_type": "code",
   "execution_count": 2,
   "metadata": {},
   "outputs": [],
   "source": [
    "enc = LabelEncoder()"
   ]
  },
  {
   "cell_type": "code",
   "execution_count": 3,
   "metadata": {},
   "outputs": [
    {
     "data": {
      "text/html": [
       "<div>\n",
       "<style scoped>\n",
       "    .dataframe tbody tr th:only-of-type {\n",
       "        vertical-align: middle;\n",
       "    }\n",
       "\n",
       "    .dataframe tbody tr th {\n",
       "        vertical-align: top;\n",
       "    }\n",
       "\n",
       "    .dataframe thead th {\n",
       "        text-align: right;\n",
       "    }\n",
       "</style>\n",
       "<table border=\"1\" class=\"dataframe\">\n",
       "  <thead>\n",
       "    <tr style=\"text-align: right;\">\n",
       "      <th></th>\n",
       "      <th>discourse_text</th>\n",
       "      <th>discourse_type</th>\n",
       "    </tr>\n",
       "  </thead>\n",
       "  <tbody>\n",
       "    <tr>\n",
       "      <th>0</th>\n",
       "      <td>Modern humans today are always on their phone....</td>\n",
       "      <td>Lead</td>\n",
       "    </tr>\n",
       "    <tr>\n",
       "      <th>1</th>\n",
       "      <td>They are some really bad consequences when stu...</td>\n",
       "      <td>Position</td>\n",
       "    </tr>\n",
       "    <tr>\n",
       "      <th>2</th>\n",
       "      <td>Some certain areas in the United States ban ph...</td>\n",
       "      <td>Evidence</td>\n",
       "    </tr>\n",
       "    <tr>\n",
       "      <th>3</th>\n",
       "      <td>When people have phones they know about certai...</td>\n",
       "      <td>Evidence</td>\n",
       "    </tr>\n",
       "    <tr>\n",
       "      <th>4</th>\n",
       "      <td>Driving is one of the way how to get around. P...</td>\n",
       "      <td>Claim</td>\n",
       "    </tr>\n",
       "  </tbody>\n",
       "</table>\n",
       "</div>"
      ],
      "text/plain": [
       "                                      discourse_text discourse_type\n",
       "0  Modern humans today are always on their phone....           Lead\n",
       "1  They are some really bad consequences when stu...       Position\n",
       "2  Some certain areas in the United States ban ph...       Evidence\n",
       "3  When people have phones they know about certai...       Evidence\n",
       "4  Driving is one of the way how to get around. P...          Claim"
      ]
     },
     "execution_count": 3,
     "metadata": {},
     "output_type": "execute_result"
    }
   ],
   "source": [
    "module_path = Path.cwd().parent.parent\n",
    "if module_path not in sys.path:\n",
    "    sys.path.insert(0, str(module_path))\n",
    "path = Path(module_path / \"data\" / \"train_v1_no_predictionstring.xz\")\n",
    "data = pd.read_csv(path, compression=\"xz\")\n",
    "data = data[[\"discourse_text\", \"discourse_type\"]]\n",
    "data.head()"
   ]
  },
  {
   "cell_type": "code",
   "execution_count": 28,
   "metadata": {},
   "outputs": [],
   "source": [
    "data = data.sample(frac = 1)"
   ]
  },
  {
   "cell_type": "code",
   "execution_count": 30,
   "metadata": {},
   "outputs": [
    {
     "data": {
      "text/html": [
       "<div>\n",
       "<style scoped>\n",
       "    .dataframe tbody tr th:only-of-type {\n",
       "        vertical-align: middle;\n",
       "    }\n",
       "\n",
       "    .dataframe tbody tr th {\n",
       "        vertical-align: top;\n",
       "    }\n",
       "\n",
       "    .dataframe thead th {\n",
       "        text-align: right;\n",
       "    }\n",
       "</style>\n",
       "<table border=\"1\" class=\"dataframe\">\n",
       "  <thead>\n",
       "    <tr style=\"text-align: right;\">\n",
       "      <th></th>\n",
       "      <th>discourse_text</th>\n",
       "      <th>discourse_type</th>\n",
       "    </tr>\n",
       "  </thead>\n",
       "  <tbody>\n",
       "    <tr>\n",
       "      <th>143305</th>\n",
       "      <td>You won't be confused on what decision you sho...</td>\n",
       "      <td>Claim</td>\n",
       "    </tr>\n",
       "    <tr>\n",
       "      <th>108965</th>\n",
       "      <td>I think it would be a great idea to have the s...</td>\n",
       "      <td>Position</td>\n",
       "    </tr>\n",
       "    <tr>\n",
       "      <th>56125</th>\n",
       "      <td>Have you ever heard of the man on the moon Wel...</td>\n",
       "      <td>Lead</td>\n",
       "    </tr>\n",
       "    <tr>\n",
       "      <th>36069</th>\n",
       "      <td>Yes students have homework to do so we can hav...</td>\n",
       "      <td>Rebuttal</td>\n",
       "    </tr>\n",
       "    <tr>\n",
       "      <th>80793</th>\n",
       "      <td>This is a great idea but if we could find a wa...</td>\n",
       "      <td>Evidence</td>\n",
       "    </tr>\n",
       "  </tbody>\n",
       "</table>\n",
       "</div>"
      ],
      "text/plain": [
       "                                           discourse_text discourse_type\n",
       "143305  You won't be confused on what decision you sho...          Claim\n",
       "108965  I think it would be a great idea to have the s...       Position\n",
       "56125   Have you ever heard of the man on the moon Wel...           Lead\n",
       "36069   Yes students have homework to do so we can hav...       Rebuttal\n",
       "80793   This is a great idea but if we could find a wa...       Evidence"
      ]
     },
     "execution_count": 30,
     "metadata": {},
     "output_type": "execute_result"
    }
   ],
   "source": [
    "data.head()"
   ]
  },
  {
   "cell_type": "code",
   "execution_count": 31,
   "metadata": {},
   "outputs": [],
   "source": [
    "def count_label(df, labels):\n",
    "    label_count_dict = {}\n",
    "    labeled_df_dict = {}\n",
    "    for label in labels:\n",
    "        label_df = df[df['discourse_type']==label]\n",
    "        label_count_dict[label] = len(label_df)\n",
    "        labeled_df_dict[label] = label_df\n",
    "    return label_count_dict, labeled_df_dict\n",
    "\n",
    "def oversampling(df, labels, amount_for_class = 1000):\n",
    "    new_df = pd.DataFrame()\n",
    "    label_count, labeled_df_dict = count_label(df, labels)\n",
    "    print(label_count)\n",
    "    for label, count in label_count.items():\n",
    "        print(label)\n",
    "        lb_df = labeled_df_dict[label]\n",
    "        if count < amount_for_class:\n",
    "            while len(lb_df) < amount_for_class:\n",
    "                row = labeled_df_dict[label].sample()\n",
    "                lb_df = pd.concat([lb_df, row])\n",
    "                #lb_df.loc[len(new_df)] = [row.values[0][0], row.values[0][1]]\n",
    "        new_df = pd.concat([new_df, lb_df])\n",
    "    new_df = new_df.sample(frac=1).reset_index(drop=True)\n",
    "    return new_df\n",
    "\n",
    "def undersampling(df, labels, amount_for_class = 1000):\n",
    "    new_df = pd.DataFrame()\n",
    "    label_count, labeled_df_dict = count_label(df, labels)\n",
    "    for label, count in label_count.items():\n",
    "        lb_df = pd.DataFrame()\n",
    "        if count < amount_for_class:\n",
    "            lb_df = labeled_df_dict[label]\n",
    "            new_df = pd.concat([new_df, lb_df])\n",
    "        else:\n",
    "            while len(lb_df) < amount_for_class:\n",
    "                row = labeled_df_dict[label].sample()\n",
    "                lb_df = pd.concat([lb_df, row])\n",
    "            new_df = pd.concat([new_df, lb_df])\n",
    "    return new_df"
   ]
  },
  {
   "cell_type": "code",
   "execution_count": 32,
   "metadata": {},
   "outputs": [
    {
     "data": {
      "text/plain": [
       "({'Lead': 9303,\n",
       "  'Position': 15415,\n",
       "  'Evidence': 45691,\n",
       "  'Claim': 50197,\n",
       "  'Concluding Statement': 13503,\n",
       "  'Counterclaim': 5813,\n",
       "  'Rebuttal': 4334},\n",
       " {'Lead':                                            discourse_text discourse_type\n",
       "  56125   Have you ever heard of the man on the moon Wel...           Lead\n",
       "  25482   Hello. My name is Luke. And I was in the Seago...           Lead\n",
       "  7319    People are finally opening their eyes to the w...           Lead\n",
       "  54465   You think technology can read emotional face e...           Lead\n",
       "  4646    Every other day a person die in a car accident...           Lead\n",
       "  ...                                                   ...            ...\n",
       "  123617  What if you missed a day of class and when you...           Lead\n",
       "  62971   for some students say that what's the point wh...           Lead\n",
       "  133566  Have you ever needed advice but did not know w...           Lead\n",
       "  126158  In some schools think that attend classes at h...           Lead\n",
       "  53605   Is this technology that is able to read studen...           Lead\n",
       "  \n",
       "  [9303 rows x 2 columns],\n",
       "  'Position':                                            discourse_text discourse_type\n",
       "  108965  I think it would be a great idea to have the s...       Position\n",
       "  130386  Asking others for advice can be a good strateg...       Position\n",
       "  96254   I personally believe that the electoral colleg...       Position\n",
       "  113984  I believe that students should no be able to a...       Position\n",
       "  66337   I have read and heard your argument about all ...       Position\n",
       "  ...                                                   ...            ...\n",
       "  53073   The computer software is in schools would be a...       Position\n",
       "  125435           In a way online classes help the student       Position\n",
       "  3764    Should drivers be able to use their phones whi...       Position\n",
       "  115269  Students have their own way of learning it doe...       Position\n",
       "  48200   This may be the best idea I have ever heard of...       Position\n",
       "  \n",
       "  [15415 rows x 2 columns],\n",
       "  'Evidence':                                            discourse_text discourse_type\n",
       "  80793   This is a great idea but if we could find a wa...       Evidence\n",
       "  131414  That popular answer is often what most people'...       Evidence\n",
       "  64771   It is not justified to make them do community ...       Evidence\n",
       "  30228   If a student genuinely wanted to do an extra c...       Evidence\n",
       "  56671   Natural things happen everywhere so seeing som...       Evidence\n",
       "  ...                                                   ...            ...\n",
       "  68001   In the end most people feel accomplished and t...       Evidence\n",
       "  142944  Many times people hate being wrong but if they...       Evidence\n",
       "  60653   Not just in Mars scientists and explorers have...       Evidence\n",
       "  132843  There are many different types of people in th...       Evidence\n",
       "  43583   The author states on how while our technology ...       Evidence\n",
       "  \n",
       "  [45691 rows x 2 columns],\n",
       "  'Claim':                                            discourse_text discourse_type\n",
       "  143305  You won't be confused on what decision you sho...          Claim\n",
       "  86128   Driverless cars can also prevent distracted dr...          Claim\n",
       "  105153  Also if the students lose their phone they hav...          Claim\n",
       "  33569                             they'll meet new people          Claim\n",
       "  131358  multiple opinions give you a higher possibilit...          Claim\n",
       "  ...                                                   ...            ...\n",
       "  69484   many students don't have B average and it will...          Claim\n",
       "  31271   This can help students to improve their grades...          Claim\n",
       "  97999   By using the Electoral College we don't direct...          Claim\n",
       "  94529   In addition i am not saying that the Electoral...          Claim\n",
       "  16912                   its another way to assess growth.          Claim\n",
       "  \n",
       "  [50197 rows x 2 columns],\n",
       "  'Concluding Statement':                                           discourse_text        discourse_type\n",
       "  12187  These are all things we need to be thinking ab...  Concluding Statement\n",
       "  40692  So in conclusion althogh Venus is an extream e...  Concluding Statement\n",
       "  28338  Everyone can should become a seagoing cowboy. ...  Concluding Statement\n",
       "  195    You shouldn't text and drive or use your cellu...  Concluding Statement\n",
       "  2360   Most of the humans now own a cell phone and us...  Concluding Statement\n",
       "  ...                                                  ...                   ...\n",
       "  79646  I do think that eventually cars will be driver...  Concluding Statement\n",
       "  75595  i think t would be your best bet to just not m...  Concluding Statement\n",
       "  17869  The overall benefit of students having their e...  Concluding Statement\n",
       "  30262  I disagree with extracurricular activities and...  Concluding Statement\n",
       "  4555   To conclude my essay driving while using a pho...  Concluding Statement\n",
       "  \n",
       "  [13503 rows x 2 columns],\n",
       "  'Counterclaim':                                            discourse_text discourse_type\n",
       "  78486   Automakers are continuing their work on the as...   Counterclaim\n",
       "  23907   Some might say that these summer projects shou...   Counterclaim\n",
       "  108637  There is an issue of students turning off thei...   Counterclaim\n",
       "  61416   But some pictures of the Face on Mars actually...   Counterclaim\n",
       "  16301   The third drawback would be that it is catered...   Counterclaim\n",
       "  ...                                                   ...            ...\n",
       "  1883    Whether or not you believe using your phone wh...   Counterclaim\n",
       "  2072    Using a cell phone while driving is dangerous ...   Counterclaim\n",
       "  17154   While other people might say that these summer...   Counterclaim\n",
       "  95768   Even with great arguments of wiping out Electo...   Counterclaim\n",
       "  44245   Many people may think that since Venus has 97 ...   Counterclaim\n",
       "  \n",
       "  [5813 rows x 2 columns],\n",
       "  'Rebuttal':                                            discourse_text discourse_type\n",
       "  36069   Yes students have homework to do so we can hav...       Rebuttal\n",
       "  22019   allow some type of creativity in their life be...       Rebuttal\n",
       "  131035  Not all decisions can be made alone someone ne...       Rebuttal\n",
       "  15423   however they do not allow students to use thei...       Rebuttal\n",
       "  102676  however it is entirely possible that the winne...       Rebuttal\n",
       "  ...                                                   ...            ...\n",
       "  46042   Ather than that there probably wouldnt be any ...       Rebuttal\n",
       "  93497              But its actually a fair voting system.       Rebuttal\n",
       "  46190   the Facial Action Coding System can definitely...       Rebuttal\n",
       "  77636   I disagree with them because it's safer if we ...       Rebuttal\n",
       "  33865   Then there is a place for you because there ar...       Rebuttal\n",
       "  \n",
       "  [4334 rows x 2 columns]})"
      ]
     },
     "execution_count": 32,
     "metadata": {},
     "output_type": "execute_result"
    }
   ],
   "source": [
    "count_label(data, ['Lead', 'Position', 'Evidence', 'Claim', 'Concluding Statement', 'Counterclaim', 'Rebuttal'])"
   ]
  },
  {
   "cell_type": "code",
   "execution_count": 55,
   "metadata": {},
   "outputs": [],
   "source": [
    "data = undersampling(data, ['Lead', 'Position', 'Evidence', 'Claim', 'Concluding Statement', 'Counterclaim', 'Rebuttal'], 15000)"
   ]
  },
  {
   "cell_type": "code",
   "execution_count": 56,
   "metadata": {},
   "outputs": [],
   "source": [
    "X = data[\"discourse_text\"]"
   ]
  },
  {
   "cell_type": "code",
   "execution_count": 57,
   "metadata": {},
   "outputs": [],
   "source": [
    "new_X = []\n",
    "nlp = spacy.load(\"en_core_web_lg\")\n",
    "for i, x in enumerate(X):\n",
    "    token = nlp(x)\n",
    "    new_X.append(token.vector)"
   ]
  },
  {
   "cell_type": "code",
   "execution_count": null,
   "metadata": {},
   "outputs": [],
   "source": [
    "y = data[\"discourse_type\"]"
   ]
  },
  {
   "cell_type": "code",
   "execution_count": null,
   "metadata": {},
   "outputs": [],
   "source": [
    "y_encoded = enc.fit_transform(y)"
   ]
  },
  {
   "cell_type": "code",
   "execution_count": null,
   "metadata": {},
   "outputs": [
    {
     "data": {
      "text/plain": [
       "array([0, 5, 4, ..., 0, 0, 0])"
      ]
     },
     "execution_count": 38,
     "metadata": {},
     "output_type": "execute_result"
    }
   ],
   "source": [
    "y_encoded"
   ]
  },
  {
   "cell_type": "code",
   "execution_count": null,
   "metadata": {},
   "outputs": [],
   "source": [
    "#X_train, X_test, y_train, y_test = train_test_split(new_X, y_encoded, test_size=0.1, random_state=42)"
   ]
  },
  {
   "cell_type": "code",
   "execution_count": null,
   "metadata": {},
   "outputs": [
    {
     "data": {
      "text/plain": [
       "144256"
      ]
     },
     "execution_count": 40,
     "metadata": {},
     "output_type": "execute_result"
    }
   ],
   "source": [
    "len(new_X)"
   ]
  },
  {
   "cell_type": "code",
   "execution_count": null,
   "metadata": {},
   "outputs": [],
   "source": [
    "X_train, X_test, y_train, y_test = train_test_split(new_X, y_encoded, test_size=0.15, random_state=2137)\n",
    "X_test, X_val, y_test, y_val = train_test_split(X_test, y_test, test_size=2/3, random_state=2137)"
   ]
  },
  {
   "cell_type": "code",
   "execution_count": null,
   "metadata": {},
   "outputs": [
    {
     "name": "stdout",
     "output_type": "stream",
     "text": [
      "122617 7213 14426\n"
     ]
    }
   ],
   "source": [
    "print(len(X_train), len(X_test), len(X_val))"
   ]
  },
  {
   "cell_type": "code",
   "execution_count": null,
   "metadata": {},
   "outputs": [],
   "source": [
    "class DiscourseClassifier():\n",
    "    def __init__(self):\n",
    "        # hyperparameters\n",
    "        self.subsample = 0.7\n",
    "        self.colsample_bytree = 0.7\n",
    "        self.gamma = 0\n",
    "        self.reg_lambda = 0\n",
    "\n",
    "        self.model = self.create_model()\n",
    "\n",
    "    def create_model(self):\n",
    "        clf = XGBClassifier(random_state=42, seed=2, colsample_bytree=self.colsample_bytree, subsample=self.subsample, gamma=self.gamma, reg_lambda=self.reg_lambda)\n",
    "        return clf\n",
    "    \n",
    "    def fit(self, X_train, y_train, eval_set):\n",
    "        self.model.fit(X_train, y_train, eval_set=eval_set)\n",
    "\n",
    "    def predict(self, X_test):\n",
    "        return self.model.predict(X_test)"
   ]
  },
  {
   "cell_type": "code",
   "execution_count": null,
   "metadata": {},
   "outputs": [
    {
     "name": "stderr",
     "output_type": "stream",
     "text": [
      "c:\\Users\\Jurek\\anaconda3\\envs\\nlp\\lib\\site-packages\\xgboost\\sklearn.py:1224: UserWarning: The use of label encoder in XGBClassifier is deprecated and will be removed in a future release. To remove this warning, do the following: 1) Pass option use_label_encoder=False when constructing XGBClassifier object; and 2) Encode your labels (y) as integers starting with 0, i.e. 0, 1, 2, ..., [num_class - 1].\n",
      "  warnings.warn(label_encoder_deprecation_msg, UserWarning)\n"
     ]
    },
    {
     "name": "stdout",
     "output_type": "stream",
     "text": [
      "[23:36:28] WARNING: D:\\bld\\xgboost-split_1645118015404\\work\\src\\learner.cc:1115: Starting in XGBoost 1.3.0, the default evaluation metric used with the objective 'multi:softprob' was changed from 'merror' to 'mlogloss'. Explicitly set eval_metric if you'd like to restore the old behavior.\n",
      "[0]\tvalidation_0-mlogloss:1.72593\n",
      "[1]\tvalidation_0-mlogloss:1.59151\n",
      "[2]\tvalidation_0-mlogloss:1.49937\n",
      "[3]\tvalidation_0-mlogloss:1.43282\n",
      "[4]\tvalidation_0-mlogloss:1.37878\n",
      "[5]\tvalidation_0-mlogloss:1.33519\n",
      "[6]\tvalidation_0-mlogloss:1.30201\n",
      "[7]\tvalidation_0-mlogloss:1.27280\n",
      "[8]\tvalidation_0-mlogloss:1.24782\n",
      "[9]\tvalidation_0-mlogloss:1.22743\n",
      "[10]\tvalidation_0-mlogloss:1.20975\n",
      "[11]\tvalidation_0-mlogloss:1.19434\n",
      "[12]\tvalidation_0-mlogloss:1.18098\n",
      "[13]\tvalidation_0-mlogloss:1.16854\n",
      "[14]\tvalidation_0-mlogloss:1.15662\n",
      "[15]\tvalidation_0-mlogloss:1.14679\n",
      "[16]\tvalidation_0-mlogloss:1.13803\n",
      "[17]\tvalidation_0-mlogloss:1.13017\n",
      "[18]\tvalidation_0-mlogloss:1.12217\n",
      "[19]\tvalidation_0-mlogloss:1.11451\n",
      "[20]\tvalidation_0-mlogloss:1.10740\n",
      "[21]\tvalidation_0-mlogloss:1.10192\n",
      "[22]\tvalidation_0-mlogloss:1.09659\n",
      "[23]\tvalidation_0-mlogloss:1.09135\n",
      "[24]\tvalidation_0-mlogloss:1.08594\n",
      "[25]\tvalidation_0-mlogloss:1.08171\n",
      "[26]\tvalidation_0-mlogloss:1.07759\n",
      "[27]\tvalidation_0-mlogloss:1.07391\n",
      "[28]\tvalidation_0-mlogloss:1.07007\n",
      "[29]\tvalidation_0-mlogloss:1.06607\n",
      "[30]\tvalidation_0-mlogloss:1.06286\n",
      "[31]\tvalidation_0-mlogloss:1.05950\n",
      "[32]\tvalidation_0-mlogloss:1.05635\n",
      "[33]\tvalidation_0-mlogloss:1.05331\n",
      "[34]\tvalidation_0-mlogloss:1.05014\n",
      "[35]\tvalidation_0-mlogloss:1.04735\n",
      "[36]\tvalidation_0-mlogloss:1.04499\n",
      "[37]\tvalidation_0-mlogloss:1.04233\n",
      "[38]\tvalidation_0-mlogloss:1.03971\n",
      "[39]\tvalidation_0-mlogloss:1.03761\n",
      "[40]\tvalidation_0-mlogloss:1.03533\n",
      "[41]\tvalidation_0-mlogloss:1.03284\n",
      "[42]\tvalidation_0-mlogloss:1.03115\n",
      "[43]\tvalidation_0-mlogloss:1.02926\n",
      "[44]\tvalidation_0-mlogloss:1.02725\n",
      "[45]\tvalidation_0-mlogloss:1.02524\n",
      "[46]\tvalidation_0-mlogloss:1.02376\n",
      "[47]\tvalidation_0-mlogloss:1.02229\n",
      "[48]\tvalidation_0-mlogloss:1.02083\n",
      "[49]\tvalidation_0-mlogloss:1.01886\n",
      "[50]\tvalidation_0-mlogloss:1.01716\n",
      "[51]\tvalidation_0-mlogloss:1.01589\n",
      "[52]\tvalidation_0-mlogloss:1.01530\n",
      "[53]\tvalidation_0-mlogloss:1.01416\n",
      "[54]\tvalidation_0-mlogloss:1.01305\n",
      "[55]\tvalidation_0-mlogloss:1.01262\n",
      "[56]\tvalidation_0-mlogloss:1.01148\n",
      "[57]\tvalidation_0-mlogloss:1.01063\n",
      "[58]\tvalidation_0-mlogloss:1.00923\n",
      "[59]\tvalidation_0-mlogloss:1.00761\n",
      "[60]\tvalidation_0-mlogloss:1.00693\n",
      "[61]\tvalidation_0-mlogloss:1.00601\n",
      "[62]\tvalidation_0-mlogloss:1.00526\n",
      "[63]\tvalidation_0-mlogloss:1.00452\n",
      "[64]\tvalidation_0-mlogloss:1.00368\n",
      "[65]\tvalidation_0-mlogloss:1.00323\n",
      "[66]\tvalidation_0-mlogloss:1.00273\n",
      "[67]\tvalidation_0-mlogloss:1.00187\n",
      "[68]\tvalidation_0-mlogloss:1.00125\n",
      "[69]\tvalidation_0-mlogloss:1.00060\n",
      "[70]\tvalidation_0-mlogloss:1.00056\n",
      "[71]\tvalidation_0-mlogloss:0.99948\n",
      "[72]\tvalidation_0-mlogloss:0.99827\n",
      "[73]\tvalidation_0-mlogloss:0.99735\n",
      "[74]\tvalidation_0-mlogloss:0.99669\n",
      "[75]\tvalidation_0-mlogloss:0.99634\n",
      "[76]\tvalidation_0-mlogloss:0.99620\n",
      "[77]\tvalidation_0-mlogloss:0.99555\n",
      "[78]\tvalidation_0-mlogloss:0.99483\n",
      "[79]\tvalidation_0-mlogloss:0.99412\n",
      "[80]\tvalidation_0-mlogloss:0.99357\n",
      "[81]\tvalidation_0-mlogloss:0.99391\n",
      "[82]\tvalidation_0-mlogloss:0.99383\n",
      "[83]\tvalidation_0-mlogloss:0.99379\n",
      "[84]\tvalidation_0-mlogloss:0.99338\n",
      "[85]\tvalidation_0-mlogloss:0.99300\n",
      "[86]\tvalidation_0-mlogloss:0.99282\n",
      "[87]\tvalidation_0-mlogloss:0.99203\n",
      "[88]\tvalidation_0-mlogloss:0.99145\n",
      "[89]\tvalidation_0-mlogloss:0.99074\n",
      "[90]\tvalidation_0-mlogloss:0.99042\n",
      "[91]\tvalidation_0-mlogloss:0.99050\n",
      "[92]\tvalidation_0-mlogloss:0.99035\n",
      "[93]\tvalidation_0-mlogloss:0.98982\n",
      "[94]\tvalidation_0-mlogloss:0.98960\n",
      "[95]\tvalidation_0-mlogloss:0.98931\n",
      "[96]\tvalidation_0-mlogloss:0.98911\n",
      "[97]\tvalidation_0-mlogloss:0.98883\n",
      "[98]\tvalidation_0-mlogloss:0.98878\n",
      "[99]\tvalidation_0-mlogloss:0.98922\n"
     ]
    }
   ],
   "source": [
    "discource_clf = DiscourseClassifier()\n",
    "\n",
    "discource_clf.fit(X_train, y_train, [(X_val, y_val)])\n",
    "\n",
    "y_pred = discource_clf.predict(X_test)"
   ]
  },
  {
   "cell_type": "code",
   "execution_count": null,
   "metadata": {},
   "outputs": [
    {
     "data": {
      "text/plain": [
       "0.6667128795230833"
      ]
     },
     "execution_count": 45,
     "metadata": {},
     "output_type": "execute_result"
    }
   ],
   "source": [
    "accuracy_score(y_test, y_pred)"
   ]
  },
  {
   "cell_type": "code",
   "execution_count": null,
   "metadata": {},
   "outputs": [],
   "source": [
    "from sklearn.metrics import f1_score, matthews_corrcoef, confusion_matrix, ConfusionMatrixDisplay\n",
    "import matplotlib.pyplot as plt"
   ]
  },
  {
   "cell_type": "code",
   "execution_count": null,
   "metadata": {},
   "outputs": [
    {
     "data": {
      "text/plain": [
       "array([0, 3, 0, ..., 0, 0, 3])"
      ]
     },
     "execution_count": 52,
     "metadata": {},
     "output_type": "execute_result"
    }
   ],
   "source": [
    "y_pred"
   ]
  },
  {
   "cell_type": "code",
   "execution_count": null,
   "metadata": {},
   "outputs": [
    {
     "data": {
      "text/plain": [
       "array(['Claim', 'Concluding Statement', 'Counterclaim', 'Evidence',\n",
       "       'Lead', 'Position', 'Rebuttal'], dtype=object)"
      ]
     },
     "execution_count": 53,
     "metadata": {},
     "output_type": "execute_result"
    }
   ],
   "source": [
    "enc.inverse_transform([0,1,2,3,4,5,6])"
   ]
  },
  {
   "cell_type": "code",
   "execution_count": null,
   "metadata": {},
   "outputs": [
    {
     "name": "stdout",
     "output_type": "stream",
     "text": [
      "weighted 0.6425729363140874\n",
      "micro 0.6667128795230833\n",
      "macro 0.46759199511316935\n",
      "matthews_corrcoef 0.536482390165421\n"
     ]
    },
    {
     "data": {
      "image/png": "[encoded data removed]",
      "text/plain": [
       "<Figure size 1440x864 with 2 Axes>"
      ]
     },
     "metadata": {
      "needs_background": "light"
     },
     "output_type": "display_data"
    }
   ],
   "source": [
    "print('weighted', f1_score(y_test, y_pred, average='weighted'))\n",
    "print('micro', f1_score(y_test, y_pred, average='micro'))\n",
    "print('macro', f1_score(y_test, y_pred, average='macro'))\n",
    "print('matthews_corrcoef', matthews_corrcoef(y_test, y_pred))\n",
    "\n",
    "fig = ConfusionMatrixDisplay.from_predictions(y_test, y_pred, \n",
    "                                               labels=[0,1,2,3,4,5,6], \n",
    "                                               display_labels = ['Claim', 'Concluding Statement', 'Counterclaim', 'Evidence', 'Lead', 'Position', 'Rebuttal'],\n",
    "                                               cmap=plt.cm.Blues,\n",
    "                                               )\n",
    "fig = fig.ax_.get_figure() \n",
    "fig.set_figwidth(20)\n",
    "fig.set_figheight(12)"
   ]
  }
 ],
 "metadata": {
  "kernelspec": {
   "display_name": "Python 3.9.13 ('nlp')",
   "language": "python",
   "name": "python3"
  },
  "language_info": {
   "codemirror_mode": {
    "name": "ipython",
    "version": 3
   },
   "file_extension": ".py",
   "mimetype": "text/x-python",
   "name": "python",
   "nbconvert_exporter": "python",
   "pygments_lexer": "ipython3",
   "version": "3.9.13"
  },
  "orig_nbformat": 4,
  "vscode": {
   "interpreter": {
    "hash": "f16bd32f816dc4beb702c0f7768fcd68b994a130f2aec88184ef3612c995104c"
   }
  }
 },
 "nbformat": 4,
 "nbformat_minor": 2
}
