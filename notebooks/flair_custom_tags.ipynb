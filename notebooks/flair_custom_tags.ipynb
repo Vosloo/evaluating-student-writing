{
 "cells": [
  {
   "cell_type": "code",
   "execution_count": 1,
   "metadata": {},
   "outputs": [],
   "source": [
    "from flair.datasets import ColumnCorpus\n",
    "from flair.data import Corpus, Sentence\n",
    "from flair.embeddings import WordEmbeddings, StackedEmbeddings\n",
    "from flair.models import SequenceTagger\n",
    "from flair.trainers import ModelTrainer"
   ]
  },
  {
   "cell_type": "code",
   "execution_count": 2,
   "metadata": {},
   "outputs": [
    {
     "name": "stdout",
     "output_type": "stream",
     "text": [
      "2022-10-09 22:27:44,758 Reading data from ../data\n",
      "2022-10-09 22:27:44,759 Train: ../data/test_train.txt\n",
      "2022-10-09 22:27:44,759 Dev: ../data/test_dev.txt\n",
      "2022-10-09 22:27:44,760 Test: ../data/test_test.txt\n"
     ]
    }
   ],
   "source": [
    "columns = {0: \"text\", 1: \"ner\"}\n",
    "corpus: Corpus = ColumnCorpus(\n",
    "    \"../data\", columns, train_file=\"test_train.txt\", test_file=\"test_test.txt\", dev_file=\"test_dev.txt\"\n",
    ")\n"
   ]
  },
  {
   "cell_type": "code",
   "execution_count": 3,
   "metadata": {},
   "outputs": [
    {
     "name": "stdout",
     "output_type": "stream",
     "text": [
      "2022-10-09 22:27:45,061 Computing label dictionary. Progress:\n"
     ]
    },
    {
     "name": "stderr",
     "output_type": "stream",
     "text": [
      "11it [00:00, 3249.80it/s]"
     ]
    },
    {
     "name": "stdout",
     "output_type": "stream",
     "text": [
      "2022-10-09 22:27:45,067 Dictionary created for label 'ner' with 5 values: DB (seen 3811 times), ND (seen 323 times), DE (seen 91 times), DS (seen 90 times)\n"
     ]
    },
    {
     "name": "stderr",
     "output_type": "stream",
     "text": [
      "\n"
     ]
    }
   ],
   "source": [
    "label_dict = corpus.make_label_dictionary(label_type='ner')"
   ]
  },
  {
   "cell_type": "code",
   "execution_count": 4,
   "metadata": {},
   "outputs": [],
   "source": [
    "embedding_types = [\n",
    "    WordEmbeddings('glove'),\n",
    "]\n",
    "\n",
    "embeddings: StackedEmbeddings = StackedEmbeddings(embeddings=embedding_types)"
   ]
  },
  {
   "cell_type": "code",
   "execution_count": 5,
   "metadata": {},
   "outputs": [
    {
     "name": "stdout",
     "output_type": "stream",
     "text": [
      "2022-10-09 22:27:52,794 SequenceTagger predicts: Dictionary with 5 tags: <unk>, DB, ND, DE, DS\n"
     ]
    }
   ],
   "source": [
    "tagger = SequenceTagger(\n",
    "    hidden_size=256, embeddings=embeddings, tag_dictionary=label_dict, tag_type=\"ner\", use_crf=True\n",
    ")\n"
   ]
  },
  {
   "cell_type": "code",
   "execution_count": 6,
   "metadata": {},
   "outputs": [],
   "source": [
    "trainer = ModelTrainer(tagger, corpus)"
   ]
  },
  {
   "cell_type": "code",
   "execution_count": 7,
   "metadata": {},
   "outputs": [
    {
     "name": "stdout",
     "output_type": "stream",
     "text": [
      "2022-10-09 22:27:55,558 ----------------------------------------------------------------------------------------------------\n",
      "2022-10-09 22:27:55,558 Model: \"SequenceTagger(\n",
      "  (embeddings): StackedEmbeddings(\n",
      "    (list_embedding_0): WordEmbeddings(\n",
      "      'glove'\n",
      "      (embedding): Embedding(400001, 100)\n",
      "    )\n",
      "  )\n",
      "  (word_dropout): WordDropout(p=0.05)\n",
      "  (locked_dropout): LockedDropout(p=0.5)\n",
      "  (embedding2nn): Linear(in_features=100, out_features=100, bias=True)\n",
      "  (rnn): LSTM(100, 256, batch_first=True, bidirectional=True)\n",
      "  (linear): Linear(in_features=512, out_features=7, bias=True)\n",
      "  (loss_function): ViterbiLoss()\n",
      "  (crf): CRF()\n",
      ")\"\n",
      "2022-10-09 22:27:55,558 ----------------------------------------------------------------------------------------------------\n",
      "2022-10-09 22:27:55,559 Corpus: \"Corpus: 11 train + 11 dev + 11 test sentences\"\n",
      "2022-10-09 22:27:55,559 ----------------------------------------------------------------------------------------------------\n",
      "2022-10-09 22:27:55,559 Parameters:\n",
      "2022-10-09 22:27:55,560  - learning_rate: \"0.100000\"\n",
      "2022-10-09 22:27:55,561  - mini_batch_size: \"32\"\n",
      "2022-10-09 22:27:55,561  - patience: \"3\"\n",
      "2022-10-09 22:27:55,561  - anneal_factor: \"0.5\"\n",
      "2022-10-09 22:27:55,562  - max_epochs: \"10\"\n",
      "2022-10-09 22:27:55,563  - shuffle: \"True\"\n",
      "2022-10-09 22:27:55,563  - train_with_dev: \"False\"\n",
      "2022-10-09 22:27:55,563  - batch_growth_annealing: \"False\"\n",
      "2022-10-09 22:27:55,563 ----------------------------------------------------------------------------------------------------\n",
      "2022-10-09 22:27:55,564 Model training base path: \"../models\"\n",
      "2022-10-09 22:27:55,564 ----------------------------------------------------------------------------------------------------\n",
      "2022-10-09 22:27:55,564 Device: cuda:0\n",
      "2022-10-09 22:27:55,564 ----------------------------------------------------------------------------------------------------\n",
      "2022-10-09 22:27:55,565 Embeddings storage mode: cpu\n",
      "2022-10-09 22:27:55,566 ----------------------------------------------------------------------------------------------------\n"
     ]
    },
    {
     "name": "stderr",
     "output_type": "stream",
     "text": [
      "/home/marek/anaconda3/envs/nlp/lib/python3.9/site-packages/flair/trainers/trainer.py:64: UserWarning: There should be no best model saved at epoch 1 except there is a model from previous trainings in your training folder. All previous best models will be deleted.\n",
      "  warnings.warn(\n"
     ]
    },
    {
     "name": "stdout",
     "output_type": "stream",
     "text": [
      "2022-10-09 22:27:55,934 epoch 1 - iter 1/1 - loss 1.99756255 - samples/sec: 87.05 - lr: 0.100000\n",
      "2022-10-09 22:27:55,935 ----------------------------------------------------------------------------------------------------\n",
      "2022-10-09 22:27:55,935 EPOCH 1 done: loss 1.9976 - lr 0.100000\n"
     ]
    },
    {
     "name": "stderr",
     "output_type": "stream",
     "text": [
      "100%|██████████| 1/1 [00:00<00:00,  2.06it/s]"
     ]
    },
    {
     "name": "stdout",
     "output_type": "stream",
     "text": [
      "2022-10-09 22:27:56,427 Evaluating as a multi-label problem: False\n",
      "2022-10-09 22:27:56,444 DEV : loss 0.9158973693847656 - f1-score (micro avg)  0.0211\n",
      "2022-10-09 22:27:56,449 BAD EPOCHS (no improvement): 0\n"
     ]
    },
    {
     "name": "stderr",
     "output_type": "stream",
     "text": [
      "\n"
     ]
    },
    {
     "name": "stdout",
     "output_type": "stream",
     "text": [
      "2022-10-09 22:27:56,926 saving best model\n",
      "2022-10-09 22:27:57,342 ----------------------------------------------------------------------------------------------------\n",
      "2022-10-09 22:27:57,670 epoch 2 - iter 1/1 - loss 0.91118645 - samples/sec: 97.81 - lr: 0.100000\n",
      "2022-10-09 22:27:57,672 ----------------------------------------------------------------------------------------------------\n",
      "2022-10-09 22:27:57,673 EPOCH 2 done: loss 0.9112 - lr 0.100000\n"
     ]
    },
    {
     "name": "stderr",
     "output_type": "stream",
     "text": [
      "100%|██████████| 1/1 [00:00<00:00,  2.47it/s]"
     ]
    },
    {
     "name": "stdout",
     "output_type": "stream",
     "text": [
      "2022-10-09 22:27:58,084 Evaluating as a multi-label problem: False\n",
      "2022-10-09 22:27:58,100 DEV : loss 0.565885603427887 - f1-score (micro avg)  0.8832\n",
      "2022-10-09 22:27:58,106 BAD EPOCHS (no improvement): 0\n"
     ]
    },
    {
     "name": "stderr",
     "output_type": "stream",
     "text": [
      "\n"
     ]
    },
    {
     "name": "stdout",
     "output_type": "stream",
     "text": [
      "2022-10-09 22:27:59,686 saving best model\n",
      "2022-10-09 22:28:00,162 ----------------------------------------------------------------------------------------------------\n",
      "2022-10-09 22:28:00,500 epoch 3 - iter 1/1 - loss 0.57703833 - samples/sec: 95.00 - lr: 0.100000\n",
      "2022-10-09 22:28:00,502 ----------------------------------------------------------------------------------------------------\n",
      "2022-10-09 22:28:00,502 EPOCH 3 done: loss 0.5770 - lr 0.100000\n"
     ]
    },
    {
     "name": "stderr",
     "output_type": "stream",
     "text": [
      "100%|██████████| 1/1 [00:00<00:00,  2.57it/s]"
     ]
    },
    {
     "name": "stdout",
     "output_type": "stream",
     "text": [
      "2022-10-09 22:28:00,897 Evaluating as a multi-label problem: False\n",
      "2022-10-09 22:28:00,914 DEV : loss 0.5147210955619812 - f1-score (micro avg)  0.8832\n",
      "2022-10-09 22:28:00,920 BAD EPOCHS (no improvement): 0\n"
     ]
    },
    {
     "name": "stderr",
     "output_type": "stream",
     "text": [
      "\n"
     ]
    },
    {
     "name": "stdout",
     "output_type": "stream",
     "text": [
      "2022-10-09 22:28:03,850 ----------------------------------------------------------------------------------------------------\n",
      "2022-10-09 22:28:04,187 epoch 4 - iter 1/1 - loss 0.50956330 - samples/sec: 95.29 - lr: 0.100000\n",
      "2022-10-09 22:28:04,189 ----------------------------------------------------------------------------------------------------\n",
      "2022-10-09 22:28:04,190 EPOCH 4 done: loss 0.5096 - lr 0.100000\n"
     ]
    },
    {
     "name": "stderr",
     "output_type": "stream",
     "text": [
      "100%|██████████| 1/1 [00:00<00:00,  2.16it/s]\n"
     ]
    },
    {
     "name": "stdout",
     "output_type": "stream",
     "text": [
      "2022-10-09 22:28:05,776 Evaluating as a multi-label problem: False\n",
      "2022-10-09 22:28:05,794 DEV : loss 0.4736955165863037 - f1-score (micro avg)  0.8832\n",
      "2022-10-09 22:28:05,799 BAD EPOCHS (no improvement): 0\n",
      "2022-10-09 22:28:08,135 ----------------------------------------------------------------------------------------------------\n",
      "2022-10-09 22:28:08,474 epoch 5 - iter 1/1 - loss 0.49262305 - samples/sec: 94.70 - lr: 0.100000\n",
      "2022-10-09 22:28:08,476 ----------------------------------------------------------------------------------------------------\n",
      "2022-10-09 22:28:08,477 EPOCH 5 done: loss 0.4926 - lr 0.100000\n"
     ]
    },
    {
     "name": "stderr",
     "output_type": "stream",
     "text": [
      "100%|██████████| 1/1 [00:00<00:00,  2.54it/s]"
     ]
    },
    {
     "name": "stdout",
     "output_type": "stream",
     "text": [
      "2022-10-09 22:28:08,877 Evaluating as a multi-label problem: False\n",
      "2022-10-09 22:28:08,894 DEV : loss 0.46280643343925476 - f1-score (micro avg)  0.8832\n",
      "2022-10-09 22:28:08,900 BAD EPOCHS (no improvement): 0\n"
     ]
    },
    {
     "name": "stderr",
     "output_type": "stream",
     "text": [
      "\n"
     ]
    },
    {
     "name": "stdout",
     "output_type": "stream",
     "text": [
      "2022-10-09 22:28:10,101 ----------------------------------------------------------------------------------------------------\n",
      "2022-10-09 22:28:10,441 epoch 6 - iter 1/1 - loss 0.45711137 - samples/sec: 94.13 - lr: 0.100000\n",
      "2022-10-09 22:28:10,443 ----------------------------------------------------------------------------------------------------\n",
      "2022-10-09 22:28:10,444 EPOCH 6 done: loss 0.4571 - lr 0.100000\n"
     ]
    },
    {
     "name": "stderr",
     "output_type": "stream",
     "text": [
      "100%|██████████| 1/1 [00:00<00:00,  1.98it/s]"
     ]
    },
    {
     "name": "stdout",
     "output_type": "stream",
     "text": [
      "2022-10-09 22:28:10,956 Evaluating as a multi-label problem: False\n",
      "2022-10-09 22:28:10,975 DEV : loss 0.4126371443271637 - f1-score (micro avg)  0.8832\n",
      "2022-10-09 22:28:10,980 BAD EPOCHS (no improvement): 0\n"
     ]
    },
    {
     "name": "stderr",
     "output_type": "stream",
     "text": [
      "\n"
     ]
    },
    {
     "name": "stdout",
     "output_type": "stream",
     "text": [
      "2022-10-09 22:28:12,196 ----------------------------------------------------------------------------------------------------\n",
      "2022-10-09 22:28:12,533 epoch 7 - iter 1/1 - loss 0.41515381 - samples/sec: 95.17 - lr: 0.100000\n",
      "2022-10-09 22:28:12,535 ----------------------------------------------------------------------------------------------------\n",
      "2022-10-09 22:28:12,535 EPOCH 7 done: loss 0.4152 - lr 0.100000\n"
     ]
    },
    {
     "name": "stderr",
     "output_type": "stream",
     "text": [
      "100%|██████████| 1/1 [00:00<00:00,  2.56it/s]"
     ]
    },
    {
     "name": "stdout",
     "output_type": "stream",
     "text": [
      "2022-10-09 22:28:12,933 Evaluating as a multi-label problem: False\n",
      "2022-10-09 22:28:12,950 DEV : loss 0.41178369522094727 - f1-score (micro avg)  0.8832\n",
      "2022-10-09 22:28:12,955 BAD EPOCHS (no improvement): 0\n"
     ]
    },
    {
     "name": "stderr",
     "output_type": "stream",
     "text": [
      "\n"
     ]
    },
    {
     "name": "stdout",
     "output_type": "stream",
     "text": [
      "2022-10-09 22:28:14,629 ----------------------------------------------------------------------------------------------------\n",
      "2022-10-09 22:28:14,969 epoch 8 - iter 1/1 - loss 0.40264045 - samples/sec: 94.41 - lr: 0.100000\n",
      "2022-10-09 22:28:14,971 ----------------------------------------------------------------------------------------------------\n",
      "2022-10-09 22:28:14,971 EPOCH 8 done: loss 0.4026 - lr 0.100000\n"
     ]
    },
    {
     "name": "stderr",
     "output_type": "stream",
     "text": [
      "100%|██████████| 1/1 [00:00<00:00,  2.51it/s]"
     ]
    },
    {
     "name": "stdout",
     "output_type": "stream",
     "text": [
      "2022-10-09 22:28:15,377 Evaluating as a multi-label problem: False\n",
      "2022-10-09 22:28:15,393 DEV : loss 0.3681391775608063 - f1-score (micro avg)  0.8832\n",
      "2022-10-09 22:28:15,399 BAD EPOCHS (no improvement): 0\n"
     ]
    },
    {
     "name": "stderr",
     "output_type": "stream",
     "text": [
      "\n"
     ]
    },
    {
     "name": "stdout",
     "output_type": "stream",
     "text": [
      "2022-10-09 22:28:16,472 ----------------------------------------------------------------------------------------------------\n",
      "2022-10-09 22:28:16,807 epoch 9 - iter 1/1 - loss 0.37422373 - samples/sec: 96.04 - lr: 0.100000\n",
      "2022-10-09 22:28:16,808 ----------------------------------------------------------------------------------------------------\n",
      "2022-10-09 22:28:16,809 EPOCH 9 done: loss 0.3742 - lr 0.100000\n"
     ]
    },
    {
     "name": "stderr",
     "output_type": "stream",
     "text": [
      "100%|██████████| 1/1 [00:00<00:00,  2.16it/s]"
     ]
    },
    {
     "name": "stdout",
     "output_type": "stream",
     "text": [
      "2022-10-09 22:28:17,279 Evaluating as a multi-label problem: False\n",
      "2022-10-09 22:28:17,297 DEV : loss 0.3881060779094696 - f1-score (micro avg)  0.8832\n",
      "2022-10-09 22:28:17,302 BAD EPOCHS (no improvement): 1\n"
     ]
    },
    {
     "name": "stderr",
     "output_type": "stream",
     "text": [
      "\n"
     ]
    },
    {
     "name": "stdout",
     "output_type": "stream",
     "text": [
      "2022-10-09 22:28:18,342 ----------------------------------------------------------------------------------------------------\n",
      "2022-10-09 22:28:18,679 epoch 10 - iter 1/1 - loss 0.38785079 - samples/sec: 95.02 - lr: 0.100000\n",
      "2022-10-09 22:28:18,681 ----------------------------------------------------------------------------------------------------\n",
      "2022-10-09 22:28:18,683 EPOCH 10 done: loss 0.3879 - lr 0.100000\n"
     ]
    },
    {
     "name": "stderr",
     "output_type": "stream",
     "text": [
      "100%|██████████| 1/1 [00:00<00:00,  2.52it/s]"
     ]
    },
    {
     "name": "stdout",
     "output_type": "stream",
     "text": [
      "2022-10-09 22:28:19,087 Evaluating as a multi-label problem: False\n",
      "2022-10-09 22:28:19,104 DEV : loss 0.3408504128456116 - f1-score (micro avg)  0.8832\n",
      "2022-10-09 22:28:19,109 BAD EPOCHS (no improvement): 0\n"
     ]
    },
    {
     "name": "stderr",
     "output_type": "stream",
     "text": [
      "\n"
     ]
    },
    {
     "name": "stdout",
     "output_type": "stream",
     "text": [
      "2022-10-09 22:28:21,270 ----------------------------------------------------------------------------------------------------\n",
      "2022-10-09 22:28:21,271 loading file ../models/best-model.pt\n",
      "2022-10-09 22:28:21,568 SequenceTagger predicts: Dictionary with 7 tags: <unk>, DB, ND, DE, DS, <START>, <STOP>\n"
     ]
    },
    {
     "name": "stderr",
     "output_type": "stream",
     "text": [
      "100%|██████████| 1/1 [00:00<00:00,  2.73it/s]"
     ]
    },
    {
     "name": "stdout",
     "output_type": "stream",
     "text": [
      "2022-10-09 22:28:21,994 Evaluating as a multi-label problem: False\n",
      "2022-10-09 22:28:22,011 0.8832\t0.8832\t0.8832\t0.8832\n",
      "2022-10-09 22:28:22,012 \n",
      "Results:\n",
      "- F-score (micro) 0.8832\n",
      "- F-score (macro) 0.2345\n",
      "- Accuracy 0.8832\n",
      "\n",
      "By class:\n",
      "              precision    recall  f1-score   support\n",
      "\n",
      "          DB     0.8832    1.0000    0.9380      3811\n",
      "          ND     0.0000    0.0000    0.0000       323\n",
      "          DE     0.0000    0.0000    0.0000        91\n",
      "          DS     0.0000    0.0000    0.0000        90\n",
      "\n",
      "    accuracy                         0.8832      4315\n",
      "   macro avg     0.2208    0.2500    0.2345      4315\n",
      "weighted avg     0.7800    0.8832    0.8284      4315\n",
      "\n",
      "2022-10-09 22:28:22,012 ----------------------------------------------------------------------------------------------------\n"
     ]
    },
    {
     "name": "stderr",
     "output_type": "stream",
     "text": [
      "\n"
     ]
    },
    {
     "data": {
      "text/plain": [
       "{'test_score': 0.8831981460023175,\n",
       " 'dev_score_history': [0.02108922363847045,\n",
       "  0.8831981460023175,\n",
       "  0.8831981460023175,\n",
       "  0.8831981460023175,\n",
       "  0.8831981460023175,\n",
       "  0.8831981460023175,\n",
       "  0.8831981460023175,\n",
       "  0.8831981460023175,\n",
       "  0.8831981460023175,\n",
       "  0.8831981460023175],\n",
       " 'train_loss_history': [1.9975625543163384,\n",
       "  0.9111864498841251,\n",
       "  0.5770383337557937,\n",
       "  0.5095632966396292,\n",
       "  0.4926230491381808,\n",
       "  0.457111366599073,\n",
       "  0.41515380576477406,\n",
       "  0.4026404529982619,\n",
       "  0.3742237289976825,\n",
       "  0.38785079301854],\n",
       " 'dev_loss_history': [0.9158973693847656,\n",
       "  0.565885603427887,\n",
       "  0.5147210955619812,\n",
       "  0.4736955165863037,\n",
       "  0.46280643343925476,\n",
       "  0.4126371443271637,\n",
       "  0.41178369522094727,\n",
       "  0.3681391775608063,\n",
       "  0.3881060779094696,\n",
       "  0.3408504128456116]}"
      ]
     },
     "execution_count": 7,
     "metadata": {},
     "output_type": "execute_result"
    }
   ],
   "source": [
    "trainer.train(\n",
    "    '../models',\n",
    "    learning_rate=0.1,\n",
    "    mini_batch_size=32,\n",
    "    max_epochs=10,\n",
    "    checkpoint=True,\n",
    ")\n"
   ]
  },
  {
   "cell_type": "code",
   "execution_count": 8,
   "metadata": {},
   "outputs": [],
   "source": [
    "import sys\n",
    "\n",
    "sys.path.append(\"../\")"
   ]
  },
  {
   "cell_type": "code",
   "execution_count": 9,
   "metadata": {},
   "outputs": [],
   "source": [
    "from src.loader import TextLoader"
   ]
  },
  {
   "cell_type": "code",
   "execution_count": 10,
   "metadata": {},
   "outputs": [],
   "source": [
    "loader = TextLoader()"
   ]
  },
  {
   "cell_type": "code",
   "execution_count": 11,
   "metadata": {},
   "outputs": [],
   "source": [
    "text = loader.load_text_with_id(\"423A1CA112E2\", purify_discourses=True, purify_text=True)"
   ]
  },
  {
   "cell_type": "code",
   "execution_count": 12,
   "metadata": {},
   "outputs": [
    {
     "name": "stdout",
     "output_type": "stream",
     "text": [
      "2022-10-09 22:28:26,901 loading file ../models/final-model.pt\n",
      "2022-10-09 22:28:27,207 SequenceTagger predicts: Dictionary with 7 tags: <unk>, DB, ND, DE, DS, <START>, <STOP>\n"
     ]
    }
   ],
   "source": [
    "model = SequenceTagger.load(\"../models/final-model.pt\")"
   ]
  },
  {
   "cell_type": "code",
   "execution_count": 13,
   "metadata": {},
   "outputs": [],
   "source": [
    "sent = Sentence(text.text)\n",
    "model.predict(sent)"
   ]
  },
  {
   "cell_type": "code",
   "execution_count": 14,
   "metadata": {},
   "outputs": [
    {
     "data": {
      "text/plain": [
       "'Sentence: \"Phones Modern humans today are always on their phone . They are always on their phone more than 5 hours a day no stop . All they do is text back and forward and just have group Chats on social media . They even do it while driving . They are some really bad consequences when stuff happens when it comes to a phone . Some certain areas in the United States ban phones from class rooms just because of it . When people have phones they know about certain apps that they have . Apps like Facebook Twitter Instagram and Snapchat . So like if a friend moves away and you want to be in contact you can still be in contact by posting videos or text messages . People always have different ways how to communicate with a phone . Phones have changed due to our generation . Driving is one of the way how to get around . People always be on their phones while doing it . Which can cause serious Problems . That \\'s why there \\'s a thing that \\'s called no texting while driving . That \\'s a really important thing to remember . Some people still do it because they think It \\'s stupid . No matter what they do they still have to obey it because that \\'s the only way how did he save . Sometimes on the news there is either an accident or a suicide . It might involve someone not looking where they \\'re going or tweet that someone sent . It either injury or death . If a mysterious number says I \\'m going to kill you and they know where you live but you do n\\'t know the person \\'s contact It makes you puzzled and make you start to freak out . Which can end up really badly . Phones are fine to use and it \\'s also the best way to come over help . If you go through a problem and you ca n\\'t find help you always have a phone there with you . Even though phones are used almost every day as long as you \\'re safe it would come into use if you get into trouble . Make sure you do not be like this phone while you \\'re in the middle of driving . The news always updated when people do something stupid around that involves their phones . The safest way is the best way to stay safe .\" → [\"Phones\"/DB, \"Modern\"/DB, \"humans\"/DB, \"today\"/DB, \"are\"/DB, \"always\"/DB, \"on\"/DB, \"their\"/DB, \"phone\"/DB, \".\"/DB, \"They\"/DB, \"are\"/DB, \"always\"/DB, \"on\"/DB, \"their\"/DB, \"phone\"/DB, \"more\"/DB, \"than\"/DB, \"5\"/DB, \"hours\"/DB, \"a\"/DB, \"day\"/DB, \"no\"/DB, \"stop\"/DB, \".\"/DB, \"All\"/DB, \"they\"/DB, \"do\"/DB, \"is\"/DB, \"text\"/DB, \"back\"/DB, \"and\"/DB, \"forward\"/DB, \"and\"/DB, \"just\"/DB, \"have\"/DB, \"group\"/DB, \"Chats\"/DB, \"on\"/DB, \"social\"/DB, \"media\"/DB, \".\"/DB, \"They\"/DB, \"even\"/DB, \"do\"/DB, \"it\"/DB, \"while\"/DB, \"driving\"/DB, \".\"/DB, \"They\"/DB, \"are\"/DB, \"some\"/DB, \"really\"/DB, \"bad\"/DB, \"consequences\"/DB, \"when\"/DB, \"stuff\"/DB, \"happens\"/DB, \"when\"/DB, \"it\"/DB, \"comes\"/DB, \"to\"/DB, \"a\"/DB, \"phone\"/DB, \".\"/DB, \"Some\"/DB, \"certain\"/DB, \"areas\"/DB, \"in\"/DB, \"the\"/DB, \"United\"/DB, \"States\"/DB, \"ban\"/DB, \"phones\"/DB, \"from\"/DB, \"class\"/DB, \"rooms\"/DB, \"just\"/DB, \"because\"/DB, \"of\"/DB, \"it\"/DB, \".\"/DB, \"When\"/DB, \"people\"/DB, \"have\"/DB, \"phones\"/DB, \"they\"/DB, \"know\"/DB, \"about\"/DB, \"certain\"/DB, \"apps\"/DB, \"that\"/DB, \"they\"/DB, \"have\"/DB, \".\"/DB, \"Apps\"/DB, \"like\"/DB, \"Facebook\"/DB, \"Twitter\"/DB, \"Instagram\"/DB, \"and\"/DB, \"Snapchat\"/DB, \".\"/DB, \"So\"/DB, \"like\"/DB, \"if\"/DB, \"a\"/DB, \"friend\"/DB, \"moves\"/DB, \"away\"/DB, \"and\"/DB, \"you\"/DB, \"want\"/DB, \"to\"/DB, \"be\"/DB, \"in\"/DB, \"contact\"/DB, \"you\"/DB, \"can\"/DB, \"still\"/DB, \"be\"/DB, \"in\"/DB, \"contact\"/DB, \"by\"/DB, \"posting\"/DB, \"videos\"/DB, \"or\"/DB, \"text\"/DB, \"messages\"/DB, \".\"/DB, \"People\"/DB, \"always\"/DB, \"have\"/DB, \"different\"/DB, \"ways\"/DB, \"how\"/DB, \"to\"/DB, \"communicate\"/DB, \"with\"/DB, \"a\"/DB, \"phone\"/DB, \".\"/DB, \"Phones\"/DB, \"have\"/DB, \"changed\"/DB, \"due\"/DB, \"to\"/DB, \"our\"/DB, \"generation\"/DB, \".\"/DB, \"Driving\"/DB, \"is\"/DB, \"one\"/DB, \"of\"/DB, \"the\"/DB, \"way\"/DB, \"how\"/DB, \"to\"/DB, \"get\"/DB, \"around\"/DB, \".\"/DB, \"People\"/DB, \"always\"/DB, \"be\"/DB, \"on\"/DB, \"their\"/DB, \"phones\"/DB, \"while\"/DB, \"doing\"/DB, \"it\"/DB, \".\"/DB, \"Which\"/DB, \"can\"/DB, \"cause\"/DB, \"serious\"/DB, \"Problems\"/DB, \".\"/DB, \"That\"/DB, \"\\'s\"/DB, \"why\"/DB, \"there\"/DB, \"\\'s\"/DB, \"a\"/DB, \"thing\"/DB, \"that\"/DB, \"\\'s\"/DB, \"called\"/DB, \"no\"/DB, \"texting\"/DB, \"while\"/DB, \"driving\"/DB, \".\"/DB, \"That\"/DB, \"\\'s\"/DB, \"a\"/DB, \"really\"/DB, \"important\"/DB, \"thing\"/DB, \"to\"/DB, \"remember\"/DB, \".\"/DB, \"Some\"/DB, \"people\"/DB, \"still\"/DB, \"do\"/DB, \"it\"/DB, \"because\"/DB, \"they\"/DB, \"think\"/DB, \"It\"/DB, \"\\'s\"/DB, \"stupid\"/DB, \".\"/DB, \"No\"/DB, \"matter\"/DB, \"what\"/DB, \"they\"/DB, \"do\"/DB, \"they\"/DB, \"still\"/DB, \"have\"/DB, \"to\"/DB, \"obey\"/DB, \"it\"/DB, \"because\"/DB, \"that\"/DB, \"\\'s\"/DB, \"the\"/DB, \"only\"/DB, \"way\"/DB, \"how\"/DB, \"did\"/DB, \"he\"/DB, \"save\"/DB, \".\"/DB, \"Sometimes\"/DB, \"on\"/DB, \"the\"/DB, \"news\"/DB, \"there\"/DB, \"is\"/DB, \"either\"/DB, \"an\"/DB, \"accident\"/DB, \"or\"/DB, \"a\"/DB, \"suicide\"/DB, \".\"/DB, \"It\"/DB, \"might\"/DB, \"involve\"/DB, \"someone\"/DB, \"not\"/DB, \"looking\"/DB, \"where\"/DB, \"they\"/DB, \"\\'re\"/DB, \"going\"/DB, \"or\"/DB, \"tweet\"/DB, \"that\"/DB, \"someone\"/DB, \"sent\"/DB, \".\"/DB, \"It\"/DB, \"either\"/DB, \"injury\"/DB, \"or\"/DB, \"death\"/DB, \".\"/DB, \"If\"/DB, \"a\"/DB, \"mysterious\"/DB, \"number\"/DB, \"says\"/DB, \"I\"/DB, \"\\'m\"/DB, \"going\"/DB, \"to\"/DB, \"kill\"/DB, \"you\"/DB, \"and\"/DB, \"they\"/DB, \"know\"/DB, \"where\"/DB, \"you\"/DB, \"live\"/DB, \"but\"/DB, \"you\"/DB, \"do\"/DB, \"n\\'t\"/DB, \"know\"/DB, \"the\"/DB, \"person\"/DB, \"\\'s\"/DB, \"contact\"/DB, \"It\"/DB, \"makes\"/DB, \"you\"/DB, \"puzzled\"/DB, \"and\"/DB, \"make\"/DB, \"you\"/DB, \"start\"/DB, \"to\"/DB, \"freak\"/DB, \"out\"/DB, \".\"/DB, \"Which\"/DB, \"can\"/DB, \"end\"/DB, \"up\"/DB, \"really\"/DB, \"badly\"/DB, \".\"/DB, \"Phones\"/DB, \"are\"/DB, \"fine\"/DB, \"to\"/DB, \"use\"/DB, \"and\"/DB, \"it\"/DB, \"\\'s\"/DB, \"also\"/DB, \"the\"/DB, \"best\"/DB, \"way\"/DB, \"to\"/DB, \"come\"/DB, \"over\"/DB, \"help\"/DB, \".\"/DB, \"If\"/DB, \"you\"/DB, \"go\"/DB, \"through\"/DB, \"a\"/DB, \"problem\"/DB, \"and\"/DB, \"you\"/DB, \"ca\"/DB, \"n\\'t\"/DB, \"find\"/DB, \"help\"/DB, \"you\"/DB, \"always\"/DB, \"have\"/DB, \"a\"/DB, \"phone\"/DB, \"there\"/DB, \"with\"/DB, \"you\"/DB, \".\"/DB, \"Even\"/DB, \"though\"/DB, \"phones\"/DB, \"are\"/DB, \"used\"/DB, \"almost\"/DB, \"every\"/DB, \"day\"/DB, \"as\"/DB, \"long\"/DB, \"as\"/DB, \"you\"/DB, \"\\'re\"/DB, \"safe\"/DB, \"it\"/DB, \"would\"/DB, \"come\"/DB, \"into\"/DB, \"use\"/DB, \"if\"/DB, \"you\"/DB, \"get\"/DB, \"into\"/DB, \"trouble\"/DB, \".\"/DB, \"Make\"/DB, \"sure\"/DB, \"you\"/DB, \"do\"/DB, \"not\"/DB, \"be\"/DB, \"like\"/DB, \"this\"/DB, \"phone\"/DB, \"while\"/DB, \"you\"/DB, \"\\'re\"/DB, \"in\"/DB, \"the\"/DB, \"middle\"/DB, \"of\"/DB, \"driving\"/DB, \".\"/DB, \"The\"/DB, \"news\"/DB, \"always\"/DB, \"updated\"/DB, \"when\"/DB, \"people\"/DB, \"do\"/DB, \"something\"/DB, \"stupid\"/DB, \"around\"/DB, \"that\"/DB, \"involves\"/DB, \"their\"/DB, \"phones\"/DB, \".\"/DB, \"The\"/DB, \"safest\"/DB, \"way\"/DB, \"is\"/DB, \"the\"/DB, \"best\"/DB, \"way\"/DB, \"to\"/DB, \"stay\"/DB, \"safe\"/DB, \".\"/DB]'"
      ]
     },
     "execution_count": 14,
     "metadata": {},
     "output_type": "execute_result"
    }
   ],
   "source": [
    "sent.to_tagged_string()"
   ]
  }
 ],
 "metadata": {
  "kernelspec": {
   "display_name": "Python 3.9.13 ('nlp')",
   "language": "python",
   "name": "python3"
  },
  "language_info": {
   "codemirror_mode": {
    "name": "ipython",
    "version": 3
   },
   "file_extension": ".py",
   "mimetype": "text/x-python",
   "name": "python",
   "nbconvert_exporter": "python",
   "pygments_lexer": "ipython3",
   "version": "3.9.13"
  },
  "orig_nbformat": 4,
  "vscode": {
   "interpreter": {
    "hash": "6732d5bcbccbd400c2295e6b9ff4a247e8d1a91ef1c3ef29ad75df96351d9278"
   }
  }
 },
 "nbformat": 4,
 "nbformat_minor": 2
}
