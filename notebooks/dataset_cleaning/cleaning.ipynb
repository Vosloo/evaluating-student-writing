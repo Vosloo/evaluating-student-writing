{
 "cells": [
  {
   "cell_type": "code",
   "execution_count": 1,
   "metadata": {},
   "outputs": [],
   "source": [
    "import sys\n",
    "from pathlib import Path"
   ]
  },
  {
   "cell_type": "code",
   "execution_count": 2,
   "metadata": {},
   "outputs": [],
   "source": [
    "module_path = Path.cwd().parent.parent\n",
    "if module_path not in sys.path:\n",
    "    sys.path.insert(0, str(module_path))"
   ]
  },
  {
   "cell_type": "code",
   "execution_count": 3,
   "metadata": {},
   "outputs": [
    {
     "data": {
      "text/plain": [
       "PosixPath('/home/marek/Projects/Python/evaluating-student-writing')"
      ]
     },
     "execution_count": 3,
     "metadata": {},
     "output_type": "execute_result"
    }
   ],
   "source": [
    "module_path"
   ]
  },
  {
   "cell_type": "code",
   "execution_count": 4,
   "metadata": {},
   "outputs": [],
   "source": [
    "import pandas as pd\n"
   ]
  },
  {
   "cell_type": "code",
   "execution_count": 5,
   "metadata": {},
   "outputs": [],
   "source": [
    "from src.loader import TextLoader\n"
   ]
  },
  {
   "cell_type": "code",
   "execution_count": 6,
   "metadata": {},
   "outputs": [],
   "source": [
    "STRIP_CHARS = \".,?\"\n"
   ]
  },
  {
   "cell_type": "code",
   "execution_count": null,
   "metadata": {},
   "outputs": [],
   "source": [
    "loader = TextLoader()\n"
   ]
  },
  {
   "attachments": {},
   "cell_type": "markdown",
   "metadata": {},
   "source": [
    "## Create formatted output"
   ]
  },
  {
   "cell_type": "code",
   "execution_count": null,
   "metadata": {},
   "outputs": [],
   "source": [
    "formatted_output = []\n",
    "for text in loader.iterate(verbose=True, purify_text=True, purify_discourses=True):\n",
    "    if text.id in (\"F91D7BB4277C\", \"354946A1CA46\", \"EB3D0704BCF0\", \"B689C28463CB\"):  # Broken, to delete\n",
    "        continue\n",
    "\n",
    "    curr_start = 0\n",
    "    is_count_set = False\n",
    "    for discourse in text.discourses:\n",
    "        new_start_ind = text.index(discourse.text, curr_start)\n",
    "\n",
    "        first_word = \"\"\n",
    "        curr_ind = new_start_ind\n",
    "        while curr_ind < len(text) and (char := text[curr_ind]) != \" \":\n",
    "            first_word += char\n",
    "            curr_ind += 1\n",
    "\n",
    "        # Verify if char before discourse is a space\n",
    "        no_chars_added = 0\n",
    "        if new_start_ind > 0 and text[new_start_ind - 1] != \" \":\n",
    "            output = first_word\n",
    "            curr_ind = new_start_ind - 1\n",
    "            while curr_ind >= 0 and (char := text[curr_ind]) != \" \":\n",
    "                output = char + output\n",
    "                curr_ind -= 1\n",
    "\n",
    "            print()\n",
    "            print(text.id)\n",
    "            print(f\"First word is: `{first_word}` but I think it should be: `{output}`\")\n",
    "\n",
    "            first_word = output\n",
    "            if not is_count_set:\n",
    "                is_count_set = True\n",
    "\n",
    "            no_chars_added = new_start_ind - curr_ind - 1\n",
    "            new_start_ind = curr_ind + 1\n",
    "\n",
    "        curr_start = new_start_ind + len(discourse.text) + no_chars_added\n",
    "\n",
    "        last_word = \"\"\n",
    "        curr_ind = curr_start - 1\n",
    "        while curr_ind >= 0 and (char := text[curr_ind]) != \" \":\n",
    "            last_word = char + last_word\n",
    "            curr_ind -= 1\n",
    "\n",
    "        # Verify if char after discourse is a space or dot\n",
    "        no_chars_added = 0\n",
    "        if curr_start < len(text) and text[curr_start] not in (\" \", \".\"):\n",
    "            output = last_word\n",
    "            curr_ind = curr_start\n",
    "            while curr_ind < len(text) and (char := text[curr_ind]) not in (\" \", \".\"):\n",
    "                output += char\n",
    "                curr_ind += 1\n",
    "\n",
    "            print()\n",
    "            print(text.id)\n",
    "            print(f\"Last word is: `{last_word}` but I think it should be: `{output}`\")\n",
    "\n",
    "            last_word = output\n",
    "            if not is_count_set:\n",
    "                is_count_set = True\n",
    "\n",
    "            curr_start = curr_ind\n",
    "\n",
    "        discourse_words = discourse.words\n",
    "        if discourse_words[0] != first_word:\n",
    "            discourse_words[0] = first_word\n",
    "        if discourse_words[-1] != last_word:\n",
    "            discourse_words[-1] = last_word\n",
    "\n",
    "        formatted_output.append(\n",
    "            (\n",
    "                text.id,  # Text ID\n",
    "                discourse.id,  # Discourse ID\n",
    "                new_start_ind,  # Discourse start index\n",
    "                curr_start,  # Discourse end index\n",
    "                \" \".join(discourse_words),  # Discourse text\n",
    "                discourse.type.value,  # Discourse type\n",
    "            )\n",
    "        )\n"
   ]
  },
  {
   "cell_type": "code",
   "execution_count": null,
   "metadata": {},
   "outputs": [],
   "source": [
    "df = pd.DataFrame(formatted_output, columns=[\"text_id\", \"disc_id\", \"disc_start\", \"disc_end\", \"disc_text\", \"disc_type\"])\n"
   ]
  },
  {
   "cell_type": "code",
   "execution_count": null,
   "metadata": {},
   "outputs": [],
   "source": [
    "df.head()"
   ]
  },
  {
   "cell_type": "code",
   "execution_count": null,
   "metadata": {},
   "outputs": [],
   "source": [
    "def check_idx_validity(row: pd.Series):\n",
    "    print(f\"\\r{int(row.name):>6}\", end=\"\")\n",
    "    text = loader.load_text_with_id(row[\"text_id\"], purify_text=True, purify_discourses=True)\n",
    "    if text[row[\"disc_start\"] : row[\"disc_end\"]] != row[\"disc_text\"]:\n",
    "        print(f\"Text with id: {row['text_id']} is invalid for discourse with id: {row['disc_id']}\")\n",
    "        print()"
   ]
  },
  {
   "cell_type": "code",
   "execution_count": null,
   "metadata": {},
   "outputs": [],
   "source": [
    "_ = df.apply(check_idx_validity, axis=1)"
   ]
  },
  {
   "attachments": {},
   "cell_type": "markdown",
   "metadata": {},
   "source": [
    "#### Needs to be manually commented to save the output (so it doesn't overwrite the original file)"
   ]
  },
  {
   "cell_type": "code",
   "execution_count": 10,
   "metadata": {},
   "outputs": [],
   "source": [
    "train_v1_no_predstr = Path(module_path / \"data\" / \"train_v1_no_predictionstring.xz\")\n",
    "if not train_v1_no_predstr.exists():\n",
    "    df.to_csv(train_v1_no_predstr, index=False, compression=\"xz\")\n"
   ]
  },
  {
   "cell_type": "code",
   "execution_count": null,
   "metadata": {},
   "outputs": [],
   "source": [
    "# Check if predictionstring will be valid\n",
    "for ind, text_id in enumerate(pd.unique(df[\"text_id\"])):\n",
    "    print(f\"\\r{ind:>6} / {len(pd.unique(df['text_id']))}\", end=\"\")\n",
    "\n",
    "    text = loader.load_text_with_id(text_id, purify_text=True, purify_discourses=True)\n",
    "    for disc_row in df[df[\"text_id\"] == text_id].itertuples():\n",
    "        disc_words = disc_row.disc_text.split()\n",
    "        no_words_before = len(text[: disc_row.disc_start].split())\n",
    "\n",
    "        start = no_words_before\n",
    "        end = start + len(disc_words)\n",
    "\n",
    "        if \" \".join(text.words[start:end]).strip(STRIP_CHARS) != disc_row.disc_text.strip(STRIP_CHARS):\n",
    "            print(f\"\\nText with id: {text_id} is invalid for discourse with id: {disc_row.disc_id}\")\n"
   ]
  },
  {
   "cell_type": "code",
   "execution_count": null,
   "metadata": {},
   "outputs": [],
   "source": [
    "def create_predictionstring(row: pd.Series):\n",
    "    print(f\"\\r{int(row.name):>6}\", end=\"\")\n",
    "    text = loader.load_text_with_id(row.text_id, purify_text=True, purify_discourses=True)\n",
    "\n",
    "    disc_words = row.disc_text.split()\n",
    "    no_words_before = len(text[: row.disc_start].split())\n",
    "\n",
    "    start = no_words_before\n",
    "    end = start + len(disc_words)\n",
    "\n",
    "    return \" \".join(map(str, range(start, end)))"
   ]
  },
  {
   "cell_type": "code",
   "execution_count": null,
   "metadata": {},
   "outputs": [],
   "source": [
    "df[\"predictionstring\"] = df.apply(create_predictionstring, axis=1)"
   ]
  },
  {
   "cell_type": "code",
   "execution_count": null,
   "metadata": {},
   "outputs": [],
   "source": [
    "df.head()"
   ]
  },
  {
   "attachments": {},
   "cell_type": "markdown",
   "metadata": {},
   "source": [
    "#### Needs to be manually commented to save the output (so it doesn't overwrite the original file)"
   ]
  },
  {
   "cell_type": "code",
   "execution_count": 11,
   "metadata": {},
   "outputs": [],
   "source": [
    "train_v1_with_predstr = Path(module_path / \"data\" / \"train_v1_with_predictionstring.xz\")\n",
    "if not train_v1_with_predstr.exists():\n",
    "    df.to_csv(train_v1_with_predstr, index=False, compression=\"xz\")\n"
   ]
  },
  {
   "cell_type": "code",
   "execution_count": 12,
   "metadata": {},
   "outputs": [
    {
     "data": {
      "text/html": [
       "<div>\n",
       "<style scoped>\n",
       "    .dataframe tbody tr th:only-of-type {\n",
       "        vertical-align: middle;\n",
       "    }\n",
       "\n",
       "    .dataframe tbody tr th {\n",
       "        vertical-align: top;\n",
       "    }\n",
       "\n",
       "    .dataframe thead th {\n",
       "        text-align: right;\n",
       "    }\n",
       "</style>\n",
       "<table border=\"1\" class=\"dataframe\">\n",
       "  <thead>\n",
       "    <tr style=\"text-align: right;\">\n",
       "      <th></th>\n",
       "      <th>text_id</th>\n",
       "      <th>disc_id</th>\n",
       "      <th>disc_start</th>\n",
       "      <th>disc_end</th>\n",
       "      <th>disc_text</th>\n",
       "      <th>disc_type</th>\n",
       "    </tr>\n",
       "  </thead>\n",
       "  <tbody>\n",
       "    <tr>\n",
       "      <th>0</th>\n",
       "      <td>423A1CA112E2</td>\n",
       "      <td>1622627660524</td>\n",
       "      <td>7</td>\n",
       "      <td>228</td>\n",
       "      <td>Modern humans today are always on their phone....</td>\n",
       "      <td>Lead</td>\n",
       "    </tr>\n",
       "    <tr>\n",
       "      <th>1</th>\n",
       "      <td>423A1CA112E2</td>\n",
       "      <td>1622627653021</td>\n",
       "      <td>229</td>\n",
       "      <td>311</td>\n",
       "      <td>They are some really bad consequences when stu...</td>\n",
       "      <td>Position</td>\n",
       "    </tr>\n",
       "    <tr>\n",
       "      <th>2</th>\n",
       "      <td>423A1CA112E2</td>\n",
       "      <td>1622627671020</td>\n",
       "      <td>312</td>\n",
       "      <td>399</td>\n",
       "      <td>Some certain areas in the United States ban ph...</td>\n",
       "      <td>Evidence</td>\n",
       "    </tr>\n",
       "    <tr>\n",
       "      <th>3</th>\n",
       "      <td>423A1CA112E2</td>\n",
       "      <td>1622627696365</td>\n",
       "      <td>400</td>\n",
       "      <td>754</td>\n",
       "      <td>When people have phones they know about certai...</td>\n",
       "      <td>Evidence</td>\n",
       "    </tr>\n",
       "    <tr>\n",
       "      <th>4</th>\n",
       "      <td>423A1CA112E2</td>\n",
       "      <td>1622627759780</td>\n",
       "      <td>755</td>\n",
       "      <td>882</td>\n",
       "      <td>Driving is one of the way how to get around. P...</td>\n",
       "      <td>Claim</td>\n",
       "    </tr>\n",
       "  </tbody>\n",
       "</table>\n",
       "</div>"
      ],
      "text/plain": [
       "        text_id        disc_id  disc_start  disc_end  \\\n",
       "0  423A1CA112E2  1622627660524           7       228   \n",
       "1  423A1CA112E2  1622627653021         229       311   \n",
       "2  423A1CA112E2  1622627671020         312       399   \n",
       "3  423A1CA112E2  1622627696365         400       754   \n",
       "4  423A1CA112E2  1622627759780         755       882   \n",
       "\n",
       "                                           disc_text disc_type  \n",
       "0  Modern humans today are always on their phone....      Lead  \n",
       "1  They are some really bad consequences when stu...  Position  \n",
       "2  Some certain areas in the United States ban ph...  Evidence  \n",
       "3  When people have phones they know about certai...  Evidence  \n",
       "4  Driving is one of the way how to get around. P...     Claim  "
      ]
     },
     "execution_count": 12,
     "metadata": {},
     "output_type": "execute_result"
    }
   ],
   "source": [
    "df_no_predstr = pd.read_csv(train_v1_no_predstr, compression=\"xz\")\n",
    "df_no_predstr.head()"
   ]
  },
  {
   "cell_type": "code",
   "execution_count": 13,
   "metadata": {},
   "outputs": [
    {
     "data": {
      "text/html": [
       "<div>\n",
       "<style scoped>\n",
       "    .dataframe tbody tr th:only-of-type {\n",
       "        vertical-align: middle;\n",
       "    }\n",
       "\n",
       "    .dataframe tbody tr th {\n",
       "        vertical-align: top;\n",
       "    }\n",
       "\n",
       "    .dataframe thead th {\n",
       "        text-align: right;\n",
       "    }\n",
       "</style>\n",
       "<table border=\"1\" class=\"dataframe\">\n",
       "  <thead>\n",
       "    <tr style=\"text-align: right;\">\n",
       "      <th></th>\n",
       "      <th>text_id</th>\n",
       "      <th>disc_id</th>\n",
       "      <th>disc_start</th>\n",
       "      <th>disc_end</th>\n",
       "      <th>disc_text</th>\n",
       "      <th>disc_type</th>\n",
       "      <th>predictionstring</th>\n",
       "    </tr>\n",
       "  </thead>\n",
       "  <tbody>\n",
       "    <tr>\n",
       "      <th>0</th>\n",
       "      <td>423A1CA112E2</td>\n",
       "      <td>1622627660524</td>\n",
       "      <td>7</td>\n",
       "      <td>228</td>\n",
       "      <td>Modern humans today are always on their phone....</td>\n",
       "      <td>Lead</td>\n",
       "      <td>1 2 3 4 5 6 7 8 9 10 11 12 13 14 15 16 17 18 1...</td>\n",
       "    </tr>\n",
       "    <tr>\n",
       "      <th>1</th>\n",
       "      <td>423A1CA112E2</td>\n",
       "      <td>1622627653021</td>\n",
       "      <td>229</td>\n",
       "      <td>311</td>\n",
       "      <td>They are some really bad consequences when stu...</td>\n",
       "      <td>Position</td>\n",
       "      <td>45 46 47 48 49 50 51 52 53 54 55 56 57 58 59</td>\n",
       "    </tr>\n",
       "    <tr>\n",
       "      <th>2</th>\n",
       "      <td>423A1CA112E2</td>\n",
       "      <td>1622627671020</td>\n",
       "      <td>312</td>\n",
       "      <td>399</td>\n",
       "      <td>Some certain areas in the United States ban ph...</td>\n",
       "      <td>Evidence</td>\n",
       "      <td>60 61 62 63 64 65 66 67 68 69 70 71 72 73 74 75</td>\n",
       "    </tr>\n",
       "    <tr>\n",
       "      <th>3</th>\n",
       "      <td>423A1CA112E2</td>\n",
       "      <td>1622627696365</td>\n",
       "      <td>400</td>\n",
       "      <td>754</td>\n",
       "      <td>When people have phones they know about certai...</td>\n",
       "      <td>Evidence</td>\n",
       "      <td>76 77 78 79 80 81 82 83 84 85 86 87 88 89 90 9...</td>\n",
       "    </tr>\n",
       "    <tr>\n",
       "      <th>4</th>\n",
       "      <td>423A1CA112E2</td>\n",
       "      <td>1622627759780</td>\n",
       "      <td>755</td>\n",
       "      <td>882</td>\n",
       "      <td>Driving is one of the way how to get around. P...</td>\n",
       "      <td>Claim</td>\n",
       "      <td>139 140 141 142 143 144 145 146 147 148 149 15...</td>\n",
       "    </tr>\n",
       "  </tbody>\n",
       "</table>\n",
       "</div>"
      ],
      "text/plain": [
       "        text_id        disc_id  disc_start  disc_end  \\\n",
       "0  423A1CA112E2  1622627660524           7       228   \n",
       "1  423A1CA112E2  1622627653021         229       311   \n",
       "2  423A1CA112E2  1622627671020         312       399   \n",
       "3  423A1CA112E2  1622627696365         400       754   \n",
       "4  423A1CA112E2  1622627759780         755       882   \n",
       "\n",
       "                                           disc_text disc_type  \\\n",
       "0  Modern humans today are always on their phone....      Lead   \n",
       "1  They are some really bad consequences when stu...  Position   \n",
       "2  Some certain areas in the United States ban ph...  Evidence   \n",
       "3  When people have phones they know about certai...  Evidence   \n",
       "4  Driving is one of the way how to get around. P...     Claim   \n",
       "\n",
       "                                    predictionstring  \n",
       "0  1 2 3 4 5 6 7 8 9 10 11 12 13 14 15 16 17 18 1...  \n",
       "1       45 46 47 48 49 50 51 52 53 54 55 56 57 58 59  \n",
       "2    60 61 62 63 64 65 66 67 68 69 70 71 72 73 74 75  \n",
       "3  76 77 78 79 80 81 82 83 84 85 86 87 88 89 90 9...  \n",
       "4  139 140 141 142 143 144 145 146 147 148 149 15...  "
      ]
     },
     "execution_count": 13,
     "metadata": {},
     "output_type": "execute_result"
    }
   ],
   "source": [
    "df_with_predstr = pd.read_csv(train_v1_with_predstr, compression=\"xz\")\n",
    "df_with_predstr.head()"
   ]
  }
 ],
 "metadata": {
  "kernelspec": {
   "display_name": "nlp",
   "language": "python",
   "name": "python3"
  },
  "language_info": {
   "codemirror_mode": {
    "name": "ipython",
    "version": 3
   },
   "file_extension": ".py",
   "mimetype": "text/x-python",
   "name": "python",
   "nbconvert_exporter": "python",
   "pygments_lexer": "ipython3",
   "version": "3.9.13"
  },
  "orig_nbformat": 4,
  "vscode": {
   "interpreter": {
    "hash": "6732d5bcbccbd400c2295e6b9ff4a247e8d1a91ef1c3ef29ad75df96351d9278"
   }
  }
 },
 "nbformat": 4,
 "nbformat_minor": 2
}
