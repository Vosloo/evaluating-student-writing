{
 "cells": [
  {
   "cell_type": "code",
   "execution_count": 1,
   "metadata": {},
   "outputs": [],
   "source": [
    "import sys\n",
    "from pathlib import Path"
   ]
  },
  {
   "cell_type": "code",
   "execution_count": 2,
   "metadata": {},
   "outputs": [],
   "source": [
    "module_path = Path.cwd().parents[2]\n",
    "if module_path not in sys.path:\n",
    "    sys.path.append(str(module_path))"
   ]
  },
  {
   "cell_type": "code",
   "execution_count": 3,
   "metadata": {},
   "outputs": [
    {
     "data": {
      "text/plain": [
       "PosixPath('/home/marek/Projects/Python/evaluating-student-writing')"
      ]
     },
     "execution_count": 3,
     "metadata": {},
     "output_type": "execute_result"
    }
   ],
   "source": [
    "module_path"
   ]
  },
  {
   "cell_type": "code",
   "execution_count": 4,
   "metadata": {},
   "outputs": [],
   "source": [
    "import random\n",
    "import regex as re"
   ]
  },
  {
   "cell_type": "code",
   "execution_count": 5,
   "metadata": {},
   "outputs": [
    {
     "name": "stderr",
     "output_type": "stream",
     "text": [
      "/home/marek/mambaforge/envs/nlp/lib/python3.9/site-packages/tqdm/auto.py:22: TqdmWarning: IProgress not found. Please update jupyter and ipywidgets. See https://ipywidgets.readthedocs.io/en/stable/user_install.html\n",
      "  from .autonotebook import tqdm as notebook_tqdm\n"
     ]
    }
   ],
   "source": [
    "import spacy\n",
    "import torch\n",
    "from spacy.scorer import Scorer\n",
    "from spacy.tokens import Doc, DocBin, Span\n",
    "from spacy.training import Example"
   ]
  },
  {
   "cell_type": "code",
   "execution_count": 6,
   "metadata": {},
   "outputs": [],
   "source": [
    "torch.cuda.empty_cache()\n",
    "# spacy.require_gpu()"
   ]
  },
  {
   "cell_type": "code",
   "execution_count": 7,
   "metadata": {},
   "outputs": [],
   "source": [
    "from src.loader import TextLoader\n",
    "from src.model import DatasetType, Text"
   ]
  },
  {
   "cell_type": "code",
   "execution_count": 8,
   "metadata": {},
   "outputs": [],
   "source": [
    "loader = TextLoader(dataset_type=DatasetType.V1_WITH_PREDICTIONSTRING)\n",
    "nlp = spacy.load(\"models/spacy_resume/model-best/\")"
   ]
  },
  {
   "cell_type": "code",
   "execution_count": 9,
   "metadata": {},
   "outputs": [
    {
     "data": {
      "text/plain": [
       "'8DD09D4FCD4F'"
      ]
     },
     "execution_count": 9,
     "metadata": {},
     "output_type": "execute_result"
    }
   ],
   "source": [
    "text = loader.load_random_text(purify_discourses=True, purify_text=True)\n",
    "text.id"
   ]
  },
  {
   "cell_type": "code",
   "execution_count": 10,
   "metadata": {},
   "outputs": [
    {
     "name": "stdout",
     "output_type": "stream",
     "text": [
      "--- 1621775968881 (0 -> 106 | 0 -> 16) - Lead ---\n",
      "Is attending classes from home by way online of videoconferencing a favorable method for students to study\n",
      "-------------------------------------------------\n",
      "--- 1621776019174 (107 -> 213 | 17 -> 34) - Position ---\n",
      "Attending to classes from home by way online or videoconferencing is not a highly recommended way to study\n",
      "--------------------------------------------------------\n",
      "--- 1621776029151 (214 -> 303 | 35 -> 50) - Claim ---\n",
      "because students will not have the same learning that they have while they are at school.\n",
      "-----------------------------------------------------\n",
      "--- 1621776040861 (304 -> 467 | 51 -> 77) - Claim ---\n",
      "If attending classes from home becomes a common way to study students will not have the opportunity to build strong friendships with the other students around them\n",
      "-----------------------------------------------------\n",
      "--- 1621776052265 (468 -> 489 | 78 -> 81) - Claim ---\n",
      "nor with the teachers\n",
      "-----------------------------------------------------\n",
      "--- 1621776064254 (491 -> 709 | 82 -> 119) - Claim ---\n",
      "Also is not a recommended way to learn because students may not take their courses serious as they do in school because of the instructions of their teachers or the advice of the counselors or administrators of school.\n",
      "------------------------------------------------------\n",
      "--- 1621776096952 (710 -> 895 | 120 -> 153) - Claim ---\n",
      "In the first place attending classes from home is not the same has being is school because at school students take their homework quizzes and exams more serious that they can do at home\n",
      "-------------------------------------------------------\n",
      "--- 1621776130151 (897 -> 1586 | 154 -> 276) - Evidence ---\n",
      "When students are in class and they have any question about the topic that they are learning of the can freely ask their teacher and the teacher will give them a clear explained answer and examples in order for students to understand everything they are teaching them. In addition if students attend to classes online they will not have the opportunity to stay after school for extra help or to retake a quiz or exam nor to attend to a learning center to have other students helping them with their homework or to just study with the company of another student. As a matter of fact student's grades will decay due to not having all their questions answered and their problems being solved.\n",
      "-----------------------------------------------------------\n",
      "--- 1621776158170 (1587 -> 1868 | 277 -> 318) - Claim ---\n",
      "Secondly if attending classes online becomes a common way to study students will not practice their communication skills by not building relationships with their classmates not discussing their concerns with their classmates nor just having fun with their friends during lunch ship\n",
      "---------------------------------------------------------\n",
      "--- 1621776208653 (1870 -> 2896 | 319 -> 497) - Evidence ---\n",
      "They would not feel the same way because at school sometimes students get inspired by other students they see other students not just as their classmates but also as their friends they could even see each other as family therefore students with the time get to see the school as another home where they know they have people that could help them with school stuff but also can give them personal advice as counselors and teachers do. Moreover when students are receiving classes online at home they will feel bored and also lonely because they will not have anyone to discuss their questions or doubts with. In addition in our present a large percent of teenagers are dealing with psychological problems such as stress anxiety and depression being at school distracts teens from their problems at home or even at their jobs and it is a great way to receive help and advice from people willing to help them such as school counselors teachers and friends. Being in school is better rather than being at home alone just studying.\n",
      "------------------------------------------------------------\n",
      "--- 1621776238507 (2897 -> 3009 | 498 -> 516) - Claim ---\n",
      "Lastly attending classes online is not the best idea for students who tempt to not take their studies seriously.\n",
      "---------------------------------------------------------\n",
      "--- 1621776272626 (3010 -> 3762 | 517 -> 661) - Evidence ---\n",
      "While they are at home they wont feel the presence of a teacher standing next to them telling them to get their work done or asking them to pay attention and to not fell asleep during class. Also they will not feel the obligation to do their homework in order to turn it in the following day. When students have to work in groups they learn lots of things from the teammates that they did not before is a awesome way to inspire each other and also to have fun as students see other students work hard for their goals they do it too but if these students are working alone they do the complete opposite. Therefore this kind of students will think that they can do what they want and they wont take their courses in the serious way they have to be taken.\n",
      "------------------------------------------------------------\n",
      "--- 1621776283787 (3763 -> 4104 | 662 -> 721) - Concluding Statement ---\n",
      "In conclusion attending to classes online is not a favorable way for students to learn because they will not learn the same way that they do while in school. The students will not work on their communication skills nor their social skills. In addition students will not take their courses with the grade of seriousness they have to be taken.\n",
      "------------------------------------------------------------------------\n"
     ]
    }
   ],
   "source": [
    "for disc in text.discourses:\n",
    "    print(disc)"
   ]
  },
  {
   "cell_type": "code",
   "execution_count": 11,
   "metadata": {},
   "outputs": [],
   "source": [
    "def create_manual_doc(text: Text):\n",
    "    word_idx = []\n",
    "    for disc in text.discourses:\n",
    "        word_idx.extend((disc.predictionstring[0], disc.predictionstring[-1]))\n",
    "\n",
    "    ents = []\n",
    "\n",
    "    DS_token = \"B-DS\"\n",
    "    DE_token = \"B-DE\"\n",
    "    use_DS = True\n",
    "    for ind, word in enumerate(text.words):\n",
    "        if use_DS:\n",
    "            curr_token = DS_token\n",
    "        else:\n",
    "            curr_token = DE_token\n",
    "\n",
    "        if ind in word_idx:\n",
    "            ents.append(curr_token)\n",
    "            use_DS = not use_DS\n",
    "        else:\n",
    "            ents.append(\"O\")\n",
    "\n",
    "    return Doc(nlp.vocab, text.words, ents=ents)\n",
    "\n",
    "\n",
    "def display_doc(doc: Doc):\n",
    "    spacy.displacy.render(doc, style=\"ent\", jupyter=True)"
   ]
  },
  {
   "cell_type": "code",
   "execution_count": 12,
   "metadata": {},
   "outputs": [],
   "source": [
    "manual_doc = create_manual_doc(text)"
   ]
  },
  {
   "cell_type": "code",
   "execution_count": 13,
   "metadata": {},
   "outputs": [
    {
     "data": {
      "text/html": [
       "<span class=\"tex2jax_ignore\"><div class=\"entities\" style=\"line-height: 2.5; direction: ltr\">\n",
       "<mark class=\"entity\" style=\"background: #ddd; padding: 0.45em 0.6em; margin: 0 0.25em; line-height: 1; border-radius: 0.35em;\">\n",
       "    Is\n",
       "    <span style=\"font-size: 0.8em; font-weight: bold; line-height: 1; border-radius: 0.35em; vertical-align: middle; margin-left: 0.5rem\">DS</span>\n",
       "</mark>\n",
       " attending classes from home by way online of videoconferencing a favorable method for students to \n",
       "<mark class=\"entity\" style=\"background: #ddd; padding: 0.45em 0.6em; margin: 0 0.25em; line-height: 1; border-radius: 0.35em;\">\n",
       "    study\n",
       "    <span style=\"font-size: 0.8em; font-weight: bold; line-height: 1; border-radius: 0.35em; vertical-align: middle; margin-left: 0.5rem\">DE</span>\n",
       "</mark>\n",
       " \n",
       "<mark class=\"entity\" style=\"background: #ddd; padding: 0.45em 0.6em; margin: 0 0.25em; line-height: 1; border-radius: 0.35em;\">\n",
       "    Attending\n",
       "    <span style=\"font-size: 0.8em; font-weight: bold; line-height: 1; border-radius: 0.35em; vertical-align: middle; margin-left: 0.5rem\">DS</span>\n",
       "</mark>\n",
       " to classes from home by way online or videoconferencing is not a highly recommended way to \n",
       "<mark class=\"entity\" style=\"background: #ddd; padding: 0.45em 0.6em; margin: 0 0.25em; line-height: 1; border-radius: 0.35em;\">\n",
       "    study\n",
       "    <span style=\"font-size: 0.8em; font-weight: bold; line-height: 1; border-radius: 0.35em; vertical-align: middle; margin-left: 0.5rem\">DE</span>\n",
       "</mark>\n",
       " \n",
       "<mark class=\"entity\" style=\"background: #ddd; padding: 0.45em 0.6em; margin: 0 0.25em; line-height: 1; border-radius: 0.35em;\">\n",
       "    because\n",
       "    <span style=\"font-size: 0.8em; font-weight: bold; line-height: 1; border-radius: 0.35em; vertical-align: middle; margin-left: 0.5rem\">DS</span>\n",
       "</mark>\n",
       " students will not have the same learning that they have while they are at \n",
       "<mark class=\"entity\" style=\"background: #ddd; padding: 0.45em 0.6em; margin: 0 0.25em; line-height: 1; border-radius: 0.35em;\">\n",
       "    school.\n",
       "    <span style=\"font-size: 0.8em; font-weight: bold; line-height: 1; border-radius: 0.35em; vertical-align: middle; margin-left: 0.5rem\">DE</span>\n",
       "</mark>\n",
       " \n",
       "<mark class=\"entity\" style=\"background: #ddd; padding: 0.45em 0.6em; margin: 0 0.25em; line-height: 1; border-radius: 0.35em;\">\n",
       "    If\n",
       "    <span style=\"font-size: 0.8em; font-weight: bold; line-height: 1; border-radius: 0.35em; vertical-align: middle; margin-left: 0.5rem\">DS</span>\n",
       "</mark>\n",
       " attending classes from home becomes a common way to study students will not have the opportunity to build strong friendships with the other students around \n",
       "<mark class=\"entity\" style=\"background: #ddd; padding: 0.45em 0.6em; margin: 0 0.25em; line-height: 1; border-radius: 0.35em;\">\n",
       "    them\n",
       "    <span style=\"font-size: 0.8em; font-weight: bold; line-height: 1; border-radius: 0.35em; vertical-align: middle; margin-left: 0.5rem\">DE</span>\n",
       "</mark>\n",
       " \n",
       "<mark class=\"entity\" style=\"background: #ddd; padding: 0.45em 0.6em; margin: 0 0.25em; line-height: 1; border-radius: 0.35em;\">\n",
       "    nor\n",
       "    <span style=\"font-size: 0.8em; font-weight: bold; line-height: 1; border-radius: 0.35em; vertical-align: middle; margin-left: 0.5rem\">DS</span>\n",
       "</mark>\n",
       " with the \n",
       "<mark class=\"entity\" style=\"background: #ddd; padding: 0.45em 0.6em; margin: 0 0.25em; line-height: 1; border-radius: 0.35em;\">\n",
       "    teachers.\n",
       "    <span style=\"font-size: 0.8em; font-weight: bold; line-height: 1; border-radius: 0.35em; vertical-align: middle; margin-left: 0.5rem\">DE</span>\n",
       "</mark>\n",
       " \n",
       "<mark class=\"entity\" style=\"background: #ddd; padding: 0.45em 0.6em; margin: 0 0.25em; line-height: 1; border-radius: 0.35em;\">\n",
       "    Also\n",
       "    <span style=\"font-size: 0.8em; font-weight: bold; line-height: 1; border-radius: 0.35em; vertical-align: middle; margin-left: 0.5rem\">DS</span>\n",
       "</mark>\n",
       " is not a recommended way to learn because students may not take their courses serious as they do in school because of the instructions of their teachers or the advice of the counselors or administrators of \n",
       "<mark class=\"entity\" style=\"background: #ddd; padding: 0.45em 0.6em; margin: 0 0.25em; line-height: 1; border-radius: 0.35em;\">\n",
       "    school.\n",
       "    <span style=\"font-size: 0.8em; font-weight: bold; line-height: 1; border-radius: 0.35em; vertical-align: middle; margin-left: 0.5rem\">DE</span>\n",
       "</mark>\n",
       " \n",
       "<mark class=\"entity\" style=\"background: #ddd; padding: 0.45em 0.6em; margin: 0 0.25em; line-height: 1; border-radius: 0.35em;\">\n",
       "    In\n",
       "    <span style=\"font-size: 0.8em; font-weight: bold; line-height: 1; border-radius: 0.35em; vertical-align: middle; margin-left: 0.5rem\">DS</span>\n",
       "</mark>\n",
       " the first place attending classes from home is not the same has being is school because at school students take their homework quizzes and exams more serious that they can do at \n",
       "<mark class=\"entity\" style=\"background: #ddd; padding: 0.45em 0.6em; margin: 0 0.25em; line-height: 1; border-radius: 0.35em;\">\n",
       "    home.\n",
       "    <span style=\"font-size: 0.8em; font-weight: bold; line-height: 1; border-radius: 0.35em; vertical-align: middle; margin-left: 0.5rem\">DE</span>\n",
       "</mark>\n",
       " \n",
       "<mark class=\"entity\" style=\"background: #ddd; padding: 0.45em 0.6em; margin: 0 0.25em; line-height: 1; border-radius: 0.35em;\">\n",
       "    When\n",
       "    <span style=\"font-size: 0.8em; font-weight: bold; line-height: 1; border-radius: 0.35em; vertical-align: middle; margin-left: 0.5rem\">DS</span>\n",
       "</mark>\n",
       " students are in class and they have any question about the topic that they are learning of the can freely ask their teacher and the teacher will give them a clear explained answer and examples in order for students to understand everything they are teaching them. In addition if students attend to classes online they will not have the opportunity to stay after school for extra help or to retake a quiz or exam nor to attend to a learning center to have other students helping them with their homework or to just study with the company of another student. As a matter of fact student's grades will decay due to not having all their questions answered and their problems being \n",
       "<mark class=\"entity\" style=\"background: #ddd; padding: 0.45em 0.6em; margin: 0 0.25em; line-height: 1; border-radius: 0.35em;\">\n",
       "    solved.\n",
       "    <span style=\"font-size: 0.8em; font-weight: bold; line-height: 1; border-radius: 0.35em; vertical-align: middle; margin-left: 0.5rem\">DE</span>\n",
       "</mark>\n",
       " \n",
       "<mark class=\"entity\" style=\"background: #ddd; padding: 0.45em 0.6em; margin: 0 0.25em; line-height: 1; border-radius: 0.35em;\">\n",
       "    Secondly\n",
       "    <span style=\"font-size: 0.8em; font-weight: bold; line-height: 1; border-radius: 0.35em; vertical-align: middle; margin-left: 0.5rem\">DS</span>\n",
       "</mark>\n",
       " if attending classes online becomes a common way to study students will not practice their communication skills by not building relationships with their classmates not discussing their concerns with their classmates nor just having fun with their friends during lunch \n",
       "<mark class=\"entity\" style=\"background: #ddd; padding: 0.45em 0.6em; margin: 0 0.25em; line-height: 1; border-radius: 0.35em;\">\n",
       "    ship.\n",
       "    <span style=\"font-size: 0.8em; font-weight: bold; line-height: 1; border-radius: 0.35em; vertical-align: middle; margin-left: 0.5rem\">DE</span>\n",
       "</mark>\n",
       " \n",
       "<mark class=\"entity\" style=\"background: #ddd; padding: 0.45em 0.6em; margin: 0 0.25em; line-height: 1; border-radius: 0.35em;\">\n",
       "    They\n",
       "    <span style=\"font-size: 0.8em; font-weight: bold; line-height: 1; border-radius: 0.35em; vertical-align: middle; margin-left: 0.5rem\">DS</span>\n",
       "</mark>\n",
       " would not feel the same way because at school sometimes students get inspired by other students they see other students not just as their classmates but also as their friends they could even see each other as family therefore students with the time get to see the school as another home where they know they have people that could help them with school stuff but also can give them personal advice as counselors and teachers do. Moreover when students are receiving classes online at home they will feel bored and also lonely because they will not have anyone to discuss their questions or doubts with. In addition in our present a large percent of teenagers are dealing with psychological problems such as stress anxiety and depression being at school distracts teens from their problems at home or even at their jobs and it is a great way to receive help and advice from people willing to help them such as school counselors teachers and friends. Being in school is better rather than being at home alone just \n",
       "<mark class=\"entity\" style=\"background: #ddd; padding: 0.45em 0.6em; margin: 0 0.25em; line-height: 1; border-radius: 0.35em;\">\n",
       "    studying.\n",
       "    <span style=\"font-size: 0.8em; font-weight: bold; line-height: 1; border-radius: 0.35em; vertical-align: middle; margin-left: 0.5rem\">DE</span>\n",
       "</mark>\n",
       " \n",
       "<mark class=\"entity\" style=\"background: #ddd; padding: 0.45em 0.6em; margin: 0 0.25em; line-height: 1; border-radius: 0.35em;\">\n",
       "    Lastly\n",
       "    <span style=\"font-size: 0.8em; font-weight: bold; line-height: 1; border-radius: 0.35em; vertical-align: middle; margin-left: 0.5rem\">DS</span>\n",
       "</mark>\n",
       " attending classes online is not the best idea for students who tempt to not take their studies \n",
       "<mark class=\"entity\" style=\"background: #ddd; padding: 0.45em 0.6em; margin: 0 0.25em; line-height: 1; border-radius: 0.35em;\">\n",
       "    seriously.\n",
       "    <span style=\"font-size: 0.8em; font-weight: bold; line-height: 1; border-radius: 0.35em; vertical-align: middle; margin-left: 0.5rem\">DE</span>\n",
       "</mark>\n",
       " \n",
       "<mark class=\"entity\" style=\"background: #ddd; padding: 0.45em 0.6em; margin: 0 0.25em; line-height: 1; border-radius: 0.35em;\">\n",
       "    While\n",
       "    <span style=\"font-size: 0.8em; font-weight: bold; line-height: 1; border-radius: 0.35em; vertical-align: middle; margin-left: 0.5rem\">DS</span>\n",
       "</mark>\n",
       " they are at home they wont feel the presence of a teacher standing next to them telling them to get their work done or asking them to pay attention and to not fell asleep during class. Also they will not feel the obligation to do their homework in order to turn it in the following day. When students have to work in groups they learn lots of things from the teammates that they did not before is a awesome way to inspire each other and also to have fun as students see other students work hard for their goals they do it too but if these students are working alone they do the complete opposite. Therefore this kind of students will think that they can do what they want and they wont take their courses in the serious way they have to be \n",
       "<mark class=\"entity\" style=\"background: #ddd; padding: 0.45em 0.6em; margin: 0 0.25em; line-height: 1; border-radius: 0.35em;\">\n",
       "    taken.\n",
       "    <span style=\"font-size: 0.8em; font-weight: bold; line-height: 1; border-radius: 0.35em; vertical-align: middle; margin-left: 0.5rem\">DE</span>\n",
       "</mark>\n",
       " \n",
       "<mark class=\"entity\" style=\"background: #ddd; padding: 0.45em 0.6em; margin: 0 0.25em; line-height: 1; border-radius: 0.35em;\">\n",
       "    In\n",
       "    <span style=\"font-size: 0.8em; font-weight: bold; line-height: 1; border-radius: 0.35em; vertical-align: middle; margin-left: 0.5rem\">DS</span>\n",
       "</mark>\n",
       " conclusion attending to classes online is not a favorable way for students to learn because they will not learn the same way that they do while in school. The students will not work on their communication skills nor their social skills. In addition students will not take their courses with the grade of seriousness they have to be \n",
       "<mark class=\"entity\" style=\"background: #ddd; padding: 0.45em 0.6em; margin: 0 0.25em; line-height: 1; border-radius: 0.35em;\">\n",
       "    taken.\n",
       "    <span style=\"font-size: 0.8em; font-weight: bold; line-height: 1; border-radius: 0.35em; vertical-align: middle; margin-left: 0.5rem\">DE</span>\n",
       "</mark>\n",
       " </div></span>"
      ],
      "text/plain": [
       "<IPython.core.display.HTML object>"
      ]
     },
     "metadata": {},
     "output_type": "display_data"
    }
   ],
   "source": [
    "display_doc(manual_doc)"
   ]
  },
  {
   "cell_type": "code",
   "execution_count": 14,
   "metadata": {},
   "outputs": [],
   "source": [
    "doc = nlp(text.text)\n"
   ]
  },
  {
   "cell_type": "code",
   "execution_count": 15,
   "metadata": {},
   "outputs": [
    {
     "data": {
      "text/html": [
       "<span class=\"tex2jax_ignore\"><div class=\"entities\" style=\"line-height: 2.5; direction: ltr\">\n",
       "<mark class=\"entity\" style=\"background: #ddd; padding: 0.45em 0.6em; margin: 0 0.25em; line-height: 1; border-radius: 0.35em;\">\n",
       "    Is\n",
       "    <span style=\"font-size: 0.8em; font-weight: bold; line-height: 1; border-radius: 0.35em; vertical-align: middle; margin-left: 0.5rem\">DS</span>\n",
       "</mark>\n",
       " attending classes from home by way online of videoconferencing a favorable method for students to \n",
       "<mark class=\"entity\" style=\"background: #ddd; padding: 0.45em 0.6em; margin: 0 0.25em; line-height: 1; border-radius: 0.35em;\">\n",
       "    study\n",
       "    <span style=\"font-size: 0.8em; font-weight: bold; line-height: 1; border-radius: 0.35em; vertical-align: middle; margin-left: 0.5rem\">DE</span>\n",
       "</mark>\n",
       " \n",
       "<mark class=\"entity\" style=\"background: #ddd; padding: 0.45em 0.6em; margin: 0 0.25em; line-height: 1; border-radius: 0.35em;\">\n",
       "    Attending\n",
       "    <span style=\"font-size: 0.8em; font-weight: bold; line-height: 1; border-radius: 0.35em; vertical-align: middle; margin-left: 0.5rem\">DS</span>\n",
       "</mark>\n",
       " to classes from home by way online or videoconferencing is not a highly recommended way to \n",
       "<mark class=\"entity\" style=\"background: #ddd; padding: 0.45em 0.6em; margin: 0 0.25em; line-height: 1; border-radius: 0.35em;\">\n",
       "    study\n",
       "    <span style=\"font-size: 0.8em; font-weight: bold; line-height: 1; border-radius: 0.35em; vertical-align: middle; margin-left: 0.5rem\">DE</span>\n",
       "</mark>\n",
       " because students will not have the same learning that they have while they are at \n",
       "<mark class=\"entity\" style=\"background: #ddd; padding: 0.45em 0.6em; margin: 0 0.25em; line-height: 1; border-radius: 0.35em;\">\n",
       "    school\n",
       "    <span style=\"font-size: 0.8em; font-weight: bold; line-height: 1; border-radius: 0.35em; vertical-align: middle; margin-left: 0.5rem\">DE</span>\n",
       "</mark>\n",
       ". \n",
       "<mark class=\"entity\" style=\"background: #ddd; padding: 0.45em 0.6em; margin: 0 0.25em; line-height: 1; border-radius: 0.35em;\">\n",
       "    If\n",
       "    <span style=\"font-size: 0.8em; font-weight: bold; line-height: 1; border-radius: 0.35em; vertical-align: middle; margin-left: 0.5rem\">DS</span>\n",
       "</mark>\n",
       " attending classes from home becomes a common way to study students will not have the opportunity to build strong friendships with the other students around them nor with the \n",
       "<mark class=\"entity\" style=\"background: #ddd; padding: 0.45em 0.6em; margin: 0 0.25em; line-height: 1; border-radius: 0.35em;\">\n",
       "    teachers\n",
       "    <span style=\"font-size: 0.8em; font-weight: bold; line-height: 1; border-radius: 0.35em; vertical-align: middle; margin-left: 0.5rem\">DE</span>\n",
       "</mark>\n",
       ". \n",
       "<mark class=\"entity\" style=\"background: #ddd; padding: 0.45em 0.6em; margin: 0 0.25em; line-height: 1; border-radius: 0.35em;\">\n",
       "    Also\n",
       "    <span style=\"font-size: 0.8em; font-weight: bold; line-height: 1; border-radius: 0.35em; vertical-align: middle; margin-left: 0.5rem\">DS</span>\n",
       "</mark>\n",
       " is not a recommended way to learn because students may not take their courses serious as they do in school because of the instructions of their teachers or the advice of the counselors or administrators of \n",
       "<mark class=\"entity\" style=\"background: #ddd; padding: 0.45em 0.6em; margin: 0 0.25em; line-height: 1; border-radius: 0.35em;\">\n",
       "    school\n",
       "    <span style=\"font-size: 0.8em; font-weight: bold; line-height: 1; border-radius: 0.35em; vertical-align: middle; margin-left: 0.5rem\">DE</span>\n",
       "</mark>\n",
       ". \n",
       "<mark class=\"entity\" style=\"background: #ddd; padding: 0.45em 0.6em; margin: 0 0.25em; line-height: 1; border-radius: 0.35em;\">\n",
       "    In\n",
       "    <span style=\"font-size: 0.8em; font-weight: bold; line-height: 1; border-radius: 0.35em; vertical-align: middle; margin-left: 0.5rem\">DS</span>\n",
       "</mark>\n",
       " the first place attending classes from home is not the same has being is school because at school students take their homework quizzes and exams more serious that they can do at home. When students are in class and they have any question about the topic that they are learning of the can freely ask their teacher and the teacher will give them a clear explained answer and examples in order for students to understand everything they are teaching \n",
       "<mark class=\"entity\" style=\"background: #ddd; padding: 0.45em 0.6em; margin: 0 0.25em; line-height: 1; border-radius: 0.35em;\">\n",
       "    them\n",
       "    <span style=\"font-size: 0.8em; font-weight: bold; line-height: 1; border-radius: 0.35em; vertical-align: middle; margin-left: 0.5rem\">DE</span>\n",
       "</mark>\n",
       ". \n",
       "<mark class=\"entity\" style=\"background: #ddd; padding: 0.45em 0.6em; margin: 0 0.25em; line-height: 1; border-radius: 0.35em;\">\n",
       "    In\n",
       "    <span style=\"font-size: 0.8em; font-weight: bold; line-height: 1; border-radius: 0.35em; vertical-align: middle; margin-left: 0.5rem\">DS</span>\n",
       "</mark>\n",
       " addition if students attend to classes online they will not have the opportunity to stay after school for extra help or to retake a quiz or exam nor to attend to a learning center to have other students helping them with their homework or to just study with the company of another student. As a matter of fact student's grades will decay due to not having all their questions answered and their problems being \n",
       "<mark class=\"entity\" style=\"background: #ddd; padding: 0.45em 0.6em; margin: 0 0.25em; line-height: 1; border-radius: 0.35em;\">\n",
       "    solved\n",
       "    <span style=\"font-size: 0.8em; font-weight: bold; line-height: 1; border-radius: 0.35em; vertical-align: middle; margin-left: 0.5rem\">DE</span>\n",
       "</mark>\n",
       ". \n",
       "<mark class=\"entity\" style=\"background: #ddd; padding: 0.45em 0.6em; margin: 0 0.25em; line-height: 1; border-radius: 0.35em;\">\n",
       "    Secondly\n",
       "    <span style=\"font-size: 0.8em; font-weight: bold; line-height: 1; border-radius: 0.35em; vertical-align: middle; margin-left: 0.5rem\">DS</span>\n",
       "</mark>\n",
       " if attending classes online becomes a common way to study students will not practice their communication skills by not building relationships with their classmates not discussing their concerns with their classmates nor just having fun with their friends during lunch ship. They would not feel the same way because at school sometimes students get inspired by other students they see other students not just as their classmates but also as their friends they could even see each other as family therefore students with the time get to see the school as another home where they know they have people that could help them with school stuff but also can give them personal advice as counselors and teachers \n",
       "<mark class=\"entity\" style=\"background: #ddd; padding: 0.45em 0.6em; margin: 0 0.25em; line-height: 1; border-radius: 0.35em;\">\n",
       "    do\n",
       "    <span style=\"font-size: 0.8em; font-weight: bold; line-height: 1; border-radius: 0.35em; vertical-align: middle; margin-left: 0.5rem\">DE</span>\n",
       "</mark>\n",
       ". \n",
       "<mark class=\"entity\" style=\"background: #ddd; padding: 0.45em 0.6em; margin: 0 0.25em; line-height: 1; border-radius: 0.35em;\">\n",
       "    Moreover\n",
       "    <span style=\"font-size: 0.8em; font-weight: bold; line-height: 1; border-radius: 0.35em; vertical-align: middle; margin-left: 0.5rem\">DS</span>\n",
       "</mark>\n",
       " when students are receiving classes online at home they will feel bored and also lonely because they will not have anyone to discuss their questions or doubts \n",
       "<mark class=\"entity\" style=\"background: #ddd; padding: 0.45em 0.6em; margin: 0 0.25em; line-height: 1; border-radius: 0.35em;\">\n",
       "    with\n",
       "    <span style=\"font-size: 0.8em; font-weight: bold; line-height: 1; border-radius: 0.35em; vertical-align: middle; margin-left: 0.5rem\">DE</span>\n",
       "</mark>\n",
       ". \n",
       "<mark class=\"entity\" style=\"background: #ddd; padding: 0.45em 0.6em; margin: 0 0.25em; line-height: 1; border-radius: 0.35em;\">\n",
       "    In\n",
       "    <span style=\"font-size: 0.8em; font-weight: bold; line-height: 1; border-radius: 0.35em; vertical-align: middle; margin-left: 0.5rem\">DS</span>\n",
       "</mark>\n",
       " addition in our present a large percent of teenagers are dealing with psychological problems such as stress anxiety and depression being at school distracts teens from their problems at home or even at their jobs and it is a great way to receive help and advice from people willing to help them such as school counselors teachers and friends. Being in school is better rather than being at home alone just \n",
       "<mark class=\"entity\" style=\"background: #ddd; padding: 0.45em 0.6em; margin: 0 0.25em; line-height: 1; border-radius: 0.35em;\">\n",
       "    studying\n",
       "    <span style=\"font-size: 0.8em; font-weight: bold; line-height: 1; border-radius: 0.35em; vertical-align: middle; margin-left: 0.5rem\">DE</span>\n",
       "</mark>\n",
       ". \n",
       "<mark class=\"entity\" style=\"background: #ddd; padding: 0.45em 0.6em; margin: 0 0.25em; line-height: 1; border-radius: 0.35em;\">\n",
       "    Lastly\n",
       "    <span style=\"font-size: 0.8em; font-weight: bold; line-height: 1; border-radius: 0.35em; vertical-align: middle; margin-left: 0.5rem\">DS</span>\n",
       "</mark>\n",
       " attending classes online is not the best idea for students who tempt to not take their studies \n",
       "<mark class=\"entity\" style=\"background: #ddd; padding: 0.45em 0.6em; margin: 0 0.25em; line-height: 1; border-radius: 0.35em;\">\n",
       "    seriously\n",
       "    <span style=\"font-size: 0.8em; font-weight: bold; line-height: 1; border-radius: 0.35em; vertical-align: middle; margin-left: 0.5rem\">DE</span>\n",
       "</mark>\n",
       ". \n",
       "<mark class=\"entity\" style=\"background: #ddd; padding: 0.45em 0.6em; margin: 0 0.25em; line-height: 1; border-radius: 0.35em;\">\n",
       "    While\n",
       "    <span style=\"font-size: 0.8em; font-weight: bold; line-height: 1; border-radius: 0.35em; vertical-align: middle; margin-left: 0.5rem\">DS</span>\n",
       "</mark>\n",
       " they are at home they wont feel the presence of a teacher standing next to them telling them to get their work done or asking them to pay attention and to not fell asleep during class. Also they will not feel the obligation to do their homework in order to turn it in the following day. When students have to work in groups they learn lots of things from the teammates that they did not before is a awesome way to inspire each other and also to have fun as students see other students work hard for their goals they do it too but if these students are working alone they do the complete opposite. Therefore this kind of students will think that they can do what they want and they wont take their courses in the serious way they have to be \n",
       "<mark class=\"entity\" style=\"background: #ddd; padding: 0.45em 0.6em; margin: 0 0.25em; line-height: 1; border-radius: 0.35em;\">\n",
       "    taken\n",
       "    <span style=\"font-size: 0.8em; font-weight: bold; line-height: 1; border-radius: 0.35em; vertical-align: middle; margin-left: 0.5rem\">DE</span>\n",
       "</mark>\n",
       ". \n",
       "<mark class=\"entity\" style=\"background: #ddd; padding: 0.45em 0.6em; margin: 0 0.25em; line-height: 1; border-radius: 0.35em;\">\n",
       "    In\n",
       "    <span style=\"font-size: 0.8em; font-weight: bold; line-height: 1; border-radius: 0.35em; vertical-align: middle; margin-left: 0.5rem\">DS</span>\n",
       "</mark>\n",
       " conclusion attending to classes online is not a favorable way for students to learn because they will not learn the same way that they do while in school. The students will not work on their communication skills nor their social skills. In addition students will not take their courses with the grade of seriousness they have to be \n",
       "<mark class=\"entity\" style=\"background: #ddd; padding: 0.45em 0.6em; margin: 0 0.25em; line-height: 1; border-radius: 0.35em;\">\n",
       "    taken\n",
       "    <span style=\"font-size: 0.8em; font-weight: bold; line-height: 1; border-radius: 0.35em; vertical-align: middle; margin-left: 0.5rem\">DE</span>\n",
       "</mark>\n",
       ".</div></span>"
      ],
      "text/plain": [
       "<IPython.core.display.HTML object>"
      ]
     },
     "metadata": {},
     "output_type": "display_data"
    }
   ],
   "source": [
    "display_doc(doc)"
   ]
  },
  {
   "cell_type": "code",
   "execution_count": 16,
   "metadata": {},
   "outputs": [
    {
     "data": {
      "text/plain": [
       "780"
      ]
     },
     "execution_count": 16,
     "metadata": {},
     "output_type": "execute_result"
    }
   ],
   "source": [
    "doc_bin = DocBin().from_disk(\"data/NER_test.spacy\")\n",
    "len(doc_bin)"
   ]
  },
  {
   "cell_type": "code",
   "execution_count": 17,
   "metadata": {},
   "outputs": [],
   "source": [
    "examples = []\n",
    "for ind, doc in enumerate(doc_bin.get_docs(nlp.vocab)):\n",
    "    examples.append(Example.from_dict(doc, {\"entities\": doc.ents}))\n"
   ]
  },
  {
   "cell_type": "code",
   "execution_count": 18,
   "metadata": {},
   "outputs": [
    {
     "name": "stdout",
     "output_type": "stream",
     "text": [
      "779/780"
     ]
    }
   ],
   "source": [
    "predicted_examples = []\n",
    "for ind, example in enumerate(examples):\n",
    "    print(f\"\\r{ind:3d}/{len(examples)}\", end=\"\")\n",
    "    doc = nlp(example.text)\n",
    "    predicted_examples.append(Example(doc, example.reference))\n"
   ]
  },
  {
   "cell_type": "code",
   "execution_count": 19,
   "metadata": {},
   "outputs": [
    {
     "data": {
      "text/plain": [
       "{'token_acc': 1.0,\n",
       " 'token_p': 0.9773659229601885,\n",
       " 'token_r': 0.9885548875528836,\n",
       " 'token_f': 0.9829285644702777,\n",
       " 'ents_p': 0.6890407099591491,\n",
       " 'ents_r': 0.698187268055952,\n",
       " 'ents_f': 0.6935838355193193,\n",
       " 'ents_per_type': {'DS': {'p': 0.670701472947353,\n",
       "   'r': 0.655782118922002,\n",
       "   'f': 0.6631578947368422},\n",
       "  'DE': {'p': 0.7061708214139762,\n",
       "   'r': 0.7406772396056579,\n",
       "   'f': 0.7230125523012553}},\n",
       " 'speed': 1219.6926545476797}"
      ]
     },
     "execution_count": 19,
     "metadata": {},
     "output_type": "execute_result"
    }
   ],
   "source": [
    "nlp.evaluate(predicted_examples)\n"
   ]
  },
  {
   "cell_type": "code",
   "execution_count": 20,
   "metadata": {},
   "outputs": [
    {
     "name": "stdout",
     "output_type": "stream",
     "text": [
      "779/780"
     ]
    }
   ],
   "source": [
    "fixed_examples = []\n",
    "for ind, example in enumerate(examples):\n",
    "    print(f\"\\r{ind:3d}/{len(examples)}\", end=\"\")\n",
    "\n",
    "    doc = nlp(example.text)\n",
    "\n",
    "    last_ent = None\n",
    "    last_start_sent_ind = 0\n",
    "    last_end_sent_ind = 0\n",
    "\n",
    "    tokens_fixed = []\n",
    "    ents_fixed = []\n",
    "\n",
    "    for ind, token in enumerate(doc):\n",
    "        if token.text == \".\":\n",
    "            last_start_sent_ind = ind + 1\n",
    "            last_end_sent_ind = ind - 1\n",
    "\n",
    "        if not token.ent_type_:\n",
    "            tokens_fixed.append(token.text)\n",
    "            ents_fixed.append(token.ent_iob_)\n",
    "            continue\n",
    "\n",
    "        if token.ent_type_ == \"DS\" and last_ent == \"DE\" or token.ent_type_ == \"DE\" and last_ent == \"DS\":\n",
    "            last_ent = token.ent_type_\n",
    "            tokens_fixed.append(token.text)\n",
    "            ents_fixed.append(f\"{token.ent_iob_}-{token.ent_type_}\")\n",
    "            continue\n",
    "\n",
    "        if token.ent_type_ == \"DS\" and last_ent == \"DS\" and ents_fixed[ind - 1] == \"B-DS\":\n",
    "            tokens_fixed.append(token.text)\n",
    "            ents_fixed.append(f\"I-{token.ent_type_}\")\n",
    "            continue\n",
    "\n",
    "        if last_ent is None:\n",
    "            assert not (token.ent_type_ == \"DE\" and ind == 0), \"First token must not be DE\"\n",
    "            last_ent = token.ent_type_\n",
    "            tokens_fixed.append(token.text)\n",
    "            ents_fixed.append(f\"{token.ent_iob_}-{token.ent_type_}\")\n",
    "            continue\n",
    "\n",
    "        if token.ent_type_ == \"DE\":\n",
    "            assert ents_fixed[last_start_sent_ind] not in (\"DS\", \"DE\"), \"Start token already has a tag\"\n",
    "            ents_fixed[last_start_sent_ind] = \"B-DS\"\n",
    "        elif token.ent_type_ == \"DS\":\n",
    "            assert ents_fixed[last_end_sent_ind] not in (\"DS\", \"DE\"), \"End token already has a tag\"\n",
    "            ents_fixed[last_end_sent_ind] = \"B-DE\"\n",
    "\n",
    "        last_ent = token.ent_type_\n",
    "        tokens_fixed.append(token.text)\n",
    "        ents_fixed.append(f\"{token.ent_iob_}-{token.ent_type_}\")\n",
    "\n",
    "\n",
    "    doc_fixed = Doc(nlp.vocab, tokens_fixed, ents=ents_fixed)\n",
    "    fixed_examples.append(Example(doc_fixed, example.reference))\n"
   ]
  },
  {
   "cell_type": "code",
   "execution_count": 21,
   "metadata": {},
   "outputs": [
    {
     "data": {
      "text/plain": [
       "{'token_acc': 1.0,\n",
       " 'token_p': 0.3137186987240263,\n",
       " 'token_r': 0.3173101759073703,\n",
       " 'token_f': 0.31550421693682423,\n",
       " 'ents_p': 0.6613260388172463,\n",
       " 'ents_r': 0.7246645732229517,\n",
       " 'ents_f': 0.6915480487638765,\n",
       " 'ents_per_type': {'DS': {'p': 0.632192947961725,\n",
       "   'r': 0.6877228005133323,\n",
       "   'f': 0.658789782816555},\n",
       "  'DE': {'p': 0.6900970873786407,\n",
       "   'r': 0.7616802400342906,\n",
       "   'f': 0.7241238793806031}},\n",
       " 'speed': 1215.698559114586}"
      ]
     },
     "execution_count": 21,
     "metadata": {},
     "output_type": "execute_result"
    }
   ],
   "source": [
    "nlp.evaluate(fixed_examples)\n"
   ]
  },
  {
   "cell_type": "code",
   "execution_count": 87,
   "metadata": {},
   "outputs": [],
   "source": [
    "ind = random.choice(range(len(predicted_examples)))"
   ]
  },
  {
   "cell_type": "code",
   "execution_count": 88,
   "metadata": {},
   "outputs": [
    {
     "data": {
      "text/plain": [
       "424"
      ]
     },
     "execution_count": 88,
     "metadata": {},
     "output_type": "execute_result"
    }
   ],
   "source": [
    "ind  # TODO: USE IND 9"
   ]
  },
  {
   "cell_type": "code",
   "execution_count": 89,
   "metadata": {},
   "outputs": [
    {
     "name": "stdout",
     "output_type": "stream",
     "text": [
      "----------\n",
      "Reference:\n",
      "----------\n"
     ]
    },
    {
     "data": {
      "text/html": [
       "<span class=\"tex2jax_ignore\"><div class=\"entities\" style=\"line-height: 2.5; direction: ltr\">\n",
       "<mark class=\"entity\" style=\"background: #ddd; padding: 0.45em 0.6em; margin: 0 0.25em; line-height: 1; border-radius: 0.35em;\">\n",
       "    Drivers\n",
       "    <span style=\"font-size: 0.8em; font-weight: bold; line-height: 1; border-radius: 0.35em; vertical-align: middle; margin-left: 0.5rem\">DS</span>\n",
       "</mark>\n",
       " should not be able to use cell phones in any capacity while operating a \n",
       "<mark class=\"entity\" style=\"background: #ddd; padding: 0.45em 0.6em; margin: 0 0.25em; line-height: 1; border-radius: 0.35em;\">\n",
       "    vehicle\n",
       "    <span style=\"font-size: 0.8em; font-weight: bold; line-height: 1; border-radius: 0.35em; vertical-align: middle; margin-left: 0.5rem\">DE</span>\n",
       "</mark>\n",
       " . \n",
       "<mark class=\"entity\" style=\"background: #ddd; padding: 0.45em 0.6em; margin: 0 0.25em; line-height: 1; border-radius: 0.35em;\">\n",
       "    Distracted\n",
       "    <span style=\"font-size: 0.8em; font-weight: bold; line-height: 1; border-radius: 0.35em; vertical-align: middle; margin-left: 0.5rem\">DS</span>\n",
       "</mark>\n",
       " driving is one of the most common causes of road \n",
       "<mark class=\"entity\" style=\"background: #ddd; padding: 0.45em 0.6em; margin: 0 0.25em; line-height: 1; border-radius: 0.35em;\">\n",
       "    accidents\n",
       "    <span style=\"font-size: 0.8em; font-weight: bold; line-height: 1; border-radius: 0.35em; vertical-align: middle; margin-left: 0.5rem\">DE</span>\n",
       "</mark>\n",
       " . \n",
       "<mark class=\"entity\" style=\"background: #ddd; padding: 0.45em 0.6em; margin: 0 0.25em; line-height: 1; border-radius: 0.35em;\">\n",
       "    One\n",
       "    <span style=\"font-size: 0.8em; font-weight: bold; line-height: 1; border-radius: 0.35em; vertical-align: middle; margin-left: 0.5rem\">DS</span>\n",
       "</mark>\n",
       " of the main reasons why you shouldn't be using your phone while driving because the human mind is easy to get \n",
       "<mark class=\"entity\" style=\"background: #ddd; padding: 0.45em 0.6em; margin: 0 0.25em; line-height: 1; border-radius: 0.35em;\">\n",
       "    distracted\n",
       "    <span style=\"font-size: 0.8em; font-weight: bold; line-height: 1; border-radius: 0.35em; vertical-align: middle; margin-left: 0.5rem\">DE</span>\n",
       "</mark>\n",
       " . \n",
       "<mark class=\"entity\" style=\"background: #ddd; padding: 0.45em 0.6em; margin: 0 0.25em; line-height: 1; border-radius: 0.35em;\">\n",
       "    Which\n",
       "    <span style=\"font-size: 0.8em; font-weight: bold; line-height: 1; border-radius: 0.35em; vertical-align: middle; margin-left: 0.5rem\">DS</span>\n",
       "</mark>\n",
       " leads you in a dished . Leading to and unnecessary \n",
       "<mark class=\"entity\" style=\"background: #ddd; padding: 0.45em 0.6em; margin: 0 0.25em; line-height: 1; border-radius: 0.35em;\">\n",
       "    crash\n",
       "    <span style=\"font-size: 0.8em; font-weight: bold; line-height: 1; border-radius: 0.35em; vertical-align: middle; margin-left: 0.5rem\">DE</span>\n",
       "</mark>\n",
       " . Worldwide over 1 . 6 million crashes happen each year . \n",
       "<mark class=\"entity\" style=\"background: #ddd; padding: 0.45em 0.6em; margin: 0 0.25em; line-height: 1; border-radius: 0.35em;\">\n",
       "    Nearly\n",
       "    <span style=\"font-size: 0.8em; font-weight: bold; line-height: 1; border-radius: 0.35em; vertical-align: middle; margin-left: 0.5rem\">DS</span>\n",
       "</mark>\n",
       " over 300 hundred k people are injured . From accidents caused by texting while \n",
       "<mark class=\"entity\" style=\"background: #ddd; padding: 0.45em 0.6em; margin: 0 0.25em; line-height: 1; border-radius: 0.35em;\">\n",
       "    driving\n",
       "    <span style=\"font-size: 0.8em; font-weight: bold; line-height: 1; border-radius: 0.35em; vertical-align: middle; margin-left: 0.5rem\">DE</span>\n",
       "</mark>\n",
       " . \n",
       "<mark class=\"entity\" style=\"background: #ddd; padding: 0.45em 0.6em; margin: 0 0.25em; line-height: 1; border-radius: 0.35em;\">\n",
       "    In\n",
       "    <span style=\"font-size: 0.8em; font-weight: bold; line-height: 1; border-radius: 0.35em; vertical-align: middle; margin-left: 0.5rem\">DS</span>\n",
       "</mark>\n",
       " the United States approximately 9 people are killed and over a thousand were injured in crashes because they were distracted . Cell phones are leading factors that cause accidents . Teens have been the largest age group reported driving distracted . It has been reported to be over 50 of teens crashes . People should stop driving with cell phones because it end other people's lives . Even a two minute drive going to the store of you picking up your phone can cause a crash . Might not be a major crash but it could ve been avoided . Should only be on your phone if you're \n",
       "<mark class=\"entity\" style=\"background: #ddd; padding: 0.45em 0.6em; margin: 0 0.25em; line-height: 1; border-radius: 0.35em;\">\n",
       "    parked\n",
       "    <span style=\"font-size: 0.8em; font-weight: bold; line-height: 1; border-radius: 0.35em; vertical-align: middle; margin-left: 0.5rem\">DE</span>\n",
       "</mark>\n",
       " . \n",
       "<mark class=\"entity\" style=\"background: #ddd; padding: 0.45em 0.6em; margin: 0 0.25em; line-height: 1; border-radius: 0.35em;\">\n",
       "    People\n",
       "    <span style=\"font-size: 0.8em; font-weight: bold; line-height: 1; border-radius: 0.35em; vertical-align: middle; margin-left: 0.5rem\">DS</span>\n",
       "</mark>\n",
       " should have an hands free set in the car it's safe because they can drive using two hands . Like in the state of Georgia it's illegal to hold your phone while driving even at a red light . The driver can't have the phone touching them while on the phone . It must be on a hands free setup . Hand free stands are helpful . Plus you don't have to worry about getting pulled over . And it somewhat helps the diver from getting \n",
       "<mark class=\"entity\" style=\"background: #ddd; padding: 0.45em 0.6em; margin: 0 0.25em; line-height: 1; border-radius: 0.35em;\">\n",
       "    distracted\n",
       "    <span style=\"font-size: 0.8em; font-weight: bold; line-height: 1; border-radius: 0.35em; vertical-align: middle; margin-left: 0.5rem\">DE</span>\n",
       "</mark>\n",
       " . \n",
       "<mark class=\"entity\" style=\"background: #ddd; padding: 0.45em 0.6em; margin: 0 0.25em; line-height: 1; border-radius: 0.35em;\">\n",
       "    All\n",
       "    <span style=\"font-size: 0.8em; font-weight: bold; line-height: 1; border-radius: 0.35em; vertical-align: middle; margin-left: 0.5rem\">DS</span>\n",
       "</mark>\n",
       " states should consider making it illegal to hold phones while driving . Therefore the average car wreck will go down . These wrecks cause innocent lives leaving loved ones without their family \n",
       "<mark class=\"entity\" style=\"background: #ddd; padding: 0.45em 0.6em; margin: 0 0.25em; line-height: 1; border-radius: 0.35em;\">\n",
       "    member\n",
       "    <span style=\"font-size: 0.8em; font-weight: bold; line-height: 1; border-radius: 0.35em; vertical-align: middle; margin-left: 0.5rem\">DE</span>\n",
       "</mark>\n",
       " . </div></span>"
      ],
      "text/plain": [
       "<IPython.core.display.HTML object>"
      ]
     },
     "metadata": {},
     "output_type": "display_data"
    }
   ],
   "source": [
    "print(\"----------\")\n",
    "print(\"Reference:\")\n",
    "print(\"----------\")\n",
    "display_doc(predicted_examples[ind].reference)\n"
   ]
  },
  {
   "cell_type": "code",
   "execution_count": 90,
   "metadata": {},
   "outputs": [
    {
     "name": "stdout",
     "output_type": "stream",
     "text": [
      "----------\n",
      "Predicted:\n",
      "----------\n"
     ]
    },
    {
     "data": {
      "text/html": [
       "<span class=\"tex2jax_ignore\"><div class=\"entities\" style=\"line-height: 2.5; direction: ltr\">\n",
       "<mark class=\"entity\" style=\"background: #ddd; padding: 0.45em 0.6em; margin: 0 0.25em; line-height: 1; border-radius: 0.35em;\">\n",
       "    Drivers\n",
       "    <span style=\"font-size: 0.8em; font-weight: bold; line-height: 1; border-radius: 0.35em; vertical-align: middle; margin-left: 0.5rem\">DS</span>\n",
       "</mark>\n",
       " should not be able to use cell phones in any capacity while operating a \n",
       "<mark class=\"entity\" style=\"background: #ddd; padding: 0.45em 0.6em; margin: 0 0.25em; line-height: 1; border-radius: 0.35em;\">\n",
       "    vehicle\n",
       "    <span style=\"font-size: 0.8em; font-weight: bold; line-height: 1; border-radius: 0.35em; vertical-align: middle; margin-left: 0.5rem\">DE</span>\n",
       "</mark>\n",
       " . \n",
       "<mark class=\"entity\" style=\"background: #ddd; padding: 0.45em 0.6em; margin: 0 0.25em; line-height: 1; border-radius: 0.35em;\">\n",
       "    Distracted\n",
       "    <span style=\"font-size: 0.8em; font-weight: bold; line-height: 1; border-radius: 0.35em; vertical-align: middle; margin-left: 0.5rem\">DS</span>\n",
       "</mark>\n",
       " driving is one of the most common causes of road \n",
       "<mark class=\"entity\" style=\"background: #ddd; padding: 0.45em 0.6em; margin: 0 0.25em; line-height: 1; border-radius: 0.35em;\">\n",
       "    accidents\n",
       "    <span style=\"font-size: 0.8em; font-weight: bold; line-height: 1; border-radius: 0.35em; vertical-align: middle; margin-left: 0.5rem\">DE</span>\n",
       "</mark>\n",
       " . \n",
       "<mark class=\"entity\" style=\"background: #ddd; padding: 0.45em 0.6em; margin: 0 0.25em; line-height: 1; border-radius: 0.35em;\">\n",
       "    One\n",
       "    <span style=\"font-size: 0.8em; font-weight: bold; line-height: 1; border-radius: 0.35em; vertical-align: middle; margin-left: 0.5rem\">DS</span>\n",
       "</mark>\n",
       " of the main reasons why you shouldn't be using your phone while driving because the human mind is easy to get distracted . Which leads you in a dished . Leading to and unnecessary \n",
       "<mark class=\"entity\" style=\"background: #ddd; padding: 0.45em 0.6em; margin: 0 0.25em; line-height: 1; border-radius: 0.35em;\">\n",
       "    crash\n",
       "    <span style=\"font-size: 0.8em; font-weight: bold; line-height: 1; border-radius: 0.35em; vertical-align: middle; margin-left: 0.5rem\">DE</span>\n",
       "</mark>\n",
       " . \n",
       "<mark class=\"entity\" style=\"background: #ddd; padding: 0.45em 0.6em; margin: 0 0.25em; line-height: 1; border-radius: 0.35em;\">\n",
       "    Worldwide\n",
       "    <span style=\"font-size: 0.8em; font-weight: bold; line-height: 1; border-radius: 0.35em; vertical-align: middle; margin-left: 0.5rem\">DS</span>\n",
       "</mark>\n",
       " over 1 . 6 million crashes happen each year . Nearly over 300 hundred k people are injured . From accidents caused by texting while driving . \n",
       "<mark class=\"entity\" style=\"background: #ddd; padding: 0.45em 0.6em; margin: 0 0.25em; line-height: 1; border-radius: 0.35em;\">\n",
       "    In\n",
       "    <span style=\"font-size: 0.8em; font-weight: bold; line-height: 1; border-radius: 0.35em; vertical-align: middle; margin-left: 0.5rem\">DS</span>\n",
       "</mark>\n",
       " the United States approximately 9 people are killed and over a thousand were injured in crashes because they were distracted . Cell phones are leading factors that cause accidents . Teens have been the largest age group reported driving distracted . It has been reported to be over 50 of teens \n",
       "<mark class=\"entity\" style=\"background: #ddd; padding: 0.45em 0.6em; margin: 0 0.25em; line-height: 1; border-radius: 0.35em;\">\n",
       "    crashes\n",
       "    <span style=\"font-size: 0.8em; font-weight: bold; line-height: 1; border-radius: 0.35em; vertical-align: middle; margin-left: 0.5rem\">DE</span>\n",
       "</mark>\n",
       " . \n",
       "<mark class=\"entity\" style=\"background: #ddd; padding: 0.45em 0.6em; margin: 0 0.25em; line-height: 1; border-radius: 0.35em;\">\n",
       "    People\n",
       "    <span style=\"font-size: 0.8em; font-weight: bold; line-height: 1; border-radius: 0.35em; vertical-align: middle; margin-left: 0.5rem\">DS</span>\n",
       "</mark>\n",
       " should stop driving with cell phones because it end other people's \n",
       "<mark class=\"entity\" style=\"background: #ddd; padding: 0.45em 0.6em; margin: 0 0.25em; line-height: 1; border-radius: 0.35em;\">\n",
       "    lives\n",
       "    <span style=\"font-size: 0.8em; font-weight: bold; line-height: 1; border-radius: 0.35em; vertical-align: middle; margin-left: 0.5rem\">DE</span>\n",
       "</mark>\n",
       " . \n",
       "<mark class=\"entity\" style=\"background: #ddd; padding: 0.45em 0.6em; margin: 0 0.25em; line-height: 1; border-radius: 0.35em;\">\n",
       "    Even\n",
       "    <span style=\"font-size: 0.8em; font-weight: bold; line-height: 1; border-radius: 0.35em; vertical-align: middle; margin-left: 0.5rem\">DS</span>\n",
       "</mark>\n",
       " a two minute drive going to the store of you picking up your phone can cause a crash . Might not be a major crash but it could ve been avoided . Should only be on your phone if you're \n",
       "<mark class=\"entity\" style=\"background: #ddd; padding: 0.45em 0.6em; margin: 0 0.25em; line-height: 1; border-radius: 0.35em;\">\n",
       "    parked\n",
       "    <span style=\"font-size: 0.8em; font-weight: bold; line-height: 1; border-radius: 0.35em; vertical-align: middle; margin-left: 0.5rem\">DE</span>\n",
       "</mark>\n",
       " . \n",
       "<mark class=\"entity\" style=\"background: #ddd; padding: 0.45em 0.6em; margin: 0 0.25em; line-height: 1; border-radius: 0.35em;\">\n",
       "    People\n",
       "    <span style=\"font-size: 0.8em; font-weight: bold; line-height: 1; border-radius: 0.35em; vertical-align: middle; margin-left: 0.5rem\">DS</span>\n",
       "</mark>\n",
       " should have an hands free set in the car it's safe because they can drive using two \n",
       "<mark class=\"entity\" style=\"background: #ddd; padding: 0.45em 0.6em; margin: 0 0.25em; line-height: 1; border-radius: 0.35em;\">\n",
       "    hands\n",
       "    <span style=\"font-size: 0.8em; font-weight: bold; line-height: 1; border-radius: 0.35em; vertical-align: middle; margin-left: 0.5rem\">DE</span>\n",
       "</mark>\n",
       " . \n",
       "<mark class=\"entity\" style=\"background: #ddd; padding: 0.45em 0.6em; margin: 0 0.25em; line-height: 1; border-radius: 0.35em;\">\n",
       "    Like\n",
       "    <span style=\"font-size: 0.8em; font-weight: bold; line-height: 1; border-radius: 0.35em; vertical-align: middle; margin-left: 0.5rem\">DS</span>\n",
       "</mark>\n",
       " in the state of Georgia it's illegal to hold your phone while driving even at a red light . The driver can't have the phone touching them while on the phone . It must be on a hands free setup . Hand free stands are helpful . Plus you don't have to worry about getting pulled over . And it somewhat helps the diver from getting \n",
       "<mark class=\"entity\" style=\"background: #ddd; padding: 0.45em 0.6em; margin: 0 0.25em; line-height: 1; border-radius: 0.35em;\">\n",
       "    distracted\n",
       "    <span style=\"font-size: 0.8em; font-weight: bold; line-height: 1; border-radius: 0.35em; vertical-align: middle; margin-left: 0.5rem\">DE</span>\n",
       "</mark>\n",
       " . \n",
       "<mark class=\"entity\" style=\"background: #ddd; padding: 0.45em 0.6em; margin: 0 0.25em; line-height: 1; border-radius: 0.35em;\">\n",
       "    All\n",
       "    <span style=\"font-size: 0.8em; font-weight: bold; line-height: 1; border-radius: 0.35em; vertical-align: middle; margin-left: 0.5rem\">DS</span>\n",
       "</mark>\n",
       " states should consider making it illegal to hold phones while driving . Therefore the average car wreck will go down . These wrecks cause innocent lives leaving loved ones without their family \n",
       "<mark class=\"entity\" style=\"background: #ddd; padding: 0.45em 0.6em; margin: 0 0.25em; line-height: 1; border-radius: 0.35em;\">\n",
       "    member\n",
       "    <span style=\"font-size: 0.8em; font-weight: bold; line-height: 1; border-radius: 0.35em; vertical-align: middle; margin-left: 0.5rem\">DE</span>\n",
       "</mark>\n",
       " . </div></span>"
      ],
      "text/plain": [
       "<IPython.core.display.HTML object>"
      ]
     },
     "metadata": {},
     "output_type": "display_data"
    }
   ],
   "source": [
    "print(\"----------\")\n",
    "print(\"Predicted:\")\n",
    "print(\"----------\")\n",
    "display_doc(predicted_examples[ind].predicted)"
   ]
  },
  {
   "cell_type": "code",
   "execution_count": 91,
   "metadata": {},
   "outputs": [
    {
     "name": "stdout",
     "output_type": "stream",
     "text": [
      "----------\n",
      "Fixed_pred:\n",
      "----------\n"
     ]
    },
    {
     "data": {
      "text/html": [
       "<span class=\"tex2jax_ignore\"><div class=\"entities\" style=\"line-height: 2.5; direction: ltr\">\n",
       "<mark class=\"entity\" style=\"background: #ddd; padding: 0.45em 0.6em; margin: 0 0.25em; line-height: 1; border-radius: 0.35em;\">\n",
       "    Drivers\n",
       "    <span style=\"font-size: 0.8em; font-weight: bold; line-height: 1; border-radius: 0.35em; vertical-align: middle; margin-left: 0.5rem\">DS</span>\n",
       "</mark>\n",
       " should not be able to use cell phones in any capacity while operating a \n",
       "<mark class=\"entity\" style=\"background: #ddd; padding: 0.45em 0.6em; margin: 0 0.25em; line-height: 1; border-radius: 0.35em;\">\n",
       "    vehicle\n",
       "    <span style=\"font-size: 0.8em; font-weight: bold; line-height: 1; border-radius: 0.35em; vertical-align: middle; margin-left: 0.5rem\">DE</span>\n",
       "</mark>\n",
       " . \n",
       "<mark class=\"entity\" style=\"background: #ddd; padding: 0.45em 0.6em; margin: 0 0.25em; line-height: 1; border-radius: 0.35em;\">\n",
       "    Distracted\n",
       "    <span style=\"font-size: 0.8em; font-weight: bold; line-height: 1; border-radius: 0.35em; vertical-align: middle; margin-left: 0.5rem\">DS</span>\n",
       "</mark>\n",
       " driving is one of the most common causes of road \n",
       "<mark class=\"entity\" style=\"background: #ddd; padding: 0.45em 0.6em; margin: 0 0.25em; line-height: 1; border-radius: 0.35em;\">\n",
       "    accidents\n",
       "    <span style=\"font-size: 0.8em; font-weight: bold; line-height: 1; border-radius: 0.35em; vertical-align: middle; margin-left: 0.5rem\">DE</span>\n",
       "</mark>\n",
       " . \n",
       "<mark class=\"entity\" style=\"background: #ddd; padding: 0.45em 0.6em; margin: 0 0.25em; line-height: 1; border-radius: 0.35em;\">\n",
       "    One\n",
       "    <span style=\"font-size: 0.8em; font-weight: bold; line-height: 1; border-radius: 0.35em; vertical-align: middle; margin-left: 0.5rem\">DS</span>\n",
       "</mark>\n",
       " of the main reasons why you should n't be using your phone while driving because the human mind is easy to get distracted . Which leads you in a dished . Leading to and unnecessary \n",
       "<mark class=\"entity\" style=\"background: #ddd; padding: 0.45em 0.6em; margin: 0 0.25em; line-height: 1; border-radius: 0.35em;\">\n",
       "    crash\n",
       "    <span style=\"font-size: 0.8em; font-weight: bold; line-height: 1; border-radius: 0.35em; vertical-align: middle; margin-left: 0.5rem\">DE</span>\n",
       "</mark>\n",
       " . \n",
       "<mark class=\"entity\" style=\"background: #ddd; padding: 0.45em 0.6em; margin: 0 0.25em; line-height: 1; border-radius: 0.35em;\">\n",
       "    Worldwide\n",
       "    <span style=\"font-size: 0.8em; font-weight: bold; line-height: 1; border-radius: 0.35em; vertical-align: middle; margin-left: 0.5rem\">DS</span>\n",
       "</mark>\n",
       " over 1 . 6 million crashes happen each year . Nearly over 300 hundred k people are injured . From accidents caused by texting while \n",
       "<mark class=\"entity\" style=\"background: #ddd; padding: 0.45em 0.6em; margin: 0 0.25em; line-height: 1; border-radius: 0.35em;\">\n",
       "    driving\n",
       "    <span style=\"font-size: 0.8em; font-weight: bold; line-height: 1; border-radius: 0.35em; vertical-align: middle; margin-left: 0.5rem\">DE</span>\n",
       "</mark>\n",
       " . \n",
       "<mark class=\"entity\" style=\"background: #ddd; padding: 0.45em 0.6em; margin: 0 0.25em; line-height: 1; border-radius: 0.35em;\">\n",
       "    In\n",
       "    <span style=\"font-size: 0.8em; font-weight: bold; line-height: 1; border-radius: 0.35em; vertical-align: middle; margin-left: 0.5rem\">DS</span>\n",
       "</mark>\n",
       " the United States approximately 9 people are killed and over a thousand were injured in crashes because they were distracted . Cell phones are leading factors that cause accidents . Teens have been the largest age group reported driving distracted . It has been reported to be over 50 of teens \n",
       "<mark class=\"entity\" style=\"background: #ddd; padding: 0.45em 0.6em; margin: 0 0.25em; line-height: 1; border-radius: 0.35em;\">\n",
       "    crashes\n",
       "    <span style=\"font-size: 0.8em; font-weight: bold; line-height: 1; border-radius: 0.35em; vertical-align: middle; margin-left: 0.5rem\">DE</span>\n",
       "</mark>\n",
       " . \n",
       "<mark class=\"entity\" style=\"background: #ddd; padding: 0.45em 0.6em; margin: 0 0.25em; line-height: 1; border-radius: 0.35em;\">\n",
       "    People\n",
       "    <span style=\"font-size: 0.8em; font-weight: bold; line-height: 1; border-radius: 0.35em; vertical-align: middle; margin-left: 0.5rem\">DS</span>\n",
       "</mark>\n",
       " should stop driving with cell phones because it end other people 's \n",
       "<mark class=\"entity\" style=\"background: #ddd; padding: 0.45em 0.6em; margin: 0 0.25em; line-height: 1; border-radius: 0.35em;\">\n",
       "    lives\n",
       "    <span style=\"font-size: 0.8em; font-weight: bold; line-height: 1; border-radius: 0.35em; vertical-align: middle; margin-left: 0.5rem\">DE</span>\n",
       "</mark>\n",
       " . \n",
       "<mark class=\"entity\" style=\"background: #ddd; padding: 0.45em 0.6em; margin: 0 0.25em; line-height: 1; border-radius: 0.35em;\">\n",
       "    Even\n",
       "    <span style=\"font-size: 0.8em; font-weight: bold; line-height: 1; border-radius: 0.35em; vertical-align: middle; margin-left: 0.5rem\">DS</span>\n",
       "</mark>\n",
       " a two minute drive going to the store of you picking up your phone can cause a crash . Might not be a major crash but it could ve been avoided . Should only be on your phone if you 're \n",
       "<mark class=\"entity\" style=\"background: #ddd; padding: 0.45em 0.6em; margin: 0 0.25em; line-height: 1; border-radius: 0.35em;\">\n",
       "    parked\n",
       "    <span style=\"font-size: 0.8em; font-weight: bold; line-height: 1; border-radius: 0.35em; vertical-align: middle; margin-left: 0.5rem\">DE</span>\n",
       "</mark>\n",
       " . \n",
       "<mark class=\"entity\" style=\"background: #ddd; padding: 0.45em 0.6em; margin: 0 0.25em; line-height: 1; border-radius: 0.35em;\">\n",
       "    People\n",
       "    <span style=\"font-size: 0.8em; font-weight: bold; line-height: 1; border-radius: 0.35em; vertical-align: middle; margin-left: 0.5rem\">DS</span>\n",
       "</mark>\n",
       " should have an hands free set in the car it 's safe because they can drive using two \n",
       "<mark class=\"entity\" style=\"background: #ddd; padding: 0.45em 0.6em; margin: 0 0.25em; line-height: 1; border-radius: 0.35em;\">\n",
       "    hands\n",
       "    <span style=\"font-size: 0.8em; font-weight: bold; line-height: 1; border-radius: 0.35em; vertical-align: middle; margin-left: 0.5rem\">DE</span>\n",
       "</mark>\n",
       " . \n",
       "<mark class=\"entity\" style=\"background: #ddd; padding: 0.45em 0.6em; margin: 0 0.25em; line-height: 1; border-radius: 0.35em;\">\n",
       "    Like\n",
       "    <span style=\"font-size: 0.8em; font-weight: bold; line-height: 1; border-radius: 0.35em; vertical-align: middle; margin-left: 0.5rem\">DS</span>\n",
       "</mark>\n",
       " in the state of Georgia it 's illegal to hold your phone while driving even at a red light . The driver ca n't have the phone touching them while on the phone . It must be on a hands free setup . Hand free stands are helpful . Plus you do n't have to worry about getting pulled over . And it somewhat helps the diver from getting \n",
       "<mark class=\"entity\" style=\"background: #ddd; padding: 0.45em 0.6em; margin: 0 0.25em; line-height: 1; border-radius: 0.35em;\">\n",
       "    distracted\n",
       "    <span style=\"font-size: 0.8em; font-weight: bold; line-height: 1; border-radius: 0.35em; vertical-align: middle; margin-left: 0.5rem\">DE</span>\n",
       "</mark>\n",
       " . \n",
       "<mark class=\"entity\" style=\"background: #ddd; padding: 0.45em 0.6em; margin: 0 0.25em; line-height: 1; border-radius: 0.35em;\">\n",
       "    All\n",
       "    <span style=\"font-size: 0.8em; font-weight: bold; line-height: 1; border-radius: 0.35em; vertical-align: middle; margin-left: 0.5rem\">DS</span>\n",
       "</mark>\n",
       " states should consider making it illegal to hold phones while driving . Therefore the average car wreck will go down . These wrecks cause innocent lives leaving loved ones without their family \n",
       "<mark class=\"entity\" style=\"background: #ddd; padding: 0.45em 0.6em; margin: 0 0.25em; line-height: 1; border-radius: 0.35em;\">\n",
       "    member\n",
       "    <span style=\"font-size: 0.8em; font-weight: bold; line-height: 1; border-radius: 0.35em; vertical-align: middle; margin-left: 0.5rem\">DE</span>\n",
       "</mark>\n",
       " . </div></span>"
      ],
      "text/plain": [
       "<IPython.core.display.HTML object>"
      ]
     },
     "metadata": {},
     "output_type": "display_data"
    }
   ],
   "source": [
    "print(\"----------\")\n",
    "print(\"Fixed_pred:\")\n",
    "print(\"----------\")\n",
    "display_doc(fixed_examples[ind].predicted)"
   ]
  },
  {
   "cell_type": "code",
   "execution_count": 28,
   "metadata": {},
   "outputs": [],
   "source": [
    "def extract_discourses(doc: Doc, keep_first_ds: bool = False, keep_first_de: bool = False):\n",
    "    discourses = []\n",
    "    tokens = [token.text for token in doc]\n",
    "\n",
    "    last_ent = None\n",
    "    ents = []\n",
    "    deleted_offset = 0\n",
    "    for ind, ent in enumerate(doc.ents):\n",
    "        if ent.label_ == \"DS\" and last_ent == \"DS\":\n",
    "            if not keep_first_ds:\n",
    "                ents[ind - deleted_offset - 1] = ent\n",
    "\n",
    "            deleted_offset += 1\n",
    "            continue\n",
    "\n",
    "        if ent.label_ == \"DE\" and last_ent == \"DE\":\n",
    "            if not keep_first_de:\n",
    "                ents[ind - deleted_offset - 1] = ent\n",
    "\n",
    "            deleted_offset += 1\n",
    "            continue\n",
    "\n",
    "        ents.append(ent)\n",
    "        last_ent = ent.label_\n",
    "\n",
    "    for ent in ents:\n",
    "        print(ent, ent.label_)\n",
    "\n",
    "    last_tag = None\n",
    "    for ind, ent in enumerate(ents):\n",
    "        if ent.label_ == \"DS\":\n",
    "            start_pos = ent.start\n",
    "            last_tag = \"DS\"\n",
    "            continue\n",
    "\n",
    "        if ent.label_ == \"DE\":\n",
    "            assert last_tag == \"DS\", \"DE without DS\"\n",
    "            disc = \" \".join(tokens[start_pos:ent.end])\n",
    "            disc = re.sub(r\" \\.\", \".\", disc)\n",
    "            discourses.append(disc)\n",
    "            start_pos = None\n",
    "            last_tag = \"DE\"\n",
    "            continue\n",
    "    \n",
    "    return discourses\n"
   ]
  },
  {
   "cell_type": "code",
   "execution_count": 48,
   "metadata": {},
   "outputs": [
    {
     "name": "stdout",
     "output_type": "stream",
     "text": [
      "I            B-DS\n",
      "computers    B-DE\n",
      "I'm          B-DS\n",
      "wrong        B-DE\n",
      "Someone      B-DS\n",
      "instence     B-DE\n",
      "They         B-DS\n",
      "of           B-DE\n",
      "Now          B-DS\n",
      "life         B-DE\n",
      "So           B-DS\n",
      "badly        B-DE\n"
     ]
    }
   ],
   "source": [
    "for token in predicted_examples[ind].reference:\n",
    "    if not token.ent_type_:\n",
    "        continue\n",
    "\n",
    "    print(f\"{token.text:12} {token.ent_iob_}-{token.ent_type_}\")"
   ]
  },
  {
   "cell_type": "code",
   "execution_count": 44,
   "metadata": {},
   "outputs": [
    {
     "name": "stdout",
     "output_type": "stream",
     "text": [
      "I            -DS\n",
      "cars         -DE\n",
      "computers    -DE\n",
      "I            -DS\n",
      "'m           -DS\n",
      "machine      -DE\n",
      "If           -DS\n",
      "computer     -DE\n",
      "job          -DE\n",
      "wrong        -DE\n",
      "Someone      -DS\n",
      "nowfunction  -DE\n",
      "Say          -DS\n",
      "of           -DE\n",
      "Now          -DS\n",
      "others       -DE\n",
      "We           -DS\n",
      "life         -DE\n",
      "So           -DS\n",
      "badly        -DE\n"
     ]
    }
   ],
   "source": [
    "for ent in predicted_examples[ind].predicted.ents:\n",
    "    ent: Span = ent\n",
    "    print(f\"{ent.text:12} {ent.label_}\")"
   ]
  },
  {
   "cell_type": "code",
   "execution_count": 92,
   "metadata": {},
   "outputs": [
    {
     "name": "stdout",
     "output_type": "stream",
     "text": [
      "Drivers DS\n",
      "vehicle DE\n",
      "Distracted DS\n",
      "accidents DE\n",
      "One DS\n",
      "distracted DE\n",
      "Which DS\n",
      "crash DE\n",
      "Nearly DS\n",
      "driving DE\n",
      "In DS\n",
      "parked DE\n",
      "People DS\n",
      "distracted DE\n",
      "All DS\n",
      "member DE\n"
     ]
    }
   ],
   "source": [
    "doc = predicted_examples[ind].reference\n",
    "ref = extract_discourses(doc)"
   ]
  },
  {
   "cell_type": "code",
   "execution_count": 93,
   "metadata": {},
   "outputs": [
    {
     "name": "stdout",
     "output_type": "stream",
     "text": [
      "Drivers DS\n",
      "vehicle DE\n",
      "Distracted DS\n",
      "accidents DE\n",
      "One DS\n",
      "crash DE\n",
      "In DS\n",
      "crashes DE\n",
      "People DS\n",
      "lives DE\n",
      "Even DS\n",
      "parked DE\n",
      "People DS\n",
      "hands DE\n",
      "Like DS\n",
      "distracted DE\n",
      "All DS\n",
      "member DE\n"
     ]
    }
   ],
   "source": [
    "doc = predicted_examples[ind].predicted\n",
    "pred = extract_discourses(doc, keep_first_de=True)"
   ]
  },
  {
   "cell_type": "code",
   "execution_count": 94,
   "metadata": {},
   "outputs": [
    {
     "data": {
      "text/plain": [
       "['Drivers should not be able to use cell phones in any capacity while operating a vehicle',\n",
       " 'Distracted driving is one of the most common causes of road accidents',\n",
       " \"One of the main reasons why you should n't be using your phone while driving because the human mind is easy to get distracted. Which leads you in a dished. Leading to and unnecessary crash\",\n",
       " 'In the United States approximately 9 people are killed and over a thousand were injured in crashes because they were distracted. Cell phones are leading factors that cause accidents. Teens have been the largest age group reported driving distracted. It has been reported to be over 50 of teens crashes',\n",
       " \"People should stop driving with cell phones because it end other people 's lives\",\n",
       " \"Even a two minute drive going to the store of you picking up your phone can cause a crash. Might not be a major crash but it could ve been avoided. Should only be on your phone if you 're parked\",\n",
       " \"People should have an hands free set in the car it 's safe because they can drive using two hands\",\n",
       " \"Like in the state of Georgia it 's illegal to hold your phone while driving even at a red light. The driver ca n't have the phone touching them while on the phone. It must be on a hands free setup. Hand free stands are helpful. Plus you do n't have to worry about getting pulled over. And it somewhat helps the diver from getting distracted\",\n",
       " 'All states should consider making it illegal to hold phones while driving. Therefore the average car wreck will go down. These wrecks cause innocent lives leaving loved ones without their family member']"
      ]
     },
     "execution_count": 94,
     "metadata": {},
     "output_type": "execute_result"
    }
   ],
   "source": [
    "pred"
   ]
  },
  {
   "cell_type": "code",
   "execution_count": 95,
   "metadata": {},
   "outputs": [
    {
     "name": "stdout",
     "output_type": "stream",
     "text": [
      "521 / 155902F159741CBBE\n"
     ]
    }
   ],
   "source": [
    "search_phrase = \"In the United States approximately 9 people are killed and over a thousand were injured\"\n",
    "for text in loader.iterate(purify_discourses=True, purify_text=True, verbose=True):\n",
    "    if search_phrase in text.text:\n",
    "        print(text.id)\n",
    "        break"
   ]
  },
  {
   "cell_type": "code",
   "execution_count": null,
   "metadata": {},
   "outputs": [],
   "source": [
    "# NOTE:\n",
    "# 2F159741CBBE text is good for analyzing in the document"
   ]
  },
  {
   "cell_type": "code",
   "execution_count": 96,
   "metadata": {},
   "outputs": [
    {
     "name": "stdout",
     "output_type": "stream",
     "text": [
      "--- 1622645414624 (0 -> 88 | 0 -> 15) - Position ---\n",
      "Drivers should not be able to use cell phones in any capacity while operating a vehicle.\n",
      "----------------------------------------------------\n",
      "--- 1622645484351 (89 -> 159 | 16 -> 27) - Evidence ---\n",
      "Distracted driving is one of the most common causes of road accidents.\n",
      "-------------------------------------------------------\n",
      "--- 1622645493326 (160 -> 285 | 28 -> 50) - Claim ---\n",
      "One of the main reasons why you shouldn't be using your phone while driving because the human mind is easy to get distracted.\n",
      "-----------------------------------------------------\n",
      "--- 1622645501622 (286 -> 348 | 51 -> 61) - Evidence ---\n",
      "Which leads you in a dished. Leading to and unnecessary crash.\n",
      "--------------------------------------------------------\n",
      "--- 1622645530702 (403 -> 496 | 71 -> 85) - Claim ---\n",
      "Nearly over 300 hundred k people are injured. From accidents caused by texting while driving.\n",
      "-----------------------------------------------------\n",
      "--- 1622645538439 (497 -> 1075 | 86 -> 188) - Evidence ---\n",
      "In the United States approximately 9 people are killed and over a thousand were injured in crashes because they were distracted. Cell phones are leading factors that cause accidents. Teens have been the largest age group reported driving distracted. It has been reported to be over 50 of teens crashes. People should stop driving with cell phones because it end other people's lives. Even a two minute drive going to the store of you picking up your phone can cause a crash. Might not be a major crash but it could ve been avoided. Should only be on your phone if you're parked.\n",
      "----------------------------------------------------------\n",
      "--- 1622645555910 (1076 -> 1511 | 189 -> 270) - Evidence ---\n",
      "People should have an hands free set in the car it's safe because they can drive using two hands. Like in the state of Georgia it's illegal to hold your phone while driving even at a red light. The driver can't have the phone touching them while on the phone. It must be on a hands free setup. Hand free stands are helpful. Plus you don't have to worry about getting pulled over. And it somewhat helps the diver from getting distracted\n",
      "------------------------------------------------------------\n",
      "--- 1622645562998 (1513 -> 1715 | 271 -> 302) - Concluding Statement ---\n",
      "All states should consider making it illegal to hold phones while driving. Therefore the average car wreck will go down. These wrecks cause innocent lives leaving loved ones without their family member.\n",
      "------------------------------------------------------------------------\n"
     ]
    }
   ],
   "source": [
    "text = loader.load_text_with_id(\"2F159741CBBE\")\n",
    "for disc in text.discourses:\n",
    "    print(disc)"
   ]
  },
  {
   "cell_type": "code",
   "execution_count": 32,
   "metadata": {},
   "outputs": [
    {
     "name": "stdout",
     "output_type": "stream",
     "text": [
      "Ref:\n",
      "----\n",
      "Whats wrong with her My parents had found those words falling out of their mouths faster than they could stop it and louder each time that they were spoken. Years had gone by from when I had been previously hospitalized for a auto immune system disease two to be exact and I was back to where I was before. I began to have seizures and panic attacks regularly without a rhyme or reason which not only was unsettling but dangerous. My mom took me to the doctors and they wanted to send me away to some mental hospital. Both of my parents were taken aback at the lack of bedside manners and were concerned about the negative tone that this doctor was speaking in\n",
      "----\n",
      "Pred:\n",
      "----\n",
      "What s wrong with her My parents had found those words falling out of their mouths faster than they could stop it and louder each time that they were spoken. Years had gone by from when I had been previously hospitalized for a auto immune system disease two to be exact and I was back to where I was before. I began to have seizures and panic attacks regularly without a rhyme or reason which not only was unsettling but dangerous. My mom took me to the doctors and they wanted to send me away to some mental hospital. Both of my parents were taken aback at the lack of bedside manners and were concerned about the negative tone that this doctor was speaking in\n",
      "\n",
      "####\n",
      "\n",
      "Ref:\n",
      "----\n",
      "When you ask for advice it's best that you ask not only one but multiple people\n",
      "----\n",
      "Pred:\n",
      "----\n",
      "When you ask for advice it 's best that you ask not only one but multiple people because you never know if the person is biased or if the person truly understands the question and even hearing the problem over again can help you analyze and find the best choice\n",
      "\n",
      "####\n",
      "\n",
      "Ref:\n",
      "----\n",
      "you never know if the person is biased\n",
      "----\n",
      "Pred:\n",
      "----\n",
      "Mental health has been stigmatized for years and unfortunately that stigma prevented me from getting a quick diagnoses. My mom decided to take me to the doctors office after intense panic attacks dissociation episodes and seizures. The doctor had claimed that I was simply a nut case and that i was to be institutionalized. Even at the age of six I felt like I should hide my issues that I should n't tell people how I felt because they would think less of me or they would think i was crazy. Until I met with a neurologist. The neurologist told me all about what was actually going on inside my brain and how I should n't be ashamed of it but she also told me that some people are biased when it comes to mental health and how some people do n't believe that these issues even exist\n",
      "\n",
      "####\n",
      "\n",
      "Ref:\n",
      "----\n",
      "if the person truly understands the question\n",
      "----\n",
      "Pred:\n",
      "----\n",
      "The unknown is something most people fear. It 's only human to want to know everything but sometimes we do nt know things and that 's a hard thing to admit especially when you are a doctor working on the case of a dying six year old. I had met doctors that have flat out told me that they did n't know what was wrong with my brain but i 've also met doctors that thought they did but really did n't. It was always you have this you have that and the second opinion was different from the first and the third was different from the fourth. We could n't find a common connection between each diagnoses. The treatments for each separate diagnoses would n't help me in fact they would hurt me more. Medicines and therapy were a constant for me but the unknown did n't provide much information so therapy was almost useless. We started to ask around everywhere for answers hoping someone knowledgeable would show up and help us. It was four months into the mystery that was my brain and frankly we were starting to lose hope. My body had taken a toll from various medicines and hospital trips I was pulled out of school as well as dance. The only thing I could do was sit in the hospital bed and read. My one friend was my neurologist she would come in and check up on me everyday when i was in the hospital. She would always listen to my mom 's complaints or my father 's awful jokes she would constantly reassure my brother that i was going to be okay. Whenever she visited she would talk to me about things that she thought would help figure out what i had that was when i realized that she had n't once stopped thinking about this we had told her so many times what was happening she was starting to put pieces together and make the best choice. One fateful day a doctor came in the room with a clipboard and paper he simply handed it to my parents and that s when a wave of relief flooded the room we finally had a logical diagnoses. My neurologist had spent so much time listening to us and hearing this problem over and over again that it stuck with her she eventually thought over it so many times that she figured out the best possible diagnoses and treatment. Encephalitis and a Micoplasma infection. My Parents often find themselves using those words when describing how I have become such a curious and mature young woman\n",
      "\n",
      "####\n",
      "\n",
      "Ref:\n",
      "----\n",
      "hearing the problem over again can help you analyze and find the best choice\n",
      "----\n",
      "Pred:\n",
      "----\n",
      "Making decisions is hard especially when you have to make them for yourself. My parents have always been supportive of letting me make decisions on my own but they always gave me plenty of advice and during times like then advice is exactly what i needed but i also needed advice from someone other than my parents and i made the hard decision that i would listen to the doctors as an adult would as well as listen to my parents to make my choice. The choice i made ended up being the best possible choice and i am forever grateful that i learned this lesson\n",
      "\n",
      "####\n",
      "\n",
      "Ref:\n",
      "----\n",
      "Mental health has been stigmatized for years and unfortunately that stigma prevented me from getting a quick diagnoses. My mom decided to take me to the doctors office after intense panic attacks dissociation episodes and seizures. The doctor had claimed that I was simply a nut case and that i was to be institutionalized. Even at the age of six I felt like I should hide my issues that I shouldn't tell people how I felt because they would think less of me or they would think i was crazy. Until I met with a neurologist. The neurologist told me all about what was actually going on inside my brain and how I shouldn't be ashamed of it but she also told me that some people are biased when it comes to mental health and how some people don't believe that these issues even exist. I spent a while thinking about how many of the nurses and doctors I had seen and how they told me that i was just a little girl throwing temper tantrums or that I had been sheltered too much as baby and how no one ever wanted to talk about my mental health. Thats when i realized\n",
      "----\n",
      "Pred:\n",
      "----\n",
      "When you ask for advice it 's best that you ask not only one but multiple people because you never know if the person is biased or if the person truly understands the question and even hearing the problem over again can help you analyze and find the best possible choice\n",
      "\n",
      "####\n",
      "\n",
      "Ref:\n",
      "----\n",
      "The unknown is something most people fear. It's only human to want to know everything but sometimes we dont know things and that's a hard thing to admit especially when you are a doctor working on the case of a dying six year old. I had met doctors that have flat out told me that they didn't know what was wrong with my brain but i've also met doctors that thought they did but really didn't. It was always you have this you have that and the second opinion was different from the first and the third was different from the fourth. We couldn't find a common connection between each diagnoses. The treatments for each separate diagnoses wouldn't help me in fact they would hurt me more. Medicines and therapy were a constant for me but the unknown didn't provide much information so therapy was almost useless\n",
      "\n",
      "####\n",
      "\n",
      "Ref:\n",
      "----\n",
      "We started to ask around everywhere for answers hoping someone knowledgeable would show up and help us\n",
      "\n",
      "####\n",
      "\n",
      "Ref:\n",
      "----\n",
      "It was four months into the mystery that was my brain and frankly we were starting to lose hope. My body had taken a toll from various medicines and hospital trips I was pulled out of school as well as dance. The only thing I could do was sit in the hospital bed and read. My one friend was my neurologist she would come in and check up on me everyday when i was in the hospital. She would always listen to my mom's complaints or my father's awful jokes she would constantly reassure my brother that i was going to be okay. Whenever she visited she would talk to me about things that she thought would help figure out what i had that was when i realized that she hadn't once stopped thinking about this we had told her so many times what was happening she was starting to put pieces together and make the best choice. One fateful day a doctor came in the room with a clipboard and paper he simply handed it to my parents and thats when a wave of relief flooded the room we finally had a logical diagnoses. My neurologist had spent so much time listening to us and hearing this problem over and over again that it stuck with her\n",
      "\n",
      "####\n",
      "\n",
      "Ref:\n",
      "----\n",
      "Encephalitis and a Micoplasma infection. My Parents often find themselves using those words when describing how I have become such a curious and mature young woman. Making decisions is hard especially when you have to make them for yourself. My parents have always been supportive of letting me make decisions on my own but they always gave me plenty of advice and during times like then advice is exactly what i needed but i also needed advice from someone other than my parents and i made the hard decision that i would listen to the doctors as an adult would as well as listen to my parents to make my choice. The choice i made ended up being the best possible choice and i am forever grateful that i learned this lesson. When you ask for advice it's best that you ask not only one but multiple people because you never know if the person is biased or if the person truly understands the question and even hearing the problem over again can help you analyze and find the best possible choice\n",
      "\n",
      "####\n",
      "\n"
     ]
    }
   ],
   "source": [
    "for ind, ref_item in enumerate(ref):\n",
    "    print(f\"Ref:\\n----\\n{ref_item}\")\n",
    "    if ind < len(pred):\n",
    "        print(f\"----\\nPred:\\n----\\n{pred[ind]}\")\n",
    "    \n",
    "    print(\"\\n####\\n\")"
   ]
  },
  {
   "cell_type": "code",
   "execution_count": null,
   "metadata": {},
   "outputs": [],
   "source": []
  }
 ],
 "metadata": {
  "kernelspec": {
   "display_name": "nlp",
   "language": "python",
   "name": "python3"
  },
  "language_info": {
   "codemirror_mode": {
    "name": "ipython",
    "version": 3
   },
   "file_extension": ".py",
   "mimetype": "text/x-python",
   "name": "python",
   "nbconvert_exporter": "python",
   "pygments_lexer": "ipython3",
   "version": "3.9.15"
  },
  "orig_nbformat": 4,
  "vscode": {
   "interpreter": {
    "hash": "572f6aa65a5e6c51562016b4e29a85b0309fe64d207fe345880514900c6994ab"
   }
  }
 },
 "nbformat": 4,
 "nbformat_minor": 2
}
