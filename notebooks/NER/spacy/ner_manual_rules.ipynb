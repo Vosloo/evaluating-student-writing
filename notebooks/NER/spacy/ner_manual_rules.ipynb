{
 "cells": [
  {
   "cell_type": "code",
   "execution_count": 1,
   "metadata": {},
   "outputs": [],
   "source": [
    "import sys\n",
    "from pathlib import Path"
   ]
  },
  {
   "cell_type": "code",
   "execution_count": 2,
   "metadata": {},
   "outputs": [],
   "source": [
    "module_path = Path.cwd().parents[2]\n",
    "if module_path not in sys.path:\n",
    "    sys.path.append(str(module_path))"
   ]
  },
  {
   "cell_type": "code",
   "execution_count": 3,
   "metadata": {},
   "outputs": [
    {
     "data": {
      "text/plain": [
       "PosixPath('/home/marek/Projects/Python/evaluating-student-writing')"
      ]
     },
     "execution_count": 3,
     "metadata": {},
     "output_type": "execute_result"
    }
   ],
   "source": [
    "module_path"
   ]
  },
  {
   "cell_type": "code",
   "execution_count": 4,
   "metadata": {},
   "outputs": [
    {
     "name": "stderr",
     "output_type": "stream",
     "text": [
      "/home/marek/mambaforge/envs/nlp/lib/python3.9/site-packages/tqdm/auto.py:22: TqdmWarning: IProgress not found. Please update jupyter and ipywidgets. See https://ipywidgets.readthedocs.io/en/stable/user_install.html\n",
      "  from .autonotebook import tqdm as notebook_tqdm\n"
     ]
    }
   ],
   "source": [
    "import spacy\n",
    "from spacy.scorer import Scorer\n",
    "from spacy.tokens import Doc, DocBin\n",
    "from spacy.training import Example"
   ]
  },
  {
   "cell_type": "code",
   "execution_count": 33,
   "metadata": {},
   "outputs": [
    {
     "data": {
      "text/plain": [
       "True"
      ]
     },
     "execution_count": 33,
     "metadata": {},
     "output_type": "execute_result"
    }
   ],
   "source": [
    "spacy.prefer_gpu()"
   ]
  },
  {
   "cell_type": "code",
   "execution_count": 5,
   "metadata": {},
   "outputs": [],
   "source": [
    "from src.loader import TextLoader\n",
    "from src.model import DatasetType, Text"
   ]
  },
  {
   "cell_type": "code",
   "execution_count": 6,
   "metadata": {},
   "outputs": [],
   "source": [
    "loader = TextLoader(dataset_type=DatasetType.V1_WITH_PREDICTIONSTRING)\n",
    "nlp = spacy.load(\"models/spacy_resume/model-best/\")"
   ]
  },
  {
   "cell_type": "code",
   "execution_count": 7,
   "metadata": {},
   "outputs": [
    {
     "data": {
      "text/plain": [
       "'41BEF59908B1'"
      ]
     },
     "execution_count": 7,
     "metadata": {},
     "output_type": "execute_result"
    }
   ],
   "source": [
    "text = loader.load_random_text(purify_discourses=True, purify_text=True)\n",
    "text.id"
   ]
  },
  {
   "cell_type": "code",
   "execution_count": 8,
   "metadata": {},
   "outputs": [
    {
     "name": "stdout",
     "output_type": "stream",
     "text": [
      "--- 1620150366219 (0 -> 58 | 0 -> 10) - Position ---\n",
      "Student should be able to bring their cell phone to school\n",
      "----------------------------------------------------\n",
      "--- 1620150374111 (59 -> 140 | 11 -> 24) - Claim ---\n",
      "because if something goes wrong they can always get in touch with their parent's.\n",
      "----------------------------------------------------\n",
      "--- 1620150380668 (141 -> 449 | 25 -> 86) - Evidence ---\n",
      "some kids walk home after school and they might need to call their they parent to let them know that their okay. when they have their free time and lunch break it's best to use the phone they can be able to text and talk on their cell phone with out anyone taking their phone and telling them to put it away.\n",
      "--------------------------------------------------------\n",
      "--- 1620150391574 (450 -> 621 | 87 -> 117) - Claim ---\n",
      "kids should turn off their cellular dives because while their in class the phone will not interrupt the teacher are the class and it will not throw them off their subject.\n",
      "------------------------------------------------------\n",
      "--- 1620150401910 (622 -> 1122 | 118 -> 217) - Evidence ---\n",
      "the cell phone can start trouble because of the phone call's and text's and the teacher will keep telling them to turn it off and they never listen and by the ring tone keep playing the teacher will not be able to tech her class and then the other students will think they can call and text any time the feel free to use it in class. the phones should be turn off not on vibrate why off because while the child taking a test they can text another person and ask for answer and it will throw them off.\n",
      "-----------------------------------------------------------\n",
      "--- 1620150427942 (1123 -> 1347 | 218 -> 261) - Claim ---\n",
      "They should keep their phones always in their pockets because people can always lose their phone or get it stolen from them because they did not put it in a safer place or they laid it down some where it should not have been\n",
      "---------------------------------------------------------\n"
     ]
    }
   ],
   "source": [
    "for disc in text.discourses:\n",
    "    print(disc)"
   ]
  },
  {
   "cell_type": "code",
   "execution_count": 9,
   "metadata": {},
   "outputs": [],
   "source": [
    "def create_manual_doc(text: Text):\n",
    "    word_idx = []\n",
    "    for disc in text.discourses:\n",
    "        word_idx.extend((disc.predictionstring[0], disc.predictionstring[-1]))\n",
    "\n",
    "    ents = []\n",
    "\n",
    "    DS_token = \"B-DS\"\n",
    "    DE_token = \"B-DE\"\n",
    "    use_DS = True\n",
    "    for ind, word in enumerate(text.words):\n",
    "        if use_DS:\n",
    "            curr_token = DS_token\n",
    "        else:\n",
    "            curr_token = DE_token\n",
    "\n",
    "        if ind in word_idx:\n",
    "            ents.append(curr_token)\n",
    "            use_DS = not use_DS\n",
    "        else:\n",
    "            ents.append(\"O\")\n",
    "\n",
    "    return Doc(nlp.vocab, text.words, ents=ents)\n",
    "\n",
    "\n",
    "def display_doc(doc: Doc):\n",
    "    spacy.displacy.render(doc, style=\"ent\", jupyter=True)"
   ]
  },
  {
   "cell_type": "code",
   "execution_count": 10,
   "metadata": {},
   "outputs": [],
   "source": [
    "manual_doc = create_manual_doc(text)"
   ]
  },
  {
   "cell_type": "code",
   "execution_count": 11,
   "metadata": {},
   "outputs": [
    {
     "data": {
      "text/html": [
       "<span class=\"tex2jax_ignore\"><div class=\"entities\" style=\"line-height: 2.5; direction: ltr\">\n",
       "<mark class=\"entity\" style=\"background: #ddd; padding: 0.45em 0.6em; margin: 0 0.25em; line-height: 1; border-radius: 0.35em;\">\n",
       "    Student\n",
       "    <span style=\"font-size: 0.8em; font-weight: bold; line-height: 1; border-radius: 0.35em; vertical-align: middle; margin-left: 0.5rem\">DS</span>\n",
       "</mark>\n",
       " should be able to bring their cell phone to \n",
       "<mark class=\"entity\" style=\"background: #ddd; padding: 0.45em 0.6em; margin: 0 0.25em; line-height: 1; border-radius: 0.35em;\">\n",
       "    school\n",
       "    <span style=\"font-size: 0.8em; font-weight: bold; line-height: 1; border-radius: 0.35em; vertical-align: middle; margin-left: 0.5rem\">DE</span>\n",
       "</mark>\n",
       " \n",
       "<mark class=\"entity\" style=\"background: #ddd; padding: 0.45em 0.6em; margin: 0 0.25em; line-height: 1; border-radius: 0.35em;\">\n",
       "    because\n",
       "    <span style=\"font-size: 0.8em; font-weight: bold; line-height: 1; border-radius: 0.35em; vertical-align: middle; margin-left: 0.5rem\">DS</span>\n",
       "</mark>\n",
       " if something goes wrong they can always get in touch with their \n",
       "<mark class=\"entity\" style=\"background: #ddd; padding: 0.45em 0.6em; margin: 0 0.25em; line-height: 1; border-radius: 0.35em;\">\n",
       "    parent's.\n",
       "    <span style=\"font-size: 0.8em; font-weight: bold; line-height: 1; border-radius: 0.35em; vertical-align: middle; margin-left: 0.5rem\">DE</span>\n",
       "</mark>\n",
       " \n",
       "<mark class=\"entity\" style=\"background: #ddd; padding: 0.45em 0.6em; margin: 0 0.25em; line-height: 1; border-radius: 0.35em;\">\n",
       "    some\n",
       "    <span style=\"font-size: 0.8em; font-weight: bold; line-height: 1; border-radius: 0.35em; vertical-align: middle; margin-left: 0.5rem\">DS</span>\n",
       "</mark>\n",
       " kids walk home after school and they might need to call their they parent to let them know that their okay. when they have their free time and lunch break it's best to use the phone they can be able to text and talk on their cell phone with out anyone taking their phone and telling them to put it \n",
       "<mark class=\"entity\" style=\"background: #ddd; padding: 0.45em 0.6em; margin: 0 0.25em; line-height: 1; border-radius: 0.35em;\">\n",
       "    away.\n",
       "    <span style=\"font-size: 0.8em; font-weight: bold; line-height: 1; border-radius: 0.35em; vertical-align: middle; margin-left: 0.5rem\">DE</span>\n",
       "</mark>\n",
       " \n",
       "<mark class=\"entity\" style=\"background: #ddd; padding: 0.45em 0.6em; margin: 0 0.25em; line-height: 1; border-radius: 0.35em;\">\n",
       "    kids\n",
       "    <span style=\"font-size: 0.8em; font-weight: bold; line-height: 1; border-radius: 0.35em; vertical-align: middle; margin-left: 0.5rem\">DS</span>\n",
       "</mark>\n",
       " should turn off their cellular dives because while their in class the phone will not interrupt the teacher are the class and it will not throw them off their \n",
       "<mark class=\"entity\" style=\"background: #ddd; padding: 0.45em 0.6em; margin: 0 0.25em; line-height: 1; border-radius: 0.35em;\">\n",
       "    subject.\n",
       "    <span style=\"font-size: 0.8em; font-weight: bold; line-height: 1; border-radius: 0.35em; vertical-align: middle; margin-left: 0.5rem\">DE</span>\n",
       "</mark>\n",
       " \n",
       "<mark class=\"entity\" style=\"background: #ddd; padding: 0.45em 0.6em; margin: 0 0.25em; line-height: 1; border-radius: 0.35em;\">\n",
       "    the\n",
       "    <span style=\"font-size: 0.8em; font-weight: bold; line-height: 1; border-radius: 0.35em; vertical-align: middle; margin-left: 0.5rem\">DS</span>\n",
       "</mark>\n",
       " cell phone can start trouble because of the phone call's and text's and the teacher will keep telling them to turn it off and they never listen and by the ring tone keep playing the teacher will not be able to tech her class and then the other students will think they can call and text any time the feel free to use it in class. the phones should be turn off not on vibrate why off because while the child taking a test they can text another person and ask for answer and it will throw them \n",
       "<mark class=\"entity\" style=\"background: #ddd; padding: 0.45em 0.6em; margin: 0 0.25em; line-height: 1; border-radius: 0.35em;\">\n",
       "    off.\n",
       "    <span style=\"font-size: 0.8em; font-weight: bold; line-height: 1; border-radius: 0.35em; vertical-align: middle; margin-left: 0.5rem\">DE</span>\n",
       "</mark>\n",
       " \n",
       "<mark class=\"entity\" style=\"background: #ddd; padding: 0.45em 0.6em; margin: 0 0.25em; line-height: 1; border-radius: 0.35em;\">\n",
       "    They\n",
       "    <span style=\"font-size: 0.8em; font-weight: bold; line-height: 1; border-radius: 0.35em; vertical-align: middle; margin-left: 0.5rem\">DS</span>\n",
       "</mark>\n",
       " should keep their phones always in their pockets because people can always lose their phone or get it stolen from them because they did not put it in a safer place or they laid it down some where it should not have \n",
       "<mark class=\"entity\" style=\"background: #ddd; padding: 0.45em 0.6em; margin: 0 0.25em; line-height: 1; border-radius: 0.35em;\">\n",
       "    been.\n",
       "    <span style=\"font-size: 0.8em; font-weight: bold; line-height: 1; border-radius: 0.35em; vertical-align: middle; margin-left: 0.5rem\">DE</span>\n",
       "</mark>\n",
       " </div></span>"
      ],
      "text/plain": [
       "<IPython.core.display.HTML object>"
      ]
     },
     "metadata": {},
     "output_type": "display_data"
    }
   ],
   "source": [
    "display_doc(manual_doc)"
   ]
  },
  {
   "cell_type": "code",
   "execution_count": 12,
   "metadata": {},
   "outputs": [],
   "source": [
    "doc = nlp(text.text)\n"
   ]
  },
  {
   "cell_type": "code",
   "execution_count": 13,
   "metadata": {},
   "outputs": [
    {
     "data": {
      "text/html": [
       "<span class=\"tex2jax_ignore\"><div class=\"entities\" style=\"line-height: 2.5; direction: ltr\">\n",
       "<mark class=\"entity\" style=\"background: #ddd; padding: 0.45em 0.6em; margin: 0 0.25em; line-height: 1; border-radius: 0.35em;\">\n",
       "    Student\n",
       "    <span style=\"font-size: 0.8em; font-weight: bold; line-height: 1; border-radius: 0.35em; vertical-align: middle; margin-left: 0.5rem\">DS</span>\n",
       "</mark>\n",
       " should be able to bring their cell phone to \n",
       "<mark class=\"entity\" style=\"background: #ddd; padding: 0.45em 0.6em; margin: 0 0.25em; line-height: 1; border-radius: 0.35em;\">\n",
       "    school\n",
       "    <span style=\"font-size: 0.8em; font-weight: bold; line-height: 1; border-radius: 0.35em; vertical-align: middle; margin-left: 0.5rem\">DE</span>\n",
       "</mark>\n",
       " because if something goes wrong they can always get in touch with their \n",
       "<mark class=\"entity\" style=\"background: #ddd; padding: 0.45em 0.6em; margin: 0 0.25em; line-height: 1; border-radius: 0.35em;\">\n",
       "    parent\n",
       "    <span style=\"font-size: 0.8em; font-weight: bold; line-height: 1; border-radius: 0.35em; vertical-align: middle; margin-left: 0.5rem\">DE</span>\n",
       "</mark>\n",
       "\n",
       "<mark class=\"entity\" style=\"background: #ddd; padding: 0.45em 0.6em; margin: 0 0.25em; line-height: 1; border-radius: 0.35em;\">\n",
       "    's\n",
       "    <span style=\"font-size: 0.8em; font-weight: bold; line-height: 1; border-radius: 0.35em; vertical-align: middle; margin-left: 0.5rem\">DE</span>\n",
       "</mark>\n",
       ". \n",
       "<mark class=\"entity\" style=\"background: #ddd; padding: 0.45em 0.6em; margin: 0 0.25em; line-height: 1; border-radius: 0.35em;\">\n",
       "    some\n",
       "    <span style=\"font-size: 0.8em; font-weight: bold; line-height: 1; border-radius: 0.35em; vertical-align: middle; margin-left: 0.5rem\">DS</span>\n",
       "</mark>\n",
       " kids walk home after school and they might need to call their they parent to let them know that their \n",
       "<mark class=\"entity\" style=\"background: #ddd; padding: 0.45em 0.6em; margin: 0 0.25em; line-height: 1; border-radius: 0.35em;\">\n",
       "    okay\n",
       "    <span style=\"font-size: 0.8em; font-weight: bold; line-height: 1; border-radius: 0.35em; vertical-align: middle; margin-left: 0.5rem\">DE</span>\n",
       "</mark>\n",
       ". \n",
       "<mark class=\"entity\" style=\"background: #ddd; padding: 0.45em 0.6em; margin: 0 0.25em; line-height: 1; border-radius: 0.35em;\">\n",
       "    when\n",
       "    <span style=\"font-size: 0.8em; font-weight: bold; line-height: 1; border-radius: 0.35em; vertical-align: middle; margin-left: 0.5rem\">DS</span>\n",
       "</mark>\n",
       " they have their free time and lunch break it's best to use the phone they can be able to text and talk on their cell phone with out anyone taking their phone and telling them to put it \n",
       "<mark class=\"entity\" style=\"background: #ddd; padding: 0.45em 0.6em; margin: 0 0.25em; line-height: 1; border-radius: 0.35em;\">\n",
       "    away\n",
       "    <span style=\"font-size: 0.8em; font-weight: bold; line-height: 1; border-radius: 0.35em; vertical-align: middle; margin-left: 0.5rem\">DE</span>\n",
       "</mark>\n",
       ". \n",
       "<mark class=\"entity\" style=\"background: #ddd; padding: 0.45em 0.6em; margin: 0 0.25em; line-height: 1; border-radius: 0.35em;\">\n",
       "    kids\n",
       "    <span style=\"font-size: 0.8em; font-weight: bold; line-height: 1; border-radius: 0.35em; vertical-align: middle; margin-left: 0.5rem\">DS</span>\n",
       "</mark>\n",
       " should turn off their cellular dives because while their in class the phone will not interrupt the teacher are the class and it will not throw them off their \n",
       "<mark class=\"entity\" style=\"background: #ddd; padding: 0.45em 0.6em; margin: 0 0.25em; line-height: 1; border-radius: 0.35em;\">\n",
       "    subject\n",
       "    <span style=\"font-size: 0.8em; font-weight: bold; line-height: 1; border-radius: 0.35em; vertical-align: middle; margin-left: 0.5rem\">DE</span>\n",
       "</mark>\n",
       ". \n",
       "<mark class=\"entity\" style=\"background: #ddd; padding: 0.45em 0.6em; margin: 0 0.25em; line-height: 1; border-radius: 0.35em;\">\n",
       "    the\n",
       "    <span style=\"font-size: 0.8em; font-weight: bold; line-height: 1; border-radius: 0.35em; vertical-align: middle; margin-left: 0.5rem\">DS</span>\n",
       "</mark>\n",
       " cell phone can start trouble because of the phone call's and text's and the teacher will keep telling them to turn it off and they never listen and by the ring tone keep playing the teacher will not be able to tech her class and then the other students will think they can call and text any time the feel free to use it in \n",
       "<mark class=\"entity\" style=\"background: #ddd; padding: 0.45em 0.6em; margin: 0 0.25em; line-height: 1; border-radius: 0.35em;\">\n",
       "    class\n",
       "    <span style=\"font-size: 0.8em; font-weight: bold; line-height: 1; border-radius: 0.35em; vertical-align: middle; margin-left: 0.5rem\">DE</span>\n",
       "</mark>\n",
       ". \n",
       "<mark class=\"entity\" style=\"background: #ddd; padding: 0.45em 0.6em; margin: 0 0.25em; line-height: 1; border-radius: 0.35em;\">\n",
       "    the\n",
       "    <span style=\"font-size: 0.8em; font-weight: bold; line-height: 1; border-radius: 0.35em; vertical-align: middle; margin-left: 0.5rem\">DS</span>\n",
       "</mark>\n",
       " phones should be turn off not on vibrate why off because while the child taking a test they can text another person and ask for answer and it will throw them \n",
       "<mark class=\"entity\" style=\"background: #ddd; padding: 0.45em 0.6em; margin: 0 0.25em; line-height: 1; border-radius: 0.35em;\">\n",
       "    off\n",
       "    <span style=\"font-size: 0.8em; font-weight: bold; line-height: 1; border-radius: 0.35em; vertical-align: middle; margin-left: 0.5rem\">DE</span>\n",
       "</mark>\n",
       ". \n",
       "<mark class=\"entity\" style=\"background: #ddd; padding: 0.45em 0.6em; margin: 0 0.25em; line-height: 1; border-radius: 0.35em;\">\n",
       "    They\n",
       "    <span style=\"font-size: 0.8em; font-weight: bold; line-height: 1; border-radius: 0.35em; vertical-align: middle; margin-left: 0.5rem\">DS</span>\n",
       "</mark>\n",
       " should keep their phones always in their pockets because people can always lose their phone or get it stolen from them because they did not put it in a safer place or they laid it down some where it should not have \n",
       "<mark class=\"entity\" style=\"background: #ddd; padding: 0.45em 0.6em; margin: 0 0.25em; line-height: 1; border-radius: 0.35em;\">\n",
       "    been\n",
       "    <span style=\"font-size: 0.8em; font-weight: bold; line-height: 1; border-radius: 0.35em; vertical-align: middle; margin-left: 0.5rem\">DE</span>\n",
       "</mark>\n",
       ".</div></span>"
      ],
      "text/plain": [
       "<IPython.core.display.HTML object>"
      ]
     },
     "metadata": {},
     "output_type": "display_data"
    }
   ],
   "source": [
    "display_doc(doc)"
   ]
  },
  {
   "cell_type": "code",
   "execution_count": 14,
   "metadata": {},
   "outputs": [
    {
     "data": {
      "text/plain": [
       "780"
      ]
     },
     "execution_count": 14,
     "metadata": {},
     "output_type": "execute_result"
    }
   ],
   "source": [
    "doc_bin = DocBin().from_disk(\"data/NER_test.spacy\")\n",
    "len(doc_bin)"
   ]
  },
  {
   "cell_type": "code",
   "execution_count": 15,
   "metadata": {},
   "outputs": [],
   "source": [
    "examples = []\n",
    "for ind, doc in enumerate(doc_bin.get_docs(nlp.vocab)):\n",
    "    examples.append(Example.from_dict(doc, {\"entities\": doc.ents}))\n"
   ]
  },
  {
   "cell_type": "code",
   "execution_count": 21,
   "metadata": {},
   "outputs": [],
   "source": [
    "predicted_examples = []\n",
    "for ind, example in enumerate(examples):\n",
    "    doc = nlp(example.text)\n",
    "    predicted_examples.append(Example(doc, example.reference))\n"
   ]
  },
  {
   "cell_type": "code",
   "execution_count": 35,
   "metadata": {},
   "outputs": [
    {
     "data": {
      "text/plain": [
       "{'token_acc': 1.0,\n",
       " 'token_p': 0.9773659229601885,\n",
       " 'token_r': 0.9885548875528836,\n",
       " 'token_f': 0.9829285644702777,\n",
       " 'ents_p': 0.6890407099591491,\n",
       " 'ents_r': 0.698187268055952,\n",
       " 'ents_f': 0.6935838355193193,\n",
       " 'ents_per_type': {'DS': {'p': 0.670701472947353,\n",
       "   'r': 0.655782118922002,\n",
       "   'f': 0.6631578947368422},\n",
       "  'DE': {'p': 0.7061708214139762,\n",
       "   'r': 0.7406772396056579,\n",
       "   'f': 0.7230125523012553}},\n",
       " 'speed': 2025.427141382518}"
      ]
     },
     "execution_count": 35,
     "metadata": {},
     "output_type": "execute_result"
    }
   ],
   "source": [
    "nlp.evaluate(predicted_examples)\n",
    "    "
   ]
  },
  {
   "cell_type": "code",
   "execution_count": 39,
   "metadata": {},
   "outputs": [],
   "source": [
    "# Run one example through the model\n",
    "example = examples[0]\n",
    "doc = nlp(example.text)\n"
   ]
  },
  {
   "cell_type": "code",
   "execution_count": 46,
   "metadata": {},
   "outputs": [
    {
     "name": "stdout",
     "output_type": "stream",
     "text": [
      "  0 -   1 ===> In        : DS\n",
      " 73 -  74 ===> country   : DE\n",
      " 75 -  76 ===> Most      : DS\n",
      "106 - 107 ===> driving   : DE\n",
      "126 - 127 ===> car       : DE\n",
      "143 - 144 ===> insurance : DE\n",
      "145 - 146 ===> Unknown   : DS\n",
      "199 - 200 ===> option    : DE\n",
      "201 - 202 ===> When      : DS\n",
      "296 - 297 ===> life      : DE\n",
      "298 - 299 ===> Those     : DS\n",
      "323 - 324 ===> road      : DE\n",
      "325 - 326 ===> However   : DS\n",
      "418 - 419 ===> time      : DE\n",
      "420 - 421 ===> No        : DS\n",
      "500 - 501 ===> it        : DE\n"
     ]
    }
   ],
   "source": [
    "for ent in doc.ents:\n",
    "    print(f\"{ent.start:3} - {ent.end:3} ===> {ent.text:10}: {ent.label_}\")"
   ]
  },
  {
   "cell_type": "code",
   "execution_count": 58,
   "metadata": {},
   "outputs": [],
   "source": [
    "last_ent = None\n",
    "last_start_sent_ind = 0\n",
    "last_end_sent_ind = 0\n",
    "\n",
    "tokens_fixed = []\n",
    "ents_fixed = []\n",
    "\n",
    "for ind, token in enumerate(doc):\n",
    "    if token.text == \".\":\n",
    "        last_start_sent_ind = ind + 1\n",
    "        last_end_sent_ind = ind - 1\n",
    "\n",
    "    if not token.ent_type_:\n",
    "        tokens_fixed.append(token.text)\n",
    "        ents_fixed.append(token.ent_iob_)\n",
    "        continue\n",
    "\n",
    "    if token.ent_type_ == \"DS\" and last_ent == \"DE\" or token.ent_type_ == \"DE\" and last_ent == \"DS\":\n",
    "        last_ent = token.ent_type_\n",
    "        tokens_fixed.append(token.text)\n",
    "        ents_fixed.append(f\"{token.ent_iob_}-{token.ent_type_}\")\n",
    "        continue\n",
    "\n",
    "    if last_ent is None:\n",
    "        assert token.ent_type_ != \"DE\" and ind == 0\n",
    "        last_ent = token.ent_type_\n",
    "        tokens_fixed.append(token.text)\n",
    "        ents_fixed.append(f\"{token.ent_iob_}-{token.ent_type_}\")\n",
    "        continue\n",
    "\n",
    "    if token.ent_type_ == \"DE\":\n",
    "        assert ents_fixed[last_start_sent_ind] not in (\"DS\", \"DE\")  # Sanity check\n",
    "        ents_fixed[last_start_sent_ind] = \"B-DS\"\n",
    "    elif token.ent_type_ == \"DS\":\n",
    "        assert ents_fixed[last_end_sent_ind] not in (\"DS\", \"DE\")  # Sanity check\n",
    "        ents_fixed[last_end_sent_ind] = \"B-DE\"\n",
    "\n",
    "    last_ent = token.ent_type_\n",
    "    tokens_fixed.append(token.text)\n",
    "    ents_fixed.append(f\"{token.ent_iob_}-{token.ent_type_}\")\n",
    "\n",
    "\n",
    "doc_fixed = Doc(nlp.vocab, tokens_fixed, ents=ents_fixed)"
   ]
  },
  {
   "cell_type": "code",
   "execution_count": 50,
   "metadata": {},
   "outputs": [
    {
     "data": {
      "text/html": [
       "<span class=\"tex2jax_ignore\"><div class=\"entities\" style=\"line-height: 2.5; direction: ltr\">\n",
       "<mark class=\"entity\" style=\"background: #ddd; padding: 0.45em 0.6em; margin: 0 0.25em; line-height: 1; border-radius: 0.35em;\">\n",
       "    In\n",
       "    <span style=\"font-size: 0.8em; font-weight: bold; line-height: 1; border-radius: 0.35em; vertical-align: middle; margin-left: 0.5rem\">DS</span>\n",
       "</mark>\n",
       " the modern society the average individual owns a cell phone . Millions of people everyday use their cellphones to make calls send texts and emails and check social media . Not everyone however know how to control their urge to check his or her notifications every few seconds . When on the road this lack of attention has made texting and driving one of the number one driving related accidents in the \n",
       "<mark class=\"entity\" style=\"background: #ddd; padding: 0.45em 0.6em; margin: 0 0.25em; line-height: 1; border-radius: 0.35em;\">\n",
       "    country\n",
       "    <span style=\"font-size: 0.8em; font-weight: bold; line-height: 1; border-radius: 0.35em; vertical-align: middle; margin-left: 0.5rem\">DE</span>\n",
       "</mark>\n",
       " . \n",
       "<mark class=\"entity\" style=\"background: #ddd; padding: 0.45em 0.6em; margin: 0 0.25em; line-height: 1; border-radius: 0.35em;\">\n",
       "    Most\n",
       "    <span style=\"font-size: 0.8em; font-weight: bold; line-height: 1; border-radius: 0.35em; vertical-align: middle; margin-left: 0.5rem\">DS</span>\n",
       "</mark>\n",
       " know that if he or she crashes their car there will be \n",
       "<mark class=\"entity\" style=\"background: #ddd; padding: 0.45em 0.6em; margin: 0 0.25em; line-height: 1; border-radius: 0.35em;\">\n",
       "    repercussions\n",
       "    <span style=\"font-size: 0.8em; font-weight: bold; line-height: 1; border-radius: 0.35em; vertical-align: middle; margin-left: 0.5rem\">DE</span>\n",
       "</mark>\n",
       " . \n",
       "<mark class=\"entity\" style=\"background: #ddd; padding: 0.45em 0.6em; margin: 0 0.25em; line-height: 1; border-radius: 0.35em;\">\n",
       "    For\n",
       "    <span style=\"font-size: 0.8em; font-weight: bold; line-height: 1; border-radius: 0.35em; vertical-align: middle; margin-left: 0.5rem\">DS</span>\n",
       "</mark>\n",
       " teens it's the fear of their parents anger that stops them from texting and driving . For adults it's the thought of not being able to go to work due to a totaled car . However both groups face a similar enemy when it comes to texting a driving the insurance . Unknown by most teens every crash that is his or her fault will cause their insurance prices to rise phenomenally . Should this happen the driver may not be able to pay for the insurance resulting it a car that can't be driven . For working teens and adults this is not an \n",
       "<mark class=\"entity\" style=\"background: #ddd; padding: 0.45em 0.6em; margin: 0 0.25em; line-height: 1; border-radius: 0.35em;\">\n",
       "    option\n",
       "    <span style=\"font-size: 0.8em; font-weight: bold; line-height: 1; border-radius: 0.35em; vertical-align: middle; margin-left: 0.5rem\">DE</span>\n",
       "</mark>\n",
       " . \n",
       "<mark class=\"entity\" style=\"background: #ddd; padding: 0.45em 0.6em; margin: 0 0.25em; line-height: 1; border-radius: 0.35em;\">\n",
       "    When\n",
       "    <span style=\"font-size: 0.8em; font-weight: bold; line-height: 1; border-radius: 0.35em; vertical-align: middle; margin-left: 0.5rem\">DS</span>\n",
       "</mark>\n",
       " thinking about texting and driving there is a common thought It won't be \n",
       "<mark class=\"entity\" style=\"background: #ddd; padding: 0.45em 0.6em; margin: 0 0.25em; line-height: 1; border-radius: 0.35em;\">\n",
       "    me\n",
       "    <span style=\"font-size: 0.8em; font-weight: bold; line-height: 1; border-radius: 0.35em; vertical-align: middle; margin-left: 0.5rem\">DE</span>\n",
       "</mark>\n",
       " . \n",
       "<mark class=\"entity\" style=\"background: #ddd; padding: 0.45em 0.6em; margin: 0 0.25em; line-height: 1; border-radius: 0.35em;\">\n",
       "    This\n",
       "    <span style=\"font-size: 0.8em; font-weight: bold; line-height: 1; border-radius: 0.35em; vertical-align: middle; margin-left: 0.5rem\">DS</span>\n",
       "</mark>\n",
       " however can easily turn into a false statement . It only takes a moment of having ones eyes off of the road for things to turn sour . While a individual is looking down at his phone a car could pull out in front of him without him realizing it . At high speeds a crash between the two cars could be deadly . No text or social media notification is worth the loss of a human \n",
       "<mark class=\"entity\" style=\"background: #ddd; padding: 0.45em 0.6em; margin: 0 0.25em; line-height: 1; border-radius: 0.35em;\">\n",
       "    life\n",
       "    <span style=\"font-size: 0.8em; font-weight: bold; line-height: 1; border-radius: 0.35em; vertical-align: middle; margin-left: 0.5rem\">DE</span>\n",
       "</mark>\n",
       " . \n",
       "<mark class=\"entity\" style=\"background: #ddd; padding: 0.45em 0.6em; margin: 0 0.25em; line-height: 1; border-radius: 0.35em;\">\n",
       "    Those\n",
       "    <span style=\"font-size: 0.8em; font-weight: bold; line-height: 1; border-radius: 0.35em; vertical-align: middle; margin-left: 0.5rem\">DS</span>\n",
       "</mark>\n",
       " who text and drive will always claim that they great at multitasking and so believe that they can easily text and drive on the road . However the brain cannot in fact \n",
       "<mark class=\"entity\" style=\"background: #ddd; padding: 0.45em 0.6em; margin: 0 0.25em; line-height: 1; border-radius: 0.35em;\">\n",
       "    multitask\n",
       "    <span style=\"font-size: 0.8em; font-weight: bold; line-height: 1; border-radius: 0.35em; vertical-align: middle; margin-left: 0.5rem\">DE</span>\n",
       "</mark>\n",
       " . \n",
       "<mark class=\"entity\" style=\"background: #ddd; padding: 0.45em 0.6em; margin: 0 0.25em; line-height: 1; border-radius: 0.35em;\">\n",
       "    Instead\n",
       "    <span style=\"font-size: 0.8em; font-weight: bold; line-height: 1; border-radius: 0.35em; vertical-align: middle; margin-left: 0.5rem\">DS</span>\n",
       "</mark>\n",
       " the brain switches between two actions in this case it would be between texting and looking at the road . The same happens when individuals try to work on multiple projects at one . He or she will actually be switching between documents and slowly working on each . When driving the eyes see progress in a text to text conversation as well as how far he or she has traveled on the road and assume that both were done at the same \n",
       "<mark class=\"entity\" style=\"background: #ddd; padding: 0.45em 0.6em; margin: 0 0.25em; line-height: 1; border-radius: 0.35em;\">\n",
       "    time\n",
       "    <span style=\"font-size: 0.8em; font-weight: bold; line-height: 1; border-radius: 0.35em; vertical-align: middle; margin-left: 0.5rem\">DE</span>\n",
       "</mark>\n",
       " . \n",
       "<mark class=\"entity\" style=\"background: #ddd; padding: 0.45em 0.6em; margin: 0 0.25em; line-height: 1; border-radius: 0.35em;\">\n",
       "    No\n",
       "    <span style=\"font-size: 0.8em; font-weight: bold; line-height: 1; border-radius: 0.35em; vertical-align: middle; margin-left: 0.5rem\">DS</span>\n",
       "</mark>\n",
       " one be they adult or teen should text and \n",
       "<mark class=\"entity\" style=\"background: #ddd; padding: 0.45em 0.6em; margin: 0 0.25em; line-height: 1; border-radius: 0.35em;\">\n",
       "    drive\n",
       "    <span style=\"font-size: 0.8em; font-weight: bold; line-height: 1; border-radius: 0.35em; vertical-align: middle; margin-left: 0.5rem\">DE</span>\n",
       "</mark>\n",
       " . \n",
       "<mark class=\"entity\" style=\"background: #ddd; padding: 0.45em 0.6em; margin: 0 0.25em; line-height: 1; border-radius: 0.35em;\">\n",
       "    He\n",
       "    <span style=\"font-size: 0.8em; font-weight: bold; line-height: 1; border-radius: 0.35em; vertical-align: middle; margin-left: 0.5rem\">DS</span>\n",
       "</mark>\n",
       " or she could rear end another car or run off of the road both of which would be very costly and possibly deadly The brain cannot focus on both actions and will always prioritize either texting and driving the former of which should be very dangerous It only takes a few seconds for things to go awry and the driver will be the one paying for \n",
       "<mark class=\"entity\" style=\"background: #ddd; padding: 0.45em 0.6em; margin: 0 0.25em; line-height: 1; border-radius: 0.35em;\">\n",
       "    it\n",
       "    <span style=\"font-size: 0.8em; font-weight: bold; line-height: 1; border-radius: 0.35em; vertical-align: middle; margin-left: 0.5rem\">DE</span>\n",
       "</mark>\n",
       " . </div></span>"
      ],
      "text/plain": [
       "<IPython.core.display.HTML object>"
      ]
     },
     "metadata": {},
     "output_type": "display_data"
    }
   ],
   "source": [
    "display_doc(example.reference)\n"
   ]
  },
  {
   "cell_type": "code",
   "execution_count": 59,
   "metadata": {},
   "outputs": [
    {
     "data": {
      "text/html": [
       "<span class=\"tex2jax_ignore\"><div class=\"entities\" style=\"line-height: 2.5; direction: ltr\">\n",
       "<mark class=\"entity\" style=\"background: #ddd; padding: 0.45em 0.6em; margin: 0 0.25em; line-height: 1; border-radius: 0.35em;\">\n",
       "    In\n",
       "    <span style=\"font-size: 0.8em; font-weight: bold; line-height: 1; border-radius: 0.35em; vertical-align: middle; margin-left: 0.5rem\">DS</span>\n",
       "</mark>\n",
       " the modern society the average individual owns a cell phone . Millions of people everyday use their cellphones to make calls send texts and emails and check social media . Not everyone however know how to control their urge to check his or her notifications every few seconds . When on the road this lack of attention has made texting and driving one of the number one driving related accidents in the \n",
       "<mark class=\"entity\" style=\"background: #ddd; padding: 0.45em 0.6em; margin: 0 0.25em; line-height: 1; border-radius: 0.35em;\">\n",
       "    country\n",
       "    <span style=\"font-size: 0.8em; font-weight: bold; line-height: 1; border-radius: 0.35em; vertical-align: middle; margin-left: 0.5rem\">DE</span>\n",
       "</mark>\n",
       " . \n",
       "<mark class=\"entity\" style=\"background: #ddd; padding: 0.45em 0.6em; margin: 0 0.25em; line-height: 1; border-radius: 0.35em;\">\n",
       "    Most\n",
       "    <span style=\"font-size: 0.8em; font-weight: bold; line-height: 1; border-radius: 0.35em; vertical-align: middle; margin-left: 0.5rem\">DS</span>\n",
       "</mark>\n",
       " know that if he or she crashes their car there will be repercussions . For teens it 's the fear of their parents anger that stops them from texting and \n",
       "<mark class=\"entity\" style=\"background: #ddd; padding: 0.45em 0.6em; margin: 0 0.25em; line-height: 1; border-radius: 0.35em;\">\n",
       "    driving\n",
       "    <span style=\"font-size: 0.8em; font-weight: bold; line-height: 1; border-radius: 0.35em; vertical-align: middle; margin-left: 0.5rem\">DE</span>\n",
       "</mark>\n",
       " . \n",
       "<mark class=\"entity\" style=\"background: #ddd; padding: 0.45em 0.6em; margin: 0 0.25em; line-height: 1; border-radius: 0.35em;\">\n",
       "    For\n",
       "    <span style=\"font-size: 0.8em; font-weight: bold; line-height: 1; border-radius: 0.35em; vertical-align: middle; margin-left: 0.5rem\">DS</span>\n",
       "</mark>\n",
       " adults it 's the thought of not being able to go to work due to a totaled \n",
       "<mark class=\"entity\" style=\"background: #ddd; padding: 0.45em 0.6em; margin: 0 0.25em; line-height: 1; border-radius: 0.35em;\">\n",
       "    car\n",
       "    <span style=\"font-size: 0.8em; font-weight: bold; line-height: 1; border-radius: 0.35em; vertical-align: middle; margin-left: 0.5rem\">DE</span>\n",
       "</mark>\n",
       " . \n",
       "<mark class=\"entity\" style=\"background: #ddd; padding: 0.45em 0.6em; margin: 0 0.25em; line-height: 1; border-radius: 0.35em;\">\n",
       "    However\n",
       "    <span style=\"font-size: 0.8em; font-weight: bold; line-height: 1; border-radius: 0.35em; vertical-align: middle; margin-left: 0.5rem\">DS</span>\n",
       "</mark>\n",
       " both groups face a similar enemy when it comes to texting a driving the \n",
       "<mark class=\"entity\" style=\"background: #ddd; padding: 0.45em 0.6em; margin: 0 0.25em; line-height: 1; border-radius: 0.35em;\">\n",
       "    insurance\n",
       "    <span style=\"font-size: 0.8em; font-weight: bold; line-height: 1; border-radius: 0.35em; vertical-align: middle; margin-left: 0.5rem\">DE</span>\n",
       "</mark>\n",
       " . \n",
       "<mark class=\"entity\" style=\"background: #ddd; padding: 0.45em 0.6em; margin: 0 0.25em; line-height: 1; border-radius: 0.35em;\">\n",
       "    Unknown\n",
       "    <span style=\"font-size: 0.8em; font-weight: bold; line-height: 1; border-radius: 0.35em; vertical-align: middle; margin-left: 0.5rem\">DS</span>\n",
       "</mark>\n",
       " by most teens every crash that is his or her fault will cause their insurance prices to rise phenomenally . Should this happen the driver may not be able to pay for the insurance resulting it a car that ca n't be driven . For working teens and adults this is not an \n",
       "<mark class=\"entity\" style=\"background: #ddd; padding: 0.45em 0.6em; margin: 0 0.25em; line-height: 1; border-radius: 0.35em;\">\n",
       "    option\n",
       "    <span style=\"font-size: 0.8em; font-weight: bold; line-height: 1; border-radius: 0.35em; vertical-align: middle; margin-left: 0.5rem\">DE</span>\n",
       "</mark>\n",
       " . \n",
       "<mark class=\"entity\" style=\"background: #ddd; padding: 0.45em 0.6em; margin: 0 0.25em; line-height: 1; border-radius: 0.35em;\">\n",
       "    When\n",
       "    <span style=\"font-size: 0.8em; font-weight: bold; line-height: 1; border-radius: 0.35em; vertical-align: middle; margin-left: 0.5rem\">DS</span>\n",
       "</mark>\n",
       " thinking about texting and driving there is a common thought It wo n't be me . This however can easily turn into a false statement . It only takes a moment of having ones eyes off of the road for things to turn sour . While a individual is looking down at his phone a car could pull out in front of him without him realizing it . At high speeds a crash between the two cars could be deadly . No text or social media notification is worth the loss of a human \n",
       "<mark class=\"entity\" style=\"background: #ddd; padding: 0.45em 0.6em; margin: 0 0.25em; line-height: 1; border-radius: 0.35em;\">\n",
       "    life\n",
       "    <span style=\"font-size: 0.8em; font-weight: bold; line-height: 1; border-radius: 0.35em; vertical-align: middle; margin-left: 0.5rem\">DE</span>\n",
       "</mark>\n",
       " . \n",
       "<mark class=\"entity\" style=\"background: #ddd; padding: 0.45em 0.6em; margin: 0 0.25em; line-height: 1; border-radius: 0.35em;\">\n",
       "    Those\n",
       "    <span style=\"font-size: 0.8em; font-weight: bold; line-height: 1; border-radius: 0.35em; vertical-align: middle; margin-left: 0.5rem\">DS</span>\n",
       "</mark>\n",
       " who text and drive will always claim that they great at multitasking and so believe that they can easily text and drive on the \n",
       "<mark class=\"entity\" style=\"background: #ddd; padding: 0.45em 0.6em; margin: 0 0.25em; line-height: 1; border-radius: 0.35em;\">\n",
       "    road\n",
       "    <span style=\"font-size: 0.8em; font-weight: bold; line-height: 1; border-radius: 0.35em; vertical-align: middle; margin-left: 0.5rem\">DE</span>\n",
       "</mark>\n",
       " . \n",
       "<mark class=\"entity\" style=\"background: #ddd; padding: 0.45em 0.6em; margin: 0 0.25em; line-height: 1; border-radius: 0.35em;\">\n",
       "    However\n",
       "    <span style=\"font-size: 0.8em; font-weight: bold; line-height: 1; border-radius: 0.35em; vertical-align: middle; margin-left: 0.5rem\">DS</span>\n",
       "</mark>\n",
       " the brain can not in fact multitask . Instead the brain switches between two actions in this case it would be between texting and looking at the road . The same happens when individuals try to work on multiple projects at one . He or she will actually be switching between documents and slowly working on each . When driving the eyes see progress in a text to text conversation as well as how far he or she has traveled on the road and assume that both were done at the same \n",
       "<mark class=\"entity\" style=\"background: #ddd; padding: 0.45em 0.6em; margin: 0 0.25em; line-height: 1; border-radius: 0.35em;\">\n",
       "    time\n",
       "    <span style=\"font-size: 0.8em; font-weight: bold; line-height: 1; border-radius: 0.35em; vertical-align: middle; margin-left: 0.5rem\">DE</span>\n",
       "</mark>\n",
       " . \n",
       "<mark class=\"entity\" style=\"background: #ddd; padding: 0.45em 0.6em; margin: 0 0.25em; line-height: 1; border-radius: 0.35em;\">\n",
       "    No\n",
       "    <span style=\"font-size: 0.8em; font-weight: bold; line-height: 1; border-radius: 0.35em; vertical-align: middle; margin-left: 0.5rem\">DS</span>\n",
       "</mark>\n",
       " one be they adult or teen should text and drive . He or she could rear end another car or run off of the road both of which would be very costly and possibly deadly The brain can not focus on both actions and will always prioritize either texting and driving the former of which should be very dangerous It only takes a few seconds for things to go awry and the driver will be the one paying for \n",
       "<mark class=\"entity\" style=\"background: #ddd; padding: 0.45em 0.6em; margin: 0 0.25em; line-height: 1; border-radius: 0.35em;\">\n",
       "    it\n",
       "    <span style=\"font-size: 0.8em; font-weight: bold; line-height: 1; border-radius: 0.35em; vertical-align: middle; margin-left: 0.5rem\">DE</span>\n",
       "</mark>\n",
       " . </div></span>"
      ],
      "text/plain": [
       "<IPython.core.display.HTML object>"
      ]
     },
     "metadata": {},
     "output_type": "display_data"
    }
   ],
   "source": [
    "display_doc(doc_fixed)\n"
   ]
  },
  {
   "cell_type": "code",
   "execution_count": 60,
   "metadata": {},
   "outputs": [
    {
     "data": {
      "text/html": [
       "<span class=\"tex2jax_ignore\"><div class=\"entities\" style=\"line-height: 2.5; direction: ltr\">\n",
       "<mark class=\"entity\" style=\"background: #ddd; padding: 0.45em 0.6em; margin: 0 0.25em; line-height: 1; border-radius: 0.35em;\">\n",
       "    In\n",
       "    <span style=\"font-size: 0.8em; font-weight: bold; line-height: 1; border-radius: 0.35em; vertical-align: middle; margin-left: 0.5rem\">DS</span>\n",
       "</mark>\n",
       " the modern society the average individual owns a cell phone . Millions of people everyday use their cellphones to make calls send texts and emails and check social media . Not everyone however know how to control their urge to check his or her notifications every few seconds . When on the road this lack of attention has made texting and driving one of the number one driving related accidents in the \n",
       "<mark class=\"entity\" style=\"background: #ddd; padding: 0.45em 0.6em; margin: 0 0.25em; line-height: 1; border-radius: 0.35em;\">\n",
       "    country\n",
       "    <span style=\"font-size: 0.8em; font-weight: bold; line-height: 1; border-radius: 0.35em; vertical-align: middle; margin-left: 0.5rem\">DE</span>\n",
       "</mark>\n",
       " . \n",
       "<mark class=\"entity\" style=\"background: #ddd; padding: 0.45em 0.6em; margin: 0 0.25em; line-height: 1; border-radius: 0.35em;\">\n",
       "    Most\n",
       "    <span style=\"font-size: 0.8em; font-weight: bold; line-height: 1; border-radius: 0.35em; vertical-align: middle; margin-left: 0.5rem\">DS</span>\n",
       "</mark>\n",
       " know that if he or she crashes their car there will be repercussions . For teens it's the fear of their parents anger that stops them from texting and \n",
       "<mark class=\"entity\" style=\"background: #ddd; padding: 0.45em 0.6em; margin: 0 0.25em; line-height: 1; border-radius: 0.35em;\">\n",
       "    driving\n",
       "    <span style=\"font-size: 0.8em; font-weight: bold; line-height: 1; border-radius: 0.35em; vertical-align: middle; margin-left: 0.5rem\">DE</span>\n",
       "</mark>\n",
       " . For adults it's the thought of not being able to go to work due to a totaled \n",
       "<mark class=\"entity\" style=\"background: #ddd; padding: 0.45em 0.6em; margin: 0 0.25em; line-height: 1; border-radius: 0.35em;\">\n",
       "    car\n",
       "    <span style=\"font-size: 0.8em; font-weight: bold; line-height: 1; border-radius: 0.35em; vertical-align: middle; margin-left: 0.5rem\">DE</span>\n",
       "</mark>\n",
       " . However both groups face a similar enemy when it comes to texting a driving the \n",
       "<mark class=\"entity\" style=\"background: #ddd; padding: 0.45em 0.6em; margin: 0 0.25em; line-height: 1; border-radius: 0.35em;\">\n",
       "    insurance\n",
       "    <span style=\"font-size: 0.8em; font-weight: bold; line-height: 1; border-radius: 0.35em; vertical-align: middle; margin-left: 0.5rem\">DE</span>\n",
       "</mark>\n",
       " . \n",
       "<mark class=\"entity\" style=\"background: #ddd; padding: 0.45em 0.6em; margin: 0 0.25em; line-height: 1; border-radius: 0.35em;\">\n",
       "    Unknown\n",
       "    <span style=\"font-size: 0.8em; font-weight: bold; line-height: 1; border-radius: 0.35em; vertical-align: middle; margin-left: 0.5rem\">DS</span>\n",
       "</mark>\n",
       " by most teens every crash that is his or her fault will cause their insurance prices to rise phenomenally . Should this happen the driver may not be able to pay for the insurance resulting it a car that can't be driven . For working teens and adults this is not an \n",
       "<mark class=\"entity\" style=\"background: #ddd; padding: 0.45em 0.6em; margin: 0 0.25em; line-height: 1; border-radius: 0.35em;\">\n",
       "    option\n",
       "    <span style=\"font-size: 0.8em; font-weight: bold; line-height: 1; border-radius: 0.35em; vertical-align: middle; margin-left: 0.5rem\">DE</span>\n",
       "</mark>\n",
       " . \n",
       "<mark class=\"entity\" style=\"background: #ddd; padding: 0.45em 0.6em; margin: 0 0.25em; line-height: 1; border-radius: 0.35em;\">\n",
       "    When\n",
       "    <span style=\"font-size: 0.8em; font-weight: bold; line-height: 1; border-radius: 0.35em; vertical-align: middle; margin-left: 0.5rem\">DS</span>\n",
       "</mark>\n",
       " thinking about texting and driving there is a common thought It won't be me . This however can easily turn into a false statement . It only takes a moment of having ones eyes off of the road for things to turn sour . While a individual is looking down at his phone a car could pull out in front of him without him realizing it . At high speeds a crash between the two cars could be deadly . No text or social media notification is worth the loss of a human \n",
       "<mark class=\"entity\" style=\"background: #ddd; padding: 0.45em 0.6em; margin: 0 0.25em; line-height: 1; border-radius: 0.35em;\">\n",
       "    life\n",
       "    <span style=\"font-size: 0.8em; font-weight: bold; line-height: 1; border-radius: 0.35em; vertical-align: middle; margin-left: 0.5rem\">DE</span>\n",
       "</mark>\n",
       " . \n",
       "<mark class=\"entity\" style=\"background: #ddd; padding: 0.45em 0.6em; margin: 0 0.25em; line-height: 1; border-radius: 0.35em;\">\n",
       "    Those\n",
       "    <span style=\"font-size: 0.8em; font-weight: bold; line-height: 1; border-radius: 0.35em; vertical-align: middle; margin-left: 0.5rem\">DS</span>\n",
       "</mark>\n",
       " who text and drive will always claim that they great at multitasking and so believe that they can easily text and drive on the \n",
       "<mark class=\"entity\" style=\"background: #ddd; padding: 0.45em 0.6em; margin: 0 0.25em; line-height: 1; border-radius: 0.35em;\">\n",
       "    road\n",
       "    <span style=\"font-size: 0.8em; font-weight: bold; line-height: 1; border-radius: 0.35em; vertical-align: middle; margin-left: 0.5rem\">DE</span>\n",
       "</mark>\n",
       " . \n",
       "<mark class=\"entity\" style=\"background: #ddd; padding: 0.45em 0.6em; margin: 0 0.25em; line-height: 1; border-radius: 0.35em;\">\n",
       "    However\n",
       "    <span style=\"font-size: 0.8em; font-weight: bold; line-height: 1; border-radius: 0.35em; vertical-align: middle; margin-left: 0.5rem\">DS</span>\n",
       "</mark>\n",
       " the brain cannot in fact multitask . Instead the brain switches between two actions in this case it would be between texting and looking at the road . The same happens when individuals try to work on multiple projects at one . He or she will actually be switching between documents and slowly working on each . When driving the eyes see progress in a text to text conversation as well as how far he or she has traveled on the road and assume that both were done at the same \n",
       "<mark class=\"entity\" style=\"background: #ddd; padding: 0.45em 0.6em; margin: 0 0.25em; line-height: 1; border-radius: 0.35em;\">\n",
       "    time\n",
       "    <span style=\"font-size: 0.8em; font-weight: bold; line-height: 1; border-radius: 0.35em; vertical-align: middle; margin-left: 0.5rem\">DE</span>\n",
       "</mark>\n",
       " . \n",
       "<mark class=\"entity\" style=\"background: #ddd; padding: 0.45em 0.6em; margin: 0 0.25em; line-height: 1; border-radius: 0.35em;\">\n",
       "    No\n",
       "    <span style=\"font-size: 0.8em; font-weight: bold; line-height: 1; border-radius: 0.35em; vertical-align: middle; margin-left: 0.5rem\">DS</span>\n",
       "</mark>\n",
       " one be they adult or teen should text and drive . He or she could rear end another car or run off of the road both of which would be very costly and possibly deadly The brain cannot focus on both actions and will always prioritize either texting and driving the former of which should be very dangerous It only takes a few seconds for things to go awry and the driver will be the one paying for \n",
       "<mark class=\"entity\" style=\"background: #ddd; padding: 0.45em 0.6em; margin: 0 0.25em; line-height: 1; border-radius: 0.35em;\">\n",
       "    it\n",
       "    <span style=\"font-size: 0.8em; font-weight: bold; line-height: 1; border-radius: 0.35em; vertical-align: middle; margin-left: 0.5rem\">DE</span>\n",
       "</mark>\n",
       " . </div></span>"
      ],
      "text/plain": [
       "<IPython.core.display.HTML object>"
      ]
     },
     "metadata": {},
     "output_type": "display_data"
    }
   ],
   "source": [
    "display_doc(doc)\n"
   ]
  }
 ],
 "metadata": {
  "kernelspec": {
   "display_name": "nlp",
   "language": "python",
   "name": "python3"
  },
  "language_info": {
   "codemirror_mode": {
    "name": "ipython",
    "version": 3
   },
   "file_extension": ".py",
   "mimetype": "text/x-python",
   "name": "python",
   "nbconvert_exporter": "python",
   "pygments_lexer": "ipython3",
   "version": "3.9.15"
  },
  "orig_nbformat": 4,
  "vscode": {
   "interpreter": {
    "hash": "572f6aa65a5e6c51562016b4e29a85b0309fe64d207fe345880514900c6994ab"
   }
  }
 },
 "nbformat": 4,
 "nbformat_minor": 2
}
