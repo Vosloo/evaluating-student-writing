{
 "cells": [
  {
   "cell_type": "code",
   "execution_count": 1,
   "metadata": {},
   "outputs": [],
   "source": [
    "import sys\n",
    "from pathlib import Path"
   ]
  },
  {
   "cell_type": "code",
   "execution_count": 2,
   "metadata": {},
   "outputs": [],
   "source": [
    "module_path = Path.cwd().parents[2]\n",
    "if module_path not in sys.path:\n",
    "    sys.path.append(str(module_path))"
   ]
  },
  {
   "cell_type": "code",
   "execution_count": 3,
   "metadata": {},
   "outputs": [
    {
     "data": {
      "text/plain": [
       "PosixPath('/home/marek/Projects/Python/evaluating-student-writing')"
      ]
     },
     "execution_count": 3,
     "metadata": {},
     "output_type": "execute_result"
    }
   ],
   "source": [
    "module_path"
   ]
  },
  {
   "cell_type": "code",
   "execution_count": 4,
   "metadata": {},
   "outputs": [
    {
     "name": "stderr",
     "output_type": "stream",
     "text": [
      "/home/marek/mambaforge/envs/nlp/lib/python3.9/site-packages/tqdm/auto.py:22: TqdmWarning: IProgress not found. Please update jupyter and ipywidgets. See https://ipywidgets.readthedocs.io/en/stable/user_install.html\n",
      "  from .autonotebook import tqdm as notebook_tqdm\n"
     ]
    }
   ],
   "source": [
    "import spacy\n",
    "from spacy.tokens import Doc"
   ]
  },
  {
   "cell_type": "code",
   "execution_count": 5,
   "metadata": {},
   "outputs": [],
   "source": [
    "from src.loader import TextLoader\n",
    "from src.model import DatasetType"
   ]
  },
  {
   "cell_type": "code",
   "execution_count": 6,
   "metadata": {},
   "outputs": [],
   "source": [
    "loader = TextLoader(dataset_type=DatasetType.V1_WITH_PREDICTIONSTRING)"
   ]
  },
  {
   "cell_type": "code",
   "execution_count": 7,
   "metadata": {},
   "outputs": [],
   "source": [
    "nlp = spacy.load(\"models/spacy_resume/model-best/\")"
   ]
  },
  {
   "attachments": {},
   "cell_type": "markdown",
   "metadata": {},
   "source": [
    "<center> <h2> Results for spacy_og/model-best: </h2> </center>\n",
    "\n",
    "Can be evaluated with:\n",
    "\n",
    "```bash\n",
    "python -m spacy evaluate --gpu-id 0 spacy_og/model-best data/NER_test.spacy\n",
    "```\n",
    "\n",
    "```\n",
    "================================== Results ==================================\n",
    "\n",
    "TOK     -    \n",
    "NER P   63.22\n",
    "NER R   73.08\n",
    "NER F   67.79\n",
    "SPEED   12164\n",
    "\n",
    "\n",
    "=============================== NER (per type) ===============================\n",
    "\n",
    "         P       R       F\n",
    "DS   63.22   66.78   64.95\n",
    "DE   63.23   79.40   70.40\n",
    "```"
   ]
  },
  {
   "attachments": {},
   "cell_type": "markdown",
   "metadata": {},
   "source": [
    "<center> <h2> Results for spacy_resume/model-best: </h2> </center>\n",
    "\n",
    "Can be evaluated with:\n",
    "\n",
    "```bash\n",
    "python -m spacy evaluate --gpu-id 0 spacy_resume/model-best data/NER_test.spacy\n",
    "```\n",
    "\n",
    "```\n",
    "================================== Results ==================================\n",
    "\n",
    "TOK     -    \n",
    "NER P   69.43\n",
    "NER R   70.28\n",
    "NER F   69.85\n",
    "SPEED   11609\n",
    "\n",
    "\n",
    "=============================== NER (per type) ===============================\n",
    "\n",
    "         P       R       F\n",
    "DS   67.87   66.29   67.07\n",
    "DE   70.89   74.27   72.54\n",
    "```"
   ]
  },
  {
   "cell_type": "code",
   "execution_count": 8,
   "metadata": {},
   "outputs": [
    {
     "data": {
      "text/plain": [
       "[('transformer',\n",
       "  <spacy_transformers.pipeline_component.Transformer at 0x7faf673387c0>),\n",
       " ('ner', <spacy.pipeline.ner.EntityRecognizer at 0x7faf67302cf0>)]"
      ]
     },
     "execution_count": 8,
     "metadata": {},
     "output_type": "execute_result"
    }
   ],
   "source": [
    "nlp.pipeline"
   ]
  },
  {
   "cell_type": "code",
   "execution_count": 64,
   "metadata": {},
   "outputs": [],
   "source": [
    "text = loader.load_random_text(purify_discourses=True, purify_text=True)\n",
    "# text = loader.load_text_with_id(\"BBB6E0302CFE\", purify_discourses=True, purify_text=True)"
   ]
  },
  {
   "cell_type": "code",
   "execution_count": 65,
   "metadata": {},
   "outputs": [
    {
     "data": {
      "text/plain": [
       "'4C84696E7D54'"
      ]
     },
     "execution_count": 65,
     "metadata": {},
     "output_type": "execute_result"
    }
   ],
   "source": [
    "text.id"
   ]
  },
  {
   "cell_type": "code",
   "execution_count": 66,
   "metadata": {},
   "outputs": [
    {
     "name": "stdout",
     "output_type": "stream",
     "text": [
      "The people of our great nation are told to vote on who they would like to lead and represent them. This is a Democracy and American citizens deserve this right. There have been incidents where the majority of the popular vote from U. S. citizens did not lead to the election of that candidate. This is because of the electoral college. This is the cause of citizens not having the president they asked for. Most American people do not agree with the electoral college. The electoral college is unfair outdated and irrational The Indefensible Electoral College Why even the best laid defenses are wrong Bradford Plumer. The disaster factor is a what the electoral college should really be concerned about. The system allows for many slip ups. The American people should conside themselves lucky that the 2000 fiasco was the biggest election crisis in a century The Indefensible Electoral College Why even the best laid defenses are wrong Bradford Plumer. In 1960 segregationists in the Loisiana legislature nearly succeeded in replacing the Democratic electors with new electors who would oppose John F. Kennedy. Also electors who aren't loyal to the county have occasionally chosen to vote for the party that they'd want rather then vote for their party's candidate. Popular vote is what our founding fathers wanted in the beginning. They wanted equality between people and the wanted the people to vote for who they wanted as a leader. With the electoral college this vision cannot become reality. The popular vote is what a Democracy is all about. The Electoral College is widely regarded as an anachorism a non democratic method of selecting a president that ought to be overruled by declaring the candidate who recieves the most popular votes the winner. The advocates of this position are correct in arguing that the electoral college is not democratic in a modern sense In Defense of the Electoral College Five Reasons to Keep our Despised Method of Choosing the President Richard A. Posner. There is no point in having the people vote if they aren't voting for what they need as a nation. We have brought our nation together so that they can decide on someone to watch over them and protect them. The Electoral college is non Democratic and needs to be abolishes as soon as possible. There is no more use for it as the population continues to grow. The popular vote is the way our great leaders taught us how to vote.\n"
     ]
    }
   ],
   "source": [
    "print(text)"
   ]
  },
  {
   "cell_type": "code",
   "execution_count": 67,
   "metadata": {},
   "outputs": [
    {
     "name": "stdout",
     "output_type": "stream",
     "text": [
      "--- 1615835938179 (0 -> 160 | 0 -> 29) - Position ---\n",
      "The people of our great nation are told to vote on who they would like to lead and represent them. This is a Democracy and American citizens deserve this right.\n",
      "-----------------------------------------------------\n",
      "--- 1615835959934 (161 -> 334 | 30 -> 60) - Claim ---\n",
      "There have been incidents where the majority of the popular vote from U. S. citizens did not lead to the election of that candidate. This is because of the electoral college\n",
      "-----------------------------------------------------\n",
      "--- 1615835973009 (336 -> 618 | 61 -> 105) - Evidence ---\n",
      "This is the cause of citizens not having the president they asked for. Most American people do not agree with the electoral college. The electoral college is unfair outdated and irrational The Indefensible Electoral College Why even the best laid defenses are wrong Bradford Plumer.\n",
      "---------------------------------------------------------\n",
      "--- 1615835893365 (619 -> 703 | 106 -> 119) - Claim ---\n",
      "The disaster factor is a what the electoral college should really be concerned about\n",
      "-------------------------------------------------------\n",
      "--- 1615835907259 (705 -> 1498 | 120 -> 247) - Evidence ---\n",
      "The system allows for many slip ups. The American people should conside themselves lucky that the 2000 fiasco was the biggest election crisis in a century The Indefensible Electoral College Why even the best laid defenses are wrong Bradford Plumer. In 1960 segregationists in the Loisiana legislature nearly succeeded in replacing the Democratic electors with new electors who would oppose John F. Kennedy. Also electors who aren't loyal to the county have occasionally chosen to vote for the party that they'd want rather then vote for their party's candidate. Popular vote is what our founding fathers wanted in the beginning. They wanted equality between people and the wanted the people to vote for who they wanted as a leader. With the electoral college this vision cannot become reality.\n",
      "-----------------------------------------------------------\n",
      "--- 1615835877335 (1499 -> 1548 | 248 -> 257) - Claim ---\n",
      "The popular vote is what a Democracy is all about\n",
      "---------------------------------------------------------\n",
      "--- 1615835883355 (1550 -> 2203 | 258 -> 371) - Evidence ---\n",
      "The Electoral College is widely regarded as an anachorism a non democratic method of selecting a president that ought to be overruled by declaring the candidate who recieves the most popular votes the winner. The advocates of this position are correct in arguing that the electoral college is not democratic in a modern sense In Defense of the Electoral College Five Reasons to Keep our Despised Method of Choosing the President Richard A. Posner. There is no point in having the people vote if they aren't voting for what they need as a nation. We have brought our nation together so that they can decide on someone to watch over them and protect them.\n",
      "------------------------------------------------------------\n",
      "--- 1615835860629 (2204 -> 2424 | 372 -> 413) - Concluding Statement ---\n",
      "The Electoral college is non Democratic and needs to be abolishes as soon as possible. There is no more use for it as the population continues to grow. The popular vote is the way our great leaders taught us how to vote.\n",
      "------------------------------------------------------------------------\n"
     ]
    }
   ],
   "source": [
    "for disc in text.discourses:\n",
    "    print(disc)"
   ]
  },
  {
   "cell_type": "code",
   "execution_count": 68,
   "metadata": {},
   "outputs": [],
   "source": [
    "word_idx = []\n",
    "for disc in text.discourses:\n",
    "    word_idx.extend((disc.predictionstring[0], disc.predictionstring[-1]))\n",
    "\n",
    "ents = []\n",
    "\n",
    "DS_token = \"B-DS\"\n",
    "DE_token = \"B-DE\"\n",
    "use_DS = True\n",
    "for ind, word in enumerate(text.words):\n",
    "    if use_DS:\n",
    "        curr_token = DS_token\n",
    "    else:\n",
    "        curr_token = DE_token\n",
    "\n",
    "    if ind in word_idx:\n",
    "        ents.append(curr_token)\n",
    "        use_DS = not use_DS\n",
    "    else:\n",
    "        ents.append(\"O\")\n"
   ]
  },
  {
   "cell_type": "code",
   "execution_count": 69,
   "metadata": {},
   "outputs": [],
   "source": [
    "manual_doc = Doc(nlp.vocab, text.words, ents=ents)\n"
   ]
  },
  {
   "cell_type": "code",
   "execution_count": 70,
   "metadata": {},
   "outputs": [
    {
     "name": "stdout",
     "output_type": "stream",
     "text": [
      "The DS 0 3\n",
      "right. DE 154 160\n",
      "There DS 161 166\n",
      "college. DE 327 335\n",
      "This DS 336 340\n",
      "Plumer. DE 611 618\n",
      "The DS 619 622\n",
      "about. DE 698 704\n",
      "The DS 705 708\n",
      "reality. DE 1490 1498\n",
      "The DS 1499 1502\n",
      "about. DE 1543 1549\n",
      "The DS 1550 1553\n",
      "them. DE 2198 2203\n",
      "The DS 2204 2207\n",
      "vote. DE 2419 2424\n"
     ]
    }
   ],
   "source": [
    "for token in manual_doc.ents:\n",
    "    print(token.text, token.label_, token.start_char, token.end_char)"
   ]
  },
  {
   "cell_type": "code",
   "execution_count": 71,
   "metadata": {},
   "outputs": [],
   "source": [
    "doc = nlp(text.text)"
   ]
  },
  {
   "cell_type": "code",
   "execution_count": 72,
   "metadata": {},
   "outputs": [
    {
     "name": "stdout",
     "output_type": "stream",
     "text": [
      "The DS 0 3\n",
      "right DE 154 159\n",
      "There DS 161 166\n",
      "for DE 402 405\n",
      "Most DS 407 411\n",
      "Plumer DE 611 617\n",
      "The DS 619 622\n",
      "about DE 698 703\n",
      "The DS 705 708\n",
      "candidate DE 1256 1265\n",
      "Popular DS 1267 1274\n",
      "about DE 1543 1548\n",
      "The DS 1550 1553\n",
      "winner DE 1751 1757\n",
      "The DS 1759 1762\n",
      "them DE 2198 2202\n",
      "The DS 2204 2207\n",
      "vote DE 2419 2423\n"
     ]
    }
   ],
   "source": [
    "for token in doc.ents:\n",
    "    print(token.text, token.label_, token.start_char, token.end_char)"
   ]
  },
  {
   "cell_type": "code",
   "execution_count": 73,
   "metadata": {},
   "outputs": [
    {
     "data": {
      "text/html": [
       "<span class=\"tex2jax_ignore\"><div class=\"entities\" style=\"line-height: 2.5; direction: ltr\">\n",
       "<mark class=\"entity\" style=\"background: #ddd; padding: 0.45em 0.6em; margin: 0 0.25em; line-height: 1; border-radius: 0.35em;\">\n",
       "    The\n",
       "    <span style=\"font-size: 0.8em; font-weight: bold; line-height: 1; border-radius: 0.35em; vertical-align: middle; margin-left: 0.5rem\">DS</span>\n",
       "</mark>\n",
       " people of our great nation are told to vote on who they would like to lead and represent them. This is a Democracy and American citizens deserve this \n",
       "<mark class=\"entity\" style=\"background: #ddd; padding: 0.45em 0.6em; margin: 0 0.25em; line-height: 1; border-radius: 0.35em;\">\n",
       "    right.\n",
       "    <span style=\"font-size: 0.8em; font-weight: bold; line-height: 1; border-radius: 0.35em; vertical-align: middle; margin-left: 0.5rem\">DE</span>\n",
       "</mark>\n",
       " \n",
       "<mark class=\"entity\" style=\"background: #ddd; padding: 0.45em 0.6em; margin: 0 0.25em; line-height: 1; border-radius: 0.35em;\">\n",
       "    There\n",
       "    <span style=\"font-size: 0.8em; font-weight: bold; line-height: 1; border-radius: 0.35em; vertical-align: middle; margin-left: 0.5rem\">DS</span>\n",
       "</mark>\n",
       " have been incidents where the majority of the popular vote from U. S. citizens did not lead to the election of that candidate. This is because of the electoral \n",
       "<mark class=\"entity\" style=\"background: #ddd; padding: 0.45em 0.6em; margin: 0 0.25em; line-height: 1; border-radius: 0.35em;\">\n",
       "    college.\n",
       "    <span style=\"font-size: 0.8em; font-weight: bold; line-height: 1; border-radius: 0.35em; vertical-align: middle; margin-left: 0.5rem\">DE</span>\n",
       "</mark>\n",
       " \n",
       "<mark class=\"entity\" style=\"background: #ddd; padding: 0.45em 0.6em; margin: 0 0.25em; line-height: 1; border-radius: 0.35em;\">\n",
       "    This\n",
       "    <span style=\"font-size: 0.8em; font-weight: bold; line-height: 1; border-radius: 0.35em; vertical-align: middle; margin-left: 0.5rem\">DS</span>\n",
       "</mark>\n",
       " is the cause of citizens not having the president they asked for. Most American people do not agree with the electoral college. The electoral college is unfair outdated and irrational The Indefensible Electoral College Why even the best laid defenses are wrong Bradford \n",
       "<mark class=\"entity\" style=\"background: #ddd; padding: 0.45em 0.6em; margin: 0 0.25em; line-height: 1; border-radius: 0.35em;\">\n",
       "    Plumer.\n",
       "    <span style=\"font-size: 0.8em; font-weight: bold; line-height: 1; border-radius: 0.35em; vertical-align: middle; margin-left: 0.5rem\">DE</span>\n",
       "</mark>\n",
       " \n",
       "<mark class=\"entity\" style=\"background: #ddd; padding: 0.45em 0.6em; margin: 0 0.25em; line-height: 1; border-radius: 0.35em;\">\n",
       "    The\n",
       "    <span style=\"font-size: 0.8em; font-weight: bold; line-height: 1; border-radius: 0.35em; vertical-align: middle; margin-left: 0.5rem\">DS</span>\n",
       "</mark>\n",
       " disaster factor is a what the electoral college should really be concerned \n",
       "<mark class=\"entity\" style=\"background: #ddd; padding: 0.45em 0.6em; margin: 0 0.25em; line-height: 1; border-radius: 0.35em;\">\n",
       "    about.\n",
       "    <span style=\"font-size: 0.8em; font-weight: bold; line-height: 1; border-radius: 0.35em; vertical-align: middle; margin-left: 0.5rem\">DE</span>\n",
       "</mark>\n",
       " \n",
       "<mark class=\"entity\" style=\"background: #ddd; padding: 0.45em 0.6em; margin: 0 0.25em; line-height: 1; border-radius: 0.35em;\">\n",
       "    The\n",
       "    <span style=\"font-size: 0.8em; font-weight: bold; line-height: 1; border-radius: 0.35em; vertical-align: middle; margin-left: 0.5rem\">DS</span>\n",
       "</mark>\n",
       " system allows for many slip ups. The American people should conside themselves lucky that the 2000 fiasco was the biggest election crisis in a century The Indefensible Electoral College Why even the best laid defenses are wrong Bradford Plumer. In 1960 segregationists in the Loisiana legislature nearly succeeded in replacing the Democratic electors with new electors who would oppose John F. Kennedy. Also electors who aren't loyal to the county have occasionally chosen to vote for the party that they'd want rather then vote for their party's candidate. Popular vote is what our founding fathers wanted in the beginning. They wanted equality between people and the wanted the people to vote for who they wanted as a leader. With the electoral college this vision cannot become \n",
       "<mark class=\"entity\" style=\"background: #ddd; padding: 0.45em 0.6em; margin: 0 0.25em; line-height: 1; border-radius: 0.35em;\">\n",
       "    reality.\n",
       "    <span style=\"font-size: 0.8em; font-weight: bold; line-height: 1; border-radius: 0.35em; vertical-align: middle; margin-left: 0.5rem\">DE</span>\n",
       "</mark>\n",
       " \n",
       "<mark class=\"entity\" style=\"background: #ddd; padding: 0.45em 0.6em; margin: 0 0.25em; line-height: 1; border-radius: 0.35em;\">\n",
       "    The\n",
       "    <span style=\"font-size: 0.8em; font-weight: bold; line-height: 1; border-radius: 0.35em; vertical-align: middle; margin-left: 0.5rem\">DS</span>\n",
       "</mark>\n",
       " popular vote is what a Democracy is all \n",
       "<mark class=\"entity\" style=\"background: #ddd; padding: 0.45em 0.6em; margin: 0 0.25em; line-height: 1; border-radius: 0.35em;\">\n",
       "    about.\n",
       "    <span style=\"font-size: 0.8em; font-weight: bold; line-height: 1; border-radius: 0.35em; vertical-align: middle; margin-left: 0.5rem\">DE</span>\n",
       "</mark>\n",
       " \n",
       "<mark class=\"entity\" style=\"background: #ddd; padding: 0.45em 0.6em; margin: 0 0.25em; line-height: 1; border-radius: 0.35em;\">\n",
       "    The\n",
       "    <span style=\"font-size: 0.8em; font-weight: bold; line-height: 1; border-radius: 0.35em; vertical-align: middle; margin-left: 0.5rem\">DS</span>\n",
       "</mark>\n",
       " Electoral College is widely regarded as an anachorism a non democratic method of selecting a president that ought to be overruled by declaring the candidate who recieves the most popular votes the winner. The advocates of this position are correct in arguing that the electoral college is not democratic in a modern sense In Defense of the Electoral College Five Reasons to Keep our Despised Method of Choosing the President Richard A. Posner. There is no point in having the people vote if they aren't voting for what they need as a nation. We have brought our nation together so that they can decide on someone to watch over them and protect \n",
       "<mark class=\"entity\" style=\"background: #ddd; padding: 0.45em 0.6em; margin: 0 0.25em; line-height: 1; border-radius: 0.35em;\">\n",
       "    them.\n",
       "    <span style=\"font-size: 0.8em; font-weight: bold; line-height: 1; border-radius: 0.35em; vertical-align: middle; margin-left: 0.5rem\">DE</span>\n",
       "</mark>\n",
       " \n",
       "<mark class=\"entity\" style=\"background: #ddd; padding: 0.45em 0.6em; margin: 0 0.25em; line-height: 1; border-radius: 0.35em;\">\n",
       "    The\n",
       "    <span style=\"font-size: 0.8em; font-weight: bold; line-height: 1; border-radius: 0.35em; vertical-align: middle; margin-left: 0.5rem\">DS</span>\n",
       "</mark>\n",
       " Electoral college is non Democratic and needs to be abolishes as soon as possible. There is no more use for it as the population continues to grow. The popular vote is the way our great leaders taught us how to \n",
       "<mark class=\"entity\" style=\"background: #ddd; padding: 0.45em 0.6em; margin: 0 0.25em; line-height: 1; border-radius: 0.35em;\">\n",
       "    vote.\n",
       "    <span style=\"font-size: 0.8em; font-weight: bold; line-height: 1; border-radius: 0.35em; vertical-align: middle; margin-left: 0.5rem\">DE</span>\n",
       "</mark>\n",
       " </div></span>"
      ],
      "text/plain": [
       "<IPython.core.display.HTML object>"
      ]
     },
     "metadata": {},
     "output_type": "display_data"
    }
   ],
   "source": [
    "spacy.displacy.render(manual_doc, style=\"ent\", jupyter=True)\n"
   ]
  },
  {
   "cell_type": "code",
   "execution_count": 74,
   "metadata": {},
   "outputs": [
    {
     "data": {
      "text/html": [
       "<span class=\"tex2jax_ignore\"><div class=\"entities\" style=\"line-height: 2.5; direction: ltr\">\n",
       "<mark class=\"entity\" style=\"background: #ddd; padding: 0.45em 0.6em; margin: 0 0.25em; line-height: 1; border-radius: 0.35em;\">\n",
       "    The\n",
       "    <span style=\"font-size: 0.8em; font-weight: bold; line-height: 1; border-radius: 0.35em; vertical-align: middle; margin-left: 0.5rem\">DS</span>\n",
       "</mark>\n",
       " people of our great nation are told to vote on who they would like to lead and represent them. This is a Democracy and American citizens deserve this \n",
       "<mark class=\"entity\" style=\"background: #ddd; padding: 0.45em 0.6em; margin: 0 0.25em; line-height: 1; border-radius: 0.35em;\">\n",
       "    right\n",
       "    <span style=\"font-size: 0.8em; font-weight: bold; line-height: 1; border-radius: 0.35em; vertical-align: middle; margin-left: 0.5rem\">DE</span>\n",
       "</mark>\n",
       ". \n",
       "<mark class=\"entity\" style=\"background: #ddd; padding: 0.45em 0.6em; margin: 0 0.25em; line-height: 1; border-radius: 0.35em;\">\n",
       "    There\n",
       "    <span style=\"font-size: 0.8em; font-weight: bold; line-height: 1; border-radius: 0.35em; vertical-align: middle; margin-left: 0.5rem\">DS</span>\n",
       "</mark>\n",
       " have been incidents where the majority of the popular vote from U. S. citizens did not lead to the election of that candidate. This is because of the electoral college. This is the cause of citizens not having the president they asked \n",
       "<mark class=\"entity\" style=\"background: #ddd; padding: 0.45em 0.6em; margin: 0 0.25em; line-height: 1; border-radius: 0.35em;\">\n",
       "    for\n",
       "    <span style=\"font-size: 0.8em; font-weight: bold; line-height: 1; border-radius: 0.35em; vertical-align: middle; margin-left: 0.5rem\">DE</span>\n",
       "</mark>\n",
       ". \n",
       "<mark class=\"entity\" style=\"background: #ddd; padding: 0.45em 0.6em; margin: 0 0.25em; line-height: 1; border-radius: 0.35em;\">\n",
       "    Most\n",
       "    <span style=\"font-size: 0.8em; font-weight: bold; line-height: 1; border-radius: 0.35em; vertical-align: middle; margin-left: 0.5rem\">DS</span>\n",
       "</mark>\n",
       " American people do not agree with the electoral college. The electoral college is unfair outdated and irrational The Indefensible Electoral College Why even the best laid defenses are wrong Bradford \n",
       "<mark class=\"entity\" style=\"background: #ddd; padding: 0.45em 0.6em; margin: 0 0.25em; line-height: 1; border-radius: 0.35em;\">\n",
       "    Plumer\n",
       "    <span style=\"font-size: 0.8em; font-weight: bold; line-height: 1; border-radius: 0.35em; vertical-align: middle; margin-left: 0.5rem\">DE</span>\n",
       "</mark>\n",
       ". \n",
       "<mark class=\"entity\" style=\"background: #ddd; padding: 0.45em 0.6em; margin: 0 0.25em; line-height: 1; border-radius: 0.35em;\">\n",
       "    The\n",
       "    <span style=\"font-size: 0.8em; font-weight: bold; line-height: 1; border-radius: 0.35em; vertical-align: middle; margin-left: 0.5rem\">DS</span>\n",
       "</mark>\n",
       " disaster factor is a what the electoral college should really be concerned \n",
       "<mark class=\"entity\" style=\"background: #ddd; padding: 0.45em 0.6em; margin: 0 0.25em; line-height: 1; border-radius: 0.35em;\">\n",
       "    about\n",
       "    <span style=\"font-size: 0.8em; font-weight: bold; line-height: 1; border-radius: 0.35em; vertical-align: middle; margin-left: 0.5rem\">DE</span>\n",
       "</mark>\n",
       ". \n",
       "<mark class=\"entity\" style=\"background: #ddd; padding: 0.45em 0.6em; margin: 0 0.25em; line-height: 1; border-radius: 0.35em;\">\n",
       "    The\n",
       "    <span style=\"font-size: 0.8em; font-weight: bold; line-height: 1; border-radius: 0.35em; vertical-align: middle; margin-left: 0.5rem\">DS</span>\n",
       "</mark>\n",
       " system allows for many slip ups. The American people should conside themselves lucky that the 2000 fiasco was the biggest election crisis in a century The Indefensible Electoral College Why even the best laid defenses are wrong Bradford Plumer. In 1960 segregationists in the Loisiana legislature nearly succeeded in replacing the Democratic electors with new electors who would oppose John F. Kennedy. Also electors who aren't loyal to the county have occasionally chosen to vote for the party that they'd want rather then vote for their party's \n",
       "<mark class=\"entity\" style=\"background: #ddd; padding: 0.45em 0.6em; margin: 0 0.25em; line-height: 1; border-radius: 0.35em;\">\n",
       "    candidate\n",
       "    <span style=\"font-size: 0.8em; font-weight: bold; line-height: 1; border-radius: 0.35em; vertical-align: middle; margin-left: 0.5rem\">DE</span>\n",
       "</mark>\n",
       ". \n",
       "<mark class=\"entity\" style=\"background: #ddd; padding: 0.45em 0.6em; margin: 0 0.25em; line-height: 1; border-radius: 0.35em;\">\n",
       "    Popular\n",
       "    <span style=\"font-size: 0.8em; font-weight: bold; line-height: 1; border-radius: 0.35em; vertical-align: middle; margin-left: 0.5rem\">DS</span>\n",
       "</mark>\n",
       " vote is what our founding fathers wanted in the beginning. They wanted equality between people and the wanted the people to vote for who they wanted as a leader. With the electoral college this vision cannot become reality. The popular vote is what a Democracy is all \n",
       "<mark class=\"entity\" style=\"background: #ddd; padding: 0.45em 0.6em; margin: 0 0.25em; line-height: 1; border-radius: 0.35em;\">\n",
       "    about\n",
       "    <span style=\"font-size: 0.8em; font-weight: bold; line-height: 1; border-radius: 0.35em; vertical-align: middle; margin-left: 0.5rem\">DE</span>\n",
       "</mark>\n",
       ". \n",
       "<mark class=\"entity\" style=\"background: #ddd; padding: 0.45em 0.6em; margin: 0 0.25em; line-height: 1; border-radius: 0.35em;\">\n",
       "    The\n",
       "    <span style=\"font-size: 0.8em; font-weight: bold; line-height: 1; border-radius: 0.35em; vertical-align: middle; margin-left: 0.5rem\">DS</span>\n",
       "</mark>\n",
       " Electoral College is widely regarded as an anachorism a non democratic method of selecting a president that ought to be overruled by declaring the candidate who recieves the most popular votes the \n",
       "<mark class=\"entity\" style=\"background: #ddd; padding: 0.45em 0.6em; margin: 0 0.25em; line-height: 1; border-radius: 0.35em;\">\n",
       "    winner\n",
       "    <span style=\"font-size: 0.8em; font-weight: bold; line-height: 1; border-radius: 0.35em; vertical-align: middle; margin-left: 0.5rem\">DE</span>\n",
       "</mark>\n",
       ". \n",
       "<mark class=\"entity\" style=\"background: #ddd; padding: 0.45em 0.6em; margin: 0 0.25em; line-height: 1; border-radius: 0.35em;\">\n",
       "    The\n",
       "    <span style=\"font-size: 0.8em; font-weight: bold; line-height: 1; border-radius: 0.35em; vertical-align: middle; margin-left: 0.5rem\">DS</span>\n",
       "</mark>\n",
       " advocates of this position are correct in arguing that the electoral college is not democratic in a modern sense In Defense of the Electoral College Five Reasons to Keep our Despised Method of Choosing the President Richard A. Posner. There is no point in having the people vote if they aren't voting for what they need as a nation. We have brought our nation together so that they can decide on someone to watch over them and protect \n",
       "<mark class=\"entity\" style=\"background: #ddd; padding: 0.45em 0.6em; margin: 0 0.25em; line-height: 1; border-radius: 0.35em;\">\n",
       "    them\n",
       "    <span style=\"font-size: 0.8em; font-weight: bold; line-height: 1; border-radius: 0.35em; vertical-align: middle; margin-left: 0.5rem\">DE</span>\n",
       "</mark>\n",
       ". \n",
       "<mark class=\"entity\" style=\"background: #ddd; padding: 0.45em 0.6em; margin: 0 0.25em; line-height: 1; border-radius: 0.35em;\">\n",
       "    The\n",
       "    <span style=\"font-size: 0.8em; font-weight: bold; line-height: 1; border-radius: 0.35em; vertical-align: middle; margin-left: 0.5rem\">DS</span>\n",
       "</mark>\n",
       " Electoral college is non Democratic and needs to be abolishes as soon as possible. There is no more use for it as the population continues to grow. The popular vote is the way our great leaders taught us how to \n",
       "<mark class=\"entity\" style=\"background: #ddd; padding: 0.45em 0.6em; margin: 0 0.25em; line-height: 1; border-radius: 0.35em;\">\n",
       "    vote\n",
       "    <span style=\"font-size: 0.8em; font-weight: bold; line-height: 1; border-radius: 0.35em; vertical-align: middle; margin-left: 0.5rem\">DE</span>\n",
       "</mark>\n",
       ".</div></span>"
      ],
      "text/plain": [
       "<IPython.core.display.HTML object>"
      ]
     },
     "metadata": {},
     "output_type": "display_data"
    }
   ],
   "source": [
    "spacy.displacy.render(doc, style=\"ent\", jupyter=True)"
   ]
  },
  {
   "cell_type": "code",
   "execution_count": null,
   "metadata": {},
   "outputs": [],
   "source": []
  }
 ],
 "metadata": {
  "kernelspec": {
   "display_name": "nlp",
   "language": "python",
   "name": "python3"
  },
  "language_info": {
   "codemirror_mode": {
    "name": "ipython",
    "version": 3
   },
   "file_extension": ".py",
   "mimetype": "text/x-python",
   "name": "python",
   "nbconvert_exporter": "python",
   "pygments_lexer": "ipython3",
   "version": "3.9.15 | packaged by conda-forge | (main, Nov 22 2022, 15:55:03) \n[GCC 10.4.0]"
  },
  "orig_nbformat": 4,
  "vscode": {
   "interpreter": {
    "hash": "572f6aa65a5e6c51562016b4e29a85b0309fe64d207fe345880514900c6994ab"
   }
  }
 },
 "nbformat": 4,
 "nbformat_minor": 2
}
