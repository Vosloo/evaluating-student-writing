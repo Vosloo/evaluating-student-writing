{
 "cells": [
  {
   "cell_type": "code",
   "execution_count": 4,
   "metadata": {},
   "outputs": [],
   "source": [
    "import sys\n",
    "from pathlib import Path"
   ]
  },
  {
   "cell_type": "code",
   "execution_count": 5,
   "metadata": {},
   "outputs": [],
   "source": [
    "module_path = Path.cwd().parent.parent\n",
    "if module_path not in sys.path:\n",
    "    sys.path.append(str(module_path))"
   ]
  },
  {
   "cell_type": "code",
   "execution_count": 34,
   "metadata": {},
   "outputs": [],
   "source": [
    "import spacy\n",
    "from spacy.tokens import Doc"
   ]
  },
  {
   "cell_type": "code",
   "execution_count": 7,
   "metadata": {},
   "outputs": [],
   "source": [
    "from src.loader import TextLoader\n",
    "from src.model import DatasetType"
   ]
  },
  {
   "cell_type": "code",
   "execution_count": 8,
   "metadata": {},
   "outputs": [],
   "source": [
    "loader = TextLoader(dataset_type=DatasetType.V1_WITH_PREDICTIONSTRING)"
   ]
  },
  {
   "cell_type": "code",
   "execution_count": 2,
   "metadata": {},
   "outputs": [],
   "source": [
    "nlp = spacy.load(\"spacy_out/model-best/\")"
   ]
  },
  {
   "attachments": {},
   "cell_type": "markdown",
   "metadata": {},
   "source": [
    "Results for the custom NER model from spaCy:\n",
    "```\n",
    "================================== Results ==================================\n",
    "\n",
    "TOK     -    \n",
    "NER P   63.22\n",
    "NER R   73.08\n",
    "NER F   67.79\n",
    "SPEED   12164\n",
    "\n",
    "\n",
    "=============================== NER (per type) ===============================\n",
    "\n",
    "         P       R       F\n",
    "DS   63.22   66.78   64.95\n",
    "DE   63.23   79.40   70.40\n",
    "```"
   ]
  },
  {
   "cell_type": "code",
   "execution_count": 3,
   "metadata": {},
   "outputs": [
    {
     "data": {
      "text/plain": [
       "[('transformer',\n",
       "  <spacy_transformers.pipeline_component.Transformer at 0x7fb2341fcb20>),\n",
       " ('ner', <spacy.pipeline.ner.EntityRecognizer at 0x7fb23423b820>)]"
      ]
     },
     "execution_count": 3,
     "metadata": {},
     "output_type": "execute_result"
    }
   ],
   "source": [
    "nlp.pipeline"
   ]
  },
  {
   "cell_type": "code",
   "execution_count": 27,
   "metadata": {},
   "outputs": [],
   "source": [
    "text = loader.load_random_text(purify_discourses=True, purify_text=True)"
   ]
  },
  {
   "cell_type": "code",
   "execution_count": 29,
   "metadata": {},
   "outputs": [
    {
     "data": {
      "text/plain": [
       "'BBB6E0302CFE'"
      ]
     },
     "execution_count": 29,
     "metadata": {},
     "output_type": "execute_result"
    }
   ],
   "source": [
    "text.id"
   ]
  },
  {
   "cell_type": "code",
   "execution_count": 28,
   "metadata": {},
   "outputs": [
    {
     "name": "stdout",
     "output_type": "stream",
     "text": [
      "I am going to write an essay on why you should join the Seagoing Cowboys program. You should join the Seagoing Cowboys because it gives you a lot of opportunities to see different places. You can go visit some of the most exciting places in the world. Also if you like animals it gives an opportunity to take care of them. If you have never gone over seas then there is your opportunity. You travel all over the world go over the seas and oceans. You get to adventure the seas oceans and the world. Also if you are a young Seagoing Cowboy and you still need to attend school the you can learn about the countries and seas by exploring them. Like I said earlier if you still need to attend school you can learn different languages because you are exploring the world. So by learning diffenrent languages it can open up many opportunities for you. But it doesn't need to be all about learning. You can play games on the way and see many different sites that's the whole world would want to see. Then when you come back you can tell all your friends about the trips you have had. Then maybe they would like to come along with us. In conclusion that is why you should be a Seagoing Cowboy to have those many adventures.\n"
     ]
    }
   ],
   "source": [
    "print(text)"
   ]
  },
  {
   "cell_type": "code",
   "execution_count": 56,
   "metadata": {},
   "outputs": [
    {
     "name": "stdout",
     "output_type": "stream",
     "text": [
      "--- 1619807167166 (82 -> 187 | 16 -> 33) - Position ---\n",
      "You should join the Seagoing Cowboys because it gives you a lot of opportunities to see different places.\n",
      "-------------------------------------------------------\n",
      "--- 1619807098083 (188 -> 251 | 34 -> 46) - Claim ---\n",
      "You can go visit some of the most exciting places in the world.\n",
      "-----------------------------------------------------\n",
      "--- 1619807106639 (252 -> 322 | 47 -> 60) - Claim ---\n",
      "Also if you like animals it gives an opportunity to take care of them.\n",
      "-----------------------------------------------------\n",
      "--- 1619807143615 (323 -> 640 | 61 -> 121) - Evidence ---\n",
      "If you have never gone over seas then there is your opportunity. You travel all over the world go over the seas and oceans. You get to adventure the seas oceans and the world. Also if you are a young Seagoing Cowboy and you still need to attend school the you can learn about the countries and seas by exploring them.\n",
      "---------------------------------------------------------\n",
      "--- 1619807202195 (641 -> 890 | 122 -> 165) - Evidence ---\n",
      "Like I said earlier if you still need to attend school you can learn different languages because you are exploring the world. So by learning diffenrent languages it can open up many opportunities for you. But it doesn't need to be all about learning\n",
      "----------------------------------------------------------\n",
      "--- 1619807234214 (892 -> 991 | 166 -> 185) - Claim ---\n",
      "You can play games on the way and see many different sites that's the whole world would want to see\n",
      "-------------------------------------------------------\n",
      "--- 1619807244218 (993 -> 1126 | 186 -> 212) - Evidence ---\n",
      "Then when you come back you can tell all your friends about the trips you have had. Then maybe they would like to come along with us.\n",
      "-----------------------------------------------------------\n",
      "--- 1619807251423 (1141 -> 1215 | 215 -> 228) - Concluding Statement ---\n",
      "that is why you should be a Seagoing Cowboy to have those many adventures.\n",
      "------------------------------------------------------------------------\n"
     ]
    }
   ],
   "source": [
    "for disc in text.discourses:\n",
    "    print(disc)"
   ]
  },
  {
   "cell_type": "code",
   "execution_count": 57,
   "metadata": {},
   "outputs": [],
   "source": [
    "word_idx = []\n",
    "for disc in text.discourses:\n",
    "    word_idx.extend((disc.predictionstring[0], disc.predictionstring[-1]))\n",
    "\n",
    "ents = []\n",
    "\n",
    "DS_token = \"B-DS\"\n",
    "DE_token = \"B-DE\"\n",
    "use_DS = True\n",
    "for ind, word in enumerate(text.words):\n",
    "    if use_DS:\n",
    "        curr_token = DS_token\n",
    "    else:\n",
    "        curr_token = DE_token\n",
    "\n",
    "    if ind in word_idx:\n",
    "        ents.append(curr_token)\n",
    "        use_DS = not use_DS\n",
    "    else:\n",
    "        ents.append(\"O\")\n"
   ]
  },
  {
   "cell_type": "code",
   "execution_count": 58,
   "metadata": {},
   "outputs": [],
   "source": [
    "manual_doc = Doc(nlp.vocab, text.words, ents=ents)\n"
   ]
  },
  {
   "cell_type": "code",
   "execution_count": 59,
   "metadata": {},
   "outputs": [
    {
     "name": "stdout",
     "output_type": "stream",
     "text": [
      "You DS 82 85\n",
      "places. DE 180 187\n",
      "You DS 188 191\n",
      "world. DE 245 251\n",
      "Also DS 252 256\n",
      "them. DE 317 322\n",
      "If DS 323 325\n",
      "them. DE 635 640\n",
      "Like DS 641 645\n",
      "learning. DE 882 891\n",
      "You DS 892 895\n",
      "see. DE 988 992\n",
      "Then DS 993 997\n",
      "us. DE 1123 1126\n",
      "that DS 1141 1145\n",
      "adventures. DE 1204 1215\n"
     ]
    }
   ],
   "source": [
    "for token in manual_doc.ents:\n",
    "    print(token.text, token.label_, token.start_char, token.end_char)"
   ]
  },
  {
   "cell_type": "code",
   "execution_count": 60,
   "metadata": {},
   "outputs": [],
   "source": [
    "doc = nlp(text.text)"
   ]
  },
  {
   "cell_type": "code",
   "execution_count": 61,
   "metadata": {},
   "outputs": [
    {
     "name": "stdout",
     "output_type": "stream",
     "text": [
      "I DS 0 1\n",
      "program DE 73 80\n",
      "You DS 82 85\n",
      "places DE 180 186\n",
      "You DS 188 191\n",
      "world DE 245 250\n",
      "them DE 317 321\n",
      "If DS 323 325\n",
      "them DE 635 639\n",
      "Like DS 641 645\n",
      "world DE 760 765\n",
      "you DE 841 844\n",
      "learning DE 882 890\n",
      "You DS 892 895\n",
      "us DE 1123 1125\n",
      "In DS 1127 1129\n",
      "that DS 1141 1145\n",
      "adventures DE 1204 1214\n"
     ]
    }
   ],
   "source": [
    "for token in doc.ents:\n",
    "    print(token.text, token.label_, token.start_char, token.end_char)"
   ]
  },
  {
   "cell_type": "code",
   "execution_count": 62,
   "metadata": {},
   "outputs": [
    {
     "data": {
      "text/html": [
       "<span class=\"tex2jax_ignore\"><div class=\"entities\" style=\"line-height: 2.5; direction: ltr\">I am going to write an essay on why you should join the Seagoing Cowboys program. \n",
       "<mark class=\"entity\" style=\"background: #ddd; padding: 0.45em 0.6em; margin: 0 0.25em; line-height: 1; border-radius: 0.35em;\">\n",
       "    You\n",
       "    <span style=\"font-size: 0.8em; font-weight: bold; line-height: 1; border-radius: 0.35em; vertical-align: middle; margin-left: 0.5rem\">DS</span>\n",
       "</mark>\n",
       " should join the Seagoing Cowboys because it gives you a lot of opportunities to see different \n",
       "<mark class=\"entity\" style=\"background: #ddd; padding: 0.45em 0.6em; margin: 0 0.25em; line-height: 1; border-radius: 0.35em;\">\n",
       "    places.\n",
       "    <span style=\"font-size: 0.8em; font-weight: bold; line-height: 1; border-radius: 0.35em; vertical-align: middle; margin-left: 0.5rem\">DE</span>\n",
       "</mark>\n",
       " \n",
       "<mark class=\"entity\" style=\"background: #ddd; padding: 0.45em 0.6em; margin: 0 0.25em; line-height: 1; border-radius: 0.35em;\">\n",
       "    You\n",
       "    <span style=\"font-size: 0.8em; font-weight: bold; line-height: 1; border-radius: 0.35em; vertical-align: middle; margin-left: 0.5rem\">DS</span>\n",
       "</mark>\n",
       " can go visit some of the most exciting places in the \n",
       "<mark class=\"entity\" style=\"background: #ddd; padding: 0.45em 0.6em; margin: 0 0.25em; line-height: 1; border-radius: 0.35em;\">\n",
       "    world.\n",
       "    <span style=\"font-size: 0.8em; font-weight: bold; line-height: 1; border-radius: 0.35em; vertical-align: middle; margin-left: 0.5rem\">DE</span>\n",
       "</mark>\n",
       " \n",
       "<mark class=\"entity\" style=\"background: #ddd; padding: 0.45em 0.6em; margin: 0 0.25em; line-height: 1; border-radius: 0.35em;\">\n",
       "    Also\n",
       "    <span style=\"font-size: 0.8em; font-weight: bold; line-height: 1; border-radius: 0.35em; vertical-align: middle; margin-left: 0.5rem\">DS</span>\n",
       "</mark>\n",
       " if you like animals it gives an opportunity to take care of \n",
       "<mark class=\"entity\" style=\"background: #ddd; padding: 0.45em 0.6em; margin: 0 0.25em; line-height: 1; border-radius: 0.35em;\">\n",
       "    them.\n",
       "    <span style=\"font-size: 0.8em; font-weight: bold; line-height: 1; border-radius: 0.35em; vertical-align: middle; margin-left: 0.5rem\">DE</span>\n",
       "</mark>\n",
       " \n",
       "<mark class=\"entity\" style=\"background: #ddd; padding: 0.45em 0.6em; margin: 0 0.25em; line-height: 1; border-radius: 0.35em;\">\n",
       "    If\n",
       "    <span style=\"font-size: 0.8em; font-weight: bold; line-height: 1; border-radius: 0.35em; vertical-align: middle; margin-left: 0.5rem\">DS</span>\n",
       "</mark>\n",
       " you have never gone over seas then there is your opportunity. You travel all over the world go over the seas and oceans. You get to adventure the seas oceans and the world. Also if you are a young Seagoing Cowboy and you still need to attend school the you can learn about the countries and seas by exploring \n",
       "<mark class=\"entity\" style=\"background: #ddd; padding: 0.45em 0.6em; margin: 0 0.25em; line-height: 1; border-radius: 0.35em;\">\n",
       "    them.\n",
       "    <span style=\"font-size: 0.8em; font-weight: bold; line-height: 1; border-radius: 0.35em; vertical-align: middle; margin-left: 0.5rem\">DE</span>\n",
       "</mark>\n",
       " \n",
       "<mark class=\"entity\" style=\"background: #ddd; padding: 0.45em 0.6em; margin: 0 0.25em; line-height: 1; border-radius: 0.35em;\">\n",
       "    Like\n",
       "    <span style=\"font-size: 0.8em; font-weight: bold; line-height: 1; border-radius: 0.35em; vertical-align: middle; margin-left: 0.5rem\">DS</span>\n",
       "</mark>\n",
       " I said earlier if you still need to attend school you can learn different languages because you are exploring the world. So by learning diffenrent languages it can open up many opportunities for you. But it doesn't need to be all about \n",
       "<mark class=\"entity\" style=\"background: #ddd; padding: 0.45em 0.6em; margin: 0 0.25em; line-height: 1; border-radius: 0.35em;\">\n",
       "    learning.\n",
       "    <span style=\"font-size: 0.8em; font-weight: bold; line-height: 1; border-radius: 0.35em; vertical-align: middle; margin-left: 0.5rem\">DE</span>\n",
       "</mark>\n",
       " \n",
       "<mark class=\"entity\" style=\"background: #ddd; padding: 0.45em 0.6em; margin: 0 0.25em; line-height: 1; border-radius: 0.35em;\">\n",
       "    You\n",
       "    <span style=\"font-size: 0.8em; font-weight: bold; line-height: 1; border-radius: 0.35em; vertical-align: middle; margin-left: 0.5rem\">DS</span>\n",
       "</mark>\n",
       " can play games on the way and see many different sites that's the whole world would want to \n",
       "<mark class=\"entity\" style=\"background: #ddd; padding: 0.45em 0.6em; margin: 0 0.25em; line-height: 1; border-radius: 0.35em;\">\n",
       "    see.\n",
       "    <span style=\"font-size: 0.8em; font-weight: bold; line-height: 1; border-radius: 0.35em; vertical-align: middle; margin-left: 0.5rem\">DE</span>\n",
       "</mark>\n",
       " \n",
       "<mark class=\"entity\" style=\"background: #ddd; padding: 0.45em 0.6em; margin: 0 0.25em; line-height: 1; border-radius: 0.35em;\">\n",
       "    Then\n",
       "    <span style=\"font-size: 0.8em; font-weight: bold; line-height: 1; border-radius: 0.35em; vertical-align: middle; margin-left: 0.5rem\">DS</span>\n",
       "</mark>\n",
       " when you come back you can tell all your friends about the trips you have had. Then maybe they would like to come along with \n",
       "<mark class=\"entity\" style=\"background: #ddd; padding: 0.45em 0.6em; margin: 0 0.25em; line-height: 1; border-radius: 0.35em;\">\n",
       "    us.\n",
       "    <span style=\"font-size: 0.8em; font-weight: bold; line-height: 1; border-radius: 0.35em; vertical-align: middle; margin-left: 0.5rem\">DE</span>\n",
       "</mark>\n",
       " In conclusion \n",
       "<mark class=\"entity\" style=\"background: #ddd; padding: 0.45em 0.6em; margin: 0 0.25em; line-height: 1; border-radius: 0.35em;\">\n",
       "    that\n",
       "    <span style=\"font-size: 0.8em; font-weight: bold; line-height: 1; border-radius: 0.35em; vertical-align: middle; margin-left: 0.5rem\">DS</span>\n",
       "</mark>\n",
       " is why you should be a Seagoing Cowboy to have those many \n",
       "<mark class=\"entity\" style=\"background: #ddd; padding: 0.45em 0.6em; margin: 0 0.25em; line-height: 1; border-radius: 0.35em;\">\n",
       "    adventures.\n",
       "    <span style=\"font-size: 0.8em; font-weight: bold; line-height: 1; border-radius: 0.35em; vertical-align: middle; margin-left: 0.5rem\">DE</span>\n",
       "</mark>\n",
       " </div></span>"
      ],
      "text/plain": [
       "<IPython.core.display.HTML object>"
      ]
     },
     "metadata": {},
     "output_type": "display_data"
    }
   ],
   "source": [
    "spacy.displacy.render(manual_doc, style=\"ent\", jupyter=True)\n"
   ]
  },
  {
   "cell_type": "code",
   "execution_count": 63,
   "metadata": {},
   "outputs": [
    {
     "data": {
      "text/html": [
       "<span class=\"tex2jax_ignore\"><div class=\"entities\" style=\"line-height: 2.5; direction: ltr\">\n",
       "<mark class=\"entity\" style=\"background: #ddd; padding: 0.45em 0.6em; margin: 0 0.25em; line-height: 1; border-radius: 0.35em;\">\n",
       "    I\n",
       "    <span style=\"font-size: 0.8em; font-weight: bold; line-height: 1; border-radius: 0.35em; vertical-align: middle; margin-left: 0.5rem\">DS</span>\n",
       "</mark>\n",
       " am going to write an essay on why you should join the Seagoing Cowboys \n",
       "<mark class=\"entity\" style=\"background: #ddd; padding: 0.45em 0.6em; margin: 0 0.25em; line-height: 1; border-radius: 0.35em;\">\n",
       "    program\n",
       "    <span style=\"font-size: 0.8em; font-weight: bold; line-height: 1; border-radius: 0.35em; vertical-align: middle; margin-left: 0.5rem\">DE</span>\n",
       "</mark>\n",
       ". \n",
       "<mark class=\"entity\" style=\"background: #ddd; padding: 0.45em 0.6em; margin: 0 0.25em; line-height: 1; border-radius: 0.35em;\">\n",
       "    You\n",
       "    <span style=\"font-size: 0.8em; font-weight: bold; line-height: 1; border-radius: 0.35em; vertical-align: middle; margin-left: 0.5rem\">DS</span>\n",
       "</mark>\n",
       " should join the Seagoing Cowboys because it gives you a lot of opportunities to see different \n",
       "<mark class=\"entity\" style=\"background: #ddd; padding: 0.45em 0.6em; margin: 0 0.25em; line-height: 1; border-radius: 0.35em;\">\n",
       "    places\n",
       "    <span style=\"font-size: 0.8em; font-weight: bold; line-height: 1; border-radius: 0.35em; vertical-align: middle; margin-left: 0.5rem\">DE</span>\n",
       "</mark>\n",
       ". \n",
       "<mark class=\"entity\" style=\"background: #ddd; padding: 0.45em 0.6em; margin: 0 0.25em; line-height: 1; border-radius: 0.35em;\">\n",
       "    You\n",
       "    <span style=\"font-size: 0.8em; font-weight: bold; line-height: 1; border-radius: 0.35em; vertical-align: middle; margin-left: 0.5rem\">DS</span>\n",
       "</mark>\n",
       " can go visit some of the most exciting places in the \n",
       "<mark class=\"entity\" style=\"background: #ddd; padding: 0.45em 0.6em; margin: 0 0.25em; line-height: 1; border-radius: 0.35em;\">\n",
       "    world\n",
       "    <span style=\"font-size: 0.8em; font-weight: bold; line-height: 1; border-radius: 0.35em; vertical-align: middle; margin-left: 0.5rem\">DE</span>\n",
       "</mark>\n",
       ". Also if you like animals it gives an opportunity to take care of \n",
       "<mark class=\"entity\" style=\"background: #ddd; padding: 0.45em 0.6em; margin: 0 0.25em; line-height: 1; border-radius: 0.35em;\">\n",
       "    them\n",
       "    <span style=\"font-size: 0.8em; font-weight: bold; line-height: 1; border-radius: 0.35em; vertical-align: middle; margin-left: 0.5rem\">DE</span>\n",
       "</mark>\n",
       ". \n",
       "<mark class=\"entity\" style=\"background: #ddd; padding: 0.45em 0.6em; margin: 0 0.25em; line-height: 1; border-radius: 0.35em;\">\n",
       "    If\n",
       "    <span style=\"font-size: 0.8em; font-weight: bold; line-height: 1; border-radius: 0.35em; vertical-align: middle; margin-left: 0.5rem\">DS</span>\n",
       "</mark>\n",
       " you have never gone over seas then there is your opportunity. You travel all over the world go over the seas and oceans. You get to adventure the seas oceans and the world. Also if you are a young Seagoing Cowboy and you still need to attend school the you can learn about the countries and seas by exploring \n",
       "<mark class=\"entity\" style=\"background: #ddd; padding: 0.45em 0.6em; margin: 0 0.25em; line-height: 1; border-radius: 0.35em;\">\n",
       "    them\n",
       "    <span style=\"font-size: 0.8em; font-weight: bold; line-height: 1; border-radius: 0.35em; vertical-align: middle; margin-left: 0.5rem\">DE</span>\n",
       "</mark>\n",
       ". \n",
       "<mark class=\"entity\" style=\"background: #ddd; padding: 0.45em 0.6em; margin: 0 0.25em; line-height: 1; border-radius: 0.35em;\">\n",
       "    Like\n",
       "    <span style=\"font-size: 0.8em; font-weight: bold; line-height: 1; border-radius: 0.35em; vertical-align: middle; margin-left: 0.5rem\">DS</span>\n",
       "</mark>\n",
       " I said earlier if you still need to attend school you can learn different languages because you are exploring the \n",
       "<mark class=\"entity\" style=\"background: #ddd; padding: 0.45em 0.6em; margin: 0 0.25em; line-height: 1; border-radius: 0.35em;\">\n",
       "    world\n",
       "    <span style=\"font-size: 0.8em; font-weight: bold; line-height: 1; border-radius: 0.35em; vertical-align: middle; margin-left: 0.5rem\">DE</span>\n",
       "</mark>\n",
       ". So by learning diffenrent languages it can open up many opportunities for \n",
       "<mark class=\"entity\" style=\"background: #ddd; padding: 0.45em 0.6em; margin: 0 0.25em; line-height: 1; border-radius: 0.35em;\">\n",
       "    you\n",
       "    <span style=\"font-size: 0.8em; font-weight: bold; line-height: 1; border-radius: 0.35em; vertical-align: middle; margin-left: 0.5rem\">DE</span>\n",
       "</mark>\n",
       ". But it doesn't need to be all about \n",
       "<mark class=\"entity\" style=\"background: #ddd; padding: 0.45em 0.6em; margin: 0 0.25em; line-height: 1; border-radius: 0.35em;\">\n",
       "    learning\n",
       "    <span style=\"font-size: 0.8em; font-weight: bold; line-height: 1; border-radius: 0.35em; vertical-align: middle; margin-left: 0.5rem\">DE</span>\n",
       "</mark>\n",
       ". \n",
       "<mark class=\"entity\" style=\"background: #ddd; padding: 0.45em 0.6em; margin: 0 0.25em; line-height: 1; border-radius: 0.35em;\">\n",
       "    You\n",
       "    <span style=\"font-size: 0.8em; font-weight: bold; line-height: 1; border-radius: 0.35em; vertical-align: middle; margin-left: 0.5rem\">DS</span>\n",
       "</mark>\n",
       " can play games on the way and see many different sites that's the whole world would want to see. Then when you come back you can tell all your friends about the trips you have had. Then maybe they would like to come along with \n",
       "<mark class=\"entity\" style=\"background: #ddd; padding: 0.45em 0.6em; margin: 0 0.25em; line-height: 1; border-radius: 0.35em;\">\n",
       "    us\n",
       "    <span style=\"font-size: 0.8em; font-weight: bold; line-height: 1; border-radius: 0.35em; vertical-align: middle; margin-left: 0.5rem\">DE</span>\n",
       "</mark>\n",
       ". \n",
       "<mark class=\"entity\" style=\"background: #ddd; padding: 0.45em 0.6em; margin: 0 0.25em; line-height: 1; border-radius: 0.35em;\">\n",
       "    In\n",
       "    <span style=\"font-size: 0.8em; font-weight: bold; line-height: 1; border-radius: 0.35em; vertical-align: middle; margin-left: 0.5rem\">DS</span>\n",
       "</mark>\n",
       " conclusion \n",
       "<mark class=\"entity\" style=\"background: #ddd; padding: 0.45em 0.6em; margin: 0 0.25em; line-height: 1; border-radius: 0.35em;\">\n",
       "    that\n",
       "    <span style=\"font-size: 0.8em; font-weight: bold; line-height: 1; border-radius: 0.35em; vertical-align: middle; margin-left: 0.5rem\">DS</span>\n",
       "</mark>\n",
       " is why you should be a Seagoing Cowboy to have those many \n",
       "<mark class=\"entity\" style=\"background: #ddd; padding: 0.45em 0.6em; margin: 0 0.25em; line-height: 1; border-radius: 0.35em;\">\n",
       "    adventures\n",
       "    <span style=\"font-size: 0.8em; font-weight: bold; line-height: 1; border-radius: 0.35em; vertical-align: middle; margin-left: 0.5rem\">DE</span>\n",
       "</mark>\n",
       ".</div></span>"
      ],
      "text/plain": [
       "<IPython.core.display.HTML object>"
      ]
     },
     "metadata": {},
     "output_type": "display_data"
    }
   ],
   "source": [
    "spacy.displacy.render(doc, style=\"ent\", jupyter=True)"
   ]
  }
 ],
 "metadata": {
  "kernelspec": {
   "display_name": "nlp",
   "language": "python",
   "name": "python3"
  },
  "language_info": {
   "codemirror_mode": {
    "name": "ipython",
    "version": 3
   },
   "file_extension": ".py",
   "mimetype": "text/x-python",
   "name": "python",
   "nbconvert_exporter": "python",
   "pygments_lexer": "ipython3",
   "version": "3.9.15"
  },
  "orig_nbformat": 4,
  "vscode": {
   "interpreter": {
    "hash": "6732d5bcbccbd400c2295e6b9ff4a247e8d1a91ef1c3ef29ad75df96351d9278"
   }
  }
 },
 "nbformat": 4,
 "nbformat_minor": 2
}
