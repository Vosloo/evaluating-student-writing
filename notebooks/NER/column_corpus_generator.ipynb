{
 "cells": [
  {
   "cell_type": "code",
   "execution_count": 1,
   "metadata": {},
   "outputs": [],
   "source": [
    "import sys\n",
    "from pathlib import Path"
   ]
  },
  {
   "cell_type": "code",
   "execution_count": 2,
   "metadata": {},
   "outputs": [],
   "source": [
    "module_path = Path.cwd().parent.parent\n",
    "if module_path not in sys.path:\n",
    "    sys.path.insert(0, str(module_path))"
   ]
  },
  {
   "cell_type": "code",
   "execution_count": 3,
   "metadata": {},
   "outputs": [
    {
     "name": "stderr",
     "output_type": "stream",
     "text": [
      "/home/marek/anaconda3/envs/nlp/lib/python3.9/site-packages/tqdm/auto.py:22: TqdmWarning: IProgress not found. Please update jupyter and ipywidgets. See https://ipywidgets.readthedocs.io/en/stable/user_install.html\n",
      "  from .autonotebook import tqdm as notebook_tqdm\n"
     ]
    }
   ],
   "source": [
    "from flair.data import Corpus\n",
    "from flair.datasets import ColumnCorpus"
   ]
  },
  {
   "cell_type": "code",
   "execution_count": 4,
   "metadata": {},
   "outputs": [],
   "source": [
    "from src.loader import TextLoader"
   ]
  },
  {
   "cell_type": "code",
   "execution_count": 5,
   "metadata": {},
   "outputs": [],
   "source": [
    "!mkdir -p data/"
   ]
  },
  {
   "cell_type": "code",
   "execution_count": 6,
   "metadata": {},
   "outputs": [],
   "source": [
    "loader = TextLoader()"
   ]
  },
  {
   "cell_type": "code",
   "execution_count": 7,
   "metadata": {},
   "outputs": [],
   "source": [
    "def create_doc(\n",
    "    doc_type: str, offset: int = 0, limit: int = 0, shuffle: bool = True, seed: int = 8888\n",
    ") -> None:\n",
    "    current_ends = []\n",
    "    output = []\n",
    "    for text_no, text in enumerate(\n",
    "        loader.iterate(offset=offset, limit=limit, shuffle=shuffle, seed=seed)\n",
    "    ):\n",
    "        print(f\"\\r{text_no + 1:3} / {limit}\", end=\"\")\n",
    "        current_ends = [\n",
    "            (disc.predictionstring[0], disc.predictionstring[-1]) for disc in text.discourses\n",
    "        ]\n",
    "\n",
    "        curr_start, curr_end = current_ends.pop(0)\n",
    "        for word_ind, word in enumerate(text.words):\n",
    "            if word_ind > curr_end:\n",
    "                if not current_ends:\n",
    "                    break\n",
    "\n",
    "                curr_start, curr_end = current_ends.pop(0)\n",
    "\n",
    "            if word_ind == curr_start:\n",
    "                output.append(f\"{word} DS\\n\")\n",
    "            elif word_ind == curr_end:\n",
    "                output.append(f\"{word} DE\\n\")\n",
    "            else:\n",
    "                output.append(f\"{word} O\\n\")\n",
    "\n",
    "            if \".\" in word:\n",
    "                output.append(\"\\n\")\n",
    "\n",
    "        output[-1] = output[-1].strip()  # remove last newline\n",
    "        output.append(\"<DOC>\\n\")\n",
    "\n",
    "    output = output[:-1]  # remove last <DOC>\n",
    "\n",
    "    with open(f\"data/NER_{doc_type}.txt\", \"w\") as f:\n",
    "        f.writelines(output)\n"
   ]
  },
  {
   "cell_type": "code",
   "execution_count": 8,
   "metadata": {},
   "outputs": [
    {
     "data": {
      "text/plain": [
       "15594"
      ]
     },
     "execution_count": 8,
     "metadata": {},
     "output_type": "execute_result"
    }
   ],
   "source": [
    "len(loader)\n"
   ]
  },
  {
   "cell_type": "code",
   "execution_count": 9,
   "metadata": {},
   "outputs": [],
   "source": [
    "from sklearn.model_selection import train_test_split"
   ]
  },
  {
   "cell_type": "code",
   "execution_count": 10,
   "metadata": {},
   "outputs": [
    {
     "name": "stdout",
     "output_type": "stream",
     "text": [
      "Train size: 12475, Dev size: 2339, Test size: 780\n"
     ]
    }
   ],
   "source": [
    "# train_size = 0.8\n",
    "# dev_size = 0.15\n",
    "# test_size = 0.05\n",
    "\n",
    "train_size, dev_size = train_test_split(\n",
    "    range(len(loader)), test_size=0.2, random_state=8888\n",
    ")\n",
    "dev_size, test_size = train_test_split(\n",
    "    dev_size, test_size=0.25, random_state=8888\n",
    ")\n",
    "train_size, test_size, dev_size = len(train_size), len(test_size), len(dev_size)\n",
    "\n",
    "print(f\"Train size: {train_size}, Dev size: {dev_size}, Test size: {test_size}\")\n"
   ]
  },
  {
   "cell_type": "code",
   "execution_count": 11,
   "metadata": {},
   "outputs": [
    {
     "name": "stdout",
     "output_type": "stream",
     "text": [
      "12475 / 12475"
     ]
    }
   ],
   "source": [
    "create_doc(\"train\", offset=0, limit=train_size)"
   ]
  },
  {
   "cell_type": "code",
   "execution_count": 12,
   "metadata": {},
   "outputs": [
    {
     "name": "stdout",
     "output_type": "stream",
     "text": [
      "2339 / 2339"
     ]
    }
   ],
   "source": [
    "create_doc(\"dev\", offset=train_size, limit=dev_size)"
   ]
  },
  {
   "cell_type": "code",
   "execution_count": 13,
   "metadata": {},
   "outputs": [
    {
     "name": "stdout",
     "output_type": "stream",
     "text": [
      "780 / 780"
     ]
    }
   ],
   "source": [
    "create_doc(\"test\", offset=train_size + dev_size, limit=test_size)"
   ]
  },
  {
   "cell_type": "code",
   "execution_count": null,
   "metadata": {},
   "outputs": [],
   "source": []
  }
 ],
 "metadata": {
  "kernelspec": {
   "display_name": "Python 3.9.13 ('nlp')",
   "language": "python",
   "name": "python3"
  },
  "language_info": {
   "codemirror_mode": {
    "name": "ipython",
    "version": 3
   },
   "file_extension": ".py",
   "mimetype": "text/x-python",
   "name": "python",
   "nbconvert_exporter": "python",
   "pygments_lexer": "ipython3",
   "version": "3.9.15"
  },
  "orig_nbformat": 4,
  "vscode": {
   "interpreter": {
    "hash": "6732d5bcbccbd400c2295e6b9ff4a247e8d1a91ef1c3ef29ad75df96351d9278"
   }
  }
 },
 "nbformat": 4,
 "nbformat_minor": 2
}
