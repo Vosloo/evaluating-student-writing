{
 "cells": [
  {
   "cell_type": "code",
   "execution_count": 1,
   "metadata": {},
   "outputs": [],
   "source": [
    "import sys\n",
    "from pathlib import Path"
   ]
  },
  {
   "cell_type": "code",
   "execution_count": 2,
   "metadata": {},
   "outputs": [],
   "source": [
    "module_path = Path.cwd().parent.parent\n",
    "if module_path not in sys.path:\n",
    "    sys.path.insert(0, str(module_path))"
   ]
  },
  {
   "cell_type": "code",
   "execution_count": 3,
   "metadata": {},
   "outputs": [
    {
     "data": {
      "text/plain": [
       "PosixPath('/home/marek/Projects/Python/evaluating-student-writing')"
      ]
     },
     "execution_count": 3,
     "metadata": {},
     "output_type": "execute_result"
    }
   ],
   "source": [
    "module_path"
   ]
  },
  {
   "cell_type": "code",
   "execution_count": 4,
   "metadata": {},
   "outputs": [],
   "source": [
    "from flair.data import Corpus\n",
    "from flair.datasets import ColumnCorpus\n",
    "from sklearn.model_selection import train_test_split"
   ]
  },
  {
   "cell_type": "code",
   "execution_count": 5,
   "metadata": {},
   "outputs": [],
   "source": [
    "from src.loader import TextLoader\n",
    "from src.model import DatasetType"
   ]
  },
  {
   "cell_type": "code",
   "execution_count": 6,
   "metadata": {},
   "outputs": [],
   "source": [
    "!mkdir -p data/"
   ]
  },
  {
   "cell_type": "code",
   "execution_count": 7,
   "metadata": {},
   "outputs": [],
   "source": [
    "loader = TextLoader(DatasetType.V1_WITH_PREDICTIONSTRING)"
   ]
  },
  {
   "cell_type": "code",
   "execution_count": 8,
   "metadata": {},
   "outputs": [
    {
     "data": {
      "text/html": [
       "<div>\n",
       "<style scoped>\n",
       "    .dataframe tbody tr th:only-of-type {\n",
       "        vertical-align: middle;\n",
       "    }\n",
       "\n",
       "    .dataframe tbody tr th {\n",
       "        vertical-align: top;\n",
       "    }\n",
       "\n",
       "    .dataframe thead th {\n",
       "        text-align: right;\n",
       "    }\n",
       "</style>\n",
       "<table border=\"1\" class=\"dataframe\">\n",
       "  <thead>\n",
       "    <tr style=\"text-align: right;\">\n",
       "      <th></th>\n",
       "      <th>id</th>\n",
       "      <th>discourse_id</th>\n",
       "      <th>discourse_start</th>\n",
       "      <th>discourse_end</th>\n",
       "      <th>discourse_text</th>\n",
       "      <th>discourse_type</th>\n",
       "      <th>predictionstring</th>\n",
       "    </tr>\n",
       "  </thead>\n",
       "  <tbody>\n",
       "    <tr>\n",
       "      <th>0</th>\n",
       "      <td>423A1CA112E2</td>\n",
       "      <td>1622627660524</td>\n",
       "      <td>7</td>\n",
       "      <td>228</td>\n",
       "      <td>Modern humans today are always on their phone....</td>\n",
       "      <td>Lead</td>\n",
       "      <td>1 2 3 4 5 6 7 8 9 10 11 12 13 14 15 16 17 18 1...</td>\n",
       "    </tr>\n",
       "    <tr>\n",
       "      <th>1</th>\n",
       "      <td>423A1CA112E2</td>\n",
       "      <td>1622627653021</td>\n",
       "      <td>229</td>\n",
       "      <td>311</td>\n",
       "      <td>They are some really bad consequences when stu...</td>\n",
       "      <td>Position</td>\n",
       "      <td>45 46 47 48 49 50 51 52 53 54 55 56 57 58 59</td>\n",
       "    </tr>\n",
       "    <tr>\n",
       "      <th>2</th>\n",
       "      <td>423A1CA112E2</td>\n",
       "      <td>1622627671020</td>\n",
       "      <td>312</td>\n",
       "      <td>399</td>\n",
       "      <td>Some certain areas in the United States ban ph...</td>\n",
       "      <td>Evidence</td>\n",
       "      <td>60 61 62 63 64 65 66 67 68 69 70 71 72 73 74 75</td>\n",
       "    </tr>\n",
       "    <tr>\n",
       "      <th>3</th>\n",
       "      <td>423A1CA112E2</td>\n",
       "      <td>1622627696365</td>\n",
       "      <td>400</td>\n",
       "      <td>754</td>\n",
       "      <td>When people have phones they know about certai...</td>\n",
       "      <td>Evidence</td>\n",
       "      <td>76 77 78 79 80 81 82 83 84 85 86 87 88 89 90 9...</td>\n",
       "    </tr>\n",
       "    <tr>\n",
       "      <th>4</th>\n",
       "      <td>423A1CA112E2</td>\n",
       "      <td>1622627759780</td>\n",
       "      <td>755</td>\n",
       "      <td>882</td>\n",
       "      <td>Driving is one of the way how to get around. P...</td>\n",
       "      <td>Claim</td>\n",
       "      <td>139 140 141 142 143 144 145 146 147 148 149 15...</td>\n",
       "    </tr>\n",
       "    <tr>\n",
       "      <th>...</th>\n",
       "      <td>...</td>\n",
       "      <td>...</td>\n",
       "      <td>...</td>\n",
       "      <td>...</td>\n",
       "      <td>...</td>\n",
       "      <td>...</td>\n",
       "      <td>...</td>\n",
       "    </tr>\n",
       "    <tr>\n",
       "      <th>144251</th>\n",
       "      <td>4C471936CD75</td>\n",
       "      <td>1618153340639</td>\n",
       "      <td>2212</td>\n",
       "      <td>3168</td>\n",
       "      <td>if I'm not sure what college I want to attend ...</td>\n",
       "      <td>Evidence</td>\n",
       "      <td>386 387 388 389 390 391 392 393 394 395 396 39...</td>\n",
       "    </tr>\n",
       "    <tr>\n",
       "      <th>144252</th>\n",
       "      <td>4C471936CD75</td>\n",
       "      <td>1618153383399</td>\n",
       "      <td>3186</td>\n",
       "      <td>4453</td>\n",
       "      <td>seeking multiple opinions before making a hard...</td>\n",
       "      <td>Evidence</td>\n",
       "      <td>576 577 578 579 580 581 582 583 584 585 586 58...</td>\n",
       "    </tr>\n",
       "    <tr>\n",
       "      <th>144253</th>\n",
       "      <td>4C471936CD75</td>\n",
       "      <td>1618024996127</td>\n",
       "      <td>4454</td>\n",
       "      <td>4513</td>\n",
       "      <td>it is better to seek multiple opinions instead...</td>\n",
       "      <td>Position</td>\n",
       "      <td>828 829 830 831 832 833 834 835 836 837 838</td>\n",
       "    </tr>\n",
       "    <tr>\n",
       "      <th>144254</th>\n",
       "      <td>4C471936CD75</td>\n",
       "      <td>1618025268756</td>\n",
       "      <td>4514</td>\n",
       "      <td>4860</td>\n",
       "      <td>The impact of asking people to help you make a...</td>\n",
       "      <td>Evidence</td>\n",
       "      <td>839 840 841 842 843 844 845 846 847 848 849 85...</td>\n",
       "    </tr>\n",
       "    <tr>\n",
       "      <th>144255</th>\n",
       "      <td>4C471936CD75</td>\n",
       "      <td>1618025245188</td>\n",
       "      <td>4871</td>\n",
       "      <td>5679</td>\n",
       "      <td>there are many other reasons one might want to...</td>\n",
       "      <td>Concluding Statement</td>\n",
       "      <td>905 906 907 908 909 910 911 912 913 914 915 91...</td>\n",
       "    </tr>\n",
       "  </tbody>\n",
       "</table>\n",
       "<p>144256 rows × 7 columns</p>\n",
       "</div>"
      ],
      "text/plain": [
       "                  id   discourse_id  discourse_start  discourse_end  \\\n",
       "0       423A1CA112E2  1622627660524                7            228   \n",
       "1       423A1CA112E2  1622627653021              229            311   \n",
       "2       423A1CA112E2  1622627671020              312            399   \n",
       "3       423A1CA112E2  1622627696365              400            754   \n",
       "4       423A1CA112E2  1622627759780              755            882   \n",
       "...              ...            ...              ...            ...   \n",
       "144251  4C471936CD75  1618153340639             2212           3168   \n",
       "144252  4C471936CD75  1618153383399             3186           4453   \n",
       "144253  4C471936CD75  1618024996127             4454           4513   \n",
       "144254  4C471936CD75  1618025268756             4514           4860   \n",
       "144255  4C471936CD75  1618025245188             4871           5679   \n",
       "\n",
       "                                           discourse_text  \\\n",
       "0       Modern humans today are always on their phone....   \n",
       "1       They are some really bad consequences when stu...   \n",
       "2       Some certain areas in the United States ban ph...   \n",
       "3       When people have phones they know about certai...   \n",
       "4       Driving is one of the way how to get around. P...   \n",
       "...                                                   ...   \n",
       "144251  if I'm not sure what college I want to attend ...   \n",
       "144252  seeking multiple opinions before making a hard...   \n",
       "144253  it is better to seek multiple opinions instead...   \n",
       "144254  The impact of asking people to help you make a...   \n",
       "144255  there are many other reasons one might want to...   \n",
       "\n",
       "              discourse_type  \\\n",
       "0                       Lead   \n",
       "1                   Position   \n",
       "2                   Evidence   \n",
       "3                   Evidence   \n",
       "4                      Claim   \n",
       "...                      ...   \n",
       "144251              Evidence   \n",
       "144252              Evidence   \n",
       "144253              Position   \n",
       "144254              Evidence   \n",
       "144255  Concluding Statement   \n",
       "\n",
       "                                         predictionstring  \n",
       "0       1 2 3 4 5 6 7 8 9 10 11 12 13 14 15 16 17 18 1...  \n",
       "1            45 46 47 48 49 50 51 52 53 54 55 56 57 58 59  \n",
       "2         60 61 62 63 64 65 66 67 68 69 70 71 72 73 74 75  \n",
       "3       76 77 78 79 80 81 82 83 84 85 86 87 88 89 90 9...  \n",
       "4       139 140 141 142 143 144 145 146 147 148 149 15...  \n",
       "...                                                   ...  \n",
       "144251  386 387 388 389 390 391 392 393 394 395 396 39...  \n",
       "144252  576 577 578 579 580 581 582 583 584 585 586 58...  \n",
       "144253        828 829 830 831 832 833 834 835 836 837 838  \n",
       "144254  839 840 841 842 843 844 845 846 847 848 849 85...  \n",
       "144255  905 906 907 908 909 910 911 912 913 914 915 91...  \n",
       "\n",
       "[144256 rows x 7 columns]"
      ]
     },
     "execution_count": 8,
     "metadata": {},
     "output_type": "execute_result"
    }
   ],
   "source": [
    "loader.df"
   ]
  },
  {
   "cell_type": "code",
   "execution_count": 9,
   "metadata": {},
   "outputs": [],
   "source": [
    "text = loader.load_text_with_id(\"423A1CA112E2\", purify_text=True, purify_discourses=True)\n"
   ]
  },
  {
   "cell_type": "code",
   "execution_count": 10,
   "metadata": {},
   "outputs": [
    {
     "name": "stdout",
     "output_type": "stream",
     "text": [
      "--- 1622627660524 (7 -> 228 | 1 -> 44) - Lead ---\n",
      "Modern humans today are always on their phone. They are always on their phone more than 5 hours a day no stop. All they do is text back and forward and just have group Chats on social media. They even do it while driving.\n",
      "------------------------------------------------- True\n",
      "--- 1622627653021 (229 -> 311 | 45 -> 59) - Position ---\n",
      "They are some really bad consequences when stuff happens when it comes to a phone.\n",
      "-------------------------------------------------------- True\n",
      "--- 1622627671020 (312 -> 399 | 60 -> 75) - Evidence ---\n",
      "Some certain areas in the United States ban phones from class rooms just because of it.\n",
      "-------------------------------------------------------- True\n",
      "--- 1622627696365 (400 -> 754 | 76 -> 138) - Evidence ---\n",
      "When people have phones they know about certain apps that they have. Apps like Facebook Twitter Instagram and Snapchat. So like if a friend moves away and you want to be in contact you can still be in contact by posting videos or text messages. People always have different ways how to communicate with a phone. Phones have changed due to our generation.\n",
      "--------------------------------------------------------- True\n",
      "--- 1622627759780 (755 -> 882 | 139 -> 162) - Claim ---\n",
      "Driving is one of the way how to get around. People always be on their phones while doing it. Which can cause serious Problems.\n",
      "------------------------------------------------------- True\n",
      "--- 1622627780655 (883 -> 1145 | 163 -> 210) - Evidence ---\n",
      "That's why there's a thing that's called no texting while driving. That's a really important thing to remember. Some people still do it because they think It's stupid. No matter what they do they still have to obey it because that's the only way how did he save.\n",
      "----------------------------------------------------------- True\n",
      "--- 1622627811787 (1146 -> 1525 | 211 -> 281) - Evidence ---\n",
      "Sometimes on the news there is either an accident or a suicide. It might involve someone not looking where they're going or tweet that someone sent. It either injury or death. If a mysterious number says I'm going to kill you and they know where you live but you don't know the person's contact It makes you puzzled and make you start to freak out. Which can end up really badly.\n",
      "------------------------------------------------------------ True\n",
      "--- 1622627585180 (1526 -> 1594 | 282 -> 296) - Claim ---\n",
      "Phones are fine to use and it's also the best way to come over help.\n",
      "--------------------------------------------------------- True\n",
      "--- 1622627895668 (1595 -> 1881 | 297 -> 354) - Evidence ---\n",
      "If you go through a problem and you can't find help you always have a phone there with you. Even though phones are used almost every day as long as you're safe it would come into use if you get into trouble. Make sure you do not be like this phone while you're in the middle of driving.\n",
      "------------------------------------------------------------ True\n",
      "--- 1622627628524 (1882 -> 2017 | 355 -> 378) - Concluding Statement ---\n",
      "The news always updated when people do something stupid around that involves their phones. The safest way is the best way to stay safe.\n",
      "------------------------------------------------------------------------ True\n"
     ]
    }
   ],
   "source": [
    "for disc in text.discourses:\n",
    "    print(disc, disc.text in text.text)"
   ]
  },
  {
   "cell_type": "code",
   "execution_count": 11,
   "metadata": {},
   "outputs": [
    {
     "name": "stdout",
     "output_type": "stream",
     "text": [
      "Phones Modern humans today are always on their phone. They are always on their phone more than 5 hours a day no stop. All they do is text back and forward and just have group Chats on social media. They even do it while driving. They are some really bad consequences when stuff happens when it comes to a phone. Some certain areas in the United States ban phones from class rooms just because of it. When people have phones they know about certain apps that they have. Apps like Facebook Twitter Instagram and Snapchat. So like if a friend moves away and you want to be in contact you can still be in contact by posting videos or text messages. People always have different ways how to communicate with a phone. Phones have changed due to our generation. Driving is one of the way how to get around. People always be on their phones while doing it. Which can cause serious Problems. That's why there's a thing that's called no texting while driving. That's a really important thing to remember. Some people still do it because they think It's stupid. No matter what they do they still have to obey it because that's the only way how did he save. Sometimes on the news there is either an accident or a suicide. It might involve someone not looking where they're going or tweet that someone sent. It either injury or death. If a mysterious number says I'm going to kill you and they know where you live but you don't know the person's contact It makes you puzzled and make you start to freak out. Which can end up really badly. Phones are fine to use and it's also the best way to come over help. If you go through a problem and you can't find help you always have a phone there with you. Even though phones are used almost every day as long as you're safe it would come into use if you get into trouble. Make sure you do not be like this phone while you're in the middle of driving. The news always updated when people do something stupid around that involves their phones. The safest way is the best way to stay safe.\n"
     ]
    }
   ],
   "source": [
    "print(text)"
   ]
  },
  {
   "cell_type": "code",
   "execution_count": 12,
   "metadata": {},
   "outputs": [
    {
     "name": "stdout",
     "output_type": "stream",
     "text": [
      "\"Phones Modern humans today are always on their phone. They are always on their phone more than 5 hours a day no stop. All they do is text back and forward and just have group Chats on social media. They even do it while driving. They are some really bad consequences when stuff happens when it comes to a phone. Some certain areas in the United States ban phones from class rooms just because of it. When people have phones they know about certain apps that they have. Apps like Facebook Twitter Instagram and Snapchat. So like if a friend moves away and you want to be in contact you can still be in contact by posting videos or text messages. People always have different ways how to communicate with a phone. Phones have changed due to our generation. Driving is one of the way how to get around. People always be on their phones while doing it. Which can cause serious Problems. That's why there's a thing that's called no texting while driving. That's a really important thing to remember. Some people still do it because they think It's stupid. No matter what they do they still have to obey it because that's the only way how did he save. Sometimes on the news there is either an accident or a suicide. It might involve someone not looking where they're going or tweet that someone sent. It either injury or death. If a mysterious number says I'm going to kill you and they know where you live but you don't know the person's contact It makes you puzzled and make you start to freak out. Which can end up really badly. Phones are fine to use and it's also the best way to come over help. If you go through a problem and you can't find help you always have a phone there with you. Even though phones are used almost every day as long as you're safe it would come into use if you get into trouble. Make sure you do not be like this phone while you're in the middle of driving. The news always updated when people do something stupid around that involves their phones. The safest way is the best way to stay safe.\"\n"
     ]
    }
   ],
   "source": [
    "print(repr(text.text))"
   ]
  },
  {
   "cell_type": "code",
   "execution_count": 13,
   "metadata": {},
   "outputs": [
    {
     "name": "stdout",
     "output_type": "stream",
     "text": [
      "They are some really bad consequences when stuff happens when it comes to a phone.\n"
     ]
    }
   ],
   "source": [
    "st, en = text.discourses[1].ind_start, text.discourses[1].ind_end\n",
    "print(text[st:en])"
   ]
  },
  {
   "cell_type": "code",
   "execution_count": 14,
   "metadata": {},
   "outputs": [
    {
     "name": "stdout",
     "output_type": "stream",
     "text": [
      "['They', 'are', 'some', 'really', 'bad', 'consequences', 'when', 'stuff', 'happens', 'when', 'it', 'comes', 'to', 'a', 'phone.']\n"
     ]
    }
   ],
   "source": [
    "p_st, p_en = text.discourses[1].predictionstring[0], text.discourses[1].predictionstring[-1]\n",
    "print(text.words[p_st : p_en + 1])\n"
   ]
  },
  {
   "cell_type": "code",
   "execution_count": 15,
   "metadata": {},
   "outputs": [],
   "source": [
    "def create_doc(\n",
    "    doc_type: str, offset: int = 0, limit: int = 0, shuffle: bool = True, seed: int = 8888\n",
    ") -> None:\n",
    "    current_ends = []\n",
    "    output = []\n",
    "    DS_count = 0\n",
    "    DE_count = 0\n",
    "    for text_no, text in enumerate(\n",
    "        loader.iterate(offset=offset, limit=limit, shuffle=shuffle, seed=seed)\n",
    "    ):\n",
    "        print(f\"\\r{text_no + 1:3} / {limit}\", end=\"\")\n",
    "        current_ends = [\n",
    "            (disc.predictionstring[0], disc.predictionstring[-1]) for disc in text.discourses\n",
    "        ]\n",
    "\n",
    "        curr_start, curr_end = current_ends.pop(0)\n",
    "        for word_ind, word in enumerate(text.words):\n",
    "            if word_ind > curr_end:\n",
    "                if not current_ends:\n",
    "                    break\n",
    "\n",
    "                curr_start, curr_end = current_ends.pop(0)\n",
    "\n",
    "            if word_ind == curr_start:\n",
    "                output.append(f\"{word} DS\\n\")\n",
    "                DS_count += 1\n",
    "            elif word_ind == curr_end:\n",
    "                output.append(f\"{word} DE\\n\")\n",
    "                DE_count += 1\n",
    "            else:\n",
    "                output.append(f\"{word} O\\n\")\n",
    "\n",
    "            if DE_count > DS_count:\n",
    "                raise Exception(f\"Wut for {word_ind}\")\n",
    "\n",
    "            if \".\" in word:\n",
    "                output.append(\"\\n\")\n",
    "\n",
    "        output.append(\"<DOC>\\n\")\n",
    "\n",
    "    output = output[:-1]  # remove last <DOC>\n",
    "\n",
    "    with open(f\"data/NER_{doc_type}.txt\", \"w\") as f:\n",
    "        f.writelines(output)\n"
   ]
  },
  {
   "cell_type": "code",
   "execution_count": 16,
   "metadata": {},
   "outputs": [
    {
     "data": {
      "text/plain": [
       "15590"
      ]
     },
     "execution_count": 16,
     "metadata": {},
     "output_type": "execute_result"
    }
   ],
   "source": [
    "len(loader)\n"
   ]
  },
  {
   "cell_type": "code",
   "execution_count": 17,
   "metadata": {},
   "outputs": [
    {
     "name": "stdout",
     "output_type": "stream",
     "text": [
      "Train size: 12472, Dev size: 2338, Test size: 780\n"
     ]
    }
   ],
   "source": [
    "# train_size = 0.8\n",
    "# dev_size = 0.15\n",
    "# test_size = 0.05\n",
    "\n",
    "train_size, dev_size = train_test_split(\n",
    "    range(len(loader)), test_size=0.2, random_state=8888\n",
    ")\n",
    "dev_size, test_size = train_test_split(\n",
    "    dev_size, test_size=0.25, random_state=8888\n",
    ")\n",
    "train_size, test_size, dev_size = len(train_size), len(test_size), len(dev_size)\n",
    "\n",
    "print(f\"Train size: {train_size}, Dev size: {dev_size}, Test size: {test_size}\")\n"
   ]
  },
  {
   "attachments": {},
   "cell_type": "markdown",
   "metadata": {},
   "source": [
    "<center> <h2> IMPORTANT NOTE </h2> </center>"
   ]
  },
  {
   "attachments": {},
   "cell_type": "markdown",
   "metadata": {},
   "source": [
    "#### Dataset can (and does) contain overlapping tags, thus the number of `DS` and `DE` tags is not equal. It is caused by **discourses** consisting of only one word."
   ]
  },
  {
   "cell_type": "code",
   "execution_count": 18,
   "metadata": {},
   "outputs": [
    {
     "name": "stdout",
     "output_type": "stream",
     "text": [
      "12472 / 12472"
     ]
    }
   ],
   "source": [
    "create_doc(\"train\", offset=0, limit=train_size, shuffle=True, seed=87655678)"
   ]
  },
  {
   "cell_type": "code",
   "execution_count": 19,
   "metadata": {},
   "outputs": [
    {
     "name": "stdout",
     "output_type": "stream",
     "text": [
      "2338 / 2338"
     ]
    }
   ],
   "source": [
    "create_doc(\"dev\", offset=train_size, limit=dev_size, shuffle=True)"
   ]
  },
  {
   "cell_type": "code",
   "execution_count": 20,
   "metadata": {},
   "outputs": [
    {
     "name": "stdout",
     "output_type": "stream",
     "text": [
      "780 / 780"
     ]
    }
   ],
   "source": [
    "create_doc(\"test\", offset=train_size + dev_size, limit=test_size, shuffle=True)"
   ]
  }
 ],
 "metadata": {
  "kernelspec": {
   "display_name": "Python 3.9.13 ('nlp')",
   "language": "python",
   "name": "python3"
  },
  "language_info": {
   "codemirror_mode": {
    "name": "ipython",
    "version": 3
   },
   "file_extension": ".py",
   "mimetype": "text/x-python",
   "name": "python",
   "nbconvert_exporter": "python",
   "pygments_lexer": "ipython3",
   "version": "3.9.13"
  },
  "orig_nbformat": 4,
  "vscode": {
   "interpreter": {
    "hash": "6732d5bcbccbd400c2295e6b9ff4a247e8d1a91ef1c3ef29ad75df96351d9278"
   }
  }
 },
 "nbformat": 4,
 "nbformat_minor": 2
}
