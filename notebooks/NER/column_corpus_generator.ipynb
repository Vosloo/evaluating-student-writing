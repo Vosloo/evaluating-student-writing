{
 "cells": [
  {
   "cell_type": "code",
   "execution_count": 1,
   "metadata": {},
   "outputs": [],
   "source": [
    "import sys\n",
    "from pathlib import Path"
   ]
  },
  {
   "cell_type": "code",
   "execution_count": 2,
   "metadata": {},
   "outputs": [],
   "source": [
    "module_path = Path.cwd().parent.parent\n",
    "if module_path not in sys.path:\n",
    "    sys.path.insert(0, str(module_path))"
   ]
  },
  {
   "cell_type": "code",
   "execution_count": 3,
   "metadata": {},
   "outputs": [],
   "source": [
    "from flair.data import Corpus\n",
    "from flair.datasets import ColumnCorpus\n",
    "from sklearn.model_selection import train_test_split\n"
   ]
  },
  {
   "cell_type": "code",
   "execution_count": 4,
   "metadata": {},
   "outputs": [],
   "source": [
    "from src.loader import TextLoader"
   ]
  },
  {
   "cell_type": "code",
   "execution_count": 5,
   "metadata": {},
   "outputs": [],
   "source": [
    "!mkdir -p data/"
   ]
  },
  {
   "cell_type": "code",
   "execution_count": 6,
   "metadata": {},
   "outputs": [],
   "source": [
    "loader = TextLoader()"
   ]
  },
  {
   "cell_type": "code",
   "execution_count": 10,
   "metadata": {},
   "outputs": [
    {
     "name": "stdout",
     "output_type": "stream",
     "text": [
      "2664 / 15594\n",
      "Text: 4A4ED75E7112\n",
      "`ou` could not be found, but it's probably: `You`\n",
      "3667 / 15594\n",
      "Text: 32E2949B0C66\n",
      "`hen` could not be found, but it's probably: `when`\n",
      "4007 / 15594\n",
      "Text: 280D13EB16F0\n",
      "`s` could not be found, but it's probably: `is`\n",
      "6145 / 15594\n",
      "Text: 8BBFBE748A23\n",
      "`f` could not be found, but it's probably: `if`\n",
      "6654 / 15594\n",
      "Text: 13E32905929D\n",
      "`his` could not be found, but it's probably: `This`\n",
      "6979 / 15594\n",
      "Text: 0A23334002E0\n",
      "`hey` could not be found, but it's probably: `they`\n",
      "7244 / 15594\n",
      "Text: CE4EFA6441C4\n",
      "`he` could not be found, but it's probably: `the`\n",
      "7460 / 15594\n",
      "Text: 1C58F2AF08B4\n",
      "`t` could not be found, but it's probably: `It`\n",
      "10396 / 15594\n",
      "Text: 671D0569C835\n",
      "`his` could not be found, but it's probably: `this`\n",
      "10401 / 15594\n",
      "Text: 9FDB425F1FE9\n",
      "`t` could not be found, but it's probably: `it`\n",
      "10550 / 15594\n",
      "Text: 4A8FCC8C7D9B\n",
      "`hat` could not be found, but it's probably: `that`\n",
      "10785 / 15594\n",
      "Text: B689C28463CB\n",
      "`ike` could not be found, but it's probably: `like`\n",
      "11070 / 15594\n",
      "Text: 811DE32FCE53\n",
      "`e` could not be found, but it's probably: `we`\n",
      "11127 / 15594\n",
      "Text: 924A58CC6E6B\n",
      "`he` could not be found, but it's probably: `the`\n",
      "11136 / 15594\n",
      "Text: C89C280A5E3D\n",
      "`he` could not be found, but it's probably: `the`\n",
      "11697 / 15594\n",
      "Text: 0E3C2F922C3B\n",
      "`hat` could not be found, but it's probably: `That`\n",
      "13077 / 15594\n",
      "Text: 0B25AA5D6644\n",
      "`t` could not be found, but it's probably: `It`\n",
      "13457 / 15594\n",
      "Text: 80C2ED8BE6A6\n",
      "`ome` could not be found, but it's probably: `some`\n",
      "14019 / 15594\n",
      "Text: A9F45F81526E\n",
      "`ecause` could not be found, but it's probably: `because`\n",
      "14532 / 15594\n",
      "Text: 34E1D0E60106\n",
      "`hen` could not be found, but it's probably: `When`\n",
      "15267 / 15594\n",
      "Text: 89BED1950DFE\n",
      "`hey` could not be found, but it's probably: `they`\n",
      "15594 / 15594"
     ]
    }
   ],
   "source": [
    "for text in loader.iterate(verbose=True, purify_text=True, purify_discourses=True):\n",
    "    if text.id in (\"F91D7BB4277C\", \"354946A1CA46\"): # Broken, to delete\n",
    "        continue\n",
    "\n",
    "    words = [word.rstrip(\".,?\") for word in text.words]\n",
    "    prev_end = 0\n",
    "    for disc in text.discourses[2:3]:\n",
    "        start = text.text.index(disc.text)\n",
    "        # new_idx = (start, start + len(disc.text))\n",
    "\n",
    "        disc_words = disc.text.split()\n",
    "        if (first_word := disc_words[0].rstrip(\".,?\")) not in words:\n",
    "            fixed = first_word\n",
    "            curr_ind = start - 1\n",
    "            while curr_ind >= 0 and (curr_char := text[curr_ind]) != \" \":\n",
    "                curr_ind -= 1\n",
    "                fixed = curr_char + fixed\n",
    "\n",
    "            print(f\"\\nText: {text.id}\")\n",
    "            print(f\"`{first_word}` could not be found, but it's probably: `{fixed}`\")\n",
    "\n",
    "        # end = start + len(disc_words)\n",
    "        # prev_end = end\n",
    "\n",
    "        # text_slice = \" \".join(words[start:end]).rstrip(\".\")\n",
    "\n",
    "        # print(start, end)\n",
    "        # print(\" \".join(words[start:end]))\n",
    "        # print()\n",
    "        # print(disc.text)\n",
    "        # print(\"----\")\n",
    "\n"
   ]
  },
  {
   "cell_type": "code",
   "execution_count": 7,
   "metadata": {},
   "outputs": [],
   "source": [
    "text = loader.load_text_with_id(\"63687EA6EB28\", purify_text=True, purify_discourses=True)"
   ]
  },
  {
   "cell_type": "code",
   "execution_count": 8,
   "metadata": {},
   "outputs": [
    {
     "name": "stdout",
     "output_type": "stream",
     "text": [
      "--- 1618061680644 (0 -> 61 | 0 -> 11) - Lead ---\n",
      "Many people that think the face of mars was created by aliens\n",
      "------------------------------------------------ True\n",
      "--- 1618061692866 (66 -> 96 | 13 -> 18) - Position ---\n",
      "it was really just a landform\n",
      "------------------------------------------------------ True\n",
      "--- 1618061731020 (109 -> 175 | 22 -> 33) - Claim ---\n",
      "scientits say its just like a land formation that happens on earth\n",
      "----------------------------------------------------- True\n",
      "--- 1618061756973 (176 -> 333 | 33 -> 60) - Evidence ---\n",
      "this land formation are more common around american west the article says it reminds me mist of middle butte in the snake river plain of idaho says garvin\n",
      "-------------------------------------------------------- True\n",
      "--- 1618061802760 (334 -> 441 | 61 -> 74) - Claim ---\n",
      "then garvine said Malins team captured an extrordinary photousing the cameras absolute maximum resolution\n",
      "----------------------------------------------------- True\n",
      "--- 1618061841006 (442 -> 899 | 75 -> 163) - Evidence ---\n",
      "each pixel in 2001 image spans 1. 56 meters compared to 43 meters per pixel in the best 1976 viking photo in April 5 1998 MOC or mars orbiter camera team snapped a picture ten times shapper only for the thousands of anxious web surfers to see a natural landform on mars and not any aliens. but yet not everyone was satisfied on April 98 a cloudy time of year on the red planet the camera on boared MGS had to peer through the wispy clouds to see the face\n",
      "--------------------------------------------------------- True\n",
      "--- 1618061858015 (900 -> 959 | 164 -> 173) - Counterclaim ---\n",
      "perhaps skeptis say alien markings were hidden by the haze.\n",
      "-------------------------------------------------------------- True\n",
      "--- 1618061908493 (960 -> 1108 | 174 -> 202) - Rebuttal ---\n",
      "now many people dont talk about this topic alot any more because it has been proven that it was just a landform created by the plates moving on mars\n",
      "----------------------------------------------------------- True\n",
      "--- 1618061954769 (1109 -> 1224 | 203 -> 224) - Evidence ---\n",
      "all though there are still many people who think that its not a landformation and think that it was bulit by aliens\n",
      "------------------------------------------------------------ True\n",
      "--- 1618062014578 (1224 -> 1375 | 225 -> 253) - Claim ---\n",
      "in the article it says that the land formation resembles a human face because of the shape of the head and giving the illusion of eyes nose and mouth\n",
      "--------------------------------------------------------- True\n",
      "--- 1618062057302 (1397 -> 1531 | 257 -> 281) - Evidence ---\n",
      "experits have proven that it is just a landformation and was not bulit by any extra living beings that have lived there a longtime ago\n",
      "------------------------------------------------------------ True\n",
      "--- 1618062093971 (1532 -> 1585 | 282 -> 292) - Claim ---\n",
      "after relason the picture it was a pop icon back then\n",
      "--------------------------------------------------------- True\n",
      "--- 1618062103955 (1586 -> 1722 | 293 -> 315) - Evidence ---\n",
      "it starred in hollywood films appeard in books magazines and even raio talk shows and hunted grocerys store checkout lines for 25 years.\n",
      "------------------------------------------------------------ True\n"
     ]
    }
   ],
   "source": [
    "for disc in text.discourses:\n",
    "    print(disc, disc.text in text.text)"
   ]
  },
  {
   "cell_type": "code",
   "execution_count": 9,
   "metadata": {},
   "outputs": [
    {
     "name": "stdout",
     "output_type": "stream",
     "text": [
      "Many people that think the face of mars was created by aliens but it was really just a landform here is why. scientits say its just like a land formation that happens on earth this land formation are more common around american west the article says it reminds me mist of middle butte in the snake river plain of idaho says garvin. then garvine said Malins team captured an extrordinary photousing the cameras absolute maximum resolution each pixel in 2001 image spans 1. 56 meters compared to 43 meters per pixel in the best 1976 viking photo in April 5 1998 MOC or mars orbiter camera team snapped a picture ten times shapper only for the thousands of anxious web surfers to see a natural landform on mars and not any aliens. but yet not everyone was satisfied on April 98 a cloudy time of year on the red planet the camera on boared MGS had to peer through the wispy clouds to see the face perhaps skeptis say alien markings were hidden by the haze. now many people dont talk about this topic alot any more because it has been proven that it was just a landform created by the plates moving on mars all though there are still many people who think that its not a landformation and think that it was bulit by aliens in the article it says that the land formation resembles a human face because of the shape of the head and giving the illusion of eyes nose and mouth of the landformation experits have proven that it is just a landformation and was not bulit by any extra living beings that have lived there a longtime ago after relason the picture it was a pop icon back then it starred in hollywood films appeard in books magazines and even raio talk shows and hunted grocerys store checkout lines for 25 years.\n"
     ]
    }
   ],
   "source": [
    "print(text)"
   ]
  },
  {
   "cell_type": "code",
   "execution_count": null,
   "metadata": {},
   "outputs": [],
   "source": [
    "print(text)"
   ]
  },
  {
   "cell_type": "code",
   "execution_count": null,
   "metadata": {},
   "outputs": [],
   "source": [
    "st, en = text.discourses[1].ind_start, text.discourses[1].ind_end\n",
    "print(text.text[st:en])"
   ]
  },
  {
   "cell_type": "code",
   "execution_count": null,
   "metadata": {},
   "outputs": [],
   "source": [
    "p_st, p_en = text.discourses[1].predictionstring[0], text.discourses[1].predictionstring[-1]\n",
    "print(text.words[p_st : p_en + 1])\n"
   ]
  },
  {
   "cell_type": "code",
   "execution_count": null,
   "metadata": {},
   "outputs": [],
   "source": [
    "# text = loader.load_text_with_id(\"E881FAAEC690\")\n",
    "# text = loader.load_text_with_id(\"6FD9A4641AD7\")\n",
    "for text in loader.iterate(verbose=True):\n",
    "    ..."
   ]
  },
  {
   "cell_type": "code",
   "execution_count": null,
   "metadata": {},
   "outputs": [],
   "source": [
    "text.id"
   ]
  },
  {
   "cell_type": "code",
   "execution_count": null,
   "metadata": {},
   "outputs": [],
   "source": [
    "for disc in text.discourses:\n",
    "    print(disc)\n"
   ]
  },
  {
   "cell_type": "code",
   "execution_count": null,
   "metadata": {},
   "outputs": [],
   "source": [
    "print(text)"
   ]
  },
  {
   "cell_type": "code",
   "execution_count": null,
   "metadata": {},
   "outputs": [],
   "source": [
    "def create_doc(\n",
    "    doc_type: str, offset: int = 0, limit: int = 0, shuffle: bool = True, seed: int = 8888\n",
    ") -> None:\n",
    "    current_ends = []\n",
    "    output = []\n",
    "    DS_count = 0\n",
    "    DE_count = 0\n",
    "    for text_no, text in enumerate(\n",
    "        loader.iterate(offset=offset, limit=limit, shuffle=shuffle, seed=seed)\n",
    "    ):\n",
    "        print(f\"\\r{text_no + 1:3} / {limit}\", end=\"\")\n",
    "        current_ends = [\n",
    "            (disc.predictionstring[0], disc.predictionstring[-1]) for disc in text.discourses\n",
    "        ]\n",
    "\n",
    "        curr_start, curr_end = current_ends.pop(0)\n",
    "        for word_ind, word in enumerate(text.words):\n",
    "            if word_ind > curr_end:\n",
    "                if not current_ends:\n",
    "                    break\n",
    "\n",
    "                curr_start, curr_end = current_ends.pop(0)\n",
    "\n",
    "            if word_ind == curr_start:\n",
    "                output.append(f\"{word} DS\\n\")\n",
    "                DS_count += 1\n",
    "            elif word_ind == curr_end:\n",
    "                output.append(f\"{word} DE\\n\")\n",
    "                DE_count += 1\n",
    "            else:\n",
    "                output.append(f\"{word} O\\n\")\n",
    "\n",
    "            if DE_count > DS_count:\n",
    "                raise Exception(f\"Wut for {word_ind}\")\n",
    "\n",
    "            if \".\" in word:\n",
    "                output.append(\"\\n\")\n",
    "\n",
    "        output.append(\"<DOC>\\n\")\n",
    "\n",
    "    output = output[:-1]  # remove last <DOC>\n",
    "\n",
    "    with open(f\"data/NER_{doc_type}.txt\", \"w\") as f:\n",
    "        f.writelines(output)\n"
   ]
  },
  {
   "cell_type": "code",
   "execution_count": null,
   "metadata": {},
   "outputs": [],
   "source": [
    "text = loader.load_text_with_id(\"DBF7EB6A9E02\")\n",
    "disc, = [disc for disc in text.discourses if disc.id == 1622489430075]\n",
    "print(disc.text)\n",
    "print(text[disc.ind_start:disc.ind_end].split())\n",
    "pred_start, pred_end = int(disc.predictionstring[0]), int(disc.predictionstring[-1])\n",
    "print(text.words[pred_start:pred_end+1]) # TODO: Problem with predictionstring"
   ]
  },
  {
   "cell_type": "code",
   "execution_count": null,
   "metadata": {},
   "outputs": [],
   "source": [
    "text = loader.load_text_with_id(\"DBF7EB6A9E02\")\n",
    "for disc in text.discourses:\n",
    "    print(disc.id)\n",
    "    char_start = disc.ind_start\n",
    "    char_end = disc.ind_end\n",
    "    word_start = len(text[:char_start].split())\n",
    "    word_end = word_start + len(text[char_start:char_end].split())\n",
    "    word_end = min(word_end, len(text.split()))\n",
    "    print((word_start, word_end))\n",
    "    \n",
    "    d_text = disc.text.split()\n",
    "    e_text = text.words[word_start:word_end]\n",
    "    if d_text[0] != e_text[0]:\n",
    "        d_text.remove(d_text[0])\n",
    "        e_text.remove(e_text[-1])\n",
    "\n",
    "    for ind, d in enumerate(d_text):\n",
    "        print(f\"{d} == {e_text[ind]} --> {d == e_text[ind]}\")"
   ]
  },
  {
   "cell_type": "code",
   "execution_count": null,
   "metadata": {},
   "outputs": [],
   "source": [
    "current_ends = [\n",
    "    (disc.predictionstring[0], disc.predictionstring[-1]) for disc in text.discourses\n",
    "]\n",
    "current_ends\n"
   ]
  },
  {
   "cell_type": "code",
   "execution_count": null,
   "metadata": {},
   "outputs": [],
   "source": [
    "curr_start, curr_end = current_ends.pop(0)\n",
    "for word_ind, word in enumerate(text.words):\n",
    "    if word_ind > curr_end:\n",
    "        if not current_ends:\n",
    "            break\n",
    "\n",
    "        curr_start, curr_end = current_ends.pop(0)\n",
    "\n",
    "    if word_ind == curr_start:\n",
    "        print(f\"{word} ({word_ind}) DS\")\n",
    "    elif word_ind == curr_end:\n",
    "        print(f\"{word} ({word_ind}) DE\")\n",
    "    else:\n",
    "        print(f\"{word} ({word_ind}) O\")\n"
   ]
  },
  {
   "cell_type": "code",
   "execution_count": null,
   "metadata": {},
   "outputs": [],
   "source": [
    "len(loader)\n"
   ]
  },
  {
   "cell_type": "code",
   "execution_count": null,
   "metadata": {},
   "outputs": [],
   "source": [
    "# train_size = 0.8\n",
    "# dev_size = 0.15\n",
    "# test_size = 0.05\n",
    "\n",
    "train_size, dev_size = train_test_split(\n",
    "    range(len(loader)), test_size=0.2, random_state=8888\n",
    ")\n",
    "dev_size, test_size = train_test_split(\n",
    "    dev_size, test_size=0.25, random_state=8888\n",
    ")\n",
    "train_size, test_size, dev_size = len(train_size), len(test_size), len(dev_size)\n",
    "\n",
    "print(f\"Train size: {train_size}, Dev size: {dev_size}, Test size: {test_size}\")\n"
   ]
  },
  {
   "cell_type": "code",
   "execution_count": null,
   "metadata": {},
   "outputs": [],
   "source": [
    "create_doc(\"train\", offset=0, limit=train_size, shuffle=False, seed=8888)"
   ]
  },
  {
   "cell_type": "code",
   "execution_count": null,
   "metadata": {},
   "outputs": [],
   "source": [
    "create_doc(\"dev\", offset=train_size, limit=dev_size)"
   ]
  },
  {
   "cell_type": "code",
   "execution_count": null,
   "metadata": {},
   "outputs": [],
   "source": [
    "create_doc(\"test\", offset=train_size + dev_size, limit=test_size)"
   ]
  },
  {
   "cell_type": "code",
   "execution_count": null,
   "metadata": {},
   "outputs": [],
   "source": []
  }
 ],
 "metadata": {
  "kernelspec": {
   "display_name": "Python 3.9.13 ('nlp')",
   "language": "python",
   "name": "python3"
  },
  "language_info": {
   "codemirror_mode": {
    "name": "ipython",
    "version": 3
   },
   "file_extension": ".py",
   "mimetype": "text/x-python",
   "name": "python",
   "nbconvert_exporter": "python",
   "pygments_lexer": "ipython3",
   "version": "3.9.13"
  },
  "orig_nbformat": 4,
  "vscode": {
   "interpreter": {
    "hash": "6732d5bcbccbd400c2295e6b9ff4a247e8d1a91ef1c3ef29ad75df96351d9278"
   }
  }
 },
 "nbformat": 4,
 "nbformat_minor": 2
}
