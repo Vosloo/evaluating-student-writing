{
 "cells": [
  {
   "cell_type": "code",
   "execution_count": 1,
   "metadata": {},
   "outputs": [],
   "source": [
    "import sys\n",
    "from pathlib import Path"
   ]
  },
  {
   "cell_type": "code",
   "execution_count": 2,
   "metadata": {},
   "outputs": [],
   "source": [
    "module_path = Path.cwd().parent.parent\n",
    "if module_path not in sys.path:\n",
    "    sys.path.append(str(module_path))"
   ]
  },
  {
   "cell_type": "code",
   "execution_count": 3,
   "metadata": {},
   "outputs": [
    {
     "name": "stderr",
     "output_type": "stream",
     "text": [
      "/home/marek/anaconda3/envs/nlp/lib/python3.9/site-packages/tqdm/auto.py:22: TqdmWarning: IProgress not found. Please update jupyter and ipywidgets. See https://ipywidgets.readthedocs.io/en/stable/user_install.html\n",
      "  from .autonotebook import tqdm as notebook_tqdm\n"
     ]
    }
   ],
   "source": [
    "from flair.datasets import ColumnCorpus\n",
    "from flair.data import Corpus, Sentence\n",
    "from flair.embeddings import WordEmbeddings, StackedEmbeddings\n",
    "from flair.models import SequenceTagger\n",
    "from flair.trainers import ModelTrainer"
   ]
  },
  {
   "cell_type": "code",
   "execution_count": 4,
   "metadata": {},
   "outputs": [],
   "source": [
    "from src.loader import TextLoader"
   ]
  },
  {
   "cell_type": "code",
   "execution_count": 5,
   "metadata": {},
   "outputs": [],
   "source": [
    "loader = TextLoader()"
   ]
  },
  {
   "cell_type": "code",
   "execution_count": 6,
   "metadata": {},
   "outputs": [
    {
     "name": "stdout",
     "output_type": "stream",
     "text": [
      "2022-12-03 15:15:09,878 Reading data from data\n",
      "2022-12-03 15:15:09,878 Train: data/NER_train.txt\n",
      "2022-12-03 15:15:09,879 Dev: data/NER_dev.txt\n",
      "2022-12-03 15:15:09,879 Test: data/NER_test.txt\n",
      "2022-12-03 15:15:47,173 Filtering empty sentences\n",
      "2022-12-03 15:15:49,734 Corpus: 250135 train + 46666 dev + 15696 test sentences\n"
     ]
    }
   ],
   "source": [
    "columns = {0: \"text\", 1: \"ner\"}\n",
    "corpus: Corpus = ColumnCorpus(\n",
    "    \"data/\",\n",
    "    columns,\n",
    "    train_file=\"NER_train.txt\",\n",
    "    dev_file=\"NER_dev.txt\",\n",
    "    test_file=\"NER_test.txt\",\n",
    "    column_delimiter=\" \",\n",
    "    document_separator_token=\"<DOC>\",\n",
    ")\n",
    "corpus.filter_empty_sentences()\n"
   ]
  },
  {
   "cell_type": "code",
   "execution_count": 7,
   "metadata": {},
   "outputs": [
    {
     "name": "stdout",
     "output_type": "stream",
     "text": [
      "2022-12-03 15:15:49,755 Computing label dictionary. Progress:\n"
     ]
    },
    {
     "name": "stderr",
     "output_type": "stream",
     "text": [
      "250135it [00:02, 94395.77it/s]"
     ]
    },
    {
     "name": "stdout",
     "output_type": "stream",
     "text": [
      "2022-12-03 15:15:52,408 Dictionary created for label 'ner' with 3 values: DE (seen 115092 times), DS (seen 114349 times)\n"
     ]
    },
    {
     "name": "stderr",
     "output_type": "stream",
     "text": [
      "\n"
     ]
    }
   ],
   "source": [
    "label_dict = corpus.make_label_dictionary(label_type='ner')"
   ]
  },
  {
   "cell_type": "code",
   "execution_count": 8,
   "metadata": {},
   "outputs": [],
   "source": [
    "embedding_types = [\n",
    "    WordEmbeddings('glove'),\n",
    "]\n",
    "\n",
    "embeddings: StackedEmbeddings = StackedEmbeddings(embeddings=embedding_types)"
   ]
  },
  {
   "cell_type": "code",
   "execution_count": 9,
   "metadata": {},
   "outputs": [
    {
     "name": "stdout",
     "output_type": "stream",
     "text": [
      "2022-12-03 15:15:54,240 SequenceTagger predicts: Dictionary with 3 tags: <unk>, DE, DS\n"
     ]
    }
   ],
   "source": [
    "tagger = SequenceTagger(\n",
    "    hidden_size=256,\n",
    "    embeddings=embeddings,\n",
    "    tag_dictionary=label_dict,\n",
    "    tag_type=\"ner\",\n",
    "    use_crf=True,\n",
    ")\n"
   ]
  },
  {
   "cell_type": "code",
   "execution_count": 10,
   "metadata": {},
   "outputs": [],
   "source": [
    "trainer = ModelTrainer(tagger, corpus)"
   ]
  },
  {
   "cell_type": "code",
   "execution_count": 11,
   "metadata": {},
   "outputs": [
    {
     "name": "stdout",
     "output_type": "stream",
     "text": [
      "2022-12-03 15:15:55,935 ----------------------------------------------------------------------------------------------------\n",
      "2022-12-03 15:15:55,936 Model: \"SequenceTagger(\n",
      "  (embeddings): StackedEmbeddings(\n",
      "    (list_embedding_0): WordEmbeddings(\n",
      "      'glove'\n",
      "      (embedding): Embedding(400001, 100)\n",
      "    )\n",
      "  )\n",
      "  (word_dropout): WordDropout(p=0.05)\n",
      "  (locked_dropout): LockedDropout(p=0.5)\n",
      "  (embedding2nn): Linear(in_features=100, out_features=100, bias=True)\n",
      "  (rnn): LSTM(100, 256, batch_first=True, bidirectional=True)\n",
      "  (linear): Linear(in_features=512, out_features=5, bias=True)\n",
      "  (loss_function): ViterbiLoss()\n",
      "  (crf): CRF()\n",
      ")\"\n",
      "2022-12-03 15:15:55,936 ----------------------------------------------------------------------------------------------------\n",
      "2022-12-03 15:15:55,936 Corpus: \"Corpus: 250135 train + 46666 dev + 15696 test sentences\"\n",
      "2022-12-03 15:15:55,937 ----------------------------------------------------------------------------------------------------\n",
      "2022-12-03 15:15:55,937 Parameters:\n",
      "2022-12-03 15:15:55,937  - learning_rate: \"0.100000\"\n",
      "2022-12-03 15:15:55,937  - mini_batch_size: \"32\"\n",
      "2022-12-03 15:15:55,938  - patience: \"4\"\n",
      "2022-12-03 15:15:55,938  - anneal_factor: \"0.5\"\n",
      "2022-12-03 15:15:55,938  - max_epochs: \"20\"\n",
      "2022-12-03 15:15:55,938  - shuffle: \"True\"\n",
      "2022-12-03 15:15:55,938  - train_with_dev: \"False\"\n",
      "2022-12-03 15:15:55,939  - batch_growth_annealing: \"False\"\n",
      "2022-12-03 15:15:55,939 ----------------------------------------------------------------------------------------------------\n",
      "2022-12-03 15:15:55,939 Model training base path: \"models\"\n",
      "2022-12-03 15:15:55,940 ----------------------------------------------------------------------------------------------------\n",
      "2022-12-03 15:15:55,940 Device: cuda:0\n",
      "2022-12-03 15:15:55,940 ----------------------------------------------------------------------------------------------------\n",
      "2022-12-03 15:15:55,941 Embeddings storage mode: gpu\n",
      "2022-12-03 15:15:55,941 ----------------------------------------------------------------------------------------------------\n",
      "2022-12-03 15:16:32,288 epoch 1 - iter 781/7817 - loss 0.12319419 - samples/sec: 688.56 - lr: 0.100000\n",
      "2022-12-03 15:17:03,859 epoch 1 - iter 1562/7817 - loss 0.11880472 - samples/sec: 792.96 - lr: 0.100000\n",
      "2022-12-03 15:17:35,715 epoch 1 - iter 2343/7817 - loss 0.11683841 - samples/sec: 785.84 - lr: 0.100000\n",
      "2022-12-03 15:18:08,542 epoch 1 - iter 3124/7817 - loss 0.11546987 - samples/sec: 762.51 - lr: 0.100000\n",
      "2022-12-03 15:18:46,109 epoch 1 - iter 3905/7817 - loss 0.11453305 - samples/sec: 666.18 - lr: 0.100000\n",
      "2022-12-03 15:19:17,600 epoch 1 - iter 4686/7817 - loss 0.11358699 - samples/sec: 794.92 - lr: 0.100000\n",
      "2022-12-03 15:19:50,399 epoch 1 - iter 5467/7817 - loss 0.11297670 - samples/sec: 763.19 - lr: 0.100000\n",
      "2022-12-03 15:20:22,225 epoch 1 - iter 6248/7817 - loss 0.11239213 - samples/sec: 786.45 - lr: 0.100000\n",
      "2022-12-03 15:20:54,964 epoch 1 - iter 7029/7817 - loss 0.11201417 - samples/sec: 764.58 - lr: 0.100000\n",
      "2022-12-03 15:21:33,228 epoch 1 - iter 7810/7817 - loss 0.11161988 - samples/sec: 654.04 - lr: 0.100000\n",
      "2022-12-03 15:21:33,499 ----------------------------------------------------------------------------------------------------\n",
      "2022-12-03 15:21:33,499 EPOCH 1 done: loss 0.1116 - lr 0.100000\n"
     ]
    },
    {
     "name": "stderr",
     "output_type": "stream",
     "text": [
      "100%|██████████| 1459/1459 [01:43<00:00, 14.06it/s]\n"
     ]
    },
    {
     "name": "stdout",
     "output_type": "stream",
     "text": [
      "2022-12-03 15:23:18,384 Evaluating as a multi-label problem: False\n",
      "2022-12-03 15:23:21,337 DEV : loss 0.10346631705760956 - f1-score (micro avg)  0.0017\n",
      "2022-12-03 15:23:21,886 BAD EPOCHS (no improvement): 0\n",
      "2022-12-03 15:23:22,593 saving best model\n",
      "2022-12-03 15:23:23,188 ----------------------------------------------------------------------------------------------------\n",
      "2022-12-03 15:23:56,567 epoch 2 - iter 781/7817 - loss 0.10559244 - samples/sec: 750.63 - lr: 0.100000\n",
      "2022-12-03 15:24:28,921 epoch 2 - iter 1562/7817 - loss 0.10599293 - samples/sec: 773.97 - lr: 0.100000\n",
      "2022-12-03 15:25:01,290 epoch 2 - iter 2343/7817 - loss 0.10602334 - samples/sec: 773.57 - lr: 0.100000\n",
      "2022-12-03 15:25:33,560 epoch 2 - iter 3124/7817 - loss 0.10576322 - samples/sec: 775.94 - lr: 0.100000\n",
      "2022-12-03 15:26:06,131 epoch 2 - iter 3905/7817 - loss 0.10575062 - samples/sec: 768.76 - lr: 0.100000\n",
      "2022-12-03 15:26:38,588 epoch 2 - iter 4686/7817 - loss 0.10542264 - samples/sec: 771.47 - lr: 0.100000\n",
      "2022-12-03 15:27:12,351 epoch 2 - iter 5467/7817 - loss 0.10518596 - samples/sec: 741.57 - lr: 0.100000\n",
      "2022-12-03 15:27:44,447 epoch 2 - iter 6248/7817 - loss 0.10521531 - samples/sec: 780.17 - lr: 0.100000\n",
      "2022-12-03 15:28:18,032 epoch 2 - iter 7029/7817 - loss 0.10496437 - samples/sec: 745.48 - lr: 0.100000\n",
      "2022-12-03 15:28:50,052 epoch 2 - iter 7810/7817 - loss 0.10473215 - samples/sec: 781.99 - lr: 0.100000\n",
      "2022-12-03 15:28:50,381 ----------------------------------------------------------------------------------------------------\n",
      "2022-12-03 15:28:50,382 EPOCH 2 done: loss 0.1047 - lr 0.100000\n"
     ]
    },
    {
     "name": "stderr",
     "output_type": "stream",
     "text": [
      "100%|██████████| 1459/1459 [01:42<00:00, 14.17it/s]\n"
     ]
    },
    {
     "name": "stdout",
     "output_type": "stream",
     "text": [
      "2022-12-03 15:30:34,438 Evaluating as a multi-label problem: False\n",
      "2022-12-03 15:30:37,426 DEV : loss 0.096551813185215 - f1-score (micro avg)  0.0213\n",
      "2022-12-03 15:30:37,981 BAD EPOCHS (no improvement): 0\n",
      "2022-12-03 15:30:38,339 saving best model\n",
      "2022-12-03 15:30:38,706 ----------------------------------------------------------------------------------------------------\n",
      "2022-12-03 15:31:12,050 epoch 3 - iter 781/7817 - loss 0.10363700 - samples/sec: 751.01 - lr: 0.100000\n",
      "2022-12-03 15:31:45,454 epoch 3 - iter 1562/7817 - loss 0.10369032 - samples/sec: 749.54 - lr: 0.100000\n",
      "2022-12-03 15:32:18,197 epoch 3 - iter 2343/7817 - loss 0.10351495 - samples/sec: 764.70 - lr: 0.100000\n",
      "2022-12-03 15:32:50,718 epoch 3 - iter 3124/7817 - loss 0.10308222 - samples/sec: 769.90 - lr: 0.100000\n",
      "2022-12-03 15:33:23,985 epoch 3 - iter 3905/7817 - loss 0.10296485 - samples/sec: 752.63 - lr: 0.100000\n",
      "2022-12-03 15:33:57,178 epoch 3 - iter 4686/7817 - loss 0.10311434 - samples/sec: 754.31 - lr: 0.100000\n",
      "2022-12-03 15:34:29,659 epoch 3 - iter 5467/7817 - loss 0.10311039 - samples/sec: 770.88 - lr: 0.100000\n",
      "2022-12-03 15:35:02,243 epoch 3 - iter 6248/7817 - loss 0.10313511 - samples/sec: 768.43 - lr: 0.100000\n",
      "2022-12-03 15:35:34,226 epoch 3 - iter 7029/7817 - loss 0.10290139 - samples/sec: 782.90 - lr: 0.100000\n",
      "2022-12-03 15:36:06,788 epoch 3 - iter 7810/7817 - loss 0.10286006 - samples/sec: 768.95 - lr: 0.100000\n",
      "2022-12-03 15:36:07,092 ----------------------------------------------------------------------------------------------------\n",
      "2022-12-03 15:36:07,093 EPOCH 3 done: loss 0.1029 - lr 0.100000\n"
     ]
    },
    {
     "name": "stderr",
     "output_type": "stream",
     "text": [
      "100%|██████████| 1459/1459 [01:42<00:00, 14.21it/s]\n"
     ]
    },
    {
     "name": "stdout",
     "output_type": "stream",
     "text": [
      "2022-12-03 15:37:50,853 Evaluating as a multi-label problem: False\n",
      "2022-12-03 15:37:53,841 DEV : loss 0.09422393143177032 - f1-score (micro avg)  0.0171\n",
      "2022-12-03 15:37:54,380 BAD EPOCHS (no improvement): 1\n",
      "2022-12-03 15:37:54,739 ----------------------------------------------------------------------------------------------------\n",
      "2022-12-03 15:38:27,094 epoch 4 - iter 781/7817 - loss 0.10332028 - samples/sec: 774.04 - lr: 0.100000\n",
      "2022-12-03 15:38:59,551 epoch 4 - iter 1562/7817 - loss 0.10183680 - samples/sec: 771.48 - lr: 0.100000\n",
      "2022-12-03 15:39:31,629 epoch 4 - iter 2343/7817 - loss 0.10188033 - samples/sec: 780.60 - lr: 0.100000\n",
      "2022-12-03 15:40:04,369 epoch 4 - iter 3124/7817 - loss 0.10203601 - samples/sec: 764.78 - lr: 0.100000\n",
      "2022-12-03 15:40:37,030 epoch 4 - iter 3905/7817 - loss 0.10203372 - samples/sec: 766.62 - lr: 0.100000\n",
      "2022-12-03 15:41:09,883 epoch 4 - iter 4686/7817 - loss 0.10192181 - samples/sec: 762.13 - lr: 0.100000\n",
      "2022-12-03 15:41:42,694 epoch 4 - iter 5467/7817 - loss 0.10181336 - samples/sec: 763.11 - lr: 0.100000\n",
      "2022-12-03 15:42:15,278 epoch 4 - iter 6248/7817 - loss 0.10203204 - samples/sec: 768.45 - lr: 0.100000\n",
      "2022-12-03 15:42:48,058 epoch 4 - iter 7029/7817 - loss 0.10192772 - samples/sec: 763.83 - lr: 0.100000\n",
      "2022-12-03 15:43:20,860 epoch 4 - iter 7810/7817 - loss 0.10183846 - samples/sec: 763.35 - lr: 0.100000\n",
      "2022-12-03 15:43:21,151 ----------------------------------------------------------------------------------------------------\n",
      "2022-12-03 15:43:21,152 EPOCH 4 done: loss 0.1018 - lr 0.100000\n"
     ]
    },
    {
     "name": "stderr",
     "output_type": "stream",
     "text": [
      "100%|██████████| 1459/1459 [01:43<00:00, 14.10it/s]\n"
     ]
    },
    {
     "name": "stdout",
     "output_type": "stream",
     "text": [
      "2022-12-03 15:45:05,716 Evaluating as a multi-label problem: False\n",
      "2022-12-03 15:45:08,668 DEV : loss 0.0936627984046936 - f1-score (micro avg)  0.0123\n",
      "2022-12-03 15:45:09,198 BAD EPOCHS (no improvement): 2\n",
      "2022-12-03 15:45:09,550 ----------------------------------------------------------------------------------------------------\n",
      "2022-12-03 15:45:41,773 epoch 5 - iter 781/7817 - loss 0.10125472 - samples/sec: 777.18 - lr: 0.100000\n",
      "2022-12-03 15:46:14,588 epoch 5 - iter 1562/7817 - loss 0.10150659 - samples/sec: 763.04 - lr: 0.100000\n",
      "2022-12-03 15:46:47,508 epoch 5 - iter 2343/7817 - loss 0.10103585 - samples/sec: 760.60 - lr: 0.100000\n",
      "2022-12-03 15:47:20,749 epoch 5 - iter 3124/7817 - loss 0.10066712 - samples/sec: 753.22 - lr: 0.100000\n",
      "2022-12-03 15:47:53,762 epoch 5 - iter 3905/7817 - loss 0.10049923 - samples/sec: 758.42 - lr: 0.100000\n",
      "2022-12-03 15:48:26,053 epoch 5 - iter 4686/7817 - loss 0.10100579 - samples/sec: 775.43 - lr: 0.100000\n",
      "2022-12-03 15:48:59,244 epoch 5 - iter 5467/7817 - loss 0.10099609 - samples/sec: 754.38 - lr: 0.100000\n",
      "2022-12-03 15:49:30,671 epoch 5 - iter 6248/7817 - loss 0.10086480 - samples/sec: 796.77 - lr: 0.100000\n",
      "2022-12-03 15:50:03,670 epoch 5 - iter 7029/7817 - loss 0.10093238 - samples/sec: 758.74 - lr: 0.100000\n",
      "2022-12-03 15:50:36,223 epoch 5 - iter 7810/7817 - loss 0.10101591 - samples/sec: 769.20 - lr: 0.100000\n",
      "2022-12-03 15:50:36,508 ----------------------------------------------------------------------------------------------------\n",
      "2022-12-03 15:50:36,509 EPOCH 5 done: loss 0.1010 - lr 0.100000\n"
     ]
    },
    {
     "name": "stderr",
     "output_type": "stream",
     "text": [
      "100%|██████████| 1459/1459 [01:34<00:00, 15.37it/s]\n"
     ]
    },
    {
     "name": "stdout",
     "output_type": "stream",
     "text": [
      "2022-12-03 15:52:20,321 Evaluating as a multi-label problem: False\n",
      "2022-12-03 15:52:23,301 DEV : loss 0.09435790777206421 - f1-score (micro avg)  0.0201\n",
      "2022-12-03 15:52:23,843 BAD EPOCHS (no improvement): 3\n",
      "2022-12-03 15:52:24,193 ----------------------------------------------------------------------------------------------------\n",
      "2022-12-03 15:52:57,101 epoch 6 - iter 781/7817 - loss 0.09966140 - samples/sec: 760.99 - lr: 0.100000\n",
      "2022-12-03 15:53:29,401 epoch 6 - iter 1562/7817 - loss 0.10011713 - samples/sec: 775.22 - lr: 0.100000\n",
      "2022-12-03 15:54:02,044 epoch 6 - iter 2343/7817 - loss 0.10013401 - samples/sec: 767.08 - lr: 0.100000\n",
      "2022-12-03 15:54:34,348 epoch 6 - iter 3124/7817 - loss 0.10040702 - samples/sec: 775.11 - lr: 0.100000\n",
      "2022-12-03 15:55:06,837 epoch 6 - iter 3905/7817 - loss 0.10054164 - samples/sec: 770.71 - lr: 0.100000\n",
      "2022-12-03 15:55:39,744 epoch 6 - iter 4686/7817 - loss 0.10052054 - samples/sec: 760.92 - lr: 0.100000\n",
      "2022-12-03 15:56:12,603 epoch 6 - iter 5467/7817 - loss 0.10041585 - samples/sec: 762.00 - lr: 0.100000\n",
      "2022-12-03 15:56:45,344 epoch 6 - iter 6248/7817 - loss 0.10052584 - samples/sec: 764.77 - lr: 0.100000\n",
      "2022-12-03 15:57:17,926 epoch 6 - iter 7029/7817 - loss 0.10051793 - samples/sec: 768.51 - lr: 0.100000\n",
      "2022-12-03 15:57:50,254 epoch 6 - iter 7810/7817 - loss 0.10053112 - samples/sec: 774.55 - lr: 0.100000\n",
      "2022-12-03 15:57:50,545 ----------------------------------------------------------------------------------------------------\n",
      "2022-12-03 15:57:50,546 EPOCH 6 done: loss 0.1005 - lr 0.100000\n"
     ]
    },
    {
     "name": "stderr",
     "output_type": "stream",
     "text": [
      "100%|██████████| 1459/1459 [01:35<00:00, 15.25it/s]\n"
     ]
    },
    {
     "name": "stdout",
     "output_type": "stream",
     "text": [
      "2022-12-03 15:59:27,326 Evaluating as a multi-label problem: False\n",
      "2022-12-03 15:59:30,251 DEV : loss 0.09946397691965103 - f1-score (micro avg)  0.0031\n",
      "2022-12-03 15:59:30,791 BAD EPOCHS (no improvement): 4\n",
      "2022-12-03 15:59:31,146 ----------------------------------------------------------------------------------------------------\n",
      "2022-12-03 16:00:04,507 epoch 7 - iter 781/7817 - loss 0.10057298 - samples/sec: 750.62 - lr: 0.100000\n",
      "2022-12-03 16:00:36,461 epoch 7 - iter 1562/7817 - loss 0.10065679 - samples/sec: 783.59 - lr: 0.100000\n",
      "2022-12-03 16:01:09,798 epoch 7 - iter 2343/7817 - loss 0.10023673 - samples/sec: 751.08 - lr: 0.100000\n",
      "2022-12-03 16:01:50,329 epoch 7 - iter 3124/7817 - loss 0.10018430 - samples/sec: 617.53 - lr: 0.100000\n",
      "2022-12-03 16:02:24,632 epoch 7 - iter 3905/7817 - loss 0.10040950 - samples/sec: 729.89 - lr: 0.100000\n",
      "2022-12-03 16:02:57,069 epoch 7 - iter 4686/7817 - loss 0.10043280 - samples/sec: 771.92 - lr: 0.100000\n",
      "2022-12-03 16:03:30,076 epoch 7 - iter 5467/7817 - loss 0.10038465 - samples/sec: 758.61 - lr: 0.100000\n",
      "2022-12-03 16:04:02,484 epoch 7 - iter 6248/7817 - loss 0.10031528 - samples/sec: 772.63 - lr: 0.100000\n",
      "2022-12-03 16:04:34,945 epoch 7 - iter 7029/7817 - loss 0.10021701 - samples/sec: 771.36 - lr: 0.100000\n",
      "2022-12-03 16:05:07,741 epoch 7 - iter 7810/7817 - loss 0.10019483 - samples/sec: 763.45 - lr: 0.100000\n",
      "2022-12-03 16:05:08,023 ----------------------------------------------------------------------------------------------------\n",
      "2022-12-03 16:05:08,024 EPOCH 7 done: loss 0.1002 - lr 0.100000\n"
     ]
    },
    {
     "name": "stderr",
     "output_type": "stream",
     "text": [
      "100%|██████████| 1459/1459 [01:35<00:00, 15.27it/s]\n"
     ]
    },
    {
     "name": "stdout",
     "output_type": "stream",
     "text": [
      "2022-12-03 16:06:44,662 Evaluating as a multi-label problem: False\n",
      "2022-12-03 16:06:47,619 DEV : loss 0.09262198954820633 - f1-score (micro avg)  0.013\n",
      "2022-12-03 16:06:48,152 Epoch     7: reducing learning rate of group 0 to 5.0000e-02.\n",
      "2022-12-03 16:06:48,153 BAD EPOCHS (no improvement): 5\n",
      "2022-12-03 16:06:48,512 ----------------------------------------------------------------------------------------------------\n",
      "2022-12-03 16:07:20,887 epoch 8 - iter 781/7817 - loss 0.09737187 - samples/sec: 773.52 - lr: 0.050000\n",
      "2022-12-03 16:07:54,258 epoch 8 - iter 1562/7817 - loss 0.09710005 - samples/sec: 750.30 - lr: 0.050000\n",
      "2022-12-03 16:08:26,872 epoch 8 - iter 2343/7817 - loss 0.09702389 - samples/sec: 767.74 - lr: 0.050000\n",
      "2022-12-03 16:08:59,779 epoch 8 - iter 3124/7817 - loss 0.09691899 - samples/sec: 760.92 - lr: 0.050000\n",
      "2022-12-03 16:09:32,199 epoch 8 - iter 3905/7817 - loss 0.09695555 - samples/sec: 772.30 - lr: 0.050000\n",
      "2022-12-03 16:10:04,805 epoch 8 - iter 4686/7817 - loss 0.09710076 - samples/sec: 767.94 - lr: 0.050000\n",
      "2022-12-03 16:10:38,247 epoch 8 - iter 5467/7817 - loss 0.09703071 - samples/sec: 748.70 - lr: 0.050000\n",
      "2022-12-03 16:11:10,565 epoch 8 - iter 6248/7817 - loss 0.09696318 - samples/sec: 774.80 - lr: 0.050000\n",
      "2022-12-03 16:11:43,898 epoch 8 - iter 7029/7817 - loss 0.09679888 - samples/sec: 751.13 - lr: 0.050000\n",
      "2022-12-03 16:12:16,220 epoch 8 - iter 7810/7817 - loss 0.09663028 - samples/sec: 774.69 - lr: 0.050000\n",
      "2022-12-03 16:12:16,594 ----------------------------------------------------------------------------------------------------\n",
      "2022-12-03 16:12:16,595 EPOCH 8 done: loss 0.0966 - lr 0.050000\n"
     ]
    },
    {
     "name": "stderr",
     "output_type": "stream",
     "text": [
      "100%|██████████| 1459/1459 [01:42<00:00, 14.23it/s]\n"
     ]
    },
    {
     "name": "stdout",
     "output_type": "stream",
     "text": [
      "2022-12-03 16:14:00,236 Evaluating as a multi-label problem: False\n",
      "2022-12-03 16:14:03,249 DEV : loss 0.09051612764596939 - f1-score (micro avg)  0.0225\n",
      "2022-12-03 16:14:03,786 BAD EPOCHS (no improvement): 0\n",
      "2022-12-03 16:14:04,148 saving best model\n",
      "2022-12-03 16:14:04,488 ----------------------------------------------------------------------------------------------------\n",
      "2022-12-03 16:14:37,275 epoch 9 - iter 781/7817 - loss 0.09666813 - samples/sec: 763.80 - lr: 0.050000\n",
      "2022-12-03 16:15:10,016 epoch 9 - iter 1562/7817 - loss 0.09614295 - samples/sec: 764.76 - lr: 0.050000\n",
      "2022-12-03 16:15:43,051 epoch 9 - iter 2343/7817 - loss 0.09569747 - samples/sec: 757.95 - lr: 0.050000\n",
      "2022-12-03 16:16:16,446 epoch 9 - iter 3124/7817 - loss 0.09547012 - samples/sec: 749.77 - lr: 0.050000\n",
      "2022-12-03 16:16:48,908 epoch 9 - iter 3905/7817 - loss 0.09562298 - samples/sec: 771.34 - lr: 0.050000\n",
      "2022-12-03 16:17:22,730 epoch 9 - iter 4686/7817 - loss 0.09584551 - samples/sec: 740.30 - lr: 0.050000\n",
      "2022-12-03 16:17:55,801 epoch 9 - iter 5467/7817 - loss 0.09590215 - samples/sec: 757.10 - lr: 0.050000\n",
      "2022-12-03 16:18:29,032 epoch 9 - iter 6248/7817 - loss 0.09599971 - samples/sec: 753.45 - lr: 0.050000\n",
      "2022-12-03 16:19:01,056 epoch 9 - iter 7029/7817 - loss 0.09599880 - samples/sec: 781.89 - lr: 0.050000\n",
      "2022-12-03 16:19:33,456 epoch 9 - iter 7810/7817 - loss 0.09592379 - samples/sec: 772.83 - lr: 0.050000\n",
      "2022-12-03 16:19:33,765 ----------------------------------------------------------------------------------------------------\n",
      "2022-12-03 16:19:33,766 EPOCH 9 done: loss 0.0959 - lr 0.050000\n"
     ]
    },
    {
     "name": "stderr",
     "output_type": "stream",
     "text": [
      "100%|██████████| 1459/1459 [01:46<00:00, 13.76it/s]\n"
     ]
    },
    {
     "name": "stdout",
     "output_type": "stream",
     "text": [
      "2022-12-03 16:21:20,885 Evaluating as a multi-label problem: False\n",
      "2022-12-03 16:21:23,871 DEV : loss 0.08946173638105392 - f1-score (micro avg)  0.0142\n",
      "2022-12-03 16:21:24,421 BAD EPOCHS (no improvement): 1\n",
      "2022-12-03 16:21:24,785 ----------------------------------------------------------------------------------------------------\n",
      "2022-12-03 16:21:58,659 epoch 10 - iter 781/7817 - loss 0.09434126 - samples/sec: 739.26 - lr: 0.050000\n",
      "2022-12-03 16:22:31,125 epoch 10 - iter 1562/7817 - loss 0.09453068 - samples/sec: 771.26 - lr: 0.050000\n",
      "2022-12-03 16:23:03,762 epoch 10 - iter 2343/7817 - loss 0.09528655 - samples/sec: 767.21 - lr: 0.050000\n",
      "2022-12-03 16:23:36,521 epoch 10 - iter 3124/7817 - loss 0.09520042 - samples/sec: 764.35 - lr: 0.050000\n",
      "2022-12-03 16:24:09,365 epoch 10 - iter 3905/7817 - loss 0.09538200 - samples/sec: 762.34 - lr: 0.050000\n",
      "2022-12-03 16:24:41,969 epoch 10 - iter 4686/7817 - loss 0.09542441 - samples/sec: 767.97 - lr: 0.050000\n",
      "2022-12-03 16:25:14,866 epoch 10 - iter 5467/7817 - loss 0.09548410 - samples/sec: 761.15 - lr: 0.050000\n",
      "2022-12-03 16:25:47,290 epoch 10 - iter 6248/7817 - loss 0.09561853 - samples/sec: 772.24 - lr: 0.050000\n",
      "2022-12-03 16:26:19,800 epoch 10 - iter 7029/7817 - loss 0.09560532 - samples/sec: 770.21 - lr: 0.050000\n",
      "2022-12-03 16:26:52,909 epoch 10 - iter 7810/7817 - loss 0.09554260 - samples/sec: 756.26 - lr: 0.050000\n",
      "2022-12-03 16:26:53,203 ----------------------------------------------------------------------------------------------------\n",
      "2022-12-03 16:26:53,204 EPOCH 10 done: loss 0.0956 - lr 0.050000\n"
     ]
    },
    {
     "name": "stderr",
     "output_type": "stream",
     "text": [
      "100%|██████████| 1459/1459 [01:43<00:00, 14.12it/s]\n"
     ]
    },
    {
     "name": "stdout",
     "output_type": "stream",
     "text": [
      "2022-12-03 16:28:37,606 Evaluating as a multi-label problem: False\n",
      "2022-12-03 16:28:40,576 DEV : loss 0.08909204602241516 - f1-score (micro avg)  0.0204\n",
      "2022-12-03 16:28:41,108 BAD EPOCHS (no improvement): 2\n",
      "2022-12-03 16:28:41,473 ----------------------------------------------------------------------------------------------------\n",
      "2022-12-03 16:29:14,856 epoch 11 - iter 781/7817 - loss 0.09426788 - samples/sec: 750.16 - lr: 0.050000\n",
      "2022-12-03 16:29:47,428 epoch 11 - iter 1562/7817 - loss 0.09481089 - samples/sec: 768.72 - lr: 0.050000\n",
      "2022-12-03 16:30:20,507 epoch 11 - iter 2343/7817 - loss 0.09510180 - samples/sec: 756.94 - lr: 0.050000\n",
      "2022-12-03 16:30:53,064 epoch 11 - iter 3124/7817 - loss 0.09522518 - samples/sec: 769.07 - lr: 0.050000\n",
      "2022-12-03 16:31:25,963 epoch 11 - iter 3905/7817 - loss 0.09520673 - samples/sec: 761.11 - lr: 0.050000\n",
      "2022-12-03 16:32:00,521 epoch 11 - iter 4686/7817 - loss 0.09538240 - samples/sec: 724.49 - lr: 0.050000\n",
      "2022-12-03 16:32:34,120 epoch 11 - iter 5467/7817 - loss 0.09537627 - samples/sec: 745.20 - lr: 0.050000\n",
      "2022-12-03 16:33:06,377 epoch 11 - iter 6248/7817 - loss 0.09533656 - samples/sec: 776.26 - lr: 0.050000\n",
      "2022-12-03 16:33:39,823 epoch 11 - iter 7029/7817 - loss 0.09526617 - samples/sec: 748.61 - lr: 0.050000\n",
      "2022-12-03 16:34:12,792 epoch 11 - iter 7810/7817 - loss 0.09529155 - samples/sec: 759.45 - lr: 0.050000\n",
      "2022-12-03 16:34:13,071 ----------------------------------------------------------------------------------------------------\n",
      "2022-12-03 16:34:13,073 EPOCH 11 done: loss 0.0953 - lr 0.050000\n"
     ]
    },
    {
     "name": "stderr",
     "output_type": "stream",
     "text": [
      "100%|██████████| 1459/1459 [01:43<00:00, 14.04it/s]\n"
     ]
    },
    {
     "name": "stdout",
     "output_type": "stream",
     "text": [
      "2022-12-03 16:35:58,106 Evaluating as a multi-label problem: False\n",
      "2022-12-03 16:36:01,155 DEV : loss 0.09031546860933304 - f1-score (micro avg)  0.0133\n",
      "2022-12-03 16:36:01,696 BAD EPOCHS (no improvement): 3\n",
      "2022-12-03 16:36:02,072 ----------------------------------------------------------------------------------------------------\n",
      "2022-12-03 16:36:34,949 epoch 12 - iter 781/7817 - loss 0.09517229 - samples/sec: 761.74 - lr: 0.050000\n",
      "2022-12-03 16:37:08,074 epoch 12 - iter 1562/7817 - loss 0.09538028 - samples/sec: 755.90 - lr: 0.050000\n",
      "2022-12-03 16:37:41,253 epoch 12 - iter 2343/7817 - loss 0.09511751 - samples/sec: 754.67 - lr: 0.050000\n",
      "2022-12-03 16:38:14,314 epoch 12 - iter 3124/7817 - loss 0.09525418 - samples/sec: 757.33 - lr: 0.050000\n",
      "2022-12-03 16:38:47,026 epoch 12 - iter 3905/7817 - loss 0.09524923 - samples/sec: 765.43 - lr: 0.050000\n",
      "2022-12-03 16:39:19,155 epoch 12 - iter 4686/7817 - loss 0.09527270 - samples/sec: 779.35 - lr: 0.050000\n",
      "2022-12-03 16:39:51,495 epoch 12 - iter 5467/7817 - loss 0.09518334 - samples/sec: 774.25 - lr: 0.050000\n",
      "2022-12-03 16:40:25,296 epoch 12 - iter 6248/7817 - loss 0.09531937 - samples/sec: 740.71 - lr: 0.050000\n",
      "2022-12-03 16:40:57,879 epoch 12 - iter 7029/7817 - loss 0.09517775 - samples/sec: 768.47 - lr: 0.050000\n",
      "2022-12-03 16:41:30,488 epoch 12 - iter 7810/7817 - loss 0.09511399 - samples/sec: 767.88 - lr: 0.050000\n",
      "2022-12-03 16:41:30,851 ----------------------------------------------------------------------------------------------------\n",
      "2022-12-03 16:41:30,852 EPOCH 12 done: loss 0.0951 - lr 0.050000\n"
     ]
    },
    {
     "name": "stderr",
     "output_type": "stream",
     "text": [
      "100%|██████████| 1459/1459 [01:43<00:00, 14.05it/s]\n"
     ]
    },
    {
     "name": "stdout",
     "output_type": "stream",
     "text": [
      "2022-12-03 16:43:15,816 Evaluating as a multi-label problem: False\n",
      "2022-12-03 16:43:18,799 DEV : loss 0.08996888995170593 - f1-score (micro avg)  0.0154\n",
      "2022-12-03 16:43:19,346 BAD EPOCHS (no improvement): 4\n",
      "2022-12-03 16:43:19,721 ----------------------------------------------------------------------------------------------------\n",
      "2022-12-03 16:43:52,621 epoch 13 - iter 781/7817 - loss 0.09573348 - samples/sec: 761.15 - lr: 0.050000\n",
      "2022-12-03 16:44:25,651 epoch 13 - iter 1562/7817 - loss 0.09494220 - samples/sec: 758.07 - lr: 0.050000\n",
      "2022-12-03 16:44:58,839 epoch 13 - iter 2343/7817 - loss 0.09486797 - samples/sec: 754.44 - lr: 0.050000\n",
      "2022-12-03 16:45:31,535 epoch 13 - iter 3124/7817 - loss 0.09479519 - samples/sec: 765.84 - lr: 0.050000\n",
      "2022-12-03 16:46:04,686 epoch 13 - iter 3905/7817 - loss 0.09487388 - samples/sec: 755.27 - lr: 0.050000\n",
      "2022-12-03 16:46:37,343 epoch 13 - iter 4686/7817 - loss 0.09483974 - samples/sec: 766.76 - lr: 0.050000\n",
      "2022-12-03 16:47:09,695 epoch 13 - iter 5467/7817 - loss 0.09493445 - samples/sec: 773.96 - lr: 0.050000\n",
      "2022-12-03 16:47:42,083 epoch 13 - iter 6248/7817 - loss 0.09502662 - samples/sec: 773.13 - lr: 0.050000\n",
      "2022-12-03 16:48:14,702 epoch 13 - iter 7029/7817 - loss 0.09500249 - samples/sec: 767.67 - lr: 0.050000\n",
      "2022-12-03 16:48:47,670 epoch 13 - iter 7810/7817 - loss 0.09488501 - samples/sec: 759.49 - lr: 0.050000\n",
      "2022-12-03 16:48:48,014 ----------------------------------------------------------------------------------------------------\n",
      "2022-12-03 16:48:48,015 EPOCH 13 done: loss 0.0949 - lr 0.050000\n"
     ]
    },
    {
     "name": "stderr",
     "output_type": "stream",
     "text": [
      "100%|██████████| 1459/1459 [01:43<00:00, 14.07it/s]\n"
     ]
    },
    {
     "name": "stdout",
     "output_type": "stream",
     "text": [
      "2022-12-03 16:50:32,788 Evaluating as a multi-label problem: False\n",
      "2022-12-03 16:50:35,798 DEV : loss 0.0890735611319542 - f1-score (micro avg)  0.0224\n",
      "2022-12-03 16:50:36,335 Epoch    13: reducing learning rate of group 0 to 2.5000e-02.\n",
      "2022-12-03 16:50:36,336 BAD EPOCHS (no improvement): 5\n",
      "2022-12-03 16:50:36,701 ----------------------------------------------------------------------------------------------------\n",
      "2022-12-03 16:51:08,690 epoch 14 - iter 781/7817 - loss 0.09432333 - samples/sec: 782.90 - lr: 0.025000\n",
      "2022-12-03 16:51:41,862 epoch 14 - iter 1562/7817 - loss 0.09376324 - samples/sec: 754.79 - lr: 0.025000\n",
      "2022-12-03 16:52:15,307 epoch 14 - iter 2343/7817 - loss 0.09352787 - samples/sec: 748.64 - lr: 0.025000\n",
      "2022-12-03 16:52:48,534 epoch 14 - iter 3124/7817 - loss 0.09373283 - samples/sec: 753.54 - lr: 0.025000\n",
      "2022-12-03 16:53:21,183 epoch 14 - iter 3905/7817 - loss 0.09344375 - samples/sec: 766.94 - lr: 0.025000\n",
      "2022-12-03 16:53:53,773 epoch 14 - iter 4686/7817 - loss 0.09331323 - samples/sec: 768.33 - lr: 0.025000\n",
      "2022-12-03 16:54:27,009 epoch 14 - iter 5467/7817 - loss 0.09319362 - samples/sec: 753.34 - lr: 0.025000\n",
      "2022-12-03 16:55:00,078 epoch 14 - iter 6248/7817 - loss 0.09314143 - samples/sec: 757.17 - lr: 0.025000\n",
      "2022-12-03 16:55:32,452 epoch 14 - iter 7029/7817 - loss 0.09314353 - samples/sec: 773.43 - lr: 0.025000\n",
      "2022-12-03 16:56:05,198 epoch 14 - iter 7810/7817 - loss 0.09323974 - samples/sec: 764.63 - lr: 0.025000\n",
      "2022-12-03 16:56:05,495 ----------------------------------------------------------------------------------------------------\n",
      "2022-12-03 16:56:05,496 EPOCH 14 done: loss 0.0932 - lr 0.025000\n"
     ]
    },
    {
     "name": "stderr",
     "output_type": "stream",
     "text": [
      "100%|██████████| 1459/1459 [01:43<00:00, 14.09it/s]\n"
     ]
    },
    {
     "name": "stdout",
     "output_type": "stream",
     "text": [
      "2022-12-03 16:57:50,156 Evaluating as a multi-label problem: False\n",
      "2022-12-03 16:57:53,133 DEV : loss 0.0892150029540062 - f1-score (micro avg)  0.0308\n",
      "2022-12-03 16:57:53,664 BAD EPOCHS (no improvement): 0\n",
      "2022-12-03 16:57:54,031 saving best model\n",
      "2022-12-03 16:57:54,373 ----------------------------------------------------------------------------------------------------\n",
      "2022-12-03 16:58:27,956 epoch 15 - iter 781/7817 - loss 0.09084190 - samples/sec: 745.93 - lr: 0.025000\n",
      "2022-12-03 16:59:03,861 epoch 15 - iter 1562/7817 - loss 0.09203448 - samples/sec: 697.34 - lr: 0.025000\n",
      "2022-12-03 16:59:40,005 epoch 15 - iter 2343/7817 - loss 0.09237090 - samples/sec: 692.75 - lr: 0.025000\n",
      "2022-12-03 17:00:14,050 epoch 15 - iter 3124/7817 - loss 0.09254739 - samples/sec: 735.46 - lr: 0.025000\n",
      "2022-12-03 17:00:47,681 epoch 15 - iter 3905/7817 - loss 0.09273024 - samples/sec: 744.52 - lr: 0.025000\n",
      "2022-12-03 17:01:22,921 epoch 15 - iter 4686/7817 - loss 0.09296470 - samples/sec: 710.47 - lr: 0.025000\n",
      "2022-12-03 17:01:57,970 epoch 15 - iter 5467/7817 - loss 0.09290549 - samples/sec: 714.37 - lr: 0.025000\n",
      "2022-12-03 17:02:32,064 epoch 15 - iter 6248/7817 - loss 0.09288767 - samples/sec: 734.40 - lr: 0.025000\n",
      "2022-12-03 17:03:06,074 epoch 15 - iter 7029/7817 - loss 0.09289570 - samples/sec: 736.21 - lr: 0.025000\n",
      "2022-12-03 17:03:41,353 epoch 15 - iter 7810/7817 - loss 0.09291644 - samples/sec: 709.70 - lr: 0.025000\n",
      "2022-12-03 17:03:41,656 ----------------------------------------------------------------------------------------------------\n",
      "2022-12-03 17:03:41,657 EPOCH 15 done: loss 0.0929 - lr 0.025000\n"
     ]
    },
    {
     "name": "stderr",
     "output_type": "stream",
     "text": [
      "100%|██████████| 1459/1459 [01:38<00:00, 14.76it/s]\n"
     ]
    },
    {
     "name": "stdout",
     "output_type": "stream",
     "text": [
      "2022-12-03 17:05:30,232 Evaluating as a multi-label problem: False\n",
      "2022-12-03 17:05:33,387 DEV : loss 0.0882866233587265 - f1-score (micro avg)  0.0186\n",
      "2022-12-03 17:05:33,956 BAD EPOCHS (no improvement): 1\n",
      "2022-12-03 17:05:34,666 ----------------------------------------------------------------------------------------------------\n",
      "2022-12-03 17:05:44,566 ----------------------------------------------------------------------------------------------------\n",
      "2022-12-03 17:05:44,567 Exiting from training early.\n",
      "2022-12-03 17:05:44,568 Saving model ...\n",
      "2022-12-03 17:05:44,928 Done.\n",
      "2022-12-03 17:05:44,930 ----------------------------------------------------------------------------------------------------\n",
      "2022-12-03 17:05:44,932 loading file models/best-model.pt\n",
      "2022-12-03 17:05:45,340 SequenceTagger predicts: Dictionary with 5 tags: <unk>, DE, DS, <START>, <STOP>\n"
     ]
    },
    {
     "name": "stderr",
     "output_type": "stream",
     "text": [
      "100%|██████████| 491/491 [00:35<00:00, 13.71it/s]\n"
     ]
    },
    {
     "name": "stdout",
     "output_type": "stream",
     "text": [
      "2022-12-03 17:06:21,583 Evaluating as a multi-label problem: False\n",
      "2022-12-03 17:06:22,592 0.0159\t0.3609\t0.0305\t0.0159\n",
      "2022-12-03 17:06:22,593 \n",
      "Results:\n",
      "- F-score (micro) 0.0305\n",
      "- F-score (macro) 0.2834\n",
      "- Accuracy 0.0159\n",
      "\n",
      "By class:\n",
      "              precision    recall  f1-score   support\n",
      "\n",
      "       <unk>     0.0000    0.0000    0.0000         0\n",
      "          DE     0.5210    0.4189    0.4644      7302\n",
      "          DS     0.5322    0.3024    0.3856      7243\n",
      "\n",
      "   micro avg     0.0159    0.3609    0.0305     14545\n",
      "   macro avg     0.3511    0.2404    0.2834     14545\n",
      "weighted avg     0.5266    0.3609    0.4252     14545\n",
      "\n",
      "2022-12-03 17:06:22,594 ----------------------------------------------------------------------------------------------------\n"
     ]
    },
    {
     "data": {
      "text/plain": [
       "{'test_score': 0.030521966919514233,\n",
       " 'dev_score_history': [0.0016527694180800817,\n",
       "  0.02129778670059778,\n",
       "  0.01713351357604014,\n",
       "  0.012251667963917476,\n",
       "  0.020119477779760146,\n",
       "  0.0030741903292402944,\n",
       "  0.013012373223959078,\n",
       "  0.02248197736313677,\n",
       "  0.014241657239541775,\n",
       "  0.020433170670498952,\n",
       "  0.013316263211862297,\n",
       "  0.015400360354708235,\n",
       "  0.022407475301586304,\n",
       "  0.03076935142034259,\n",
       "  0.018611791323646758],\n",
       " 'train_loss_history': [0.11162724334505603,\n",
       "  0.10472340281774903,\n",
       "  0.10285513800329801,\n",
       "  0.10183264383369618,\n",
       "  0.10100515115303266,\n",
       "  0.10053029851898,\n",
       "  0.10019411184330691,\n",
       "  0.09662685535563979,\n",
       "  0.09592075308415242,\n",
       "  0.09555069143122688,\n",
       "  0.09527929121687452,\n",
       "  0.09511848705341996,\n",
       "  0.09487610242898997,\n",
       "  0.09324911343296113,\n",
       "  0.09291608804392594],\n",
       " 'dev_loss_history': [0.10346631705760956,\n",
       "  0.096551813185215,\n",
       "  0.09422393143177032,\n",
       "  0.0936627984046936,\n",
       "  0.09435790777206421,\n",
       "  0.09946397691965103,\n",
       "  0.09262198954820633,\n",
       "  0.09051612764596939,\n",
       "  0.08946173638105392,\n",
       "  0.08909204602241516,\n",
       "  0.09031546860933304,\n",
       "  0.08996888995170593,\n",
       "  0.0890735611319542,\n",
       "  0.0892150029540062,\n",
       "  0.0882866233587265]}"
      ]
     },
     "execution_count": 11,
     "metadata": {},
     "output_type": "execute_result"
    }
   ],
   "source": [
    "trainer.train(\n",
    "    'models/',\n",
    "    learning_rate=0.1,\n",
    "    mini_batch_size=32,\n",
    "    max_epochs=20,\n",
    "    patience=4,\n",
    "    embeddings_storage_mode='gpu',\n",
    "    checkpoint=True,\n",
    ")\n"
   ]
  },
  {
   "cell_type": "code",
   "execution_count": 12,
   "metadata": {},
   "outputs": [
    {
     "name": "stdout",
     "output_type": "stream",
     "text": [
      "2022-12-03 17:10:16,747 loading file models/final-model.pt\n",
      "2022-12-03 17:10:17,370 SequenceTagger predicts: Dictionary with 5 tags: <unk>, DE, DS, <START>, <STOP>\n"
     ]
    }
   ],
   "source": [
    "model = SequenceTagger.load(\"models/final-model.pt\")"
   ]
  },
  {
   "cell_type": "code",
   "execution_count": 13,
   "metadata": {},
   "outputs": [],
   "source": [
    "text = loader.load_random_text()\n",
    "\n",
    "sent = Sentence(text.text)\n",
    "model.predict(sent)"
   ]
  },
  {
   "cell_type": "code",
   "execution_count": 15,
   "metadata": {},
   "outputs": [
    {
     "name": "stdout",
     "output_type": "stream",
     "text": [
      "--- 1621354891977 (0 -> 40 | 0 -> 6) - Position ---\n",
      "The driverless Cars article I am against\n",
      "---------------------------------------------------\n",
      "--- 1621354905027 (49 -> 91 | 8 -> 15) - Claim ---\n",
      "What benefits would we get from these cars\n",
      "--------------------------------------------------\n",
      "--- 1621354913903 (92 -> 152 | 16 -> 27) - Claim ---\n",
      "Will auto body parts run out of buisness because of the cars\n",
      "----------------------------------------------------\n",
      "--- 1621354921464 (153 -> 192 | 28 -> 34) - Claim ---\n",
      "What will happen to taxi drivers jobs. \n",
      "-----------------------------------------------------\n",
      "--- 1621354933349 (193 -> 238 | 35 -> 43) - Claim ---\n",
      "What benefits would we get out of these cars?\n",
      "-----------------------------------------------------\n",
      "--- 1621354948467 (239 -> 278 | 44 -> 51) - Counterclaim ---\n",
      "Maybe we will get less wrecks with them\n",
      "------------------------------------------------------------\n",
      "--- 1621354967258 (279 -> 526 | 52 -> 96) - Rebuttal ---\n",
      "but think of this what will happen if your car sensors and autopilot doesn't work anymore the passangers will have to drive but what if they don't know how to drive because the driving classes got taken away because these cars don't need a driver.\n",
      "--------------------------------------------------------\n",
      "--- 1621354990366 (527 -> 1106 | 97 -> 198) - Evidence ---\n",
      "It also shows in the text that if something bad happens who's fault is it the manufacturer or the driver in this case it would be the manufacturers fault because they didn't check the car throughly and shipped it somwhere to be sold to some people then thoese people get stuck in the middle of nowhere because of the driverless car and the manufacturer but what will happen if the car gets struck by lightning because of all the electrical systems the passangers/car is using will the passangers be unharmed or will there be a tragedy because the manufacturer didn't think ahead.\n",
      "----------------------------------------------------------\n",
      "--- 1621355224665 (1217 -> 2012 | 219 -> 362) - Evidence ---\n",
      "Do these manufacturers not know they will be taking people's jobs because of some driverless car that won't need an auto body repair anytime soon. These families with this type of buisness will go hungry because of this job loss but even if they don't lose their jobs buisness will be very slow because like again these cars won't get into an accident because of the sensors all over the car so the companies will still go bankrupt because of the slow buisness and the bills for the building and bills for their own houses, not including from their families,school bills, and bills to buy food and clothes how are they suppose to get that if there buisness is gone the state is gonna have to help them in someway because it is their fault for not making driverless cars illeagal in their state. \n",
      "------------------------------------------------------------\n",
      "--- 1621355239155 (2013 -> 2166 | 363 -> 389) - Claim ---\n",
      "What will happen to the people who make money by driving cars? Will the manufacturers care that they are taking some people's only source of income away.\n",
      "---------------------------------------------------------\n",
      "--- 1621355288414 (2167 -> 2832 | 390 -> 515) - Evidence ---\n",
      "They are doing it by taking the drivers out because that brings in a lot of money for the drives like in New York city taxi drivers get a lot of money because of the buisness there if the driverless cars get to New York where are the other people gonna work at. The unemployed rate is gonna increase because of the cars and so is the homeless rate because people are losing money causing them to get kicked out of the place they live because they can't pay their bills anymore they will also be starving because of the lack of money equals the lack of food and homeless shelters will be overwhelmed with the new increase rate of homeless people on the streets now. \n",
      "------------------------------------------------------------\n",
      "--- 1621355304275 (2833 -> 3109 | 516 -> 570) - Concluding Statement ---\n",
      "So in the en I still disagree with this article Will it give us benefits will it affect autobody part shops and How will it have an affect in the Taxi drivers in New York city. These cars may seem harmless but they will have a huge impact in our society and in our economy.   \n",
      "------------------------------------------------------------------------\n"
     ]
    }
   ],
   "source": [
    "for disc in text.discourses:\n",
    "    print(disc)"
   ]
  },
  {
   "cell_type": "code",
   "execution_count": 14,
   "metadata": {},
   "outputs": [
    {
     "data": {
      "text/plain": [
       "'Sentence: \"The driverless Cars article I am against because What benefits would we get from these cars Will auto body parts run out of buisness because of the cars What will happen to taxi drivers jobs . What benefits would we get out of these cars ? Maybe we will get less wrecks with them but think of this what will happen if your car sensors and autopilot does n\\'t work anymore the passangers will have to drive but what if they do n\\'t know how to drive because the driving classes got taken away because these cars do n\\'t need a driver . It also shows in the text that if something bad happens who \\'s fault is it the manufacturer or the driver in this case it would be the manufacturers fault because they did n\\'t check the car throughly and shipped it somwhere to be sold to some people then thoese people get stuck in the middle of nowhere because of the driverless car and the manufacturer but what will happen if the car gets struck by lightning because of all the electrical systems the passangers / car is using will the passangers be unharmed or will there be a tragedy because the manufacturer did n\\'t think ahead . Will Auto body part shop \\'s run out of buisness since these driverless cars will probably not get in a wreck . Do these manufacturers not know they will be taking people \\'s jobs because of some driverless car that wo n\\'t need an auto body repair anytime soon . These families with this type of buisness will go hungry because of this job loss but even if they do n\\'t lose their jobs buisness will be very slow because like again these cars wo n\\'t get into an accident because of the sensors all over the car so the companies will still go bankrupt because of the slow buisness and the bills for the building and bills for their own houses , not including from their families,school bills , and bills to buy food and clothes how are they suppose to get that if there buisness is gone the state is gonna have to help them in someway because it is their fault for not making driverless cars illeagal in their state . What will happen to the people who make money by driving cars ? Will the manufacturers care that they are taking some people \\'s only source of income away . They are doing it by taking the drivers out because that brings in a lot of money for the drives like in New York city taxi drivers get a lot of money because of the buisness there if the driverless cars get to New York where are the other people gonna work at . The unemployed rate is gonna increase because of the cars and so is the homeless rate because people are losing money causing them to get kicked out of the place they live because they ca n\\'t pay their bills anymore they will also be starving because of the lack of money equals the lack of food and homeless shelters will be overwhelmed with the new increase rate of homeless people on the streets now . So in the en I still disagree with this article Will it give us benefits will it affect autobody part shops and How will it have an affect in the Taxi drivers in New York city . These cars may seem harmless but they will have a huge impact in our society and in our economy .\" → [\"The\"/DS, \"driverless\"/<unk>, \"Cars\"/<unk>, \"article\"/<unk>, \"I\"/<unk>, \"am\"/<unk>, \"against\"/<unk>, \"because\"/<unk>, \"What\"/<unk>, \"benefits\"/<unk>, \"would\"/<unk>, \"we\"/<unk>, \"get\"/<unk>, \"from\"/<unk>, \"these\"/<unk>, \"cars\"/<unk>, \"Will\"/<unk>, \"auto\"/<unk>, \"body\"/<unk>, \"parts\"/<unk>, \"run\"/<unk>, \"out\"/<unk>, \"of\"/<unk>, \"buisness\"/<unk>, \"because\"/<unk>, \"of\"/<unk>, \"the\"/<unk>, \"cars\"/<unk>, \"What\"/<unk>, \"will\"/<unk>, \"happen\"/<unk>, \"to\"/<unk>, \"taxi\"/<unk>, \"drivers\"/<unk>, \"jobs\"/<unk>, \".\"/DE, \"What\"/DS, \"benefits\"/<unk>, \"would\"/<unk>, \"we\"/<unk>, \"get\"/<unk>, \"out\"/<unk>, \"of\"/<unk>, \"these\"/<unk>, \"cars\"/<unk>, \"?\"/<unk>, \"Maybe\"/<unk>, \"we\"/<unk>, \"will\"/<unk>, \"get\"/<unk>, \"less\"/<unk>, \"wrecks\"/<unk>, \"with\"/<unk>, \"them\"/<unk>, \"but\"/<unk>, \"think\"/<unk>, \"of\"/<unk>, \"this\"/<unk>, \"what\"/<unk>, \"will\"/<unk>, \"happen\"/<unk>, \"if\"/<unk>, \"your\"/<unk>, \"car\"/<unk>, \"sensors\"/<unk>, \"and\"/<unk>, \"autopilot\"/<unk>, \"does\"/<unk>, \"n\\'t\"/<unk>, \"work\"/<unk>, \"anymore\"/<unk>, \"the\"/<unk>, \"passangers\"/<unk>, \"will\"/<unk>, \"have\"/<unk>, \"to\"/<unk>, \"drive\"/DE, \"but\"/DS, \"what\"/<unk>, \"if\"/<unk>, \"they\"/<unk>, \"do\"/<unk>, \"n\\'t\"/<unk>, \"know\"/<unk>, \"how\"/<unk>, \"to\"/<unk>, \"drive\"/<unk>, \"because\"/<unk>, \"the\"/<unk>, \"driving\"/<unk>, \"classes\"/<unk>, \"got\"/<unk>, \"taken\"/<unk>, \"away\"/<unk>, \"because\"/<unk>, \"these\"/<unk>, \"cars\"/<unk>, \"do\"/<unk>, \"n\\'t\"/<unk>, \"need\"/<unk>, \"a\"/<unk>, \"driver\"/<unk>, \".\"/DE, \"It\"/DS, \"also\"/<unk>, \"shows\"/<unk>, \"in\"/<unk>, \"the\"/<unk>, \"text\"/<unk>, \"that\"/<unk>, \"if\"/<unk>, \"something\"/<unk>, \"bad\"/<unk>, \"happens\"/<unk>, \"who\"/<unk>, \"\\'s\"/<unk>, \"fault\"/<unk>, \"is\"/<unk>, \"it\"/<unk>, \"the\"/<unk>, \"manufacturer\"/<unk>, \"or\"/<unk>, \"the\"/<unk>, \"driver\"/<unk>, \"in\"/<unk>, \"this\"/<unk>, \"case\"/<unk>, \"it\"/<unk>, \"would\"/<unk>, \"be\"/<unk>, \"the\"/<unk>, \"manufacturers\"/<unk>, \"fault\"/<unk>, \"because\"/<unk>, \"they\"/<unk>, \"did\"/<unk>, \"n\\'t\"/<unk>, \"check\"/<unk>, \"the\"/<unk>, \"car\"/<unk>, \"throughly\"/<unk>, \"and\"/<unk>, \"shipped\"/<unk>, \"it\"/<unk>, \"somwhere\"/<unk>, \"to\"/<unk>, \"be\"/<unk>, \"sold\"/<unk>, \"to\"/<unk>, \"some\"/<unk>, \"people\"/<unk>, \"then\"/<unk>, \"thoese\"/<unk>, \"people\"/<unk>, \"get\"/<unk>, \"stuck\"/<unk>, \"in\"/<unk>, \"the\"/<unk>, \"middle\"/<unk>, \"of\"/<unk>, \"nowhere\"/<unk>, \"because\"/<unk>, \"of\"/<unk>, \"the\"/<unk>, \"driverless\"/<unk>, \"car\"/<unk>, \"and\"/<unk>, \"the\"/<unk>, \"manufacturer\"/<unk>, \"but\"/<unk>, \"what\"/<unk>, \"will\"/<unk>, \"happen\"/<unk>, \"if\"/<unk>, \"the\"/<unk>, \"car\"/<unk>, \"gets\"/<unk>, \"struck\"/<unk>, \"by\"/<unk>, \"lightning\"/<unk>, \"because\"/<unk>, \"of\"/<unk>, \"all\"/<unk>, \"the\"/<unk>, \"electrical\"/<unk>, \"systems\"/<unk>, \"the\"/<unk>, \"passangers\"/<unk>, \"/\"/<unk>, \"car\"/<unk>, \"is\"/<unk>, \"using\"/<unk>, \"will\"/<unk>, \"the\"/<unk>, \"passangers\"/<unk>, \"be\"/<unk>, \"unharmed\"/<unk>, \"or\"/<unk>, \"will\"/<unk>, \"there\"/<unk>, \"be\"/<unk>, \"a\"/<unk>, \"tragedy\"/<unk>, \"because\"/<unk>, \"the\"/<unk>, \"manufacturer\"/<unk>, \"did\"/<unk>, \"n\\'t\"/<unk>, \"think\"/<unk>, \"ahead\"/<unk>, \".\"/<unk>, \"Will\"/<unk>, \"Auto\"/<unk>, \"body\"/<unk>, \"part\"/<unk>, \"shop\"/<unk>, \"\\'s\"/<unk>, \"run\"/<unk>, \"out\"/<unk>, \"of\"/<unk>, \"buisness\"/<unk>, \"since\"/<unk>, \"these\"/<unk>, \"driverless\"/<unk>, \"cars\"/<unk>, \"will\"/<unk>, \"probably\"/<unk>, \"not\"/<unk>, \"get\"/<unk>, \"in\"/<unk>, \"a\"/<unk>, \"wreck\"/<unk>, \".\"/<unk>, \"Do\"/<unk>, \"these\"/<unk>, \"manufacturers\"/<unk>, \"not\"/<unk>, \"know\"/<unk>, \"they\"/<unk>, \"will\"/<unk>, \"be\"/<unk>, \"taking\"/<unk>, \"people\"/<unk>, \"\\'s\"/<unk>, \"jobs\"/<unk>, \"because\"/<unk>, \"of\"/<unk>, \"some\"/<unk>, \"driverless\"/<unk>, \"car\"/<unk>, \"that\"/<unk>, \"wo\"/<unk>, \"n\\'t\"/<unk>, \"need\"/<unk>, \"an\"/<unk>, \"auto\"/<unk>, \"body\"/<unk>, \"repair\"/<unk>, \"anytime\"/<unk>, \"soon\"/<unk>, \".\"/<unk>, \"These\"/<unk>, \"families\"/<unk>, \"with\"/<unk>, \"this\"/<unk>, \"type\"/<unk>, \"of\"/<unk>, \"buisness\"/<unk>, \"will\"/<unk>, \"go\"/<unk>, \"hungry\"/<unk>, \"because\"/<unk>, \"of\"/<unk>, \"this\"/<unk>, \"job\"/<unk>, \"loss\"/<unk>, \"but\"/<unk>, \"even\"/<unk>, \"if\"/<unk>, \"they\"/<unk>, \"do\"/<unk>, \"n\\'t\"/<unk>, \"lose\"/<unk>, \"their\"/<unk>, \"jobs\"/<unk>, \"buisness\"/<unk>, \"will\"/<unk>, \"be\"/<unk>, \"very\"/<unk>, \"slow\"/<unk>, \"because\"/<unk>, \"like\"/<unk>, \"again\"/<unk>, \"these\"/<unk>, \"cars\"/<unk>, \"wo\"/<unk>, \"n\\'t\"/<unk>, \"get\"/<unk>, \"into\"/<unk>, \"an\"/<unk>, \"accident\"/<unk>, \"because\"/<unk>, \"of\"/<unk>, \"the\"/<unk>, \"sensors\"/<unk>, \"all\"/<unk>, \"over\"/<unk>, \"the\"/<unk>, \"car\"/<unk>, \"so\"/<unk>, \"the\"/<unk>, \"companies\"/<unk>, \"will\"/<unk>, \"still\"/<unk>, \"go\"/<unk>, \"bankrupt\"/<unk>, \"because\"/<unk>, \"of\"/<unk>, \"the\"/<unk>, \"slow\"/<unk>, \"buisness\"/<unk>, \"and\"/<unk>, \"the\"/<unk>, \"bills\"/<unk>, \"for\"/<unk>, \"the\"/<unk>, \"building\"/<unk>, \"and\"/<unk>, \"bills\"/<unk>, \"for\"/<unk>, \"their\"/<unk>, \"own\"/<unk>, \"houses\"/<unk>, \",\"/<unk>, \"not\"/<unk>, \"including\"/<unk>, \"from\"/<unk>, \"their\"/<unk>, \"families,school\"/<unk>, \"bills\"/<unk>, \",\"/<unk>, \"and\"/<unk>, \"bills\"/<unk>, \"to\"/<unk>, \"buy\"/<unk>, \"food\"/<unk>, \"and\"/<unk>, \"clothes\"/<unk>, \"how\"/<unk>, \"are\"/<unk>, \"they\"/<unk>, \"suppose\"/<unk>, \"to\"/<unk>, \"get\"/<unk>, \"that\"/<unk>, \"if\"/<unk>, \"there\"/<unk>, \"buisness\"/<unk>, \"is\"/<unk>, \"gone\"/<unk>, \"the\"/<unk>, \"state\"/<unk>, \"is\"/<unk>, \"gonna\"/<unk>, \"have\"/<unk>, \"to\"/<unk>, \"help\"/<unk>, \"them\"/<unk>, \"in\"/<unk>, \"someway\"/<unk>, \"because\"/<unk>, \"it\"/<unk>, \"is\"/<unk>, \"their\"/<unk>, \"fault\"/<unk>, \"for\"/<unk>, \"not\"/<unk>, \"making\"/<unk>, \"driverless\"/<unk>, \"cars\"/<unk>, \"illeagal\"/<unk>, \"in\"/<unk>, \"their\"/<unk>, \"state\"/<unk>, \".\"/<unk>, \"What\"/<unk>, \"will\"/<unk>, \"happen\"/<unk>, \"to\"/<unk>, \"the\"/<unk>, \"people\"/<unk>, \"who\"/<unk>, \"make\"/<unk>, \"money\"/<unk>, \"by\"/<unk>, \"driving\"/<unk>, \"cars\"/<unk>, \"?\"/<unk>, \"Will\"/<unk>, \"the\"/<unk>, \"manufacturers\"/<unk>, \"care\"/<unk>, \"that\"/<unk>, \"they\"/<unk>, \"are\"/<unk>, \"taking\"/<unk>, \"some\"/<unk>, \"people\"/<unk>, \"\\'s\"/<unk>, \"only\"/<unk>, \"source\"/<unk>, \"of\"/<unk>, \"income\"/<unk>, \"away\"/<unk>, \".\"/<unk>, \"They\"/<unk>, \"are\"/<unk>, \"doing\"/<unk>, \"it\"/<unk>, \"by\"/<unk>, \"taking\"/<unk>, \"the\"/<unk>, \"drivers\"/<unk>, \"out\"/<unk>, \"because\"/<unk>, \"that\"/<unk>, \"brings\"/<unk>, \"in\"/<unk>, \"a\"/<unk>, \"lot\"/<unk>, \"of\"/<unk>, \"money\"/<unk>, \"for\"/<unk>, \"the\"/<unk>, \"drives\"/<unk>, \"like\"/<unk>, \"in\"/<unk>, \"New\"/<unk>, \"York\"/<unk>, \"city\"/<unk>, \"taxi\"/<unk>, \"drivers\"/<unk>, \"get\"/<unk>, \"a\"/<unk>, \"lot\"/<unk>, \"of\"/<unk>, \"money\"/<unk>, \"because\"/<unk>, \"of\"/<unk>, \"the\"/<unk>, \"buisness\"/<unk>, \"there\"/<unk>, \"if\"/<unk>, \"the\"/<unk>, \"driverless\"/<unk>, \"cars\"/<unk>, \"get\"/<unk>, \"to\"/<unk>, \"New\"/<unk>, \"York\"/<unk>, \"where\"/<unk>, \"are\"/<unk>, \"the\"/<unk>, \"other\"/<unk>, \"people\"/<unk>, \"gonna\"/<unk>, \"work\"/<unk>, \"at\"/<unk>, \".\"/<unk>, \"The\"/<unk>, \"unemployed\"/<unk>, \"rate\"/<unk>, \"is\"/<unk>, \"gonna\"/<unk>, \"increase\"/<unk>, \"because\"/<unk>, \"of\"/<unk>, \"the\"/<unk>, \"cars\"/<unk>, \"and\"/<unk>, \"so\"/<unk>, \"is\"/<unk>, \"the\"/<unk>, \"homeless\"/<unk>, \"rate\"/<unk>, \"because\"/<unk>, \"people\"/<unk>, \"are\"/<unk>, \"losing\"/<unk>, \"money\"/<unk>, \"causing\"/<unk>, \"them\"/<unk>, \"to\"/<unk>, \"get\"/<unk>, \"kicked\"/<unk>, \"out\"/<unk>, \"of\"/<unk>, \"the\"/<unk>, \"place\"/<unk>, \"they\"/<unk>, \"live\"/<unk>, \"because\"/<unk>, \"they\"/<unk>, \"ca\"/<unk>, \"n\\'t\"/<unk>, \"pay\"/<unk>, \"their\"/<unk>, \"bills\"/<unk>, \"anymore\"/<unk>, \"they\"/<unk>, \"will\"/<unk>, \"also\"/<unk>, \"be\"/<unk>, \"starving\"/<unk>, \"because\"/<unk>, \"of\"/<unk>, \"the\"/<unk>, \"lack\"/<unk>, \"of\"/<unk>, \"money\"/<unk>, \"equals\"/<unk>, \"the\"/<unk>, \"lack\"/<unk>, \"of\"/<unk>, \"food\"/<unk>, \"and\"/<unk>, \"homeless\"/<unk>, \"shelters\"/<unk>, \"will\"/<unk>, \"be\"/<unk>, \"overwhelmed\"/<unk>, \"with\"/<unk>, \"the\"/<unk>, \"new\"/<unk>, \"increase\"/<unk>, \"rate\"/<unk>, \"of\"/<unk>, \"homeless\"/<unk>, \"people\"/<unk>, \"on\"/<unk>, \"the\"/<unk>, \"streets\"/<unk>, \"now\"/<unk>, \".\"/<unk>, \"So\"/<unk>, \"in\"/<unk>, \"the\"/<unk>, \"en\"/<unk>, \"I\"/<unk>, \"still\"/<unk>, \"disagree\"/<unk>, \"with\"/<unk>, \"this\"/<unk>, \"article\"/<unk>, \"Will\"/<unk>, \"it\"/<unk>, \"give\"/<unk>, \"us\"/<unk>, \"benefits\"/<unk>, \"will\"/<unk>, \"it\"/<unk>, \"affect\"/<unk>, \"autobody\"/<unk>, \"part\"/<unk>, \"shops\"/<unk>, \"and\"/<unk>, \"How\"/<unk>, \"will\"/<unk>, \"it\"/<unk>, \"have\"/<unk>, \"an\"/<unk>, \"affect\"/<unk>, \"in\"/<unk>, \"the\"/<unk>, \"Taxi\"/<unk>, \"drivers\"/<unk>, \"in\"/<unk>, \"New\"/<unk>, \"York\"/<unk>, \"city\"/<unk>, \".\"/<unk>, \"These\"/<unk>, \"cars\"/<unk>, \"may\"/<unk>, \"seem\"/<unk>, \"harmless\"/<unk>, \"but\"/<unk>, \"they\"/<unk>, \"will\"/<unk>, \"have\"/<unk>, \"a\"/<unk>, \"huge\"/<unk>, \"impact\"/<unk>, \"in\"/<unk>, \"our\"/<unk>, \"society\"/<unk>, \"and\"/<unk>, \"in\"/<unk>, \"our\"/<unk>, \"economy\"/<unk>, \".\"/DE]'"
      ]
     },
     "execution_count": 14,
     "metadata": {},
     "output_type": "execute_result"
    }
   ],
   "source": [
    "sent.to_tagged_string()"
   ]
  },
  {
   "cell_type": "code",
   "execution_count": null,
   "metadata": {},
   "outputs": [],
   "source": []
  }
 ],
 "metadata": {
  "kernelspec": {
   "display_name": "Python 3.9.13 ('nlp')",
   "language": "python",
   "name": "python3"
  },
  "language_info": {
   "codemirror_mode": {
    "name": "ipython",
    "version": 3
   },
   "file_extension": ".py",
   "mimetype": "text/x-python",
   "name": "python",
   "nbconvert_exporter": "python",
   "pygments_lexer": "ipython3",
   "version": "3.9.15 | packaged by conda-forge | (main, Nov 22 2022, 15:55:03) \n[GCC 10.4.0]"
  },
  "orig_nbformat": 4,
  "vscode": {
   "interpreter": {
    "hash": "6732d5bcbccbd400c2295e6b9ff4a247e8d1a91ef1c3ef29ad75df96351d9278"
   }
  }
 },
 "nbformat": 4,
 "nbformat_minor": 2
}
