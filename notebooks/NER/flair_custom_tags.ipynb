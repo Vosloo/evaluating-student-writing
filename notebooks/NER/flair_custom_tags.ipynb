{
 "cells": [
  {
   "cell_type": "code",
   "execution_count": 1,
   "metadata": {},
   "outputs": [],
   "source": [
    "import sys\n",
    "from pathlib import Path"
   ]
  },
  {
   "cell_type": "code",
   "execution_count": 2,
   "metadata": {},
   "outputs": [],
   "source": [
    "module_path = Path.cwd().parent.parent\n",
    "if module_path not in sys.path:\n",
    "    sys.path.append(str(module_path))"
   ]
  },
  {
   "cell_type": "code",
   "execution_count": 3,
   "metadata": {},
   "outputs": [
    {
     "name": "stderr",
     "output_type": "stream",
     "text": [
      "/home/marek/anaconda3/envs/nlp/lib/python3.9/site-packages/tqdm/auto.py:22: TqdmWarning: IProgress not found. Please update jupyter and ipywidgets. See https://ipywidgets.readthedocs.io/en/stable/user_install.html\n",
      "  from .autonotebook import tqdm as notebook_tqdm\n"
     ]
    }
   ],
   "source": [
    "from flair.datasets import ColumnCorpus\n",
    "from flair.data import Corpus, Sentence\n",
    "from flair.embeddings import WordEmbeddings, StackedEmbeddings\n",
    "from flair.models import SequenceTagger\n",
    "from flair.trainers import ModelTrainer"
   ]
  },
  {
   "cell_type": "code",
   "execution_count": 4,
   "metadata": {},
   "outputs": [],
   "source": [
    "from src.loader import TextLoader"
   ]
  },
  {
   "cell_type": "code",
   "execution_count": 5,
   "metadata": {},
   "outputs": [],
   "source": [
    "loader = TextLoader()"
   ]
  },
  {
   "cell_type": "code",
   "execution_count": 6,
   "metadata": {},
   "outputs": [
    {
     "name": "stdout",
     "output_type": "stream",
     "text": [
      "2022-12-03 02:34:37,301 Reading data from data\n",
      "2022-12-03 02:34:37,302 Train: data/NER_train.txt\n",
      "2022-12-03 02:34:37,302 Dev: data/NER_dev.txt\n",
      "2022-12-03 02:34:37,302 Test: data/NER_test.txt\n",
      "2022-12-03 02:34:43,597 Filtering empty sentences\n",
      "2022-12-03 02:34:43,990 Corpus: 21569 train + 23175 dev + 2536 test sentences\n"
     ]
    }
   ],
   "source": [
    "columns = {0: \"text\", 1: \"ner\"}\n",
    "corpus: Corpus = ColumnCorpus(\n",
    "    \"data/\",\n",
    "    columns,\n",
    "    train_file=\"NER_train.txt\",\n",
    "    dev_file=\"NER_dev.txt\",\n",
    "    test_file=\"NER_test.txt\",\n",
    "    column_delimiter=\" \",\n",
    "    document_separator_token=\"<DOC>\",\n",
    ")\n",
    "corpus.filter_empty_sentences()\n"
   ]
  },
  {
   "cell_type": "code",
   "execution_count": 7,
   "metadata": {},
   "outputs": [
    {
     "name": "stdout",
     "output_type": "stream",
     "text": [
      "2022-12-03 02:34:44,015 Computing label dictionary. Progress:\n"
     ]
    },
    {
     "name": "stderr",
     "output_type": "stream",
     "text": [
      "21569it [00:00, 95533.67it/s]"
     ]
    },
    {
     "name": "stdout",
     "output_type": "stream",
     "text": [
      "2022-12-03 02:34:44,244 Dictionary created for label 'ner' with 5 values: DS (seen 9129 times), DE (seen 9101 times), DE<DOC> (seen 79 times), DS<DOC> (seen 1 times)\n"
     ]
    },
    {
     "name": "stderr",
     "output_type": "stream",
     "text": [
      "\n"
     ]
    }
   ],
   "source": [
    "label_dict = corpus.make_label_dictionary(label_type='ner')"
   ]
  },
  {
   "cell_type": "code",
   "execution_count": 8,
   "metadata": {},
   "outputs": [],
   "source": [
    "embedding_types = [\n",
    "    WordEmbeddings('glove'),\n",
    "]\n",
    "\n",
    "embeddings: StackedEmbeddings = StackedEmbeddings(embeddings=embedding_types)"
   ]
  },
  {
   "cell_type": "code",
   "execution_count": 9,
   "metadata": {},
   "outputs": [
    {
     "name": "stdout",
     "output_type": "stream",
     "text": [
      "2022-12-03 02:34:46,986 SequenceTagger predicts: Dictionary with 5 tags: <unk>, DS, DE, DE<DOC>, DS<DOC>\n"
     ]
    }
   ],
   "source": [
    "tagger = SequenceTagger(\n",
    "    hidden_size=256,\n",
    "    embeddings=embeddings,\n",
    "    tag_dictionary=label_dict,\n",
    "    tag_type=\"ner\",\n",
    "    use_crf=True,\n",
    ")\n"
   ]
  },
  {
   "cell_type": "code",
   "execution_count": 10,
   "metadata": {},
   "outputs": [],
   "source": [
    "trainer = ModelTrainer(tagger, corpus)"
   ]
  },
  {
   "cell_type": "code",
   "execution_count": 11,
   "metadata": {},
   "outputs": [
    {
     "name": "stdout",
     "output_type": "stream",
     "text": [
      "2022-12-03 02:34:48,748 ----------------------------------------------------------------------------------------------------\n",
      "2022-12-03 02:34:48,748 Model: \"SequenceTagger(\n",
      "  (embeddings): StackedEmbeddings(\n",
      "    (list_embedding_0): WordEmbeddings(\n",
      "      'glove'\n",
      "      (embedding): Embedding(400001, 100)\n",
      "    )\n",
      "  )\n",
      "  (word_dropout): WordDropout(p=0.05)\n",
      "  (locked_dropout): LockedDropout(p=0.5)\n",
      "  (embedding2nn): Linear(in_features=100, out_features=100, bias=True)\n",
      "  (rnn): LSTM(100, 256, batch_first=True, bidirectional=True)\n",
      "  (linear): Linear(in_features=512, out_features=7, bias=True)\n",
      "  (loss_function): ViterbiLoss()\n",
      "  (crf): CRF()\n",
      ")\"\n",
      "2022-12-03 02:34:48,749 ----------------------------------------------------------------------------------------------------\n",
      "2022-12-03 02:34:48,749 Corpus: \"Corpus: 21569 train + 23175 dev + 2536 test sentences\"\n",
      "2022-12-03 02:34:48,750 ----------------------------------------------------------------------------------------------------\n",
      "2022-12-03 02:34:48,750 Parameters:\n",
      "2022-12-03 02:34:48,750  - learning_rate: \"0.100000\"\n",
      "2022-12-03 02:34:48,751  - mini_batch_size: \"32\"\n",
      "2022-12-03 02:34:48,751  - patience: \"3\"\n",
      "2022-12-03 02:34:48,751  - anneal_factor: \"0.5\"\n",
      "2022-12-03 02:34:48,752  - max_epochs: \"10\"\n",
      "2022-12-03 02:34:48,752  - shuffle: \"True\"\n",
      "2022-12-03 02:34:48,752  - train_with_dev: \"False\"\n",
      "2022-12-03 02:34:48,753  - batch_growth_annealing: \"False\"\n",
      "2022-12-03 02:34:48,753 ----------------------------------------------------------------------------------------------------\n",
      "2022-12-03 02:34:48,753 Model training base path: \"models\"\n",
      "2022-12-03 02:34:48,753 ----------------------------------------------------------------------------------------------------\n",
      "2022-12-03 02:34:48,754 Device: cuda:0\n",
      "2022-12-03 02:34:48,754 ----------------------------------------------------------------------------------------------------\n",
      "2022-12-03 02:34:48,754 Embeddings storage mode: cpu\n",
      "2022-12-03 02:34:48,754 ----------------------------------------------------------------------------------------------------\n",
      "2022-12-03 02:34:52,568 epoch 1 - iter 67/675 - loss 0.17675291 - samples/sec: 562.97 - lr: 0.100000\n",
      "2022-12-03 02:34:55,815 epoch 1 - iter 134/675 - loss 0.14864112 - samples/sec: 661.17 - lr: 0.100000\n",
      "2022-12-03 02:34:59,015 epoch 1 - iter 201/675 - loss 0.13626658 - samples/sec: 670.78 - lr: 0.100000\n",
      "2022-12-03 02:35:02,424 epoch 1 - iter 268/675 - loss 0.13095758 - samples/sec: 629.94 - lr: 0.100000\n",
      "2022-12-03 02:35:05,765 epoch 1 - iter 335/675 - loss 0.12846802 - samples/sec: 642.60 - lr: 0.100000\n",
      "2022-12-03 02:35:08,969 epoch 1 - iter 402/675 - loss 0.12560903 - samples/sec: 670.01 - lr: 0.100000\n",
      "2022-12-03 02:35:13,055 epoch 1 - iter 469/675 - loss 0.12437397 - samples/sec: 525.26 - lr: 0.100000\n",
      "2022-12-03 02:35:16,346 epoch 1 - iter 536/675 - loss 0.12605834 - samples/sec: 652.54 - lr: 0.100000\n",
      "2022-12-03 02:35:19,890 epoch 1 - iter 603/675 - loss 0.12568366 - samples/sec: 605.75 - lr: 0.100000\n",
      "2022-12-03 02:35:22,900 epoch 1 - iter 670/675 - loss 0.12470026 - samples/sec: 713.43 - lr: 0.100000\n",
      "2022-12-03 02:35:23,068 ----------------------------------------------------------------------------------------------------\n",
      "2022-12-03 02:35:23,069 EPOCH 1 done: loss 0.1247 - lr 0.100000\n"
     ]
    },
    {
     "name": "stderr",
     "output_type": "stream",
     "text": [
      "100%|██████████| 725/725 [00:57<00:00, 12.54it/s]\n"
     ]
    },
    {
     "name": "stdout",
     "output_type": "stream",
     "text": [
      "2022-12-03 02:36:21,386 Evaluating as a multi-label problem: False\n",
      "2022-12-03 02:36:22,842 DEV : loss 0.11871852725744247 - f1-score (micro avg)  0.0164\n",
      "2022-12-03 02:36:23,546 BAD EPOCHS (no improvement): 0\n",
      "2022-12-03 02:36:23,876 saving best model\n",
      "2022-12-03 02:36:24,186 ----------------------------------------------------------------------------------------------------\n",
      "2022-12-03 02:36:27,252 epoch 2 - iter 67/675 - loss 0.11877753 - samples/sec: 701.13 - lr: 0.100000\n",
      "2022-12-03 02:36:30,538 epoch 2 - iter 134/675 - loss 0.11805694 - samples/sec: 653.67 - lr: 0.100000\n",
      "2022-12-03 02:36:33,569 epoch 2 - iter 201/675 - loss 0.11696686 - samples/sec: 708.56 - lr: 0.100000\n",
      "2022-12-03 02:36:36,715 epoch 2 - iter 268/675 - loss 0.11595002 - samples/sec: 682.82 - lr: 0.100000\n",
      "2022-12-03 02:36:39,767 epoch 2 - iter 335/675 - loss 0.11641897 - samples/sec: 703.70 - lr: 0.100000\n",
      "2022-12-03 02:36:43,109 epoch 2 - iter 402/675 - loss 0.11619739 - samples/sec: 642.69 - lr: 0.100000\n",
      "2022-12-03 02:36:46,210 epoch 2 - iter 469/675 - loss 0.11581531 - samples/sec: 692.53 - lr: 0.100000\n",
      "2022-12-03 02:36:49,260 epoch 2 - iter 536/675 - loss 0.11517567 - samples/sec: 704.38 - lr: 0.100000\n",
      "2022-12-03 02:36:52,278 epoch 2 - iter 603/675 - loss 0.11459112 - samples/sec: 711.66 - lr: 0.100000\n",
      "2022-12-03 02:36:55,274 epoch 2 - iter 670/675 - loss 0.11400977 - samples/sec: 717.14 - lr: 0.100000\n",
      "2022-12-03 02:36:55,501 ----------------------------------------------------------------------------------------------------\n",
      "2022-12-03 02:36:55,502 EPOCH 2 done: loss 0.1138 - lr 0.100000\n"
     ]
    },
    {
     "name": "stderr",
     "output_type": "stream",
     "text": [
      "100%|██████████| 725/725 [00:52<00:00, 13.75it/s]\n"
     ]
    },
    {
     "name": "stdout",
     "output_type": "stream",
     "text": [
      "2022-12-03 02:37:48,760 Evaluating as a multi-label problem: False\n",
      "2022-12-03 02:37:50,213 DEV : loss 0.11902952939271927 - f1-score (micro avg)  0.0167\n",
      "2022-12-03 02:37:50,904 BAD EPOCHS (no improvement): 0\n",
      "2022-12-03 02:37:51,264 saving best model\n",
      "2022-12-03 02:37:51,633 ----------------------------------------------------------------------------------------------------\n",
      "2022-12-03 02:37:54,757 epoch 3 - iter 67/675 - loss 0.10894779 - samples/sec: 687.72 - lr: 0.100000\n",
      "2022-12-03 02:37:57,917 epoch 3 - iter 134/675 - loss 0.11124713 - samples/sec: 679.76 - lr: 0.100000\n",
      "2022-12-03 02:38:01,105 epoch 3 - iter 201/675 - loss 0.11064897 - samples/sec: 673.64 - lr: 0.100000\n",
      "2022-12-03 02:38:04,193 epoch 3 - iter 268/675 - loss 0.11025712 - samples/sec: 695.50 - lr: 0.100000\n",
      "2022-12-03 02:38:07,372 epoch 3 - iter 335/675 - loss 0.11176428 - samples/sec: 675.82 - lr: 0.100000\n",
      "2022-12-03 02:38:10,434 epoch 3 - iter 402/675 - loss 0.11039292 - samples/sec: 701.52 - lr: 0.100000\n",
      "2022-12-03 02:38:13,698 epoch 3 - iter 469/675 - loss 0.11008365 - samples/sec: 657.89 - lr: 0.100000\n",
      "2022-12-03 02:38:16,795 epoch 3 - iter 536/675 - loss 0.11037691 - samples/sec: 693.65 - lr: 0.100000\n",
      "2022-12-03 02:38:19,868 epoch 3 - iter 603/675 - loss 0.11045906 - samples/sec: 698.93 - lr: 0.100000\n",
      "2022-12-03 02:38:22,914 epoch 3 - iter 670/675 - loss 0.10994037 - samples/sec: 705.24 - lr: 0.100000\n",
      "2022-12-03 02:38:23,100 ----------------------------------------------------------------------------------------------------\n",
      "2022-12-03 02:38:23,101 EPOCH 3 done: loss 0.1100 - lr 0.100000\n"
     ]
    },
    {
     "name": "stderr",
     "output_type": "stream",
     "text": [
      "100%|██████████| 725/725 [00:53<00:00, 13.43it/s]\n"
     ]
    },
    {
     "name": "stdout",
     "output_type": "stream",
     "text": [
      "2022-12-03 02:39:17,643 Evaluating as a multi-label problem: False\n",
      "2022-12-03 02:39:19,177 DEV : loss 0.11433745920658112 - f1-score (micro avg)  0.0005\n",
      "2022-12-03 02:39:19,852 BAD EPOCHS (no improvement): 1\n",
      "2022-12-03 02:39:20,234 ----------------------------------------------------------------------------------------------------\n",
      "2022-12-03 02:39:23,466 epoch 4 - iter 67/675 - loss 0.10618117 - samples/sec: 664.49 - lr: 0.100000\n",
      "2022-12-03 02:39:26,810 epoch 4 - iter 134/675 - loss 0.10738730 - samples/sec: 642.45 - lr: 0.100000\n",
      "2022-12-03 02:39:30,069 epoch 4 - iter 201/675 - loss 0.10718083 - samples/sec: 658.90 - lr: 0.100000\n",
      "2022-12-03 02:39:33,232 epoch 4 - iter 268/675 - loss 0.10690487 - samples/sec: 679.08 - lr: 0.100000\n",
      "2022-12-03 02:39:36,534 epoch 4 - iter 335/675 - loss 0.10611978 - samples/sec: 650.46 - lr: 0.100000\n",
      "2022-12-03 02:39:39,831 epoch 4 - iter 402/675 - loss 0.10625002 - samples/sec: 651.47 - lr: 0.100000\n",
      "2022-12-03 02:39:43,088 epoch 4 - iter 469/675 - loss 0.10654573 - samples/sec: 659.44 - lr: 0.100000\n",
      "2022-12-03 02:39:46,424 epoch 4 - iter 536/675 - loss 0.10682176 - samples/sec: 643.86 - lr: 0.100000\n",
      "2022-12-03 02:39:49,737 epoch 4 - iter 603/675 - loss 0.10704712 - samples/sec: 648.38 - lr: 0.100000\n",
      "2022-12-03 02:39:52,981 epoch 4 - iter 670/675 - loss 0.10712177 - samples/sec: 662.24 - lr: 0.100000\n",
      "2022-12-03 02:39:53,207 ----------------------------------------------------------------------------------------------------\n",
      "2022-12-03 02:39:53,207 EPOCH 4 done: loss 0.1071 - lr 0.100000\n"
     ]
    },
    {
     "name": "stderr",
     "output_type": "stream",
     "text": [
      " 20%|██        | 145/725 [00:12<00:48, 11.89it/s]"
     ]
    },
    {
     "name": "stdout",
     "output_type": "stream",
     "text": [
      "2022-12-03 02:40:05,410 ----------------------------------------------------------------------------------------------------\n",
      "2022-12-03 02:40:05,410 Exiting from training early.\n",
      "2022-12-03 02:40:05,410 Saving model ...\n"
     ]
    },
    {
     "name": "stderr",
     "output_type": "stream",
     "text": [
      "\n"
     ]
    },
    {
     "name": "stdout",
     "output_type": "stream",
     "text": [
      "2022-12-03 02:40:05,745 Done.\n",
      "2022-12-03 02:40:05,759 ----------------------------------------------------------------------------------------------------\n",
      "2022-12-03 02:40:05,760 loading file models/best-model.pt\n",
      "2022-12-03 02:40:06,111 SequenceTagger predicts: Dictionary with 7 tags: <unk>, DS, DE, DE<DOC>, DS<DOC>, <START>, <STOP>\n"
     ]
    },
    {
     "name": "stderr",
     "output_type": "stream",
     "text": [
      "100%|██████████| 80/80 [00:05<00:00, 14.41it/s]"
     ]
    },
    {
     "name": "stdout",
     "output_type": "stream",
     "text": [
      "2022-12-03 02:40:11,775 Evaluating as a multi-label problem: False\n"
     ]
    },
    {
     "name": "stderr",
     "output_type": "stream",
     "text": [
      "\n"
     ]
    },
    {
     "name": "stdout",
     "output_type": "stream",
     "text": [
      "2022-12-03 02:40:11,948 0.0089\t0.2397\t0.0172\t0.0089\n",
      "2022-12-03 02:40:11,949 \n",
      "Results:\n",
      "- F-score (micro) 0.0172\n",
      "- F-score (macro) 0.0894\n",
      "- Accuracy 0.0089\n",
      "\n",
      "By class:\n",
      "              precision    recall  f1-score   support\n",
      "\n",
      "       <unk>     0.0000    0.0000    0.0000         0\n",
      "          DS     0.2771    0.4770    0.3505      1111\n",
      "          DE     0.2857    0.0036    0.0071      1116\n",
      "     DE<DOC>     0.0000    0.0000    0.0000         1\n",
      "\n",
      "   micro avg     0.0089    0.2397    0.0172      2228\n",
      "   macro avg     0.1407    0.1202    0.0894      2228\n",
      "weighted avg     0.2813    0.2397    0.1783      2228\n",
      "\n",
      "2022-12-03 02:40:11,949 ----------------------------------------------------------------------------------------------------\n"
     ]
    },
    {
     "data": {
      "text/plain": [
       "{'test_score': 0.017161864665520398,\n",
       " 'dev_score_history': [0.016413184411706992,\n",
       "  0.01672097971244224,\n",
       "  0.00045399806858448786],\n",
       " 'train_loss_history': [0.12469920030835922,\n",
       "  0.1138496341959533,\n",
       "  0.1100371816011539],\n",
       " 'dev_loss_history': [0.11871852725744247,\n",
       "  0.11902952939271927,\n",
       "  0.11433745920658112]}"
      ]
     },
     "execution_count": 11,
     "metadata": {},
     "output_type": "execute_result"
    }
   ],
   "source": [
    "trainer.train(\n",
    "    'models/',\n",
    "    learning_rate=0.1,\n",
    "    mini_batch_size=32,\n",
    "    max_epochs=10,\n",
    "    checkpoint=True,\n",
    ")\n"
   ]
  },
  {
   "cell_type": "code",
   "execution_count": null,
   "metadata": {},
   "outputs": [],
   "source": [
    "model = SequenceTagger.load(\"models/final-model.pt\")"
   ]
  },
  {
   "cell_type": "code",
   "execution_count": null,
   "metadata": {},
   "outputs": [],
   "source": [
    "text = loader.load_random_text()\n",
    "\n",
    "sent = Sentence(text.text)\n",
    "model.predict(sent)"
   ]
  },
  {
   "cell_type": "code",
   "execution_count": null,
   "metadata": {},
   "outputs": [],
   "source": [
    "sent.to_tagged_string()"
   ]
  }
 ],
 "metadata": {
  "kernelspec": {
   "display_name": "Python 3.9.13 ('nlp')",
   "language": "python",
   "name": "python3"
  },
  "language_info": {
   "codemirror_mode": {
    "name": "ipython",
    "version": 3
   },
   "file_extension": ".py",
   "mimetype": "text/x-python",
   "name": "python",
   "nbconvert_exporter": "python",
   "pygments_lexer": "ipython3",
   "version": "3.9.15"
  },
  "orig_nbformat": 4,
  "vscode": {
   "interpreter": {
    "hash": "6732d5bcbccbd400c2295e6b9ff4a247e8d1a91ef1c3ef29ad75df96351d9278"
   }
  }
 },
 "nbformat": 4,
 "nbformat_minor": 2
}
