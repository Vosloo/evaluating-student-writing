{
 "cells": [
  {
   "cell_type": "code",
   "execution_count": 1,
   "metadata": {},
   "outputs": [],
   "source": [
    "import sys\n",
    "\n",
    "sys.path.append(\"../\")"
   ]
  },
  {
   "cell_type": "code",
   "execution_count": 2,
   "metadata": {},
   "outputs": [
    {
     "name": "stderr",
     "output_type": "stream",
     "text": [
      "/home/marek/anaconda3/envs/nlp/lib/python3.9/site-packages/tqdm/auto.py:22: TqdmWarning: IProgress not found. Please update jupyter and ipywidgets. See https://ipywidgets.readthedocs.io/en/stable/user_install.html\n",
      "  from .autonotebook import tqdm as notebook_tqdm\n"
     ]
    }
   ],
   "source": [
    "from spacy import load\n",
    "from src.loader import TextLoader\n",
    "from textblob import Word"
   ]
  },
  {
   "cell_type": "code",
   "execution_count": 3,
   "metadata": {},
   "outputs": [
    {
     "data": {
      "text/plain": [
       "'7491C8556CDC'"
      ]
     },
     "execution_count": 3,
     "metadata": {},
     "output_type": "execute_result"
    }
   ],
   "source": [
    "loader = TextLoader()\n",
    "\n",
    "text = loader.load_text_with_id(\"7491C8556CDC\", purify_discourses=True, purify_text=False)\n",
    "text.text_id\n"
   ]
  },
  {
   "cell_type": "code",
   "execution_count": 4,
   "metadata": {},
   "outputs": [
    {
     "data": {
      "text/plain": [
       "'In \\x93The Challenge of Exploring Venus,\\x94 the author suggests that studying Venus is a worthy pursuit despite the dangers it presents. It could help us with future problumes of popultion and or if are planet dies.\\n\\nThe sister planet venus should be looked at more closely to see if we can inhabait this planet orif it was inhabited by other species. NASA says, \"On the planet\\x92s surface, temperatures average over 800 degrees Fahrenheit, and the atmospheric pressure is 90 times greater than what we experience on our own planet\"(3). Because of the heat it could be the reson why the unmaned spacecrafts don\\'t survive for more then a few hours.\\n\\nThe technology of today might be advenced but more sensetive to venuses conditions. \"Another project is looking back to an old technology called mechanical computers. These devices were first envisioned in the 1800s and played an important role in the 1940s during World War II\"(7). Older technology can be more improved but not changed by that much. Making spacecrafts from this technology and metals could help peraces into the atmospher and give us a view of what the ground might look like.\\n\\nBy pursuiting to explore this challenge could help us understand if there was ever a bigger spand of life then us. Despite the dangers it presents we could know more and understand what caused it\\'s fall. The resurech of this planet that we know could be enoght to go thorgh a plan to find what is under the 97 percent of carbon dioxide that cover venus. '"
      ]
     },
     "execution_count": 4,
     "metadata": {},
     "output_type": "execute_result"
    }
   ],
   "source": [
    "text"
   ]
  },
  {
   "cell_type": "code",
   "execution_count": 5,
   "metadata": {},
   "outputs": [],
   "source": [
    "text = loader.load_text_with_id(\"7491C8556CDC\", purify_discourses=True, purify_text=True)\n"
   ]
  },
  {
   "cell_type": "code",
   "execution_count": 6,
   "metadata": {},
   "outputs": [
    {
     "data": {
      "text/plain": [
       "\"In The Challenge of Exploring Venus the author suggests that studying Venus is a worthy pursuit despite the dangers it presents. It could help us with future problumes of popultion and or if are planet dies. The sister planet venus should be looked at more closely to see if we can inhabait this planet orif it was inhabited by other species. NASA says On the planets surface temperatures average over 800 degrees Fahrenheit and the atmospheric pressure is 90 times greater than what we experience on our own planet. Because of the heat it could be the reson why the unmaned spacecrafts don't survive for more then a few hours. The technology of today might be advenced but more sensetive to venuses conditions. Another project is looking back to an old technology called mechanical computers. These devices were first envisioned in the 1800s and played an important role in the 1940s during World War II. Older technology can be more improved but not changed by that much. Making spacecrafts from this technology and metals could help peraces into the atmospher and give us a view of what the ground might look like. By pursuiting to explore this challenge could help us understand if there was ever a bigger spand of life then us. Despite the dangers it presents we could know more and understand what caused it's fall. The resurech of this planet that we know could be enoght to go thorgh a plan to find what is under the 97 percent of carbon dioxide that cover venus.\""
      ]
     },
     "execution_count": 6,
     "metadata": {},
     "output_type": "execute_result"
    }
   ],
   "source": [
    "text"
   ]
  },
  {
   "cell_type": "code",
   "execution_count": 7,
   "metadata": {},
   "outputs": [],
   "source": [
    "nlp = load(\"en_core_web_lg\")"
   ]
  },
  {
   "cell_type": "code",
   "execution_count": 8,
   "metadata": {},
   "outputs": [],
   "source": [
    "doc = nlp(text.text)\n"
   ]
  },
  {
   "cell_type": "code",
   "execution_count": 9,
   "metadata": {},
   "outputs": [
    {
     "name": "stdout",
     "output_type": "stream",
     "text": [
      "problumes => problems (1.0)\n",
      "popultion => population (1.0)\n",
      "inhabait => inhabit (1.0)\n",
      "orif => oris (1.0)\n",
      "atmospheric => atmosphere (0.92)\n",
      "reson => reason (0.9896373056994818)\n",
      "n't => not (0.9942977190876351)\n",
      "advenced => advanced (1.0)\n",
      "sensetive => sensitive (1.0)\n",
      "venuses => venules (1.0)\n",
      "atmospher => atmosphere (1.0)\n",
      "pursuiting => pursuing (1.0)\n",
      "thorgh => though (1.0)\n"
     ]
    }
   ],
   "source": [
    "for token in doc:\n",
    "    spellcheck = Word(token.text).spellcheck()[0]\n",
    "    corrected, confidence = spellcheck\n",
    "    if token.text != corrected and confidence > 0.9:\n",
    "        print(token.text, \"=>\", corrected, f\"({confidence})\")"
   ]
  },
  {
   "cell_type": "code",
   "execution_count": 10,
   "metadata": {},
   "outputs": [
    {
     "data": {
      "text/plain": [
       "In The Challenge of Exploring Venus the author suggests that studying Venus is a worthy pursuit despite the dangers it presents. It could help us with future problumes of popultion and or if are planet dies. The sister planet venus should be looked at more closely to see if we can inhabait this planet orif it was inhabited by other species. NASA says On the planets surface temperatures average over 800 degrees Fahrenheit and the atmospheric pressure is 90 times greater than what we experience on our own planet. Because of the heat it could be the reson why the unmaned spacecrafts don't survive for more then a few hours. The technology of today might be advenced but more sensetive to venuses conditions. Another project is looking back to an old technology called mechanical computers. These devices were first envisioned in the 1800s and played an important role in the 1940s during World War II. Older technology can be more improved but not changed by that much. Making spacecrafts from this technology and metals could help peraces into the atmospher and give us a view of what the ground might look like. By pursuiting to explore this challenge could help us understand if there was ever a bigger spand of life then us. Despite the dangers it presents we could know more and understand what caused it's fall. The resurech of this planet that we know could be enoght to go thorgh a plan to find what is under the 97 percent of carbon dioxide that cover venus."
      ]
     },
     "execution_count": 10,
     "metadata": {},
     "output_type": "execute_result"
    }
   ],
   "source": [
    "doc"
   ]
  },
  {
   "cell_type": "code",
   "execution_count": 11,
   "metadata": {},
   "outputs": [],
   "source": [
    "df = loader.get_train_df()"
   ]
  },
  {
   "cell_type": "code",
   "execution_count": 12,
   "metadata": {},
   "outputs": [
    {
     "data": {
      "text/html": [
       "<div>\n",
       "<style scoped>\n",
       "    .dataframe tbody tr th:only-of-type {\n",
       "        vertical-align: middle;\n",
       "    }\n",
       "\n",
       "    .dataframe tbody tr th {\n",
       "        vertical-align: top;\n",
       "    }\n",
       "\n",
       "    .dataframe thead th {\n",
       "        text-align: right;\n",
       "    }\n",
       "</style>\n",
       "<table border=\"1\" class=\"dataframe\">\n",
       "  <thead>\n",
       "    <tr style=\"text-align: right;\">\n",
       "      <th></th>\n",
       "      <th>id</th>\n",
       "      <th>discourse_id</th>\n",
       "      <th>discourse_start</th>\n",
       "      <th>discourse_end</th>\n",
       "      <th>discourse_text</th>\n",
       "      <th>discourse_type</th>\n",
       "      <th>discourse_type_num</th>\n",
       "      <th>predictionstring</th>\n",
       "    </tr>\n",
       "  </thead>\n",
       "  <tbody>\n",
       "    <tr>\n",
       "      <th>0</th>\n",
       "      <td>423A1CA112E2</td>\n",
       "      <td>1622627660524</td>\n",
       "      <td>8</td>\n",
       "      <td>229</td>\n",
       "      <td>Modern humans today are always on their phone....</td>\n",
       "      <td>Lead</td>\n",
       "      <td>Lead 1</td>\n",
       "      <td>1 2 3 4 5 6 7 8 9 10 11 12 13 14 15 16 17 18 1...</td>\n",
       "    </tr>\n",
       "    <tr>\n",
       "      <th>1</th>\n",
       "      <td>423A1CA112E2</td>\n",
       "      <td>1622627653021</td>\n",
       "      <td>230</td>\n",
       "      <td>312</td>\n",
       "      <td>They are some really bad consequences when stu...</td>\n",
       "      <td>Position</td>\n",
       "      <td>Position 1</td>\n",
       "      <td>45 46 47 48 49 50 51 52 53 54 55 56 57 58 59</td>\n",
       "    </tr>\n",
       "    <tr>\n",
       "      <th>2</th>\n",
       "      <td>423A1CA112E2</td>\n",
       "      <td>1622627671020</td>\n",
       "      <td>313</td>\n",
       "      <td>401</td>\n",
       "      <td>Some certain areas in the United States ban ph...</td>\n",
       "      <td>Evidence</td>\n",
       "      <td>Evidence 1</td>\n",
       "      <td>60 61 62 63 64 65 66 67 68 69 70 71 72 73 74 75</td>\n",
       "    </tr>\n",
       "    <tr>\n",
       "      <th>3</th>\n",
       "      <td>423A1CA112E2</td>\n",
       "      <td>1622627696365</td>\n",
       "      <td>402</td>\n",
       "      <td>758</td>\n",
       "      <td>When people have phones, they know about certa...</td>\n",
       "      <td>Evidence</td>\n",
       "      <td>Evidence 2</td>\n",
       "      <td>76 77 78 79 80 81 82 83 84 85 86 87 88 89 90 9...</td>\n",
       "    </tr>\n",
       "    <tr>\n",
       "      <th>4</th>\n",
       "      <td>423A1CA112E2</td>\n",
       "      <td>1622627759780</td>\n",
       "      <td>759</td>\n",
       "      <td>886</td>\n",
       "      <td>Driving is one of the way how to get around. P...</td>\n",
       "      <td>Claim</td>\n",
       "      <td>Claim 1</td>\n",
       "      <td>139 140 141 142 143 144 145 146 147 148 149 15...</td>\n",
       "    </tr>\n",
       "    <tr>\n",
       "      <th>...</th>\n",
       "      <td>...</td>\n",
       "      <td>...</td>\n",
       "      <td>...</td>\n",
       "      <td>...</td>\n",
       "      <td>...</td>\n",
       "      <td>...</td>\n",
       "      <td>...</td>\n",
       "      <td>...</td>\n",
       "    </tr>\n",
       "    <tr>\n",
       "      <th>144288</th>\n",
       "      <td>4C471936CD75</td>\n",
       "      <td>1618153340639</td>\n",
       "      <td>2234</td>\n",
       "      <td>3203</td>\n",
       "      <td>if I'm not sure what college I want to attend...</td>\n",
       "      <td>Evidence</td>\n",
       "      <td>Evidence 2</td>\n",
       "      <td>386 387 388 389 390 391 392 393 394 395 396 39...</td>\n",
       "    </tr>\n",
       "    <tr>\n",
       "      <th>144289</th>\n",
       "      <td>4C471936CD75</td>\n",
       "      <td>1618153383399</td>\n",
       "      <td>3221</td>\n",
       "      <td>4509</td>\n",
       "      <td>seeking multiple opinions before making a har...</td>\n",
       "      <td>Evidence</td>\n",
       "      <td>Evidence 3</td>\n",
       "      <td>576 577 578 579 580 581 582 583 584 585 586 58...</td>\n",
       "    </tr>\n",
       "    <tr>\n",
       "      <th>144290</th>\n",
       "      <td>4C471936CD75</td>\n",
       "      <td>1618024996127</td>\n",
       "      <td>4510</td>\n",
       "      <td>4570</td>\n",
       "      <td>it is better to seek multiple opinions instead...</td>\n",
       "      <td>Position</td>\n",
       "      <td>Position 1</td>\n",
       "      <td>828 829 830 831 832 833 834 835 836 837 838</td>\n",
       "    </tr>\n",
       "    <tr>\n",
       "      <th>144291</th>\n",
       "      <td>4C471936CD75</td>\n",
       "      <td>1618025268756</td>\n",
       "      <td>4570</td>\n",
       "      <td>4922</td>\n",
       "      <td>The impact of asking people to help you make a...</td>\n",
       "      <td>Evidence</td>\n",
       "      <td>Evidence 4</td>\n",
       "      <td>839 840 841 842 843 844 845 846 847 848 849 85...</td>\n",
       "    </tr>\n",
       "    <tr>\n",
       "      <th>144292</th>\n",
       "      <td>4C471936CD75</td>\n",
       "      <td>1618025245188</td>\n",
       "      <td>4935</td>\n",
       "      <td>5825</td>\n",
       "      <td>there are many other reasons one might want to...</td>\n",
       "      <td>Concluding Statement</td>\n",
       "      <td>Concluding Statement 1</td>\n",
       "      <td>905 906 907 908 909 910 911 912 913 914 915 91...</td>\n",
       "    </tr>\n",
       "  </tbody>\n",
       "</table>\n",
       "<p>144293 rows × 8 columns</p>\n",
       "</div>"
      ],
      "text/plain": [
       "                  id   discourse_id  discourse_start  discourse_end  \\\n",
       "0       423A1CA112E2  1622627660524                8            229   \n",
       "1       423A1CA112E2  1622627653021              230            312   \n",
       "2       423A1CA112E2  1622627671020              313            401   \n",
       "3       423A1CA112E2  1622627696365              402            758   \n",
       "4       423A1CA112E2  1622627759780              759            886   \n",
       "...              ...            ...              ...            ...   \n",
       "144288  4C471936CD75  1618153340639             2234           3203   \n",
       "144289  4C471936CD75  1618153383399             3221           4509   \n",
       "144290  4C471936CD75  1618024996127             4510           4570   \n",
       "144291  4C471936CD75  1618025268756             4570           4922   \n",
       "144292  4C471936CD75  1618025245188             4935           5825   \n",
       "\n",
       "                                           discourse_text  \\\n",
       "0       Modern humans today are always on their phone....   \n",
       "1       They are some really bad consequences when stu...   \n",
       "2       Some certain areas in the United States ban ph...   \n",
       "3       When people have phones, they know about certa...   \n",
       "4       Driving is one of the way how to get around. P...   \n",
       "...                                                   ...   \n",
       "144288   if I'm not sure what college I want to attend...   \n",
       "144289   seeking multiple opinions before making a har...   \n",
       "144290  it is better to seek multiple opinions instead...   \n",
       "144291  The impact of asking people to help you make a...   \n",
       "144292  there are many other reasons one might want to...   \n",
       "\n",
       "              discourse_type      discourse_type_num  \\\n",
       "0                       Lead                  Lead 1   \n",
       "1                   Position              Position 1   \n",
       "2                   Evidence              Evidence 1   \n",
       "3                   Evidence              Evidence 2   \n",
       "4                      Claim                 Claim 1   \n",
       "...                      ...                     ...   \n",
       "144288              Evidence              Evidence 2   \n",
       "144289              Evidence              Evidence 3   \n",
       "144290              Position              Position 1   \n",
       "144291              Evidence              Evidence 4   \n",
       "144292  Concluding Statement  Concluding Statement 1   \n",
       "\n",
       "                                         predictionstring  \n",
       "0       1 2 3 4 5 6 7 8 9 10 11 12 13 14 15 16 17 18 1...  \n",
       "1            45 46 47 48 49 50 51 52 53 54 55 56 57 58 59  \n",
       "2         60 61 62 63 64 65 66 67 68 69 70 71 72 73 74 75  \n",
       "3       76 77 78 79 80 81 82 83 84 85 86 87 88 89 90 9...  \n",
       "4       139 140 141 142 143 144 145 146 147 148 149 15...  \n",
       "...                                                   ...  \n",
       "144288  386 387 388 389 390 391 392 393 394 395 396 39...  \n",
       "144289  576 577 578 579 580 581 582 583 584 585 586 58...  \n",
       "144290        828 829 830 831 832 833 834 835 836 837 838  \n",
       "144291  839 840 841 842 843 844 845 846 847 848 849 85...  \n",
       "144292  905 906 907 908 909 910 911 912 913 914 915 91...  \n",
       "\n",
       "[144293 rows x 8 columns]"
      ]
     },
     "execution_count": 12,
     "metadata": {},
     "output_type": "execute_result"
    }
   ],
   "source": [
    "df"
   ]
  },
  {
   "cell_type": "code",
   "execution_count": 13,
   "metadata": {},
   "outputs": [],
   "source": [
    "# Checking if discourses can overlap - they do not\n",
    "\n",
    "# total = loader.unique_ids.shape[0]\n",
    "# for ind, unique_id in enumerate(loader.unique_ids):\n",
    "#     print(f\"\\r{ind:>5}/{total}\", end=\"\")\n",
    "#     text_df = df[df[\"id\"] == unique_id]\n",
    "#     for row in text_df.itertuples():\n",
    "#         if not (row.discourse_end > text_df.loc[: row.Index, \"discourse_start\"]).all():\n",
    "#             print(row)\n",
    "#             break\n"
   ]
  },
  {
   "cell_type": "code",
   "execution_count": 14,
   "metadata": {},
   "outputs": [
    {
     "data": {
      "text/plain": [
       "array([-1.45987105e-02,  1.39553621e-01, -1.05572104e-01, -5.92963248e-02,\n",
       "        2.80569308e-02, -1.82501413e-02, -3.86093035e-02,  3.03187743e-02,\n",
       "       -2.67529804e-02,  2.11672091e+00, -1.44333839e-01,  8.19619000e-03,\n",
       "        8.26508924e-02, -2.97237956e-03, -9.88981575e-02, -6.26398399e-02,\n",
       "       -4.18767333e-02,  1.05576789e+00, -2.14810044e-01, -7.74198323e-02,\n",
       "        1.51029313e-02, -8.47703889e-02, -5.16170934e-02, -2.68184822e-02,\n",
       "        2.07612887e-02,  3.69651318e-02, -6.14957847e-02, -1.51863592e-02,\n",
       "        1.28115276e-02, -9.47781280e-03, -5.33194095e-02,  5.86819276e-02,\n",
       "       -1.86129194e-02,  3.88819748e-03,  1.00627966e-01, -4.39460240e-02,\n",
       "        2.86705643e-02,  4.33140583e-02,  2.65328097e-03, -7.24749044e-02,\n",
       "        1.00643486e-02,  6.41153529e-02,  2.76866890e-02, -7.86343962e-02,\n",
       "        3.31605710e-02, -1.26175703e-02, -1.53040230e-01, -5.28558120e-02,\n",
       "       -3.46743241e-02,  2.96388939e-02, -1.35969184e-02,  4.18253057e-02,\n",
       "       -1.17122987e-02, -6.26831427e-02,  9.60866362e-02, -4.08540368e-02,\n",
       "       -4.02885266e-02, -7.79562145e-02,  3.36964875e-02, -4.27260883e-02,\n",
       "       -2.05426943e-02, -6.43188730e-02, -3.72363143e-02,  2.18130231e-01,\n",
       "        3.00869122e-02, -6.29707798e-02, -6.35470822e-02,  9.13096815e-02,\n",
       "        3.68796173e-03,  8.25074092e-02,  5.37456982e-02, -1.04625244e-02,\n",
       "        1.61133364e-01, -3.98416221e-02,  6.70959204e-02,  1.16922136e-03,\n",
       "        5.32251485e-02, -7.51673803e-02, -2.29634643e-02,  1.46194726e-01,\n",
       "       -1.05577381e-02,  7.79249594e-02, -1.50776535e-01,  3.50978337e-02,\n",
       "        7.57615790e-02, -3.06336492e-01, -1.36172593e-01, -1.30976602e-01,\n",
       "        1.39248729e-01,  5.54722100e-02, -1.20203391e-01,  2.11554449e-02,\n",
       "       -1.03333510e-01,  8.26562196e-02,  4.27019894e-02, -1.65053383e-02,\n",
       "        9.82116815e-03, -6.23376593e-02, -2.00622585e-02,  1.21202068e-02,\n",
       "        1.69404950e-02,  1.86349545e-02, -5.67642823e-02,  7.10353767e-03,\n",
       "        7.22752884e-02, -8.67591441e-01,  5.97403310e-02,  1.31458659e-02,\n",
       "       -4.21347432e-02, -1.68992754e-03,  5.43268137e-02, -1.52788877e-01,\n",
       "        9.44570750e-02, -1.05276167e-01,  2.25995108e-02,  8.32864083e-03,\n",
       "       -5.28260767e-02,  5.68034090e-02, -2.08210498e-02, -8.73793103e-03,\n",
       "        4.77723479e-02, -5.31896688e-02,  8.59366916e-03, -6.83515444e-02,\n",
       "        2.16347128e-02,  2.33760923e-02, -3.49171497e-02, -1.35265917e-01,\n",
       "        5.84907755e-02, -2.98745260e-02, -5.11997379e-02, -7.83235729e-02,\n",
       "       -8.52835104e-02,  1.41220680e-02,  6.54317662e-02,  1.50868306e-02,\n",
       "       -3.06060947e-02,  2.17045434e-02,  1.61261093e-02, -3.45490091e-02,\n",
       "       -1.06088662e+00,  4.67550941e-02,  8.28283802e-02,  2.46177875e-02,\n",
       "        5.74334525e-02, -5.81547581e-02, -6.56865761e-02,  7.93999508e-02,\n",
       "        2.21676808e-02, -5.62712997e-02, -1.86433699e-02,  2.23355386e-02,\n",
       "        8.32556486e-02, -6.99382927e-03, -9.04502794e-02, -3.67061757e-02,\n",
       "       -7.03472197e-02,  5.11872433e-02, -5.29952087e-02, -3.65266018e-02,\n",
       "        2.86544375e-02,  3.96609195e-02, -7.04951137e-02, -3.03629637e-02,\n",
       "       -4.70885821e-02, -1.03418790e-01,  1.16019994e-01, -5.35433181e-02,\n",
       "        2.00473845e-01,  1.53032346e-02,  2.58538146e-02,  7.45469378e-03,\n",
       "        1.19400419e-01, -1.03576303e-01, -4.72829193e-02,  7.61413649e-02,\n",
       "       -2.65253079e-03, -1.31607978e-02, -2.98326854e-02, -3.57169285e-02,\n",
       "        2.93671507e-02,  6.18099421e-03, -4.37027700e-02, -8.50659981e-02,\n",
       "       -2.09346525e-02, -3.12360451e-02, -3.56446095e-02, -5.02511598e-02,\n",
       "        5.84193729e-02,  4.80548814e-02,  2.16115899e-02, -2.72162110e-02,\n",
       "       -1.27219543e-01,  8.62002149e-02,  1.07664438e-02,  1.46703392e-01,\n",
       "       -7.86824338e-03, -2.21225936e-02, -2.48517357e-02,  1.72870889e-01,\n",
       "       -6.03563385e-03, -5.85342906e-02, -1.93789005e-02,  3.71324606e-02,\n",
       "        1.57794207e-01,  5.62336706e-02,  6.94211945e-02,  2.88128927e-02,\n",
       "        1.56072648e-02, -7.01636821e-03, -7.96994045e-02, -1.30119130e-01,\n",
       "       -6.69981092e-02, -1.96510389e-01,  8.16893298e-03,  9.44472253e-02,\n",
       "       -3.82800587e-02,  5.28233871e-02, -1.01471350e-01, -3.69479023e-02,\n",
       "        9.72767100e-02, -3.11437473e-02, -8.16599354e-02,  2.18722373e-02,\n",
       "        1.24471206e-02, -3.92848961e-02, -5.53043932e-03,  8.21070373e-02,\n",
       "       -1.48058413e-02,  3.55787985e-02, -6.63732216e-02,  4.83254995e-03,\n",
       "        9.34666619e-02,  8.47478881e-02, -5.67616429e-03, -1.79378670e-02,\n",
       "       -5.45733189e-03, -4.94937599e-02, -1.04781307e-01,  2.47555953e-02,\n",
       "        7.31977001e-02,  1.35440251e-03, -1.39386365e-02,  1.36476412e-01,\n",
       "        1.12492062e-01, -1.33075923e-01, -9.38254669e-02, -3.56829204e-02,\n",
       "       -1.20540775e-01,  6.08976819e-02,  4.46092151e-02, -6.46822602e-02,\n",
       "        2.84913965e-02, -3.04951016e-02, -8.21255613e-03,  2.16372728e-01,\n",
       "        1.01340853e-01,  1.07290614e-02,  1.42101687e-03,  4.72597778e-02,\n",
       "        1.05329365e-01,  1.69780135e-01, -2.34610736e-02,  6.35799542e-02,\n",
       "        9.32964012e-02, -9.65439081e-02, -5.43379411e-02,  6.01380542e-02,\n",
       "        3.46069574e-01,  9.92770195e-02,  7.67533705e-02, -1.77249615e-03,\n",
       "       -5.81550859e-02, -1.60550401e-01, -8.77276361e-02,  8.93600564e-03,\n",
       "       -1.22568738e-02,  8.89053121e-02,  2.56457389e-03,  1.82127669e-01,\n",
       "        1.47420660e-01,  2.06978340e-02, -3.48737743e-03, -5.19488566e-02,\n",
       "       -3.93565856e-02, -1.09934956e-01,  1.36081889e-01, -1.13603257e-01,\n",
       "        1.15477823e-01, -3.55555750e-02, -2.26472348e-01,  4.66410592e-02,\n",
       "        3.66569683e-02, -8.25301707e-02,  1.08268475e-02,  1.47434082e-02,\n",
       "       -6.84706643e-02, -6.18222589e-03,  1.76761020e-02,  6.48904070e-02],\n",
       "      dtype=float32)"
      ]
     },
     "execution_count": 14,
     "metadata": {},
     "output_type": "execute_result"
    }
   ],
   "source": [
    "doc.vector"
   ]
  },
  {
   "cell_type": "code",
   "execution_count": 19,
   "metadata": {},
   "outputs": [],
   "source": [
    "data = []\n",
    "labels = []\n",
    "discourses_no = 0\n",
    "for ind, text_id in enumerate(loader):\n",
    "    if len(data) == 10:\n",
    "        break\n",
    "\n",
    "    text = loader.load_text_with_id(text_id, purify_discourses=True, purify_text=True)\n",
    "\n",
    "    if discourses_no == 0 or discourses_no == len(text.discourses):\n",
    "        discourses_no = len(text.discourses)\n",
    "        data.append(nlp(text.text).vector)\n",
    "        indices = []\n",
    "        for discourse in text.discourses:\n",
    "            indices.append((discourse.discourse_start, discourse.discourse_end))\n",
    "\n",
    "        labels.append(indices)\n",
    "\n"
   ]
  },
  {
   "cell_type": "code",
   "execution_count": null,
   "metadata": {},
   "outputs": [],
   "source": []
  }
 ],
 "metadata": {
  "kernelspec": {
   "display_name": "Python 3.9.13 ('nlp')",
   "language": "python",
   "name": "python3"
  },
  "language_info": {
   "codemirror_mode": {
    "name": "ipython",
    "version": 3
   },
   "file_extension": ".py",
   "mimetype": "text/x-python",
   "name": "python",
   "nbconvert_exporter": "python",
   "pygments_lexer": "ipython3",
   "version": "3.9.13"
  },
  "orig_nbformat": 4,
  "vscode": {
   "interpreter": {
    "hash": "6732d5bcbccbd400c2295e6b9ff4a247e8d1a91ef1c3ef29ad75df96351d9278"
   }
  }
 },
 "nbformat": 4,
 "nbformat_minor": 2
}
